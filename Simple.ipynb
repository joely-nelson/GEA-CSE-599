{
 "cells": [
  {
   "cell_type": "markdown",
   "metadata": {
    "id": "1bNKWUVLDsYu"
   },
   "source": [
    "# CNN Test 1\n",
    "\n"
   ]
  },
  {
   "cell_type": "markdown",
   "metadata": {
    "id": "7AwkGFDz8qwf"
   },
   "source": [
    "## Mount Drive to Get Data"
   ]
  },
  {
   "cell_type": "code",
   "execution_count": 1,
   "metadata": {
    "colab": {
     "base_uri": "https://localhost:8080/"
    },
    "id": "Nld65yRiMzvl",
    "outputId": "839878dc-5a07-4a7d-f5a5-30a524e36a77"
   },
   "outputs": [],
   "source": [
    "# from google.colab import drive\n",
    "# drive.mount('/content/gdrive')"
   ]
  },
  {
   "cell_type": "code",
   "execution_count": 2,
   "metadata": {
    "colab": {
     "base_uri": "https://localhost:8080/"
    },
    "id": "YCXPBEMcNCFP",
    "outputId": "7766509a-2e1c-45a6-a717-910fa522d230"
   },
   "outputs": [],
   "source": [
    "# !gdown --id \"14SvbQvXc9pjEm4p9dcX7PJwY1HWWkVNj\"\n",
    "# !gdown --id \"1slETqeU-UooUk-9Mnf7i0pcweh51oQpN\"\n",
    "# !gdown --id \"1slil2CxpowYfsKGo4RmK3vtih-AgwXm2\""
   ]
  },
  {
   "cell_type": "markdown",
   "metadata": {
    "id": "ODWlxIumD8g-"
   },
   "source": [
    "## Prevent Collab From Logging Off"
   ]
  },
  {
   "cell_type": "markdown",
   "metadata": {
    "id": "fy8D_en1D52c"
   },
   "source": [
    "To avoid logging out, type ctr+shift+I paste into console:\n",
    "\n",
    "\n",
    "```\n",
    "function ClickConnect(){\n",
    "console.log(\"Working\"); \n",
    "document.querySelector(\"colab-toolbar-button#connect\").click() \n",
    "}setInterval(ClickConnect,60000)\n",
    "```\n",
    "\n",
    "With locker, to stop run stopClickConnect():\n",
    "\n",
    "```\n",
    "var startClickConnect = function startClickConnect(){\n",
    "    var clickConnect = function clickConnect(){\n",
    "        console.log(\"Connnect Clicked - Start\");\n",
    "        document.querySelector(\"#top-toolbar > colab-connect-button\").shadowRoot.querySelector(\"#connect\").click();\n",
    "        console.log(\"Connnect Clicked - End\"); \n",
    "    };\n",
    "\n",
    "    var intervalId = setInterval(clickConnect, 60000);\n",
    "\n",
    "    var stopClickConnectHandler = function stopClickConnect() {\n",
    "        console.log(\"Connnect Clicked Stopped - Start\");\n",
    "        clearInterval(intervalId);\n",
    "        console.log(\"Connnect Clicked Stopped - End\");\n",
    "    };\n",
    "\n",
    "    return stopClickConnectHandler;\n",
    "};\n",
    "\n",
    "var stopClickConnect = startClickConnect();\n",
    "```"
   ]
  },
  {
   "cell_type": "markdown",
   "metadata": {
    "id": "H6WO42sZEYUA"
   },
   "source": [
    "# Setup"
   ]
  },
  {
   "cell_type": "markdown",
   "metadata": {
    "id": "NlqwxPVtEldD"
   },
   "source": [
    "## Imports"
   ]
  },
  {
   "cell_type": "code",
   "execution_count": 3,
   "metadata": {
    "id": "pid2PMCbEbt1"
   },
   "outputs": [
    {
     "name": "stderr",
     "output_type": "stream",
     "text": [
      "C:\\Users\\Joely\\anaconda3\\envs\\comp_genomics\\lib\\site-packages\\torchvision\\io\\image.py:11: UserWarning: Failed to load image Python extension: Could not find module 'C:\\Users\\Joely\\anaconda3\\envs\\comp_genomics\\Lib\\site-packages\\torchvision\\image.pyd' (or one of its dependencies). Try using the full path with constructor syntax.\n",
      "  warn(f\"Failed to load image Python extension: {e}\")\n"
     ]
    }
   ],
   "source": [
    "import torch\n",
    "import torch.nn as nn\n",
    "from torchvision import datasets\n",
    "from torchvision import transforms\n",
    "import numpy as np\n",
    "import os\n",
    "import torch.nn.functional as F\n",
    "import torch.optim as optim\n",
    "import sys\n",
    "import pandas as pd\n",
    "import re\n",
    "from torch.utils.data import (TensorDataset, DataLoader, RandomSampler,\n",
    "                              SequentialSampler)\n",
    "import numpy as np\n",
    "import matplotlib.pyplot as plt\n",
    "from IPython.display import clear_output\n",
    "import math\n",
    "import time\n",
    "\n",
    "from sklearn.model_selection import train_test_split\n",
    "\n",
    "device = torch.device(\"cuda:0\" if torch.cuda.is_available() else \"cpu\")\n",
    "device = torch.device(\"cpu\")"
   ]
  },
  {
   "cell_type": "code",
   "execution_count": 73,
   "metadata": {},
   "outputs": [
    {
     "data": {
      "text/plain": [
       "'1h 0m 0s'"
      ]
     },
     "execution_count": 73,
     "metadata": {},
     "output_type": "execute_result"
    }
   ],
   "source": [
    "def time_str(secs):\n",
    "    '''\n",
    "    Given a time in seconds, prints the format in xh ym zs\n",
    "    '''\n",
    "    p_secs = int(secs % 60)\n",
    "    p_mins = int((secs // 60) % 60)\n",
    "    p_hours = int((secs // 60 // 60))\n",
    "    \n",
    "    return str(p_hours) + \"h \" + str(p_mins) + \"m \" + str(p_secs) + \"s\"\n",
    "    \n",
    "time_str(60 * 60 + 0.00005)"
   ]
  },
  {
   "cell_type": "markdown",
   "metadata": {
    "id": "DcCImmXTExR2"
   },
   "source": [
    "## Preprocessing the data\n",
    "DNA data is usually represented in strings made up of the characters A, T, G, and C. We can't train our network with just these strings and will need to do some kind of preprocessing of our data before we can feed it into our neural network.\n",
    "\n",
    "<br>\n",
    "\n",
    "### DNA As Strings\n",
    "In the paper DNA Sequence Classification by Convolutional Neural Network, researchers treated DNA sequences like string tokens in language. Using this idea, we will attempt to convert DNA sequences into tokenized sequences.\n",
    "\n",
    "We require a dictionary that maps the various tokens in the sequence (ie ATCG) to a numerical token. \n",
    "\n",
    "<br>\n",
    "\n",
    "Here is an example of a mapping from sequence letters to integer tokens:\n",
    "\n",
    "``{'A': 2, 'T': 3, 'C': 4, 'G':5}``\n",
    "\n",
    "Using this map we can convert DNA sequences into tokenized sequences. For example this sequence:\n",
    "\n",
    "``\"GATCGTAGTCCTAGTAAGACTGAC\"``\n",
    "\n",
    "Would be tokenized as this:\n",
    "\n",
    "``[5, 2, 3, 4, 5, 3, 2, 5, 3, 4, 4, 3, 2, 5, 3, 2, 2, 5, 2, 4, 3, 5, 2, 4]``\n",
    "\n",
    "<br>\n",
    "\n",
    "### Variable Sequence Lengths and Unknown Tokens\n",
    "It is possible for some of the datasets that we will be analyzing, the various input sequences may be of different length. Unlike images or text, it ,may be unfeasible to resize or crop sequences. Instead we will add on an additional token, ``<pad>`` will go onto the tail end of any sequence that is too short.\n",
    "\n",
    "In the future, someone else may want to use the dataset. It may also be possible that unknown tokens are found in that dataset, so we add on an ``<unk>`` token to represent unknown characters.\n",
    "\n",
    "<br>\n",
    "\n",
    "For example, if we had a dataset that consisted of the following two sequences:\n",
    "\n",
    "'GATCGTAGTCCTAGTAAGACTGAC', 'TAGCC'\n",
    "\n",
    "Then we might see a vocabulary to token mapping like this:\n",
    "\n",
    "``{'<pad>': 0, '<unk>': 1, 'A': 2, 'T': 3, 'C': 4, 'G': 5}``\n",
    "\n",
    "When tokenized and padded, the two sequences will look like this, respectivley. Note the long train of 0s on the smaller sequence to represent the padding.\n",
    "\n",
    "``[5., 2., 3., 4., 5., 3., 2., 5., 3., 4., 4., 3., 2., 5., 3., 2., 2., 5., 2., 4., 3., 5., 2., 4.]``\n",
    "\n",
    "``[3., 2., 5., 4., 4., 0., 0., 0., 0., 0., 0., 0., 0., 0., 0., 0., 0., 0., 0., 0., 0., 0., 0., 0.]``\n",
    "\n",
    "\n",
    "<br>\n",
    "SOURCES:\n",
    "We are going to use similiar thinking to sentence construction.\n",
    "https://chriskhanhtran.github.io/posts/cnn-sentence-classification/\n",
    "\n",
    "Data from:"
   ]
  },
  {
   "cell_type": "code",
   "execution_count": 5,
   "metadata": {
    "id": "_5Nx3cPNFmDU"
   },
   "outputs": [],
   "source": [
    "def label_to_count(labels):\n",
    "    '''\n",
    "    Given a list of labels, returns a dictionary that maps each class label \n",
    "    to how many instances of that label were present in the list.\n",
    "    '''\n",
    "    label_to_count_dict = {}\n",
    "    for label in labels:\n",
    "        if label not in label_to_count_dict:\n",
    "            label_to_count_dict[label] = 0\n",
    "        label_to_count_dict[label] += 1\n",
    "    return label_to_count_dict"
   ]
  },
  {
   "cell_type": "code",
   "execution_count": 6,
   "metadata": {
    "id": "PTLkwakmFqrP"
   },
   "outputs": [],
   "source": [
    "def prepare_data(seqs):\n",
    "    '''\n",
    "    Given a list of sequences, will turn into a tokenized vector.\n",
    "    \n",
    "    ARGS:\n",
    "        - seqs: a list of strings where every string is a sequence\n",
    "    RETURNS:\n",
    "        - tokenized_seqs (list(list(int))): list of list of tokens\n",
    "        - voc2ind (dict) a dictionary where keys are letters, values are the \n",
    "          corresponding token\n",
    "    '''\n",
    "    max_len = 0\n",
    "    \n",
    "    # build up a voc2ind (letters:token)\n",
    "    # based on ATGC and include padding and unknown tokens\n",
    "    # voc2ind = {voc:ind for ind, voc in \n",
    "    #            enumerate(['<pad>', '<unk>', 'A', 'T', 'C', 'G'])}\n",
    "    voc2ind = {'<pad>':0}\n",
    "\n",
    "    # for printing\n",
    "    total_seqs = len(seqs)\n",
    "    curr_progress = 0\n",
    "    curr_seq = 0\n",
    "    \n",
    "    i = len(voc2ind)\n",
    "    \n",
    "    # tokenize the sequences\n",
    "    tokenized_seqs = []\n",
    "    for seq in seqs:\n",
    "        tokenized_seq = []\n",
    "        for e in seq:\n",
    "            # make sure the sequence is upper case, a == A\n",
    "            # seq = seq.upper()\n",
    "            # if we haven't seen this letter before, add to the corupus\n",
    "            if not e in voc2ind:\n",
    "                voc2ind[e] = i\n",
    "                i += 1\n",
    "            tokenized_seq.append(voc2ind[e])\n",
    "        tokenized_seqs.append(tokenized_seq)\n",
    "        \n",
    "        # print progress\n",
    "        curr_seq += 1\n",
    "        new_progress = round(curr_seq / total_seqs, 2)\n",
    "        if new_progress != curr_progress:\n",
    "          clear_output()\n",
    "          curr_progress = new_progress\n",
    "          # print(curr_progress)\n",
    "        \n",
    "    return tokenized_seqs, voc2ind"
   ]
  },
  {
   "cell_type": "code",
   "execution_count": 7,
   "metadata": {
    "id": "p2XAug4eE_Hc"
   },
   "outputs": [],
   "source": [
    "def prepare_labels(labels):\n",
    "    '''\n",
    "    Given a list of labels will turn them into integer labels\n",
    "    Args:\n",
    "        - labels: a list of labels\n",
    "    Returns:\n",
    "        - tokenized_labels: numpy array(list) a list of label tokens\n",
    "        - label2token: (dict) a dictionary where keys are letters, values are \n",
    "          corresponding token\n",
    "    '''\n",
    "    print(\"Begin prepare labels\")\n",
    "    # for printing\n",
    "    total = len(labels)\n",
    "    curr_progress = 0\n",
    "    curr = 0\n",
    "\n",
    "    tokenized_labels = []\n",
    "    label2token = {}\n",
    "    i = 0\n",
    "    for label in labels:\n",
    "        if not label in label2token:\n",
    "            label2token[label] = i\n",
    "            i += 1\n",
    "        tokenized_labels.append(label2token[label])\n",
    "\n",
    "        # print progress\n",
    "#         curr += 1\n",
    "#         new_progress = round(curr / total, 2)\n",
    "#         if new_progress != curr_progress:\n",
    "#           clear_output()\n",
    "#           curr_progress = new_progress\n",
    "#           print(curr_progress)\n",
    "\n",
    "      \n",
    "    return tokenized_labels, label2token"
   ]
  },
  {
   "cell_type": "code",
   "execution_count": 8,
   "metadata": {
    "id": "btaPyg3aFzOY"
   },
   "outputs": [],
   "source": [
    "def pad(tokenized_seqs, voc2ind):\n",
    "    '''\n",
    "    Pad each sequence to the maximum length by adding a <pad> token\n",
    "    \n",
    "    ARGS:\n",
    "        - tokenized_seqs (list(list(str))): list of list of tokens\n",
    "        - voc2ind (dict) a dictionary where keys are letters, values are the \n",
    "          corresponding token\n",
    "    RETURNS:\n",
    "        a numpy array of all the tokenized sequences that have been padded to be \n",
    "        the same length.\n",
    "    '''\n",
    "    padded_seqs = []\n",
    "    \n",
    "    # find max sequence length\n",
    "    print(\"Finding Max Sequence Length\")\n",
    "    max_len = 0\n",
    "    min_len = math.inf\n",
    "    for seq in tokenized_seqs:\n",
    "        max_len = max(len(seq), max_len)\n",
    "        min_len = min(len(seq), min_len)\n",
    "    print(\"Max sequence length found:\", max_len)\n",
    "    print(\"Min sequence length found:\", min_len)\n",
    "    \n",
    "    # add padding so sequences are max_length\n",
    "    print(\"Begin Padding\")\n",
    "    for seq in tokenized_seqs:\n",
    "        padded_seq = seq + [voc2ind['<pad>']] * (max_len - len(seq))\n",
    "        padded_seqs.append(padded_seq)\n",
    "    \n",
    "    print(\"Change to a numpy array\")\n",
    "    return np.array(padded_seqs, dtype=np.float32)"
   ]
  },
  {
   "cell_type": "code",
   "execution_count": 9,
   "metadata": {
    "id": "zbLTGY52F0w1"
   },
   "outputs": [],
   "source": [
    "def data_loader(train_inputs, val_inputs, train_labels, val_labels,\n",
    "                batch_size=50):\n",
    "    \"\"\"\n",
    "    Convert train and validation sets to torch.Tensors and load them to\n",
    "    DataLoader.\n",
    "    \"\"\"\n",
    "\n",
    "    # Convert data type to torch.Tensor\n",
    "    train_inputs, val_inputs, train_labels, val_labels =\\\n",
    "    tuple(torch.tensor(data) for data in\n",
    "          [train_inputs, val_inputs, train_labels, val_labels])\n",
    "\n",
    "    # Create DataLoader for training data\n",
    "    train_data = TensorDataset(train_inputs, train_labels)\n",
    "    train_sampler = RandomSampler(train_data)\n",
    "    train_dataloader = DataLoader(train_data, sampler=train_sampler, batch_size=batch_size)\n",
    "\n",
    "    # Create DataLoader for validation data\n",
    "    val_data = TensorDataset(val_inputs, val_labels)\n",
    "    val_sampler = SequentialSampler(val_data)\n",
    "    val_dataloader = DataLoader(val_data, sampler=val_sampler, batch_size=batch_size)\n",
    "\n",
    "    return train_dataloader, val_dataloader"
   ]
  },
  {
   "cell_type": "markdown",
   "metadata": {
    "id": "xJN4G7EcI553"
   },
   "source": [
    "## Training\n",
    "Below we have a generic training function which will train a given net. We also have an accuracy evaluation function for classification."
   ]
  },
  {
   "cell_type": "code",
   "execution_count": 10,
   "metadata": {
    "id": "guOmw3nlJjte"
   },
   "outputs": [],
   "source": [
    "def train(net, dataloader, epochs=1, lr=0.01, momentum=0.9, decay=0.0, verbose=1):\n",
    "  ''' Trains a neural network. Returns a 2d numpy array, where every list \n",
    "  represents the losses per epoch.\n",
    "  '''\n",
    "  net.to(device)\n",
    "  losses_per_epoch = []\n",
    "  criterion = nn.CrossEntropyLoss()\n",
    "  optimizer = optim.SGD(net.parameters(), lr=lr, momentum=momentum, weight_decay=decay)\n",
    "  for epoch in range(epochs):\n",
    "    sum_loss = 0.0\n",
    "    losses = []\n",
    "    for i, batch in enumerate(dataloader, 0):\n",
    "        # get the inputs; data is a list of [inputs, labels]\n",
    "        inputs, labels = batch[0].to(device), batch[1].to(device)\n",
    "\n",
    "        # zero the parameter gradients\n",
    "        optimizer.zero_grad()\n",
    "\n",
    "        # forward + backward + optimize \n",
    "        outputs = net(inputs)\n",
    "        loss = criterion(outputs, labels)\n",
    "        loss.backward()\n",
    "        optimizer.step()\n",
    "\n",
    "        # print statistics\n",
    "        losses.append(loss.item())\n",
    "        sum_loss += loss.item()\n",
    "        if i % 100 == 99:    # print every 100 mini-batches\n",
    "            if verbose:\n",
    "              print('[%d, %5d] loss: %.3f' %\n",
    "                  (epoch + 1, i + 1, sum_loss / 100))\n",
    "            sum_loss = 0.0\n",
    "    # print(len(losses))\n",
    "    losses_per_epoch.append(np.mean(losses))\n",
    "  return losses_per_epoch"
   ]
  },
  {
   "cell_type": "markdown",
   "metadata": {
    "id": "RAOH08ezJC6Z"
   },
   "source": [
    "## Evaluation\n",
    "\n",
    "Below are a few functions used for evaulating the function such as accuracy, printing the accuracy scores for a trained model, and plotting the loss over epochs."
   ]
  },
  {
   "cell_type": "code",
   "execution_count": 11,
   "metadata": {
    "id": "KkALJVOkJpFY"
   },
   "outputs": [],
   "source": [
    "def accuracy(net, dataloader):\n",
    "    '''\n",
    "    Given a trained neural network and a dataloader, computes the accuracy.\n",
    "    Arguments:\n",
    "        - net: a neural network\n",
    "        - dataloader: a dataloader\n",
    "    Returns:\n",
    "        - fraction of examples classified correctly (float)\n",
    "        - number of correct examples (int)\n",
    "        - number of total examples (float)\n",
    "    '''\n",
    "    correct = 0\n",
    "    total = 0\n",
    "    with torch.no_grad():\n",
    "        for batch in dataloader:\n",
    "            input, labels = batch[0].to(device), batch[1].to(device)\n",
    "            outputs = net(input)\n",
    "            _, predicted = torch.max(outputs.data, 1)\n",
    "            total += labels.size(0)\n",
    "            correct += (predicted == labels).sum().item()\n",
    "    return correct/total, correct, total\n",
    "\n",
    "\n",
    "def print_eval(net, train_dataloader, test_dataloader):\n",
    "    '''\n",
    "    Given a test and train data loader, prints the test and train accuracy and\n",
    "    the number of examples they got right.\n",
    "    RETURNS\n",
    "        (train_acc, test_acc) results of running accuracy on the two dataloaders\n",
    "    '''\n",
    "    train_acc = accuracy(net, train_dataloader)\n",
    "    test_acc = accuracy(net, test_dataloader)\n",
    "    \n",
    "\n",
    "    print(\"Train accuracy: \" + str(train_acc[0]) + \"\\t(\" + str(train_acc[1]) + \"/\" + str(train_acc[2]) + \")\")\n",
    "    print(\"Test accuracy: \" + str(test_acc[0]) + \"\\t(\" + str(test_acc[1]) + \"/\" + str(test_acc[2]) + \")\")\n",
    "          \n",
    "    return train_acc, test_acc\n",
    "\n",
    "\n",
    "def plot_losses(losses, smooth_val = None, title = \"\"):\n",
    "    '''\n",
    "    Plots the losses per epoch returned by the training function.\n",
    "    Args:\n",
    "        losses: a list of losses returned by train\n",
    "        smooth_val: an optinal integer value if smoothing is desired\n",
    "        title: a title for the graph\n",
    "    '''\n",
    "    # loss = np.mean(losses, axis = 1)\n",
    "    epochs = [i for i in range(1, len(losses) + 1)]\n",
    "    if smooth_val is not None:\n",
    "        lossses = smooth(losses, smooth_val)\n",
    "    plt.plot(epochs, losses, marker=\"o\", linestyle=\"dashed\")\n",
    "    plt.xlabel(\"Epoch\")\n",
    "    plt.ylabel(\"Loss\")\n",
    "    plt.title(title)\n",
    "    \n",
    "\n",
    "def smooth(x, size):\n",
    "    '''\n",
    "    Given an array, smooths it by some number size, to make it look less janky.\n",
    "    '''\n",
    "    return np.convolve(x, np.ones(size)/size, mode='same')"
   ]
  },
  {
   "cell_type": "markdown",
   "metadata": {
    "id": "3Xk0J9ZJJSZ5"
   },
   "source": [
    "# Data time!"
   ]
  },
  {
   "cell_type": "markdown",
   "metadata": {
    "id": "_ot4EB1dJ6Jl"
   },
   "source": [
    "## Data Loading\n",
    "Insert a description of the data here"
   ]
  },
  {
   "cell_type": "markdown",
   "metadata": {
    "id": "-fmz4pQiZQd8"
   },
   "source": [
    "### Import data and clean it"
   ]
  },
  {
   "cell_type": "code",
   "execution_count": 12,
   "metadata": {
    "colab": {
     "base_uri": "https://localhost:8080/",
     "height": 270
    },
    "id": "S2vj4Pa1P0R9",
    "outputId": "84be5c95-92b6-46e7-f557-5d8d4903a10e"
   },
   "outputs": [
    {
     "data": {
      "text/html": [
       "<div>\n",
       "<style scoped>\n",
       "    .dataframe tbody tr th:only-of-type {\n",
       "        vertical-align: middle;\n",
       "    }\n",
       "\n",
       "    .dataframe tbody tr th {\n",
       "        vertical-align: top;\n",
       "    }\n",
       "\n",
       "    .dataframe thead th {\n",
       "        text-align: right;\n",
       "    }\n",
       "</style>\n",
       "<table border=\"1\" class=\"dataframe\">\n",
       "  <thead>\n",
       "    <tr style=\"text-align: right;\">\n",
       "      <th></th>\n",
       "      <th>sequence_id</th>\n",
       "      <th>sequence</th>\n",
       "      <th>bacterial_resistance_ampicillin</th>\n",
       "      <th>bacterial_resistance_chloramphenicol</th>\n",
       "      <th>bacterial_resistance_kanamycin</th>\n",
       "      <th>bacterial_resistance_other</th>\n",
       "      <th>bacterial_resistance_spectinomycin</th>\n",
       "      <th>copy_number_high_copy</th>\n",
       "      <th>copy_number_low_copy</th>\n",
       "      <th>copy_number_unknown</th>\n",
       "      <th>...</th>\n",
       "      <th>species_budding_yeast</th>\n",
       "      <th>species_fly</th>\n",
       "      <th>species_human</th>\n",
       "      <th>species_mouse</th>\n",
       "      <th>species_mustard_weed</th>\n",
       "      <th>species_nematode</th>\n",
       "      <th>species_other</th>\n",
       "      <th>species_rat</th>\n",
       "      <th>species_synthetic</th>\n",
       "      <th>species_zebrafish</th>\n",
       "    </tr>\n",
       "  </thead>\n",
       "  <tbody>\n",
       "    <tr>\n",
       "      <th>0</th>\n",
       "      <td>9ZIMC</td>\n",
       "      <td>CATGCATTAGTTATTAATAGTAATCAATTACGGGGTCATTAGTTCA...</td>\n",
       "      <td>0.0</td>\n",
       "      <td>0.0</td>\n",
       "      <td>1.0</td>\n",
       "      <td>0.0</td>\n",
       "      <td>0.0</td>\n",
       "      <td>1.0</td>\n",
       "      <td>0.0</td>\n",
       "      <td>0.0</td>\n",
       "      <td>...</td>\n",
       "      <td>0.0</td>\n",
       "      <td>0.0</td>\n",
       "      <td>0.0</td>\n",
       "      <td>1.0</td>\n",
       "      <td>0.0</td>\n",
       "      <td>0.0</td>\n",
       "      <td>0.0</td>\n",
       "      <td>0.0</td>\n",
       "      <td>0.0</td>\n",
       "      <td>0.0</td>\n",
       "    </tr>\n",
       "    <tr>\n",
       "      <th>1</th>\n",
       "      <td>5SAQC</td>\n",
       "      <td>GCTGGATGGTTTGGGACATGTGCAGCCCCGTCTCTGTATGGAGTGA...</td>\n",
       "      <td>1.0</td>\n",
       "      <td>0.0</td>\n",
       "      <td>0.0</td>\n",
       "      <td>0.0</td>\n",
       "      <td>0.0</td>\n",
       "      <td>1.0</td>\n",
       "      <td>0.0</td>\n",
       "      <td>0.0</td>\n",
       "      <td>...</td>\n",
       "      <td>0.0</td>\n",
       "      <td>0.0</td>\n",
       "      <td>0.0</td>\n",
       "      <td>1.0</td>\n",
       "      <td>0.0</td>\n",
       "      <td>0.0</td>\n",
       "      <td>0.0</td>\n",
       "      <td>0.0</td>\n",
       "      <td>0.0</td>\n",
       "      <td>0.0</td>\n",
       "    </tr>\n",
       "    <tr>\n",
       "      <th>2</th>\n",
       "      <td>E7QRO</td>\n",
       "      <td>NNCCGGGCTGTAGCTACACAGGGCGGAGATGAGAGCCCTACGAAAG...</td>\n",
       "      <td>1.0</td>\n",
       "      <td>0.0</td>\n",
       "      <td>0.0</td>\n",
       "      <td>0.0</td>\n",
       "      <td>0.0</td>\n",
       "      <td>1.0</td>\n",
       "      <td>0.0</td>\n",
       "      <td>0.0</td>\n",
       "      <td>...</td>\n",
       "      <td>0.0</td>\n",
       "      <td>0.0</td>\n",
       "      <td>0.0</td>\n",
       "      <td>1.0</td>\n",
       "      <td>0.0</td>\n",
       "      <td>0.0</td>\n",
       "      <td>0.0</td>\n",
       "      <td>0.0</td>\n",
       "      <td>0.0</td>\n",
       "      <td>0.0</td>\n",
       "    </tr>\n",
       "    <tr>\n",
       "      <th>3</th>\n",
       "      <td>CT5FP</td>\n",
       "      <td>GCGGAGATGAAGAGCCCTACGAAAGCTGAGCCTGCGACTCCCGCAG...</td>\n",
       "      <td>1.0</td>\n",
       "      <td>0.0</td>\n",
       "      <td>0.0</td>\n",
       "      <td>0.0</td>\n",
       "      <td>0.0</td>\n",
       "      <td>1.0</td>\n",
       "      <td>0.0</td>\n",
       "      <td>0.0</td>\n",
       "      <td>...</td>\n",
       "      <td>0.0</td>\n",
       "      <td>0.0</td>\n",
       "      <td>0.0</td>\n",
       "      <td>1.0</td>\n",
       "      <td>0.0</td>\n",
       "      <td>0.0</td>\n",
       "      <td>0.0</td>\n",
       "      <td>0.0</td>\n",
       "      <td>0.0</td>\n",
       "      <td>0.0</td>\n",
       "    </tr>\n",
       "    <tr>\n",
       "      <th>4</th>\n",
       "      <td>7PTD8</td>\n",
       "      <td>CGCGCATTACTTCACATGGTCCTCAAGGGTAACATGAAAGTGATCC...</td>\n",
       "      <td>1.0</td>\n",
       "      <td>0.0</td>\n",
       "      <td>0.0</td>\n",
       "      <td>0.0</td>\n",
       "      <td>0.0</td>\n",
       "      <td>1.0</td>\n",
       "      <td>0.0</td>\n",
       "      <td>0.0</td>\n",
       "      <td>...</td>\n",
       "      <td>0.0</td>\n",
       "      <td>0.0</td>\n",
       "      <td>0.0</td>\n",
       "      <td>1.0</td>\n",
       "      <td>0.0</td>\n",
       "      <td>0.0</td>\n",
       "      <td>0.0</td>\n",
       "      <td>0.0</td>\n",
       "      <td>0.0</td>\n",
       "      <td>0.0</td>\n",
       "    </tr>\n",
       "  </tbody>\n",
       "</table>\n",
       "<p>5 rows × 41 columns</p>\n",
       "</div>"
      ],
      "text/plain": [
       "  sequence_id                                           sequence  \\\n",
       "0       9ZIMC  CATGCATTAGTTATTAATAGTAATCAATTACGGGGTCATTAGTTCA...   \n",
       "1       5SAQC  GCTGGATGGTTTGGGACATGTGCAGCCCCGTCTCTGTATGGAGTGA...   \n",
       "2       E7QRO  NNCCGGGCTGTAGCTACACAGGGCGGAGATGAGAGCCCTACGAAAG...   \n",
       "3       CT5FP  GCGGAGATGAAGAGCCCTACGAAAGCTGAGCCTGCGACTCCCGCAG...   \n",
       "4       7PTD8  CGCGCATTACTTCACATGGTCCTCAAGGGTAACATGAAAGTGATCC...   \n",
       "\n",
       "   bacterial_resistance_ampicillin  bacterial_resistance_chloramphenicol  \\\n",
       "0                              0.0                                   0.0   \n",
       "1                              1.0                                   0.0   \n",
       "2                              1.0                                   0.0   \n",
       "3                              1.0                                   0.0   \n",
       "4                              1.0                                   0.0   \n",
       "\n",
       "   bacterial_resistance_kanamycin  bacterial_resistance_other  \\\n",
       "0                             1.0                         0.0   \n",
       "1                             0.0                         0.0   \n",
       "2                             0.0                         0.0   \n",
       "3                             0.0                         0.0   \n",
       "4                             0.0                         0.0   \n",
       "\n",
       "   bacterial_resistance_spectinomycin  copy_number_high_copy  \\\n",
       "0                                 0.0                    1.0   \n",
       "1                                 0.0                    1.0   \n",
       "2                                 0.0                    1.0   \n",
       "3                                 0.0                    1.0   \n",
       "4                                 0.0                    1.0   \n",
       "\n",
       "   copy_number_low_copy  copy_number_unknown  ...  species_budding_yeast  \\\n",
       "0                   0.0                  0.0  ...                    0.0   \n",
       "1                   0.0                  0.0  ...                    0.0   \n",
       "2                   0.0                  0.0  ...                    0.0   \n",
       "3                   0.0                  0.0  ...                    0.0   \n",
       "4                   0.0                  0.0  ...                    0.0   \n",
       "\n",
       "   species_fly  species_human  species_mouse  species_mustard_weed  \\\n",
       "0          0.0            0.0            1.0                   0.0   \n",
       "1          0.0            0.0            1.0                   0.0   \n",
       "2          0.0            0.0            1.0                   0.0   \n",
       "3          0.0            0.0            1.0                   0.0   \n",
       "4          0.0            0.0            1.0                   0.0   \n",
       "\n",
       "   species_nematode  species_other  species_rat  species_synthetic  \\\n",
       "0               0.0            0.0          0.0                0.0   \n",
       "1               0.0            0.0          0.0                0.0   \n",
       "2               0.0            0.0          0.0                0.0   \n",
       "3               0.0            0.0          0.0                0.0   \n",
       "4               0.0            0.0          0.0                0.0   \n",
       "\n",
       "   species_zebrafish  \n",
       "0                0.0  \n",
       "1                0.0  \n",
       "2                0.0  \n",
       "3                0.0  \n",
       "4                0.0  \n",
       "\n",
       "[5 rows x 41 columns]"
      ]
     },
     "execution_count": 12,
     "metadata": {},
     "output_type": "execute_result"
    }
   ],
   "source": [
    "df_train_values = pd.read_csv('data/train_values.csv')\n",
    "df_train_values.head()"
   ]
  },
  {
   "cell_type": "code",
   "execution_count": 13,
   "metadata": {
    "colab": {
     "base_uri": "https://localhost:8080/",
     "height": 380
    },
    "id": "MZwC3joVXDAH",
    "outputId": "9da6810c-3236-4600-fe15-0e6054458363"
   },
   "outputs": [
    {
     "data": {
      "text/html": [
       "<div>\n",
       "<style scoped>\n",
       "    .dataframe tbody tr th:only-of-type {\n",
       "        vertical-align: middle;\n",
       "    }\n",
       "\n",
       "    .dataframe tbody tr th {\n",
       "        vertical-align: top;\n",
       "    }\n",
       "\n",
       "    .dataframe thead th {\n",
       "        text-align: right;\n",
       "    }\n",
       "</style>\n",
       "<table border=\"1\" class=\"dataframe\">\n",
       "  <thead>\n",
       "    <tr style=\"text-align: right;\">\n",
       "      <th></th>\n",
       "      <th>sequence_id</th>\n",
       "      <th>00Q4V31T</th>\n",
       "      <th>012VT4JK</th>\n",
       "      <th>028IO5W2</th>\n",
       "      <th>03GRNN7N</th>\n",
       "      <th>03Y3W51H</th>\n",
       "      <th>09MQV1TY</th>\n",
       "      <th>0A4AHRCT</th>\n",
       "      <th>0A9M05NC</th>\n",
       "      <th>0B9GCUVV</th>\n",
       "      <th>...</th>\n",
       "      <th>ZQNGGY33</th>\n",
       "      <th>ZSHS4VJZ</th>\n",
       "      <th>ZT1IP3T6</th>\n",
       "      <th>ZU6860XU</th>\n",
       "      <th>ZU6TVFFU</th>\n",
       "      <th>ZU75P59K</th>\n",
       "      <th>ZUI6TDWV</th>\n",
       "      <th>ZWFD8OHC</th>\n",
       "      <th>ZX06ZDZN</th>\n",
       "      <th>ZZJVE4HO</th>\n",
       "    </tr>\n",
       "  </thead>\n",
       "  <tbody>\n",
       "    <tr>\n",
       "      <th>0</th>\n",
       "      <td>9ZIMC</td>\n",
       "      <td>0.0</td>\n",
       "      <td>0.0</td>\n",
       "      <td>0.0</td>\n",
       "      <td>0.0</td>\n",
       "      <td>0.0</td>\n",
       "      <td>0.0</td>\n",
       "      <td>0.0</td>\n",
       "      <td>0.0</td>\n",
       "      <td>0.0</td>\n",
       "      <td>...</td>\n",
       "      <td>0.0</td>\n",
       "      <td>0.0</td>\n",
       "      <td>0.0</td>\n",
       "      <td>0.0</td>\n",
       "      <td>0.0</td>\n",
       "      <td>0.0</td>\n",
       "      <td>0.0</td>\n",
       "      <td>0.0</td>\n",
       "      <td>0.0</td>\n",
       "      <td>0.0</td>\n",
       "    </tr>\n",
       "    <tr>\n",
       "      <th>1</th>\n",
       "      <td>5SAQC</td>\n",
       "      <td>0.0</td>\n",
       "      <td>0.0</td>\n",
       "      <td>0.0</td>\n",
       "      <td>0.0</td>\n",
       "      <td>0.0</td>\n",
       "      <td>0.0</td>\n",
       "      <td>0.0</td>\n",
       "      <td>0.0</td>\n",
       "      <td>0.0</td>\n",
       "      <td>...</td>\n",
       "      <td>0.0</td>\n",
       "      <td>0.0</td>\n",
       "      <td>0.0</td>\n",
       "      <td>0.0</td>\n",
       "      <td>0.0</td>\n",
       "      <td>0.0</td>\n",
       "      <td>0.0</td>\n",
       "      <td>0.0</td>\n",
       "      <td>0.0</td>\n",
       "      <td>0.0</td>\n",
       "    </tr>\n",
       "    <tr>\n",
       "      <th>2</th>\n",
       "      <td>E7QRO</td>\n",
       "      <td>0.0</td>\n",
       "      <td>0.0</td>\n",
       "      <td>0.0</td>\n",
       "      <td>0.0</td>\n",
       "      <td>0.0</td>\n",
       "      <td>0.0</td>\n",
       "      <td>0.0</td>\n",
       "      <td>0.0</td>\n",
       "      <td>0.0</td>\n",
       "      <td>...</td>\n",
       "      <td>0.0</td>\n",
       "      <td>0.0</td>\n",
       "      <td>0.0</td>\n",
       "      <td>0.0</td>\n",
       "      <td>0.0</td>\n",
       "      <td>0.0</td>\n",
       "      <td>0.0</td>\n",
       "      <td>0.0</td>\n",
       "      <td>0.0</td>\n",
       "      <td>0.0</td>\n",
       "    </tr>\n",
       "    <tr>\n",
       "      <th>3</th>\n",
       "      <td>CT5FP</td>\n",
       "      <td>0.0</td>\n",
       "      <td>0.0</td>\n",
       "      <td>0.0</td>\n",
       "      <td>0.0</td>\n",
       "      <td>0.0</td>\n",
       "      <td>0.0</td>\n",
       "      <td>0.0</td>\n",
       "      <td>0.0</td>\n",
       "      <td>0.0</td>\n",
       "      <td>...</td>\n",
       "      <td>0.0</td>\n",
       "      <td>0.0</td>\n",
       "      <td>0.0</td>\n",
       "      <td>0.0</td>\n",
       "      <td>0.0</td>\n",
       "      <td>0.0</td>\n",
       "      <td>0.0</td>\n",
       "      <td>0.0</td>\n",
       "      <td>0.0</td>\n",
       "      <td>0.0</td>\n",
       "    </tr>\n",
       "    <tr>\n",
       "      <th>4</th>\n",
       "      <td>7PTD8</td>\n",
       "      <td>0.0</td>\n",
       "      <td>0.0</td>\n",
       "      <td>0.0</td>\n",
       "      <td>0.0</td>\n",
       "      <td>0.0</td>\n",
       "      <td>0.0</td>\n",
       "      <td>0.0</td>\n",
       "      <td>0.0</td>\n",
       "      <td>0.0</td>\n",
       "      <td>...</td>\n",
       "      <td>0.0</td>\n",
       "      <td>0.0</td>\n",
       "      <td>0.0</td>\n",
       "      <td>0.0</td>\n",
       "      <td>0.0</td>\n",
       "      <td>0.0</td>\n",
       "      <td>0.0</td>\n",
       "      <td>0.0</td>\n",
       "      <td>0.0</td>\n",
       "      <td>0.0</td>\n",
       "    </tr>\n",
       "  </tbody>\n",
       "</table>\n",
       "<p>5 rows × 1315 columns</p>\n",
       "</div>"
      ],
      "text/plain": [
       "  sequence_id  00Q4V31T  012VT4JK  028IO5W2  03GRNN7N  03Y3W51H  09MQV1TY  \\\n",
       "0       9ZIMC       0.0       0.0       0.0       0.0       0.0       0.0   \n",
       "1       5SAQC       0.0       0.0       0.0       0.0       0.0       0.0   \n",
       "2       E7QRO       0.0       0.0       0.0       0.0       0.0       0.0   \n",
       "3       CT5FP       0.0       0.0       0.0       0.0       0.0       0.0   \n",
       "4       7PTD8       0.0       0.0       0.0       0.0       0.0       0.0   \n",
       "\n",
       "   0A4AHRCT  0A9M05NC  0B9GCUVV  ...  ZQNGGY33  ZSHS4VJZ  ZT1IP3T6  ZU6860XU  \\\n",
       "0       0.0       0.0       0.0  ...       0.0       0.0       0.0       0.0   \n",
       "1       0.0       0.0       0.0  ...       0.0       0.0       0.0       0.0   \n",
       "2       0.0       0.0       0.0  ...       0.0       0.0       0.0       0.0   \n",
       "3       0.0       0.0       0.0  ...       0.0       0.0       0.0       0.0   \n",
       "4       0.0       0.0       0.0  ...       0.0       0.0       0.0       0.0   \n",
       "\n",
       "   ZU6TVFFU  ZU75P59K  ZUI6TDWV  ZWFD8OHC  ZX06ZDZN  ZZJVE4HO  \n",
       "0       0.0       0.0       0.0       0.0       0.0       0.0  \n",
       "1       0.0       0.0       0.0       0.0       0.0       0.0  \n",
       "2       0.0       0.0       0.0       0.0       0.0       0.0  \n",
       "3       0.0       0.0       0.0       0.0       0.0       0.0  \n",
       "4       0.0       0.0       0.0       0.0       0.0       0.0  \n",
       "\n",
       "[5 rows x 1315 columns]"
      ]
     },
     "execution_count": 13,
     "metadata": {},
     "output_type": "execute_result"
    }
   ],
   "source": [
    "df_train_labels = pd.read_csv('data/train_labels.csv')\n",
    "df_train_labels.head()"
   ]
  },
  {
   "cell_type": "code",
   "execution_count": 14,
   "metadata": {
    "id": "8mTdMNI3YbLZ"
   },
   "outputs": [
    {
     "data": {
      "text/html": [
       "<div>\n",
       "<style scoped>\n",
       "    .dataframe tbody tr th:only-of-type {\n",
       "        vertical-align: middle;\n",
       "    }\n",
       "\n",
       "    .dataframe tbody tr th {\n",
       "        vertical-align: top;\n",
       "    }\n",
       "\n",
       "    .dataframe thead th {\n",
       "        text-align: right;\n",
       "    }\n",
       "</style>\n",
       "<table border=\"1\" class=\"dataframe\">\n",
       "  <thead>\n",
       "    <tr style=\"text-align: right;\">\n",
       "      <th></th>\n",
       "      <th>sequence_id</th>\n",
       "      <th>sequence</th>\n",
       "      <th>bacterial_resistance_ampicillin</th>\n",
       "      <th>bacterial_resistance_chloramphenicol</th>\n",
       "      <th>bacterial_resistance_kanamycin</th>\n",
       "      <th>bacterial_resistance_other</th>\n",
       "      <th>bacterial_resistance_spectinomycin</th>\n",
       "      <th>copy_number_high_copy</th>\n",
       "      <th>copy_number_low_copy</th>\n",
       "      <th>copy_number_unknown</th>\n",
       "      <th>...</th>\n",
       "      <th>ZQNGGY33</th>\n",
       "      <th>ZSHS4VJZ</th>\n",
       "      <th>ZT1IP3T6</th>\n",
       "      <th>ZU6860XU</th>\n",
       "      <th>ZU6TVFFU</th>\n",
       "      <th>ZU75P59K</th>\n",
       "      <th>ZUI6TDWV</th>\n",
       "      <th>ZWFD8OHC</th>\n",
       "      <th>ZX06ZDZN</th>\n",
       "      <th>ZZJVE4HO</th>\n",
       "    </tr>\n",
       "  </thead>\n",
       "  <tbody>\n",
       "    <tr>\n",
       "      <th>0</th>\n",
       "      <td>9ZIMC</td>\n",
       "      <td>CATGCATTAGTTATTAATAGTAATCAATTACGGGGTCATTAGTTCA...</td>\n",
       "      <td>0.0</td>\n",
       "      <td>0.0</td>\n",
       "      <td>1.0</td>\n",
       "      <td>0.0</td>\n",
       "      <td>0.0</td>\n",
       "      <td>1.0</td>\n",
       "      <td>0.0</td>\n",
       "      <td>0.0</td>\n",
       "      <td>...</td>\n",
       "      <td>0.0</td>\n",
       "      <td>0.0</td>\n",
       "      <td>0.0</td>\n",
       "      <td>0.0</td>\n",
       "      <td>0.0</td>\n",
       "      <td>0.0</td>\n",
       "      <td>0.0</td>\n",
       "      <td>0.0</td>\n",
       "      <td>0.0</td>\n",
       "      <td>0.0</td>\n",
       "    </tr>\n",
       "    <tr>\n",
       "      <th>1</th>\n",
       "      <td>5SAQC</td>\n",
       "      <td>GCTGGATGGTTTGGGACATGTGCAGCCCCGTCTCTGTATGGAGTGA...</td>\n",
       "      <td>1.0</td>\n",
       "      <td>0.0</td>\n",
       "      <td>0.0</td>\n",
       "      <td>0.0</td>\n",
       "      <td>0.0</td>\n",
       "      <td>1.0</td>\n",
       "      <td>0.0</td>\n",
       "      <td>0.0</td>\n",
       "      <td>...</td>\n",
       "      <td>0.0</td>\n",
       "      <td>0.0</td>\n",
       "      <td>0.0</td>\n",
       "      <td>0.0</td>\n",
       "      <td>0.0</td>\n",
       "      <td>0.0</td>\n",
       "      <td>0.0</td>\n",
       "      <td>0.0</td>\n",
       "      <td>0.0</td>\n",
       "      <td>0.0</td>\n",
       "    </tr>\n",
       "    <tr>\n",
       "      <th>2</th>\n",
       "      <td>E7QRO</td>\n",
       "      <td>NNCCGGGCTGTAGCTACACAGGGCGGAGATGAGAGCCCTACGAAAG...</td>\n",
       "      <td>1.0</td>\n",
       "      <td>0.0</td>\n",
       "      <td>0.0</td>\n",
       "      <td>0.0</td>\n",
       "      <td>0.0</td>\n",
       "      <td>1.0</td>\n",
       "      <td>0.0</td>\n",
       "      <td>0.0</td>\n",
       "      <td>...</td>\n",
       "      <td>0.0</td>\n",
       "      <td>0.0</td>\n",
       "      <td>0.0</td>\n",
       "      <td>0.0</td>\n",
       "      <td>0.0</td>\n",
       "      <td>0.0</td>\n",
       "      <td>0.0</td>\n",
       "      <td>0.0</td>\n",
       "      <td>0.0</td>\n",
       "      <td>0.0</td>\n",
       "    </tr>\n",
       "    <tr>\n",
       "      <th>3</th>\n",
       "      <td>CT5FP</td>\n",
       "      <td>GCGGAGATGAAGAGCCCTACGAAAGCTGAGCCTGCGACTCCCGCAG...</td>\n",
       "      <td>1.0</td>\n",
       "      <td>0.0</td>\n",
       "      <td>0.0</td>\n",
       "      <td>0.0</td>\n",
       "      <td>0.0</td>\n",
       "      <td>1.0</td>\n",
       "      <td>0.0</td>\n",
       "      <td>0.0</td>\n",
       "      <td>...</td>\n",
       "      <td>0.0</td>\n",
       "      <td>0.0</td>\n",
       "      <td>0.0</td>\n",
       "      <td>0.0</td>\n",
       "      <td>0.0</td>\n",
       "      <td>0.0</td>\n",
       "      <td>0.0</td>\n",
       "      <td>0.0</td>\n",
       "      <td>0.0</td>\n",
       "      <td>0.0</td>\n",
       "    </tr>\n",
       "    <tr>\n",
       "      <th>4</th>\n",
       "      <td>7PTD8</td>\n",
       "      <td>CGCGCATTACTTCACATGGTCCTCAAGGGTAACATGAAAGTGATCC...</td>\n",
       "      <td>1.0</td>\n",
       "      <td>0.0</td>\n",
       "      <td>0.0</td>\n",
       "      <td>0.0</td>\n",
       "      <td>0.0</td>\n",
       "      <td>1.0</td>\n",
       "      <td>0.0</td>\n",
       "      <td>0.0</td>\n",
       "      <td>...</td>\n",
       "      <td>0.0</td>\n",
       "      <td>0.0</td>\n",
       "      <td>0.0</td>\n",
       "      <td>0.0</td>\n",
       "      <td>0.0</td>\n",
       "      <td>0.0</td>\n",
       "      <td>0.0</td>\n",
       "      <td>0.0</td>\n",
       "      <td>0.0</td>\n",
       "      <td>0.0</td>\n",
       "    </tr>\n",
       "  </tbody>\n",
       "</table>\n",
       "<p>5 rows × 1355 columns</p>\n",
       "</div>"
      ],
      "text/plain": [
       "  sequence_id                                           sequence  \\\n",
       "0       9ZIMC  CATGCATTAGTTATTAATAGTAATCAATTACGGGGTCATTAGTTCA...   \n",
       "1       5SAQC  GCTGGATGGTTTGGGACATGTGCAGCCCCGTCTCTGTATGGAGTGA...   \n",
       "2       E7QRO  NNCCGGGCTGTAGCTACACAGGGCGGAGATGAGAGCCCTACGAAAG...   \n",
       "3       CT5FP  GCGGAGATGAAGAGCCCTACGAAAGCTGAGCCTGCGACTCCCGCAG...   \n",
       "4       7PTD8  CGCGCATTACTTCACATGGTCCTCAAGGGTAACATGAAAGTGATCC...   \n",
       "\n",
       "   bacterial_resistance_ampicillin  bacterial_resistance_chloramphenicol  \\\n",
       "0                              0.0                                   0.0   \n",
       "1                              1.0                                   0.0   \n",
       "2                              1.0                                   0.0   \n",
       "3                              1.0                                   0.0   \n",
       "4                              1.0                                   0.0   \n",
       "\n",
       "   bacterial_resistance_kanamycin  bacterial_resistance_other  \\\n",
       "0                             1.0                         0.0   \n",
       "1                             0.0                         0.0   \n",
       "2                             0.0                         0.0   \n",
       "3                             0.0                         0.0   \n",
       "4                             0.0                         0.0   \n",
       "\n",
       "   bacterial_resistance_spectinomycin  copy_number_high_copy  \\\n",
       "0                                 0.0                    1.0   \n",
       "1                                 0.0                    1.0   \n",
       "2                                 0.0                    1.0   \n",
       "3                                 0.0                    1.0   \n",
       "4                                 0.0                    1.0   \n",
       "\n",
       "   copy_number_low_copy  copy_number_unknown  ...  ZQNGGY33  ZSHS4VJZ  \\\n",
       "0                   0.0                  0.0  ...       0.0       0.0   \n",
       "1                   0.0                  0.0  ...       0.0       0.0   \n",
       "2                   0.0                  0.0  ...       0.0       0.0   \n",
       "3                   0.0                  0.0  ...       0.0       0.0   \n",
       "4                   0.0                  0.0  ...       0.0       0.0   \n",
       "\n",
       "   ZT1IP3T6  ZU6860XU  ZU6TVFFU  ZU75P59K  ZUI6TDWV  ZWFD8OHC  ZX06ZDZN  \\\n",
       "0       0.0       0.0       0.0       0.0       0.0       0.0       0.0   \n",
       "1       0.0       0.0       0.0       0.0       0.0       0.0       0.0   \n",
       "2       0.0       0.0       0.0       0.0       0.0       0.0       0.0   \n",
       "3       0.0       0.0       0.0       0.0       0.0       0.0       0.0   \n",
       "4       0.0       0.0       0.0       0.0       0.0       0.0       0.0   \n",
       "\n",
       "   ZZJVE4HO  \n",
       "0       0.0  \n",
       "1       0.0  \n",
       "2       0.0  \n",
       "3       0.0  \n",
       "4       0.0  \n",
       "\n",
       "[5 rows x 1355 columns]"
      ]
     },
     "execution_count": 14,
     "metadata": {},
     "output_type": "execute_result"
    }
   ],
   "source": [
    "# merge just to make sure that every label corresponds to the correct\n",
    "# sequence\n",
    "df_train = df_train_values.merge(df_train_labels,\n",
    "                                 left_on='sequence_id', \n",
    "                                 right_on='sequence_id', \n",
    "                                 how = 'outer')\n",
    "df_train.head()"
   ]
  },
  {
   "cell_type": "code",
   "execution_count": 15,
   "metadata": {
    "id": "ndnhtvR4a9tw"
   },
   "outputs": [
    {
     "data": {
      "text/plain": [
       "0    RYUA3GVO\n",
       "1    RYUA3GVO\n",
       "2    RYUA3GVO\n",
       "3    RYUA3GVO\n",
       "4    RYUA3GVO\n",
       "dtype: object"
      ]
     },
     "execution_count": 15,
     "metadata": {},
     "output_type": "execute_result"
    }
   ],
   "source": [
    "# we're going to \"undo\" the on hot encoding in df_train_labels\n",
    "col_list = list(df_train.columns)\n",
    "label_cols = col_list[col_list.index('00Q4V31T'):]\n",
    "labels = df_train[label_cols].idxmax(1)\n",
    "labels[:5]"
   ]
  },
  {
   "cell_type": "code",
   "execution_count": 16,
   "metadata": {
    "id": "CJlBAP18YqyX"
   },
   "outputs": [
    {
     "name": "stdout",
     "output_type": "stream",
     "text": [
      "63017 63017\n"
     ]
    }
   ],
   "source": [
    "seqs = list(df_train_values['sequence'])\n",
    "labels = list(labels)\n",
    "print(len(seqs), len(labels))"
   ]
  },
  {
   "cell_type": "markdown",
   "metadata": {
    "id": "Fr1WSRbb5DlP"
   },
   "source": [
    "### Histograms\n",
    "Running out of RAM due to padding sequences\n",
    "\n",
    "(Winner: padded to 4k or 16k)"
   ]
  },
  {
   "cell_type": "markdown",
   "metadata": {
    "id": "EGQ49Y70hREh"
   },
   "source": [
    "#### Sequence Length Hist"
   ]
  },
  {
   "cell_type": "code",
   "execution_count": 17,
   "metadata": {
    "id": "F4adunmVhkVA"
   },
   "outputs": [],
   "source": [
    "def make_hist(x, bins, title='', xlabel = '', ylabel='', yscale='linear', color='C0', savefig=None):\n",
    "    plt.clf()\n",
    "    n, bins, patches = plt.hist(x, density=False, bins=bins, color=color)\n",
    "    plt.xticks(bins, rotation='vertical')\n",
    "    plt.yscale(yscale)\n",
    "    plt.title(title)\n",
    "    plt.ylabel(ylabel)\n",
    "    plt.xlabel(xlabel)\n",
    "    plt.show()\n",
    "    \n",
    "  "
   ]
  },
  {
   "cell_type": "code",
   "execution_count": 18,
   "metadata": {
    "id": "WBxDpFDs5DN5"
   },
   "outputs": [
    {
     "data": {
      "image/png": "[encoded data removed]",
      "text/plain": [
       "<Figure size 432x288 with 1 Axes>"
      ]
     },
     "metadata": {
      "needs_background": "light"
     },
     "output_type": "display_data"
    },
    {
     "data": {
      "image/png": "[encoded data removed]",
      "text/plain": [
       "<Figure size 432x288 with 1 Axes>"
      ]
     },
     "metadata": {
      "needs_background": "light"
     },
     "output_type": "display_data"
    },
    {
     "name": "stdout",
     "output_type": "stream",
     "text": [
      "Minimum sequence length 20\n",
      "Max sequence length 60099\n",
      "Average sequence length 4839.025501055271\n"
     ]
    }
   ],
   "source": [
    "seq_lens = [len(seq) for seq in seqs]\n",
    "\n",
    "make_hist(seq_lens, 20,\n",
    "          title='Length of Sequences in Train (Linear Scale)',\n",
    "          ylabel='Frequency',\n",
    "          xlabel='Length')\n",
    "\n",
    "make_hist(seq_lens, 20,\n",
    "          title='Length of Sequences in Train (Linear Scale)',\n",
    "          ylabel='Frequency',\n",
    "          xlabel='Length',\n",
    "          yscale='log')\n",
    "\n",
    "print(\"Minimum sequence length\", min(seq_lens))\n",
    "print(\"Max sequence length\", max(seq_lens))\n",
    "print(\"Average sequence length\", sum(seq_lens)/len(seq_lens))\n"
   ]
  },
  {
   "cell_type": "markdown",
   "metadata": {
    "id": "t_OFKp1Z7s1t"
   },
   "source": [
    "Possible solutions: \n",
    "* Get more RAM (not guarenteed to work)\n",
    "* Cut off all sequences to a particular value (but what?)\n",
    "* Something else? What did others do?"
   ]
  },
  {
   "cell_type": "markdown",
   "metadata": {
    "id": "Xq5HuA_CcyuJ"
   },
   "source": [
    "#### Class Labels Histogram"
   ]
  },
  {
   "cell_type": "code",
   "execution_count": 19,
   "metadata": {
    "id": "0AgtQFC7dlTg"
   },
   "outputs": [
    {
     "data": {
      "image/png": "[encoded data removed]",
      "text/plain": [
       "<Figure size 432x288 with 1 Axes>"
      ]
     },
     "metadata": {
      "needs_background": "light"
     },
     "output_type": "display_data"
    }
   ],
   "source": [
    "# get how many counts of label there are\n",
    "label_to_counts = dict()\n",
    "for label in labels:\n",
    "  if label not in label_to_counts:\n",
    "    label_to_counts[label] = 0\n",
    "  label_to_counts[label] += 1\n",
    "\n",
    "# get a list of label counts\n",
    "counts = label_to_counts.values()\n",
    "\n",
    "make_hist(counts, 20,\n",
    "          title='Number of Labels Per Class in Train',\n",
    "          ylabel='Frequency',\n",
    "          xlabel='Number of Labels Per Class',\n",
    "          yscale='log',\n",
    "          color='C1')"
   ]
  },
  {
   "cell_type": "markdown",
   "metadata": {
    "id": "ZM_JDiDkcvPu"
   },
   "source": [
    "### Tokenize Data"
   ]
  },
  {
   "cell_type": "code",
   "execution_count": 20,
   "metadata": {
    "id": "f46GwtL2ijUe"
   },
   "outputs": [],
   "source": [
    "# seqs = seqs[:2]\n",
    "# labels = labels[:2]"
   ]
  },
  {
   "cell_type": "code",
   "execution_count": 21,
   "metadata": {
    "id": "OJ1r6VhD1Ef9"
   },
   "outputs": [
    {
     "data": {
      "text/plain": [
       "63017"
      ]
     },
     "execution_count": 21,
     "metadata": {},
     "output_type": "execute_result"
    }
   ],
   "source": [
    "len(labels)"
   ]
  },
  {
   "cell_type": "code",
   "execution_count": 33,
   "metadata": {},
   "outputs": [],
   "source": [
    "def prep_data(seqs, cutoff_len=None):\n",
    "    '''\n",
    "    prepares data and returns train-dataloader and test_dataloader\n",
    "    given the cutoff_len. If no cutoff_len is given, will not cut sequences.\n",
    "    '''\n",
    "    \n",
    "    # cutting off sequences to given length\n",
    "    if not cutoff_len is None:\n",
    "        seqs = [seq[:cutoff_len] for seq in seqs]\n",
    "\n",
    "\n",
    "    # tokenizing and getting a vocab\n",
    "    tokenized_seqs, voc2ind = prepare_data(seqs)\n",
    "    print(\"data prepared\")\n",
    "\n",
    "    # padding\n",
    "    tokenized_seqs = pad(tokenized_seqs, voc2ind)\n",
    "    print(\"tokenized sequenced\")\n",
    "\n",
    "    # tokenizing labels\n",
    "    tokenized_labels, label2token = prepare_labels(labels)\n",
    "    print('tokenized labels')\n",
    "\n",
    "    print()\n",
    "\n",
    "    # Showing the result of this:\n",
    "    print(\"\\n\", tokenized_seqs, \n",
    "          \"\\n\\n\", voc2ind, \n",
    "          \"\\n\\n\", label_to_count(labels))\n",
    "\n",
    "    # Train Test Split\n",
    "    train_inputs, test_inputs, train_labels, test_labels = train_test_split(\n",
    "        tokenized_seqs, tokenized_labels, test_size=0.1, random_state=42)\n",
    "\n",
    "    # Load data to PyTorch DataLoader\n",
    "    train_dataloader, test_dataloader = data_loader(train_inputs, test_inputs, \n",
    "                                                    train_labels, test_labels, \n",
    "                                                    batch_size=50)\n",
    "    \n",
    "    return train_dataloader, test_dataloader, seqs, voc2ind, tokenized_seqs, labels"
   ]
  },
  {
   "cell_type": "code",
   "execution_count": null,
   "metadata": {},
   "outputs": [],
   "source": []
  },
  {
   "cell_type": "code",
   "execution_count": 23,
   "metadata": {},
   "outputs": [
    {
     "ename": "NameError",
     "evalue": "name 'STOP' is not defined",
     "output_type": "error",
     "traceback": [
      "\u001b[1;31m---------------------------------------------------------------------------\u001b[0m",
      "\u001b[1;31mNameError\u001b[0m                                 Traceback (most recent call last)",
      "\u001b[1;32m~\\AppData\\Local\\Temp/ipykernel_15624/2885374392.py\u001b[0m in \u001b[0;36m<module>\u001b[1;34m\u001b[0m\n\u001b[0;32m      1\u001b[0m \u001b[1;31m# So you can now go choose what model you want!\u001b[0m\u001b[1;33m\u001b[0m\u001b[1;33m\u001b[0m\u001b[0m\n\u001b[1;32m----> 2\u001b[1;33m \u001b[0mSTOP\u001b[0m\u001b[1;33m\u001b[0m\u001b[1;33m\u001b[0m\u001b[0m\n\u001b[0m",
      "\u001b[1;31mNameError\u001b[0m: name 'STOP' is not defined"
     ]
    }
   ],
   "source": [
    "# So you can now go choose what model you want!\n",
    "STOP"
   ]
  },
  {
   "cell_type": "markdown",
   "metadata": {
    "id": "kJha3W9_9ESa"
   },
   "source": [
    "## Model"
   ]
  },
  {
   "cell_type": "code",
   "execution_count": null,
   "metadata": {},
   "outputs": [],
   "source": [
    "FEATURE_SIZE = tokenized_seqs.shape[1]"
   ]
  },
  {
   "cell_type": "markdown",
   "metadata": {
    "id": "syZOJAar9ezl"
   },
   "source": [
    "### Simple Model\n",
    "This extremly simple neural network is to sanity check that the data has been processed correctly. Also if an extremly simple neural network with just a relu will classify output, that would also be great."
   ]
  },
  {
   "cell_type": "code",
   "execution_count": null,
   "metadata": {
    "id": "I9lHXsKY9l0p"
   },
   "outputs": [],
   "source": [
    "FEATURE_SIZE = tokenized_seqs.shape[1]\n",
    "\n",
    "class SimpleNet(nn.Module):\n",
    "    def __init__(self, vocab_size, feature_size, num_classes):\n",
    "        super(SimpleNet, self).__init__()\n",
    "        # lenth of the vocabulary (number of words in the vocabulary)\n",
    "        self.vocab_size = vocab_size\n",
    "        # embeded_dim: Dimension of word vectors.\n",
    "        self.feature_size = feature_size\n",
    "        \n",
    "        # encoder doesnt do anything and doesn't make much sense for this net\n",
    "        # self.encoder = nn.Embedding(self.vocab_size, self.feature_size)\n",
    "\n",
    "        self.fc1 = nn.Linear(feature_size, 1000)\n",
    "        self.fc2 = nn.Linear(1000, num_classes)\n",
    "\n",
    "    def forward(self, x):\n",
    "        x = torch.flatten(x, 1)\n",
    "        x = self.fc1(x)\n",
    "        x = F.relu(x)\n",
    "        x = self.fc2(x)\n",
    "        return x\n",
    "    \n",
    "\n",
    "\n",
    "# Creating net and training\n",
    "net = SimpleNet(len(voc2ind), FEATURE_SIZE, len(set(labels)))\n",
    "losses = train(net, train_dataloader, epochs = 2)\n",
    "\n",
    "# Evaluation\n",
    "plot_losses(losses, title = \"Splice Dataset: Convolutional Network Loss\")\n",
    "print_eval(net, train_dataloader, test_dataloader)\n",
    "print()"
   ]
  },
  {
   "cell_type": "code",
   "execution_count": null,
   "metadata": {},
   "outputs": [],
   "source": [
    "vocab_size = len(voc2ind)\n",
    "feature_size = tokenized_seqs.shape[1]\n",
    "print(\"vocab_size\", vocab_size)\n",
    "print(\"feautre_size\", feature_size)\n",
    "encoder = nn.Embedding(vocab_size, feature_size)"
   ]
  },
  {
   "cell_type": "markdown",
   "metadata": {},
   "source": [
    "## Simple Net with Encoder"
   ]
  },
  {
   "cell_type": "code",
   "execution_count": null,
   "metadata": {},
   "outputs": [],
   "source": [
    "FEATURE_SIZE = tokenized_seqs.shape[1]\n",
    "\n",
    "class SimpleNet(nn.Module):\n",
    "    def __init__(self, vocab_size, feature_size, num_classes):\n",
    "        super(SimpleNet, self).__init__()\n",
    "        # lenth of the vocabulary (number of words in the vocabulary)\n",
    "        self.vocab_size = vocab_size\n",
    "        # embeded_dim: Dimension of word vectors.\n",
    "        self.feature_size = feature_size\n",
    "        \n",
    "        self.encoder = nn.Embedding(self.vocab_size, self.feature_size)\n",
    "\n",
    "        self.fc1 = nn.Linear(feature_size ** 2, 1000)\n",
    "        self.fc2 = nn.Linear(1000, num_classes)\n",
    "\n",
    "    def forward(self, x):\n",
    "        # The following line is required to send it through the encoder. \n",
    "        # because indexes are neccesary for use in the encoder\n",
    "        # x = torch.tensor(x).to(torch.int64)\n",
    "        x = x.clone().detach().requires_grad_(True).to(torch.int64)\n",
    "        \n",
    "    \n",
    "        # Encode. \n",
    "        # Output shape: (b, max_len, embedded_dim)\n",
    "        x = self.encoder(x)\n",
    "        \n",
    "        \n",
    "        x = torch.flatten(x, 1)\n",
    "        \n",
    "        # print(self.feature_size)\n",
    "        # print(x.shape)\n",
    "        \n",
    "        x = self.fc1(x)\n",
    "        x = F.relu(x)\n",
    "        x = self.fc2(x)\n",
    "        return x\n",
    "    \n",
    "\n",
    "\n",
    "# Creating net and training\n",
    "net = SimpleNet(len(voc2ind), FEATURE_SIZE, len(set(labels)))\n",
    "losses = train(net, train_dataloader, epochs = 5)\n",
    "\n",
    "# Evaluation\n",
    "plot_losses(losses, title = \"Splice Dataset: Convolutional Network Loss\")\n",
    "print_eval(net, train_dataloader, test_dataloader)\n",
    "print()"
   ]
  },
  {
   "cell_type": "raw",
   "metadata": {},
   "source": [
    "10 epochs, \n",
    "sequence length cut to 500\n",
    "Train accuracy: 0.2266596138587675\t(12855/56715)\n",
    "Test accuracy: 0.22786417010472865\t(1436/6302)"
   ]
  },
  {
   "cell_type": "markdown",
   "metadata": {},
   "source": [
    "## CNN"
   ]
  },
  {
   "cell_type": "markdown",
   "metadata": {},
   "source": [
    "DSC by CNN???"
   ]
  },
  {
   "cell_type": "markdown",
   "metadata": {},
   "source": [
    "# Attempt at CNN"
   ]
  },
  {
   "cell_type": "code",
   "execution_count": 28,
   "metadata": {},
   "outputs": [],
   "source": [
    "curr_cutoff = None"
   ]
  },
  {
   "cell_type": "code",
   "execution_count": 75,
   "metadata": {},
   "outputs": [
    {
     "data": {
      "text/plain": [
       "375"
      ]
     },
     "execution_count": 75,
     "metadata": {},
     "output_type": "execute_result"
    }
   ],
   "source": [
    "750//2"
   ]
  },
  {
   "cell_type": "code",
   "execution_count": 87,
   "metadata": {},
   "outputs": [],
   "source": [
    "# experiments\n",
    "# NOTE THAT in_channels_conv1 is always the seq_cutoff length\n",
    "hyperparams = [\n",
    "    # EXPERIMENT 0\n",
    "    {'in_channels_conv1': 1000,     'out_channels_conv1': 300,\n",
    "     'in_channels_conv2': 150,     'out_channels_conv2': 300,\n",
    "     'in_channels_conv3': 150,     'out_channels_conv3': 300,\n",
    "     'in_channels_fc1': 150,     'in_channels_fc2': 300, \n",
    "     'kernel_size': 20,     'stride': 20,\n",
    "     'decay': 0.01,\n",
    "     'epochs': 10,\n",
    "     'train_acc': 0.33,     'test_acc': 0.33,     'time': None\n",
    "    },\n",
    "    \n",
    "    # EXPERIMENT 1\n",
    "    {'in_channels_conv1': 2000,     'out_channels_conv1': 600,\n",
    "     'in_channels_conv2': 300,     'out_channels_conv2': 600,\n",
    "     'in_channels_conv3': 300,     'out_channels_conv3': 600,\n",
    "     'in_channels_fc1': 300,     'in_channels_fc2': 600, \n",
    "     'kernel_size': 20,     'stride': 20,\n",
    "     'decay': 0.01,\n",
    "     'epochs': 10,\n",
    "     'train_acc': 0.36,     'test_acc': 0.34,     'time': \"5hr\"\n",
    "    },  \n",
    "    \n",
    "    # EXPERIMENT 2\n",
    "    {'in_channels_conv1': 1000,     'out_channels_conv1': 300,\n",
    "     'in_channels_conv2': 150,     'out_channels_conv2': 75,\n",
    "     'in_channels_conv3': 75//2,     'out_channels_conv3': 75//2,\n",
    "     'in_channels_fc1': 38,     'in_channels_fc2': 300, \n",
    "     'kernel_size': 20,     'stride': 20,\n",
    "     'decay': 0.01,\n",
    "     'epochs': 10,\n",
    "     'train_acc': 0.27,     'test_acc': 0.27,     'time': \"1h 1m 40s\"\n",
    "    },\n",
    "]\n",
    "\n",
    "i = 2\n",
    "hp = hyperparams[i]"
   ]
  },
  {
   "cell_type": "code",
   "execution_count": 83,
   "metadata": {},
   "outputs": [
    {
     "name": "stdout",
     "output_type": "stream",
     "text": [
      "already prepared for this in_channels_conv1\n"
     ]
    }
   ],
   "source": [
    "if curr_cutoff is None or curr_cutoff != hp['in_channels_conv1']:\n",
    "        train_dataloader, test_dataloader, new_seqs, voc2ind, tokenized_seqs, labels = prep_data(seqs, cutoff_len = hp['in_channels_conv1'])\n",
    "        FEATURE_SIZE = tokenized_seqs.shape[1]\n",
    "else:\n",
    "    print('already prepared for this in_channels_conv1')\n",
    "    \n",
    "curr_cutoff = hp['in_channels_conv1']"
   ]
  },
  {
   "cell_type": "code",
   "execution_count": 88,
   "metadata": {},
   "outputs": [
    {
     "name": "stdout",
     "output_type": "stream",
     "text": [
      "[1,   100] loss: 6.344\n",
      "[1,   200] loss: 5.794\n",
      "[1,   300] loss: 5.496\n",
      "[1,   400] loss: 5.382\n",
      "[1,   500] loss: 5.319\n",
      "[1,   600] loss: 5.203\n",
      "[1,   700] loss: 5.157\n",
      "[1,   800] loss: 5.151\n",
      "[1,   900] loss: 5.031\n",
      "[1,  1000] loss: 4.977\n",
      "[1,  1100] loss: 4.976\n",
      "[2,   100] loss: 4.922\n",
      "[2,   200] loss: 4.907\n",
      "[2,   300] loss: 4.898\n",
      "[2,   400] loss: 4.946\n",
      "[2,   500] loss: 4.888\n",
      "[2,   600] loss: 4.864\n",
      "[2,   700] loss: 4.963\n",
      "[2,   800] loss: 4.889\n",
      "[2,   900] loss: 4.795\n",
      "[2,  1000] loss: 4.761\n",
      "[2,  1100] loss: 4.867\n",
      "[3,   100] loss: 4.837\n",
      "[3,   200] loss: 4.785\n",
      "[3,   300] loss: 4.841\n",
      "[3,   400] loss: 4.833\n",
      "[3,   500] loss: 4.841\n",
      "[3,   600] loss: 4.747\n",
      "[3,   700] loss: 4.773\n",
      "[3,   800] loss: 4.802\n",
      "[3,   900] loss: 4.769\n",
      "[3,  1000] loss: 4.831\n",
      "[3,  1100] loss: 4.766\n",
      "[4,   100] loss: 4.755\n",
      "[4,   200] loss: 4.747\n",
      "[4,   300] loss: 4.755\n",
      "[4,   400] loss: 4.707\n",
      "[4,   500] loss: 4.757\n",
      "[4,   600] loss: 4.803\n",
      "[4,   700] loss: 4.825\n",
      "[4,   800] loss: 4.731\n",
      "[4,   900] loss: 4.780\n",
      "[4,  1000] loss: 4.774\n",
      "[4,  1100] loss: 4.732\n",
      "[5,   100] loss: 4.657\n",
      "[5,   200] loss: 4.684\n",
      "[5,   300] loss: 4.672\n",
      "[5,   400] loss: 4.739\n",
      "[5,   500] loss: 4.731\n",
      "[5,   600] loss: 4.739\n",
      "[5,   700] loss: 4.751\n",
      "[5,   800] loss: 4.705\n",
      "[5,   900] loss: 4.792\n",
      "[5,  1000] loss: 4.798\n",
      "[5,  1100] loss: 4.730\n",
      "[6,   100] loss: 4.708\n",
      "[6,   200] loss: 4.646\n",
      "[6,   300] loss: 4.685\n",
      "[6,   400] loss: 4.661\n",
      "[6,   500] loss: 4.688\n",
      "[6,   600] loss: 4.646\n",
      "[6,   700] loss: 4.750\n",
      "[6,   800] loss: 4.646\n",
      "[6,   900] loss: 4.710\n",
      "[6,  1000] loss: 4.785\n",
      "[6,  1100] loss: 4.698\n",
      "[7,   100] loss: 4.619\n",
      "[7,   200] loss: 4.679\n",
      "[7,   300] loss: 4.626\n",
      "[7,   400] loss: 4.735\n",
      "[7,   500] loss: 4.709\n",
      "[7,   600] loss: 4.667\n",
      "[7,   700] loss: 4.660\n",
      "[7,   800] loss: 4.621\n",
      "[7,   900] loss: 4.737\n",
      "[7,  1000] loss: 4.624\n",
      "[7,  1100] loss: 4.714\n",
      "[8,   100] loss: 4.618\n",
      "[8,   200] loss: 4.692\n",
      "[8,   300] loss: 4.674\n",
      "[8,   400] loss: 4.716\n",
      "[8,   500] loss: 4.697\n",
      "[8,   600] loss: 4.586\n",
      "[8,   700] loss: 4.643\n",
      "[8,   800] loss: 4.641\n",
      "[8,   900] loss: 4.636\n",
      "[8,  1000] loss: 4.578\n",
      "[8,  1100] loss: 4.692\n",
      "[9,   100] loss: 4.545\n",
      "[9,   200] loss: 4.604\n",
      "[9,   300] loss: 4.687\n",
      "[9,   400] loss: 4.552\n",
      "[9,   500] loss: 4.619\n",
      "[9,   600] loss: 4.633\n",
      "[9,   700] loss: 4.614\n",
      "[9,   800] loss: 4.662\n",
      "[9,   900] loss: 4.649\n",
      "[9,  1000] loss: 4.650\n",
      "[9,  1100] loss: 4.656\n",
      "[10,   100] loss: 4.516\n",
      "[10,   200] loss: 4.600\n",
      "[10,   300] loss: 4.640\n",
      "[10,   400] loss: 4.648\n",
      "[10,   500] loss: 4.607\n",
      "[10,   600] loss: 4.623\n",
      "[10,   700] loss: 4.547\n",
      "[10,   800] loss: 4.646\n",
      "[10,   900] loss: 4.651\n",
      "[10,  1000] loss: 4.594\n",
      "[10,  1100] loss: 4.630\n",
      "Train accuracy: 0.27112756766287577\t(15377/56715)\n",
      "Test accuracy: 0.2668993970168201\t(1682/6302)\n",
      "\n",
      "Time to complete 1h 1m 40s\n"
     ]
    },
    {
     "data": {
      "image/png": "[encoded data removed]",
      "text/plain": [
       "<Figure size 432x288 with 1 Axes>"
      ]
     },
     "metadata": {
      "needs_background": "light"
     },
     "output_type": "display_data"
    }
   ],
   "source": [
    "class DSC_by_CNN(nn.Module):\n",
    "    def __init__(self, vocab_size, feature_size, num_classes):\n",
    "        \n",
    "\n",
    "\n",
    "        super(DSC_by_CNN, self).__init__()\n",
    "        # Number of vocab words\n",
    "        self.vocab_size = vocab_size\n",
    "        # embeded_dim: Dimension of word vectors.\n",
    "        self.feature_size = feature_size\n",
    "\n",
    "        self.encoder = nn.Embedding(self.vocab_size, self.feature_size)\n",
    "        \n",
    "\n",
    "        self.conv1 = nn.Conv1d(in_channels=hp['in_channels_conv1'],\n",
    "                               out_channels=hp['out_channels_conv1'], \n",
    "                               kernel_size=hp['kernel_size'],\n",
    "                               stride = hp['stride'],\n",
    "                               padding = 1)\n",
    "        \n",
    "        self.conv2 = nn.Conv1d(in_channels=hp['in_channels_conv2'],\n",
    "                               out_channels=hp['out_channels_conv2'], \n",
    "                               kernel_size=hp['kernel_size'],\n",
    "                               stride = hp['stride'],\n",
    "                               padding = 1)\n",
    "        \n",
    "        self.conv3 = nn.Conv1d(in_channels=hp['in_channels_conv3'],\n",
    "                               out_channels=hp['out_channels_conv3'], \n",
    "                               kernel_size=hp['kernel_size'],\n",
    "                               stride = hp['stride'],\n",
    "                               padding = 1)\n",
    "\n",
    "        # Activation\n",
    "        self.act = nn.ReLU()\n",
    "\n",
    "        # Pooling\n",
    "        self.pool = nn.MaxPool2d(3, 2, 1)\n",
    "\n",
    "        # fully connected layer\n",
    "        self.fc1 = nn.Linear(hp['in_channels_fc1'], hp['in_channels_fc2'])\n",
    "        self.fc2 = nn.Linear(hp['in_channels_fc2'], num_classes)\n",
    "\n",
    "        # dropout\n",
    "        self.drop = nn.Dropout(p=0.5)\n",
    "\n",
    "\n",
    "    # seen in the network pytorch tutorial\n",
    "    # I've been using this function for years, no idea what it does.\n",
    "    # Would it kill the pytorch tutorial people to document this guy?\n",
    "    def num_flat_features(self, x):\n",
    "        size = x.size()[1:]  # all dimensions except the batch dimension\n",
    "        num_features = 1\n",
    "        for s in size:\n",
    "            num_features *= s\n",
    "        return num_features        \n",
    "\n",
    "\n",
    "    def forward(self, x):\n",
    "        # print(\"forward\")\n",
    "        # The following line is required to send it through the encoder. \n",
    "        # because indexes are neccesary for use in the encoder\n",
    "        # x = torch.tensor(x).to(torch.int64)\n",
    "        x = x.clone().detach().requires_grad_(True).to(torch.int64)\n",
    "        \n",
    "    \n",
    "        # Encode. \n",
    "        # Output shape: (b, max_len, embedded_dim)\n",
    "        x = self.encoder(x)\n",
    "  \n",
    "        # Permute shuffles dimensions. Do this to satisfy requirments of nn.Conv1d\n",
    "        # Output shape: (b, embedded_dim, max_len)\n",
    "        x = x.permute(0, 2, 1)\n",
    "\n",
    "        # convolutional layer 1\n",
    "        x = self.conv1(x)\n",
    "        x = self.act(x)                         \n",
    "        x = self.pool(x)\n",
    "\n",
    "        # convolutional layer 2\n",
    "        x = self.conv2(x)\n",
    "        x = self.act(x)\n",
    "        x = self.pool(x)\n",
    "        \n",
    "        # convolutional layer 3\n",
    "\n",
    "        # flattening\n",
    "        x = x.view(-1, self.num_flat_features(x))\n",
    "\n",
    "        # Tring to figure out the shape\n",
    "        #print(x.shape)\n",
    "\n",
    "        # fully linear layer + dropout\n",
    "        x = self.drop(x)\n",
    "        # x = self.softm(x)\n",
    "        x = self.fc1(x)\n",
    "        \n",
    "        # fully linear layer\n",
    "        x = self.fc2(x)\n",
    "\n",
    "        return x\n",
    "    \n",
    "start_time = time.time()\n",
    "# Creating net and training\n",
    "net = DSC_by_CNN(len(voc2ind), FEATURE_SIZE, len(set(labels)))\n",
    "losses = train(net, train_dataloader, epochs=hp['epochs'], lr=0.01, decay = hp['decay'])\n",
    "\n",
    "\n",
    "# Evaluation\n",
    "plot_losses(losses, title = \"Splice Dataset: Convolutional Network Loss\")\n",
    "print_eval(net, train_dataloader, test_dataloader)\n",
    "print()\n",
    "\n",
    "# time to complete\n",
    "end_time = time.time()\n",
    "print('Time to complete', time_str(end_time - start_time))"
   ]
  }
 ],
 "metadata": {
  "colab": {
   "collapsed_sections": [],
   "name": "CNN_Test1.ipynb",
   "provenance": []
  },
  "kernelspec": {
   "display_name": "Python 3 (ipykernel)",
   "language": "python",
   "name": "python3"
  },
  "language_info": {
   "codemirror_mode": {
    "name": "ipython",
    "version": 3
   },
   "file_extension": ".py",
   "mimetype": "text/x-python",
   "name": "python",
   "nbconvert_exporter": "python",
   "pygments_lexer": "ipython3",
   "version": "3.9.7"
  }
 },
 "nbformat": 4,
 "nbformat_minor": 1
}
