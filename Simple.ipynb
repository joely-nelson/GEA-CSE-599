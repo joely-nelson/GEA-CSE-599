{
 "cells": [
  {
   "cell_type": "markdown",
   "metadata": {
    "id": "1bNKWUVLDsYu"
   },
   "source": [
    "# CNN Test 1\n",
    "\n"
   ]
  },
  {
   "cell_type": "markdown",
   "metadata": {
    "id": "7AwkGFDz8qwf"
   },
   "source": [
    "## Mount Drive to Get Data"
   ]
  },
  {
   "cell_type": "code",
   "execution_count": 1,
   "metadata": {
    "colab": {
     "base_uri": "https://localhost:8080/"
    },
    "id": "Nld65yRiMzvl",
    "outputId": "839878dc-5a07-4a7d-f5a5-30a524e36a77"
   },
   "outputs": [],
   "source": [
    "# from google.colab import drive\n",
    "# drive.mount('/content/gdrive')"
   ]
  },
  {
   "cell_type": "code",
   "execution_count": 2,
   "metadata": {
    "colab": {
     "base_uri": "https://localhost:8080/"
    },
    "id": "YCXPBEMcNCFP",
    "outputId": "7766509a-2e1c-45a6-a717-910fa522d230"
   },
   "outputs": [],
   "source": [
    "# !gdown --id \"14SvbQvXc9pjEm4p9dcX7PJwY1HWWkVNj\"\n",
    "# !gdown --id \"1slETqeU-UooUk-9Mnf7i0pcweh51oQpN\"\n",
    "# !gdown --id \"1slil2CxpowYfsKGo4RmK3vtih-AgwXm2\""
   ]
  },
  {
   "cell_type": "markdown",
   "metadata": {
    "id": "ODWlxIumD8g-"
   },
   "source": [
    "## Prevent Collab From Logging Off"
   ]
  },
  {
   "cell_type": "markdown",
   "metadata": {
    "id": "fy8D_en1D52c"
   },
   "source": [
    "To avoid logging out, type ctr+shift+I paste into console:\n",
    "\n",
    "\n",
    "```\n",
    "function ClickConnect(){\n",
    "console.log(\"Working\"); \n",
    "document.querySelector(\"colab-toolbar-button#connect\").click() \n",
    "}setInterval(ClickConnect,60000)\n",
    "```\n",
    "\n",
    "With locker, to stop run stopClickConnect():\n",
    "\n",
    "```\n",
    "var startClickConnect = function startClickConnect(){\n",
    "    var clickConnect = function clickConnect(){\n",
    "        console.log(\"Connnect Clicked - Start\");\n",
    "        document.querySelector(\"#top-toolbar > colab-connect-button\").shadowRoot.querySelector(\"#connect\").click();\n",
    "        console.log(\"Connnect Clicked - End\"); \n",
    "    };\n",
    "\n",
    "    var intervalId = setInterval(clickConnect, 60000);\n",
    "\n",
    "    var stopClickConnectHandler = function stopClickConnect() {\n",
    "        console.log(\"Connnect Clicked Stopped - Start\");\n",
    "        clearInterval(intervalId);\n",
    "        console.log(\"Connnect Clicked Stopped - End\");\n",
    "    };\n",
    "\n",
    "    return stopClickConnectHandler;\n",
    "};\n",
    "\n",
    "var stopClickConnect = startClickConnect();\n",
    "```"
   ]
  },
  {
   "cell_type": "markdown",
   "metadata": {
    "id": "H6WO42sZEYUA"
   },
   "source": [
    "# Setup"
   ]
  },
  {
   "cell_type": "markdown",
   "metadata": {
    "id": "NlqwxPVtEldD"
   },
   "source": [
    "## Imports"
   ]
  },
  {
   "cell_type": "code",
   "execution_count": 3,
   "metadata": {
    "id": "pid2PMCbEbt1"
   },
   "outputs": [
    {
     "name": "stderr",
     "output_type": "stream",
     "text": [
      "C:\\Users\\Joely\\anaconda3\\envs\\comp_genomics\\lib\\site-packages\\torchvision\\io\\image.py:11: UserWarning: Failed to load image Python extension: Could not find module 'C:\\Users\\Joely\\anaconda3\\envs\\comp_genomics\\Lib\\site-packages\\torchvision\\image.pyd' (or one of its dependencies). Try using the full path with constructor syntax.\n",
      "  warn(f\"Failed to load image Python extension: {e}\")\n"
     ]
    }
   ],
   "source": [
    "import torch\n",
    "import torch.nn as nn\n",
    "from torchvision import datasets\n",
    "from torchvision import transforms\n",
    "import numpy as np\n",
    "import os\n",
    "import torch.nn.functional as F\n",
    "import torch.optim as optim\n",
    "import sys\n",
    "import pandas as pd\n",
    "import re\n",
    "from torch.utils.data import (TensorDataset, DataLoader, RandomSampler,\n",
    "                              SequentialSampler)\n",
    "import numpy as np\n",
    "import matplotlib.pyplot as plt\n",
    "from IPython.display import clear_output\n",
    "import math\n",
    "import time\n",
    "from nltk import ngrams\n",
    "import itertools\n",
    "\n",
    "from sklearn.model_selection import train_test_split\n",
    "\n",
    "device = torch.device(\"cuda:0\" if torch.cuda.is_available() else \"cpu\")\n",
    "device = torch.device(\"cpu\")"
   ]
  },
  {
   "cell_type": "code",
   "execution_count": 4,
   "metadata": {},
   "outputs": [
    {
     "data": {
      "text/plain": [
       "'1h 0m 0s'"
      ]
     },
     "execution_count": 4,
     "metadata": {},
     "output_type": "execute_result"
    }
   ],
   "source": [
    "def time_str(secs):\n",
    "    '''\n",
    "    Given a time in seconds, prints the format in xh ym zs\n",
    "    '''\n",
    "    p_secs = int(secs % 60)\n",
    "    p_mins = int((secs // 60) % 60)\n",
    "    p_hours = int((secs // 60 // 60))\n",
    "    \n",
    "    return str(p_hours) + \"h \" + str(p_mins) + \"m \" + str(p_secs) + \"s\"\n",
    "    \n",
    "time_str(60 * 60 + 0.00005)"
   ]
  },
  {
   "cell_type": "markdown",
   "metadata": {
    "id": "DcCImmXTExR2"
   },
   "source": [
    "## Preprocessing the data\n",
    "DNA data is usually represented in strings made up of the characters A, T, G, and C. We can't train our network with just these strings and will need to do some kind of preprocessing of our data before we can feed it into our neural network.\n",
    "\n",
    "<br>\n",
    "\n",
    "### DNA As Strings\n",
    "In the paper DNA Sequence Classification by Convolutional Neural Network, researchers treated DNA sequences like string tokens in language. Using this idea, we will attempt to convert DNA sequences into tokenized sequences.\n",
    "\n",
    "We require a dictionary that maps the various tokens in the sequence (ie ATCG) to a numerical token. \n",
    "\n",
    "<br>\n",
    "\n",
    "Here is an example of a mapping from sequence letters to integer tokens:\n",
    "\n",
    "``{'A': 2, 'T': 3, 'C': 4, 'G':5}``\n",
    "\n",
    "Using this map we can convert DNA sequences into tokenized sequences. For example this sequence:\n",
    "\n",
    "``\"GATCGTAGTCCTAGTAAGACTGAC\"``\n",
    "\n",
    "Would be tokenized as this:\n",
    "\n",
    "``[5, 2, 3, 4, 5, 3, 2, 5, 3, 4, 4, 3, 2, 5, 3, 2, 2, 5, 2, 4, 3, 5, 2, 4]``\n",
    "\n",
    "<br>\n",
    "\n",
    "### Variable Sequence Lengths and Unknown Tokens\n",
    "It is possible for some of the datasets that we will be analyzing, the various input sequences may be of different length. Unlike images or text, it ,may be unfeasible to resize or crop sequences. Instead we will add on an additional token, ``<pad>`` will go onto the tail end of any sequence that is too short.\n",
    "\n",
    "In the future, someone else may want to use the dataset. It may also be possible that unknown tokens are found in that dataset, so we add on an ``<unk>`` token to represent unknown characters.\n",
    "\n",
    "<br>\n",
    "\n",
    "For example, if we had a dataset that consisted of the following two sequences:\n",
    "\n",
    "'GATCGTAGTCCTAGTAAGACTGAC', 'TAGCC'\n",
    "\n",
    "Then we might see a vocabulary to token mapping like this:\n",
    "\n",
    "``{'<pad>': 0, '<unk>': 1, 'A': 2, 'T': 3, 'C': 4, 'G': 5}``\n",
    "\n",
    "When tokenized and padded, the two sequences will look like this, respectivley. Note the long train of 0s on the smaller sequence to represent the padding.\n",
    "\n",
    "``[5., 2., 3., 4., 5., 3., 2., 5., 3., 4., 4., 3., 2., 5., 3., 2., 2., 5., 2., 4., 3., 5., 2., 4.]``\n",
    "\n",
    "``[3., 2., 5., 4., 4., 0., 0., 0., 0., 0., 0., 0., 0., 0., 0., 0., 0., 0., 0., 0., 0., 0., 0., 0.]``\n",
    "\n",
    "\n",
    "<br>\n",
    "SOURCES:\n",
    "We are going to use similiar thinking to sentence construction.\n",
    "https://chriskhanhtran.github.io/posts/cnn-sentence-classification/\n",
    "\n",
    "Data from:"
   ]
  },
  {
   "cell_type": "code",
   "execution_count": 5,
   "metadata": {
    "id": "_5Nx3cPNFmDU"
   },
   "outputs": [],
   "source": [
    "def label_to_count(labels):\n",
    "    '''\n",
    "    Given a list of labels, returns a dictionary that maps each class label \n",
    "    to how many instances of that label were present in the list.\n",
    "    '''\n",
    "    label_to_count_dict = {}\n",
    "    for label in labels:\n",
    "        if label not in label_to_count_dict:\n",
    "            label_to_count_dict[label] = 0\n",
    "        label_to_count_dict[label] += 1\n",
    "    return label_to_count_dict"
   ]
  },
  {
   "cell_type": "code",
   "execution_count": 6,
   "metadata": {},
   "outputs": [
    {
     "data": {
      "text/plain": [
       "[[('A', 'T'), ('T', 'C'), ('C', 'G')], [('C', 'C'), ('C', 'C'), ('C', 'C')]]"
      ]
     },
     "execution_count": 6,
     "metadata": {},
     "output_type": "execute_result"
    }
   ],
   "source": [
    "def prepare_kmers(seqs, k):\n",
    "    '''\n",
    "    Given a list of sequences, will turn them into a list of kmers instead\n",
    "    ARGS:\n",
    "        - seqs: a list of strings where every string is a sequence\n",
    "        - k: the size of kmer\n",
    "    RETURNS:\n",
    "        - for each sequence, a list of tuples of the kmers\n",
    "    EXAMPLE:\n",
    "        >>> prepare_kmers(['ATCG', 'CCCC'], 2)\n",
    "        [\n",
    "         [('A', 'T'), ('T', 'C'), ('C', 'G')],\n",
    "         [('C', 'C'), ('C', 'C'), ('C', 'C')], \n",
    "        ]\n",
    "    '''\n",
    "    return [list(ngrams(seq, k)) for seq in seqs]\n",
    "    \n",
    "result = prepare_kmers(['ATCG', 'CCCC'], 2)\n",
    "[list(i) for i in result]"
   ]
  },
  {
   "cell_type": "code",
   "execution_count": 7,
   "metadata": {
    "id": "PTLkwakmFqrP"
   },
   "outputs": [],
   "source": [
    "def prepare_data(seqs):\n",
    "    '''\n",
    "    Given a list of sequences, will turn into a tokenized vector.\n",
    "    \n",
    "    ARGS:\n",
    "        - seqs: a list of strings where every string is a sequence or token\n",
    "    RETURNS:\n",
    "        - tokenized_seqs (list(list(int))): list of list of tokens\n",
    "        - voc2ind (dict) a dictionary where keys are letters, values are the \n",
    "          corresponding token\n",
    "    '''\n",
    "    max_len = 0\n",
    "    \n",
    "    # build up a voc2ind (letters:token)\n",
    "    # based on ATGC and include padding and unknown tokens\n",
    "    # voc2ind = {voc:ind for ind, voc in \n",
    "    #            enumerate(['<pad>', '<unk>', 'A', 'T', 'C', 'G'])}\n",
    "    voc2ind = {'<pad>':0}\n",
    "\n",
    "    # for printing\n",
    "    total_seqs = len(seqs)\n",
    "    curr_progress = 0\n",
    "    curr_seq = 0\n",
    "    \n",
    "    i = len(voc2ind)\n",
    "    \n",
    "    # tokenize the sequences\n",
    "    tokenized_seqs = []\n",
    "    for seq in seqs:\n",
    "        tokenized_seq = []\n",
    "        for e in seq:\n",
    "            # make sure the sequence is upper case, a == A\n",
    "            # seq = seq.upper()\n",
    "            # if we haven't seen this letter before, add to the corupus\n",
    "            if not e in voc2ind:\n",
    "                voc2ind[e] = i\n",
    "                i += 1\n",
    "            tokenized_seq.append(voc2ind[e])\n",
    "        tokenized_seqs.append(tokenized_seq)\n",
    "        \n",
    "        # print progress\n",
    "        curr_seq += 1\n",
    "        new_progress = round(curr_seq / total_seqs, 2)\n",
    "        if new_progress != curr_progress:\n",
    "          curr_progress = new_progress\n",
    "          # print(curr_progress)\n",
    "        \n",
    "    return tokenized_seqs, voc2ind"
   ]
  },
  {
   "cell_type": "code",
   "execution_count": 8,
   "metadata": {
    "id": "p2XAug4eE_Hc"
   },
   "outputs": [],
   "source": [
    "def prepare_labels(labels):\n",
    "    '''\n",
    "    Given a list of labels will turn them into integer labels\n",
    "    Args:\n",
    "        - labels: a list of labels\n",
    "    Returns:\n",
    "        - tokenized_labels: numpy array(list) a list of label tokens\n",
    "        - label2token: (dict) a dictionary where keys are letters, values are \n",
    "          corresponding token\n",
    "    '''\n",
    "    print(\"Begin prepare labels\")\n",
    "    # for printing\n",
    "    total = len(labels)\n",
    "    curr_progress = 0\n",
    "    curr = 0\n",
    "\n",
    "    tokenized_labels = []\n",
    "    label2token = {}\n",
    "    i = 0\n",
    "    for label in labels:\n",
    "        if not label in label2token:\n",
    "            label2token[label] = i\n",
    "            i += 1\n",
    "        tokenized_labels.append(label2token[label])\n",
    "\n",
    "        # print progress\n",
    "#         curr += 1\n",
    "#         new_progress = round(curr / total, 2)\n",
    "#         if new_progress != curr_progress:\n",
    "#           clear_output()\n",
    "#           curr_progress = new_progress\n",
    "#           print(curr_progress)\n",
    "\n",
    "      \n",
    "    return tokenized_labels, label2token"
   ]
  },
  {
   "cell_type": "code",
   "execution_count": 9,
   "metadata": {
    "id": "btaPyg3aFzOY"
   },
   "outputs": [],
   "source": [
    "def pad(tokenized_seqs, voc2ind):\n",
    "    '''\n",
    "    Pad each sequence to the maximum length by adding a <pad> token\n",
    "    \n",
    "    ARGS:\n",
    "        - tokenized_seqs (list(list(str))): list of list of tokens\n",
    "        - voc2ind (dict) a dictionary where keys are letters, values are the \n",
    "          corresponding token\n",
    "    RETURNS:\n",
    "        a numpy array of all the tokenized sequences that have been padded to be \n",
    "        the same length.\n",
    "    '''\n",
    "    padded_seqs = []\n",
    "    \n",
    "    # find max sequence length\n",
    "    print(\"Finding Max Sequence Length\")\n",
    "    max_len = 0\n",
    "    min_len = math.inf\n",
    "    for seq in tokenized_seqs:\n",
    "        max_len = max(len(seq), max_len)\n",
    "        min_len = min(len(seq), min_len)\n",
    "    print(\"Max sequence length found:\", max_len)\n",
    "    print(\"Min sequence length found:\", min_len)\n",
    "    \n",
    "    # add padding so sequences are max_length\n",
    "    print(\"Begin Padding\")\n",
    "    for seq in tokenized_seqs:\n",
    "        padded_seq = seq + [voc2ind['<pad>']] * (max_len - len(seq))\n",
    "        padded_seqs.append(padded_seq)\n",
    "    \n",
    "    print(\"Change to a numpy array\")\n",
    "    return np.array(padded_seqs, dtype=np.float32)\n"
   ]
  },
  {
   "cell_type": "code",
   "execution_count": 10,
   "metadata": {
    "id": "zbLTGY52F0w1"
   },
   "outputs": [],
   "source": [
    "def data_loader(train_inputs, val_inputs, train_labels, val_labels,\n",
    "                batch_size=50):\n",
    "    \"\"\"\n",
    "    Convert train and validation sets to torch.Tensors and load them to\n",
    "    DataLoader.\n",
    "    \"\"\"\n",
    "\n",
    "    # Convert data type to torch.Tensor\n",
    "    train_inputs, val_inputs, train_labels, val_labels =\\\n",
    "    tuple(torch.tensor(data) for data in\n",
    "          [train_inputs, val_inputs, train_labels, val_labels])\n",
    "\n",
    "    # Create DataLoader for training data\n",
    "    train_data = TensorDataset(train_inputs, train_labels)\n",
    "    train_sampler = RandomSampler(train_data)\n",
    "    train_dataloader = DataLoader(train_data, sampler=train_sampler, batch_size=batch_size)\n",
    "\n",
    "    # Create DataLoader for validation data\n",
    "    val_data = TensorDataset(val_inputs, val_labels)\n",
    "    val_sampler = SequentialSampler(val_data)\n",
    "    val_dataloader = DataLoader(val_data, sampler=val_sampler, batch_size=batch_size)\n",
    "\n",
    "    return train_dataloader, val_dataloader"
   ]
  },
  {
   "cell_type": "markdown",
   "metadata": {
    "id": "xJN4G7EcI553"
   },
   "source": [
    "## Training\n",
    "Below we have a generic training function which will train a given net. We also have an accuracy evaluation function for classification."
   ]
  },
  {
   "cell_type": "code",
   "execution_count": 11,
   "metadata": {
    "id": "guOmw3nlJjte"
   },
   "outputs": [],
   "source": [
    "def train(net, dataloader, epochs=1, lr=0.01, momentum=0.9, decay=0.0, verbose=1):\n",
    "  ''' Trains a neural network. Returns a 2d numpy array, where every list \n",
    "  represents the losses per epoch.\n",
    "  '''\n",
    "  net.to(device)\n",
    "  losses_per_epoch = []\n",
    "  criterion = nn.CrossEntropyLoss()\n",
    "  optimizer = optim.SGD(net.parameters(), lr=lr, momentum=momentum, weight_decay=decay)\n",
    "  for epoch in range(epochs):\n",
    "    sum_loss = 0.0\n",
    "    losses = []\n",
    "    for i, batch in enumerate(dataloader, 0):\n",
    "        # get the inputs; data is a list of [inputs, labels]\n",
    "        inputs, labels = batch[0].to(device), batch[1].to(device)\n",
    "\n",
    "        # zero the parameter gradients\n",
    "        optimizer.zero_grad()\n",
    "\n",
    "        # forward + backward + optimize \n",
    "        outputs = net(inputs)\n",
    "        loss = criterion(outputs, labels)\n",
    "        loss.backward()\n",
    "        optimizer.step()\n",
    "\n",
    "        # print statistics\n",
    "        losses.append(loss.item())\n",
    "        sum_loss += loss.item()\n",
    "        if i % 100 == 99:    # print every 100 mini-batches\n",
    "            if verbose:\n",
    "              print('[%d, %5d] loss: %.3f' %\n",
    "                  (epoch + 1, i + 1, sum_loss / 100))\n",
    "            sum_loss = 0.0\n",
    "    # print(len(losses))\n",
    "    losses_per_epoch.append(np.mean(losses))\n",
    "  return losses_per_epoch"
   ]
  },
  {
   "cell_type": "markdown",
   "metadata": {
    "id": "RAOH08ezJC6Z"
   },
   "source": [
    "## Evaluation\n",
    "\n",
    "Below are a few functions used for evaulating the function such as accuracy, printing the accuracy scores for a trained model, and plotting the loss over epochs."
   ]
  },
  {
   "cell_type": "code",
   "execution_count": 12,
   "metadata": {
    "id": "KkALJVOkJpFY"
   },
   "outputs": [],
   "source": [
    "def accuracy(net, dataloader):\n",
    "    '''\n",
    "    Given a trained neural network and a dataloader, computes the accuracy.\n",
    "    Arguments:\n",
    "        - net: a neural network\n",
    "        - dataloader: a dataloader\n",
    "    Returns:\n",
    "        - fraction of examples classified correctly (float)\n",
    "        - number of correct examples (int)\n",
    "        - number of total examples (float)\n",
    "    '''\n",
    "    correct = 0\n",
    "    total = 0\n",
    "    with torch.no_grad():\n",
    "        for batch in dataloader:\n",
    "            input, labels = batch[0].to(device), batch[1].to(device)\n",
    "            outputs = net(input)\n",
    "            _, predicted = torch.max(outputs.data, 1)\n",
    "            total += labels.size(0)\n",
    "            correct += (predicted == labels).sum().item()\n",
    "    return correct/total, correct, total\n",
    "\n",
    "\n",
    "def print_eval(net, train_dataloader, test_dataloader):\n",
    "    '''\n",
    "    Given a test and train data loader, prints the test and train accuracy and\n",
    "    the number of examples they got right.\n",
    "    RETURNS\n",
    "        (train_acc, test_acc) results of running accuracy on the two dataloaders\n",
    "    '''\n",
    "    train_acc = accuracy(net, train_dataloader)\n",
    "    test_acc = accuracy(net, test_dataloader)\n",
    "    \n",
    "\n",
    "    print(\"Train accuracy: \" + str(train_acc[0]) + \"\\t(\" + str(train_acc[1]) + \"/\" + str(train_acc[2]) + \")\")\n",
    "    print(\"Test accuracy: \" + str(test_acc[0]) + \"\\t(\" + str(test_acc[1]) + \"/\" + str(test_acc[2]) + \")\")\n",
    "          \n",
    "    return train_acc, test_acc\n",
    "\n",
    "\n",
    "def plot_losses(losses, smooth_val = None, title = \"\"):\n",
    "    '''\n",
    "    Plots the losses per epoch returned by the training function.\n",
    "    Args:\n",
    "        losses: a list of losses returned by train\n",
    "        smooth_val: an optinal integer value if smoothing is desired\n",
    "        title: a title for the graph\n",
    "    '''\n",
    "    # loss = np.mean(losses, axis = 1)\n",
    "    epochs = [i for i in range(1, len(losses) + 1)]\n",
    "    if smooth_val is not None:\n",
    "        lossses = smooth(losses, smooth_val)\n",
    "    plt.plot(epochs, losses, marker=\"o\", linestyle=\"dashed\")\n",
    "    plt.xlabel(\"Epoch\")\n",
    "    plt.ylabel(\"Loss\")\n",
    "    plt.title(title)\n",
    "    \n",
    "\n",
    "def smooth(x, size):\n",
    "    '''\n",
    "    Given an array, smooths it by some number size, to make it look less janky.\n",
    "    '''\n",
    "    return np.convolve(x, np.ones(size)/size, mode='same')"
   ]
  },
  {
   "cell_type": "markdown",
   "metadata": {
    "id": "3Xk0J9ZJJSZ5"
   },
   "source": [
    "# Data time!"
   ]
  },
  {
   "cell_type": "markdown",
   "metadata": {
    "id": "_ot4EB1dJ6Jl"
   },
   "source": [
    "## Data Loading\n",
    "Insert a description of the data here"
   ]
  },
  {
   "cell_type": "markdown",
   "metadata": {
    "id": "-fmz4pQiZQd8"
   },
   "source": [
    "### Import data and clean it"
   ]
  },
  {
   "cell_type": "code",
   "execution_count": 13,
   "metadata": {
    "colab": {
     "base_uri": "https://localhost:8080/",
     "height": 270
    },
    "id": "S2vj4Pa1P0R9",
    "outputId": "84be5c95-92b6-46e7-f557-5d8d4903a10e"
   },
   "outputs": [
    {
     "data": {
      "text/html": [
       "<div>\n",
       "<style scoped>\n",
       "    .dataframe tbody tr th:only-of-type {\n",
       "        vertical-align: middle;\n",
       "    }\n",
       "\n",
       "    .dataframe tbody tr th {\n",
       "        vertical-align: top;\n",
       "    }\n",
       "\n",
       "    .dataframe thead th {\n",
       "        text-align: right;\n",
       "    }\n",
       "</style>\n",
       "<table border=\"1\" class=\"dataframe\">\n",
       "  <thead>\n",
       "    <tr style=\"text-align: right;\">\n",
       "      <th></th>\n",
       "      <th>sequence_id</th>\n",
       "      <th>sequence</th>\n",
       "      <th>bacterial_resistance_ampicillin</th>\n",
       "      <th>bacterial_resistance_chloramphenicol</th>\n",
       "      <th>bacterial_resistance_kanamycin</th>\n",
       "      <th>bacterial_resistance_other</th>\n",
       "      <th>bacterial_resistance_spectinomycin</th>\n",
       "      <th>copy_number_high_copy</th>\n",
       "      <th>copy_number_low_copy</th>\n",
       "      <th>copy_number_unknown</th>\n",
       "      <th>...</th>\n",
       "      <th>species_budding_yeast</th>\n",
       "      <th>species_fly</th>\n",
       "      <th>species_human</th>\n",
       "      <th>species_mouse</th>\n",
       "      <th>species_mustard_weed</th>\n",
       "      <th>species_nematode</th>\n",
       "      <th>species_other</th>\n",
       "      <th>species_rat</th>\n",
       "      <th>species_synthetic</th>\n",
       "      <th>species_zebrafish</th>\n",
       "    </tr>\n",
       "  </thead>\n",
       "  <tbody>\n",
       "    <tr>\n",
       "      <th>0</th>\n",
       "      <td>9ZIMC</td>\n",
       "      <td>CATGCATTAGTTATTAATAGTAATCAATTACGGGGTCATTAGTTCA...</td>\n",
       "      <td>0.0</td>\n",
       "      <td>0.0</td>\n",
       "      <td>1.0</td>\n",
       "      <td>0.0</td>\n",
       "      <td>0.0</td>\n",
       "      <td>1.0</td>\n",
       "      <td>0.0</td>\n",
       "      <td>0.0</td>\n",
       "      <td>...</td>\n",
       "      <td>0.0</td>\n",
       "      <td>0.0</td>\n",
       "      <td>0.0</td>\n",
       "      <td>1.0</td>\n",
       "      <td>0.0</td>\n",
       "      <td>0.0</td>\n",
       "      <td>0.0</td>\n",
       "      <td>0.0</td>\n",
       "      <td>0.0</td>\n",
       "      <td>0.0</td>\n",
       "    </tr>\n",
       "    <tr>\n",
       "      <th>1</th>\n",
       "      <td>5SAQC</td>\n",
       "      <td>GCTGGATGGTTTGGGACATGTGCAGCCCCGTCTCTGTATGGAGTGA...</td>\n",
       "      <td>1.0</td>\n",
       "      <td>0.0</td>\n",
       "      <td>0.0</td>\n",
       "      <td>0.0</td>\n",
       "      <td>0.0</td>\n",
       "      <td>1.0</td>\n",
       "      <td>0.0</td>\n",
       "      <td>0.0</td>\n",
       "      <td>...</td>\n",
       "      <td>0.0</td>\n",
       "      <td>0.0</td>\n",
       "      <td>0.0</td>\n",
       "      <td>1.0</td>\n",
       "      <td>0.0</td>\n",
       "      <td>0.0</td>\n",
       "      <td>0.0</td>\n",
       "      <td>0.0</td>\n",
       "      <td>0.0</td>\n",
       "      <td>0.0</td>\n",
       "    </tr>\n",
       "    <tr>\n",
       "      <th>2</th>\n",
       "      <td>E7QRO</td>\n",
       "      <td>NNCCGGGCTGTAGCTACACAGGGCGGAGATGAGAGCCCTACGAAAG...</td>\n",
       "      <td>1.0</td>\n",
       "      <td>0.0</td>\n",
       "      <td>0.0</td>\n",
       "      <td>0.0</td>\n",
       "      <td>0.0</td>\n",
       "      <td>1.0</td>\n",
       "      <td>0.0</td>\n",
       "      <td>0.0</td>\n",
       "      <td>...</td>\n",
       "      <td>0.0</td>\n",
       "      <td>0.0</td>\n",
       "      <td>0.0</td>\n",
       "      <td>1.0</td>\n",
       "      <td>0.0</td>\n",
       "      <td>0.0</td>\n",
       "      <td>0.0</td>\n",
       "      <td>0.0</td>\n",
       "      <td>0.0</td>\n",
       "      <td>0.0</td>\n",
       "    </tr>\n",
       "    <tr>\n",
       "      <th>3</th>\n",
       "      <td>CT5FP</td>\n",
       "      <td>GCGGAGATGAAGAGCCCTACGAAAGCTGAGCCTGCGACTCCCGCAG...</td>\n",
       "      <td>1.0</td>\n",
       "      <td>0.0</td>\n",
       "      <td>0.0</td>\n",
       "      <td>0.0</td>\n",
       "      <td>0.0</td>\n",
       "      <td>1.0</td>\n",
       "      <td>0.0</td>\n",
       "      <td>0.0</td>\n",
       "      <td>...</td>\n",
       "      <td>0.0</td>\n",
       "      <td>0.0</td>\n",
       "      <td>0.0</td>\n",
       "      <td>1.0</td>\n",
       "      <td>0.0</td>\n",
       "      <td>0.0</td>\n",
       "      <td>0.0</td>\n",
       "      <td>0.0</td>\n",
       "      <td>0.0</td>\n",
       "      <td>0.0</td>\n",
       "    </tr>\n",
       "    <tr>\n",
       "      <th>4</th>\n",
       "      <td>7PTD8</td>\n",
       "      <td>CGCGCATTACTTCACATGGTCCTCAAGGGTAACATGAAAGTGATCC...</td>\n",
       "      <td>1.0</td>\n",
       "      <td>0.0</td>\n",
       "      <td>0.0</td>\n",
       "      <td>0.0</td>\n",
       "      <td>0.0</td>\n",
       "      <td>1.0</td>\n",
       "      <td>0.0</td>\n",
       "      <td>0.0</td>\n",
       "      <td>...</td>\n",
       "      <td>0.0</td>\n",
       "      <td>0.0</td>\n",
       "      <td>0.0</td>\n",
       "      <td>1.0</td>\n",
       "      <td>0.0</td>\n",
       "      <td>0.0</td>\n",
       "      <td>0.0</td>\n",
       "      <td>0.0</td>\n",
       "      <td>0.0</td>\n",
       "      <td>0.0</td>\n",
       "    </tr>\n",
       "  </tbody>\n",
       "</table>\n",
       "<p>5 rows × 41 columns</p>\n",
       "</div>"
      ],
      "text/plain": [
       "  sequence_id                                           sequence  \\\n",
       "0       9ZIMC  CATGCATTAGTTATTAATAGTAATCAATTACGGGGTCATTAGTTCA...   \n",
       "1       5SAQC  GCTGGATGGTTTGGGACATGTGCAGCCCCGTCTCTGTATGGAGTGA...   \n",
       "2       E7QRO  NNCCGGGCTGTAGCTACACAGGGCGGAGATGAGAGCCCTACGAAAG...   \n",
       "3       CT5FP  GCGGAGATGAAGAGCCCTACGAAAGCTGAGCCTGCGACTCCCGCAG...   \n",
       "4       7PTD8  CGCGCATTACTTCACATGGTCCTCAAGGGTAACATGAAAGTGATCC...   \n",
       "\n",
       "   bacterial_resistance_ampicillin  bacterial_resistance_chloramphenicol  \\\n",
       "0                              0.0                                   0.0   \n",
       "1                              1.0                                   0.0   \n",
       "2                              1.0                                   0.0   \n",
       "3                              1.0                                   0.0   \n",
       "4                              1.0                                   0.0   \n",
       "\n",
       "   bacterial_resistance_kanamycin  bacterial_resistance_other  \\\n",
       "0                             1.0                         0.0   \n",
       "1                             0.0                         0.0   \n",
       "2                             0.0                         0.0   \n",
       "3                             0.0                         0.0   \n",
       "4                             0.0                         0.0   \n",
       "\n",
       "   bacterial_resistance_spectinomycin  copy_number_high_copy  \\\n",
       "0                                 0.0                    1.0   \n",
       "1                                 0.0                    1.0   \n",
       "2                                 0.0                    1.0   \n",
       "3                                 0.0                    1.0   \n",
       "4                                 0.0                    1.0   \n",
       "\n",
       "   copy_number_low_copy  copy_number_unknown  ...  species_budding_yeast  \\\n",
       "0                   0.0                  0.0  ...                    0.0   \n",
       "1                   0.0                  0.0  ...                    0.0   \n",
       "2                   0.0                  0.0  ...                    0.0   \n",
       "3                   0.0                  0.0  ...                    0.0   \n",
       "4                   0.0                  0.0  ...                    0.0   \n",
       "\n",
       "   species_fly  species_human  species_mouse  species_mustard_weed  \\\n",
       "0          0.0            0.0            1.0                   0.0   \n",
       "1          0.0            0.0            1.0                   0.0   \n",
       "2          0.0            0.0            1.0                   0.0   \n",
       "3          0.0            0.0            1.0                   0.0   \n",
       "4          0.0            0.0            1.0                   0.0   \n",
       "\n",
       "   species_nematode  species_other  species_rat  species_synthetic  \\\n",
       "0               0.0            0.0          0.0                0.0   \n",
       "1               0.0            0.0          0.0                0.0   \n",
       "2               0.0            0.0          0.0                0.0   \n",
       "3               0.0            0.0          0.0                0.0   \n",
       "4               0.0            0.0          0.0                0.0   \n",
       "\n",
       "   species_zebrafish  \n",
       "0                0.0  \n",
       "1                0.0  \n",
       "2                0.0  \n",
       "3                0.0  \n",
       "4                0.0  \n",
       "\n",
       "[5 rows x 41 columns]"
      ]
     },
     "execution_count": 13,
     "metadata": {},
     "output_type": "execute_result"
    }
   ],
   "source": [
    "df_train_values = pd.read_csv('data/train_values.csv')\n",
    "df_train_values.head()"
   ]
  },
  {
   "cell_type": "code",
   "execution_count": 14,
   "metadata": {
    "colab": {
     "base_uri": "https://localhost:8080/",
     "height": 380
    },
    "id": "MZwC3joVXDAH",
    "outputId": "9da6810c-3236-4600-fe15-0e6054458363"
   },
   "outputs": [
    {
     "data": {
      "text/html": [
       "<div>\n",
       "<style scoped>\n",
       "    .dataframe tbody tr th:only-of-type {\n",
       "        vertical-align: middle;\n",
       "    }\n",
       "\n",
       "    .dataframe tbody tr th {\n",
       "        vertical-align: top;\n",
       "    }\n",
       "\n",
       "    .dataframe thead th {\n",
       "        text-align: right;\n",
       "    }\n",
       "</style>\n",
       "<table border=\"1\" class=\"dataframe\">\n",
       "  <thead>\n",
       "    <tr style=\"text-align: right;\">\n",
       "      <th></th>\n",
       "      <th>sequence_id</th>\n",
       "      <th>00Q4V31T</th>\n",
       "      <th>012VT4JK</th>\n",
       "      <th>028IO5W2</th>\n",
       "      <th>03GRNN7N</th>\n",
       "      <th>03Y3W51H</th>\n",
       "      <th>09MQV1TY</th>\n",
       "      <th>0A4AHRCT</th>\n",
       "      <th>0A9M05NC</th>\n",
       "      <th>0B9GCUVV</th>\n",
       "      <th>...</th>\n",
       "      <th>ZQNGGY33</th>\n",
       "      <th>ZSHS4VJZ</th>\n",
       "      <th>ZT1IP3T6</th>\n",
       "      <th>ZU6860XU</th>\n",
       "      <th>ZU6TVFFU</th>\n",
       "      <th>ZU75P59K</th>\n",
       "      <th>ZUI6TDWV</th>\n",
       "      <th>ZWFD8OHC</th>\n",
       "      <th>ZX06ZDZN</th>\n",
       "      <th>ZZJVE4HO</th>\n",
       "    </tr>\n",
       "  </thead>\n",
       "  <tbody>\n",
       "    <tr>\n",
       "      <th>0</th>\n",
       "      <td>9ZIMC</td>\n",
       "      <td>0.0</td>\n",
       "      <td>0.0</td>\n",
       "      <td>0.0</td>\n",
       "      <td>0.0</td>\n",
       "      <td>0.0</td>\n",
       "      <td>0.0</td>\n",
       "      <td>0.0</td>\n",
       "      <td>0.0</td>\n",
       "      <td>0.0</td>\n",
       "      <td>...</td>\n",
       "      <td>0.0</td>\n",
       "      <td>0.0</td>\n",
       "      <td>0.0</td>\n",
       "      <td>0.0</td>\n",
       "      <td>0.0</td>\n",
       "      <td>0.0</td>\n",
       "      <td>0.0</td>\n",
       "      <td>0.0</td>\n",
       "      <td>0.0</td>\n",
       "      <td>0.0</td>\n",
       "    </tr>\n",
       "    <tr>\n",
       "      <th>1</th>\n",
       "      <td>5SAQC</td>\n",
       "      <td>0.0</td>\n",
       "      <td>0.0</td>\n",
       "      <td>0.0</td>\n",
       "      <td>0.0</td>\n",
       "      <td>0.0</td>\n",
       "      <td>0.0</td>\n",
       "      <td>0.0</td>\n",
       "      <td>0.0</td>\n",
       "      <td>0.0</td>\n",
       "      <td>...</td>\n",
       "      <td>0.0</td>\n",
       "      <td>0.0</td>\n",
       "      <td>0.0</td>\n",
       "      <td>0.0</td>\n",
       "      <td>0.0</td>\n",
       "      <td>0.0</td>\n",
       "      <td>0.0</td>\n",
       "      <td>0.0</td>\n",
       "      <td>0.0</td>\n",
       "      <td>0.0</td>\n",
       "    </tr>\n",
       "    <tr>\n",
       "      <th>2</th>\n",
       "      <td>E7QRO</td>\n",
       "      <td>0.0</td>\n",
       "      <td>0.0</td>\n",
       "      <td>0.0</td>\n",
       "      <td>0.0</td>\n",
       "      <td>0.0</td>\n",
       "      <td>0.0</td>\n",
       "      <td>0.0</td>\n",
       "      <td>0.0</td>\n",
       "      <td>0.0</td>\n",
       "      <td>...</td>\n",
       "      <td>0.0</td>\n",
       "      <td>0.0</td>\n",
       "      <td>0.0</td>\n",
       "      <td>0.0</td>\n",
       "      <td>0.0</td>\n",
       "      <td>0.0</td>\n",
       "      <td>0.0</td>\n",
       "      <td>0.0</td>\n",
       "      <td>0.0</td>\n",
       "      <td>0.0</td>\n",
       "    </tr>\n",
       "    <tr>\n",
       "      <th>3</th>\n",
       "      <td>CT5FP</td>\n",
       "      <td>0.0</td>\n",
       "      <td>0.0</td>\n",
       "      <td>0.0</td>\n",
       "      <td>0.0</td>\n",
       "      <td>0.0</td>\n",
       "      <td>0.0</td>\n",
       "      <td>0.0</td>\n",
       "      <td>0.0</td>\n",
       "      <td>0.0</td>\n",
       "      <td>...</td>\n",
       "      <td>0.0</td>\n",
       "      <td>0.0</td>\n",
       "      <td>0.0</td>\n",
       "      <td>0.0</td>\n",
       "      <td>0.0</td>\n",
       "      <td>0.0</td>\n",
       "      <td>0.0</td>\n",
       "      <td>0.0</td>\n",
       "      <td>0.0</td>\n",
       "      <td>0.0</td>\n",
       "    </tr>\n",
       "    <tr>\n",
       "      <th>4</th>\n",
       "      <td>7PTD8</td>\n",
       "      <td>0.0</td>\n",
       "      <td>0.0</td>\n",
       "      <td>0.0</td>\n",
       "      <td>0.0</td>\n",
       "      <td>0.0</td>\n",
       "      <td>0.0</td>\n",
       "      <td>0.0</td>\n",
       "      <td>0.0</td>\n",
       "      <td>0.0</td>\n",
       "      <td>...</td>\n",
       "      <td>0.0</td>\n",
       "      <td>0.0</td>\n",
       "      <td>0.0</td>\n",
       "      <td>0.0</td>\n",
       "      <td>0.0</td>\n",
       "      <td>0.0</td>\n",
       "      <td>0.0</td>\n",
       "      <td>0.0</td>\n",
       "      <td>0.0</td>\n",
       "      <td>0.0</td>\n",
       "    </tr>\n",
       "  </tbody>\n",
       "</table>\n",
       "<p>5 rows × 1315 columns</p>\n",
       "</div>"
      ],
      "text/plain": [
       "  sequence_id  00Q4V31T  012VT4JK  028IO5W2  03GRNN7N  03Y3W51H  09MQV1TY  \\\n",
       "0       9ZIMC       0.0       0.0       0.0       0.0       0.0       0.0   \n",
       "1       5SAQC       0.0       0.0       0.0       0.0       0.0       0.0   \n",
       "2       E7QRO       0.0       0.0       0.0       0.0       0.0       0.0   \n",
       "3       CT5FP       0.0       0.0       0.0       0.0       0.0       0.0   \n",
       "4       7PTD8       0.0       0.0       0.0       0.0       0.0       0.0   \n",
       "\n",
       "   0A4AHRCT  0A9M05NC  0B9GCUVV  ...  ZQNGGY33  ZSHS4VJZ  ZT1IP3T6  ZU6860XU  \\\n",
       "0       0.0       0.0       0.0  ...       0.0       0.0       0.0       0.0   \n",
       "1       0.0       0.0       0.0  ...       0.0       0.0       0.0       0.0   \n",
       "2       0.0       0.0       0.0  ...       0.0       0.0       0.0       0.0   \n",
       "3       0.0       0.0       0.0  ...       0.0       0.0       0.0       0.0   \n",
       "4       0.0       0.0       0.0  ...       0.0       0.0       0.0       0.0   \n",
       "\n",
       "   ZU6TVFFU  ZU75P59K  ZUI6TDWV  ZWFD8OHC  ZX06ZDZN  ZZJVE4HO  \n",
       "0       0.0       0.0       0.0       0.0       0.0       0.0  \n",
       "1       0.0       0.0       0.0       0.0       0.0       0.0  \n",
       "2       0.0       0.0       0.0       0.0       0.0       0.0  \n",
       "3       0.0       0.0       0.0       0.0       0.0       0.0  \n",
       "4       0.0       0.0       0.0       0.0       0.0       0.0  \n",
       "\n",
       "[5 rows x 1315 columns]"
      ]
     },
     "execution_count": 14,
     "metadata": {},
     "output_type": "execute_result"
    }
   ],
   "source": [
    "df_train_labels = pd.read_csv('data/train_labels.csv')\n",
    "df_train_labels.head()"
   ]
  },
  {
   "cell_type": "code",
   "execution_count": 15,
   "metadata": {
    "id": "8mTdMNI3YbLZ"
   },
   "outputs": [
    {
     "data": {
      "text/html": [
       "<div>\n",
       "<style scoped>\n",
       "    .dataframe tbody tr th:only-of-type {\n",
       "        vertical-align: middle;\n",
       "    }\n",
       "\n",
       "    .dataframe tbody tr th {\n",
       "        vertical-align: top;\n",
       "    }\n",
       "\n",
       "    .dataframe thead th {\n",
       "        text-align: right;\n",
       "    }\n",
       "</style>\n",
       "<table border=\"1\" class=\"dataframe\">\n",
       "  <thead>\n",
       "    <tr style=\"text-align: right;\">\n",
       "      <th></th>\n",
       "      <th>sequence_id</th>\n",
       "      <th>sequence</th>\n",
       "      <th>bacterial_resistance_ampicillin</th>\n",
       "      <th>bacterial_resistance_chloramphenicol</th>\n",
       "      <th>bacterial_resistance_kanamycin</th>\n",
       "      <th>bacterial_resistance_other</th>\n",
       "      <th>bacterial_resistance_spectinomycin</th>\n",
       "      <th>copy_number_high_copy</th>\n",
       "      <th>copy_number_low_copy</th>\n",
       "      <th>copy_number_unknown</th>\n",
       "      <th>...</th>\n",
       "      <th>ZQNGGY33</th>\n",
       "      <th>ZSHS4VJZ</th>\n",
       "      <th>ZT1IP3T6</th>\n",
       "      <th>ZU6860XU</th>\n",
       "      <th>ZU6TVFFU</th>\n",
       "      <th>ZU75P59K</th>\n",
       "      <th>ZUI6TDWV</th>\n",
       "      <th>ZWFD8OHC</th>\n",
       "      <th>ZX06ZDZN</th>\n",
       "      <th>ZZJVE4HO</th>\n",
       "    </tr>\n",
       "  </thead>\n",
       "  <tbody>\n",
       "    <tr>\n",
       "      <th>0</th>\n",
       "      <td>9ZIMC</td>\n",
       "      <td>CATGCATTAGTTATTAATAGTAATCAATTACGGGGTCATTAGTTCA...</td>\n",
       "      <td>0.0</td>\n",
       "      <td>0.0</td>\n",
       "      <td>1.0</td>\n",
       "      <td>0.0</td>\n",
       "      <td>0.0</td>\n",
       "      <td>1.0</td>\n",
       "      <td>0.0</td>\n",
       "      <td>0.0</td>\n",
       "      <td>...</td>\n",
       "      <td>0.0</td>\n",
       "      <td>0.0</td>\n",
       "      <td>0.0</td>\n",
       "      <td>0.0</td>\n",
       "      <td>0.0</td>\n",
       "      <td>0.0</td>\n",
       "      <td>0.0</td>\n",
       "      <td>0.0</td>\n",
       "      <td>0.0</td>\n",
       "      <td>0.0</td>\n",
       "    </tr>\n",
       "    <tr>\n",
       "      <th>1</th>\n",
       "      <td>5SAQC</td>\n",
       "      <td>GCTGGATGGTTTGGGACATGTGCAGCCCCGTCTCTGTATGGAGTGA...</td>\n",
       "      <td>1.0</td>\n",
       "      <td>0.0</td>\n",
       "      <td>0.0</td>\n",
       "      <td>0.0</td>\n",
       "      <td>0.0</td>\n",
       "      <td>1.0</td>\n",
       "      <td>0.0</td>\n",
       "      <td>0.0</td>\n",
       "      <td>...</td>\n",
       "      <td>0.0</td>\n",
       "      <td>0.0</td>\n",
       "      <td>0.0</td>\n",
       "      <td>0.0</td>\n",
       "      <td>0.0</td>\n",
       "      <td>0.0</td>\n",
       "      <td>0.0</td>\n",
       "      <td>0.0</td>\n",
       "      <td>0.0</td>\n",
       "      <td>0.0</td>\n",
       "    </tr>\n",
       "    <tr>\n",
       "      <th>2</th>\n",
       "      <td>E7QRO</td>\n",
       "      <td>NNCCGGGCTGTAGCTACACAGGGCGGAGATGAGAGCCCTACGAAAG...</td>\n",
       "      <td>1.0</td>\n",
       "      <td>0.0</td>\n",
       "      <td>0.0</td>\n",
       "      <td>0.0</td>\n",
       "      <td>0.0</td>\n",
       "      <td>1.0</td>\n",
       "      <td>0.0</td>\n",
       "      <td>0.0</td>\n",
       "      <td>...</td>\n",
       "      <td>0.0</td>\n",
       "      <td>0.0</td>\n",
       "      <td>0.0</td>\n",
       "      <td>0.0</td>\n",
       "      <td>0.0</td>\n",
       "      <td>0.0</td>\n",
       "      <td>0.0</td>\n",
       "      <td>0.0</td>\n",
       "      <td>0.0</td>\n",
       "      <td>0.0</td>\n",
       "    </tr>\n",
       "    <tr>\n",
       "      <th>3</th>\n",
       "      <td>CT5FP</td>\n",
       "      <td>GCGGAGATGAAGAGCCCTACGAAAGCTGAGCCTGCGACTCCCGCAG...</td>\n",
       "      <td>1.0</td>\n",
       "      <td>0.0</td>\n",
       "      <td>0.0</td>\n",
       "      <td>0.0</td>\n",
       "      <td>0.0</td>\n",
       "      <td>1.0</td>\n",
       "      <td>0.0</td>\n",
       "      <td>0.0</td>\n",
       "      <td>...</td>\n",
       "      <td>0.0</td>\n",
       "      <td>0.0</td>\n",
       "      <td>0.0</td>\n",
       "      <td>0.0</td>\n",
       "      <td>0.0</td>\n",
       "      <td>0.0</td>\n",
       "      <td>0.0</td>\n",
       "      <td>0.0</td>\n",
       "      <td>0.0</td>\n",
       "      <td>0.0</td>\n",
       "    </tr>\n",
       "    <tr>\n",
       "      <th>4</th>\n",
       "      <td>7PTD8</td>\n",
       "      <td>CGCGCATTACTTCACATGGTCCTCAAGGGTAACATGAAAGTGATCC...</td>\n",
       "      <td>1.0</td>\n",
       "      <td>0.0</td>\n",
       "      <td>0.0</td>\n",
       "      <td>0.0</td>\n",
       "      <td>0.0</td>\n",
       "      <td>1.0</td>\n",
       "      <td>0.0</td>\n",
       "      <td>0.0</td>\n",
       "      <td>...</td>\n",
       "      <td>0.0</td>\n",
       "      <td>0.0</td>\n",
       "      <td>0.0</td>\n",
       "      <td>0.0</td>\n",
       "      <td>0.0</td>\n",
       "      <td>0.0</td>\n",
       "      <td>0.0</td>\n",
       "      <td>0.0</td>\n",
       "      <td>0.0</td>\n",
       "      <td>0.0</td>\n",
       "    </tr>\n",
       "  </tbody>\n",
       "</table>\n",
       "<p>5 rows × 1355 columns</p>\n",
       "</div>"
      ],
      "text/plain": [
       "  sequence_id                                           sequence  \\\n",
       "0       9ZIMC  CATGCATTAGTTATTAATAGTAATCAATTACGGGGTCATTAGTTCA...   \n",
       "1       5SAQC  GCTGGATGGTTTGGGACATGTGCAGCCCCGTCTCTGTATGGAGTGA...   \n",
       "2       E7QRO  NNCCGGGCTGTAGCTACACAGGGCGGAGATGAGAGCCCTACGAAAG...   \n",
       "3       CT5FP  GCGGAGATGAAGAGCCCTACGAAAGCTGAGCCTGCGACTCCCGCAG...   \n",
       "4       7PTD8  CGCGCATTACTTCACATGGTCCTCAAGGGTAACATGAAAGTGATCC...   \n",
       "\n",
       "   bacterial_resistance_ampicillin  bacterial_resistance_chloramphenicol  \\\n",
       "0                              0.0                                   0.0   \n",
       "1                              1.0                                   0.0   \n",
       "2                              1.0                                   0.0   \n",
       "3                              1.0                                   0.0   \n",
       "4                              1.0                                   0.0   \n",
       "\n",
       "   bacterial_resistance_kanamycin  bacterial_resistance_other  \\\n",
       "0                             1.0                         0.0   \n",
       "1                             0.0                         0.0   \n",
       "2                             0.0                         0.0   \n",
       "3                             0.0                         0.0   \n",
       "4                             0.0                         0.0   \n",
       "\n",
       "   bacterial_resistance_spectinomycin  copy_number_high_copy  \\\n",
       "0                                 0.0                    1.0   \n",
       "1                                 0.0                    1.0   \n",
       "2                                 0.0                    1.0   \n",
       "3                                 0.0                    1.0   \n",
       "4                                 0.0                    1.0   \n",
       "\n",
       "   copy_number_low_copy  copy_number_unknown  ...  ZQNGGY33  ZSHS4VJZ  \\\n",
       "0                   0.0                  0.0  ...       0.0       0.0   \n",
       "1                   0.0                  0.0  ...       0.0       0.0   \n",
       "2                   0.0                  0.0  ...       0.0       0.0   \n",
       "3                   0.0                  0.0  ...       0.0       0.0   \n",
       "4                   0.0                  0.0  ...       0.0       0.0   \n",
       "\n",
       "   ZT1IP3T6  ZU6860XU  ZU6TVFFU  ZU75P59K  ZUI6TDWV  ZWFD8OHC  ZX06ZDZN  \\\n",
       "0       0.0       0.0       0.0       0.0       0.0       0.0       0.0   \n",
       "1       0.0       0.0       0.0       0.0       0.0       0.0       0.0   \n",
       "2       0.0       0.0       0.0       0.0       0.0       0.0       0.0   \n",
       "3       0.0       0.0       0.0       0.0       0.0       0.0       0.0   \n",
       "4       0.0       0.0       0.0       0.0       0.0       0.0       0.0   \n",
       "\n",
       "   ZZJVE4HO  \n",
       "0       0.0  \n",
       "1       0.0  \n",
       "2       0.0  \n",
       "3       0.0  \n",
       "4       0.0  \n",
       "\n",
       "[5 rows x 1355 columns]"
      ]
     },
     "execution_count": 15,
     "metadata": {},
     "output_type": "execute_result"
    }
   ],
   "source": [
    "# merge just to make sure that every label corresponds to the correct\n",
    "# sequence\n",
    "df_train = df_train_values.merge(df_train_labels,\n",
    "                                 left_on='sequence_id', \n",
    "                                 right_on='sequence_id', \n",
    "                                 how = 'outer')\n",
    "df_train.head()"
   ]
  },
  {
   "cell_type": "code",
   "execution_count": 16,
   "metadata": {
    "id": "ndnhtvR4a9tw"
   },
   "outputs": [
    {
     "data": {
      "text/plain": [
       "0    RYUA3GVO\n",
       "1    RYUA3GVO\n",
       "2    RYUA3GVO\n",
       "3    RYUA3GVO\n",
       "4    RYUA3GVO\n",
       "dtype: object"
      ]
     },
     "execution_count": 16,
     "metadata": {},
     "output_type": "execute_result"
    }
   ],
   "source": [
    "# we're going to \"undo\" the on hot encoding in df_train_labels\n",
    "col_list = list(df_train.columns)\n",
    "label_cols = col_list[col_list.index('00Q4V31T'):]\n",
    "labels = df_train[label_cols].idxmax(1)\n",
    "labels[:5]"
   ]
  },
  {
   "cell_type": "code",
   "execution_count": 17,
   "metadata": {
    "id": "CJlBAP18YqyX"
   },
   "outputs": [
    {
     "name": "stdout",
     "output_type": "stream",
     "text": [
      "63017 63017\n"
     ]
    }
   ],
   "source": [
    "seqs = list(df_train_values['sequence'])\n",
    "labels = list(labels)\n",
    "print(len(seqs), len(labels))"
   ]
  },
  {
   "cell_type": "markdown",
   "metadata": {
    "id": "Fr1WSRbb5DlP"
   },
   "source": [
    "### Histograms\n",
    "Running out of RAM due to padding sequences\n",
    "\n",
    "(Winner: padded to 4k or 16k)"
   ]
  },
  {
   "cell_type": "markdown",
   "metadata": {
    "id": "EGQ49Y70hREh"
   },
   "source": [
    "#### Sequence Length Hist"
   ]
  },
  {
   "cell_type": "code",
   "execution_count": 18,
   "metadata": {
    "id": "F4adunmVhkVA"
   },
   "outputs": [],
   "source": [
    "def make_hist(x, bins, title='', xlabel = '', ylabel='', yscale='linear', color='C0', savefig=None):\n",
    "    plt.clf()\n",
    "    n, bins, patches = plt.hist(x, density=False, bins=bins, color=color)\n",
    "    plt.xticks(bins, rotation='vertical')\n",
    "    plt.yscale(yscale)\n",
    "    plt.title(title)\n",
    "    plt.ylabel(ylabel)\n",
    "    plt.xlabel(xlabel)\n",
    "    plt.show()\n",
    "    \n",
    "  "
   ]
  },
  {
   "cell_type": "code",
   "execution_count": 19,
   "metadata": {
    "id": "WBxDpFDs5DN5"
   },
   "outputs": [
    {
     "data": {
      "image/png": "[encoded data removed]",
      "text/plain": [
       "<Figure size 432x288 with 1 Axes>"
      ]
     },
     "metadata": {
      "needs_background": "light"
     },
     "output_type": "display_data"
    },
    {
     "data": {
      "image/png": "[encoded data removed]",
      "text/plain": [
       "<Figure size 432x288 with 1 Axes>"
      ]
     },
     "metadata": {
      "needs_background": "light"
     },
     "output_type": "display_data"
    },
    {
     "name": "stdout",
     "output_type": "stream",
     "text": [
      "Minimum sequence length 20\n",
      "Max sequence length 60099\n",
      "Average sequence length 4839.025501055271\n"
     ]
    }
   ],
   "source": [
    "seq_lens = [len(seq) for seq in seqs]\n",
    "\n",
    "make_hist(seq_lens, 20,\n",
    "          title='Length of Sequences in Train (Linear Scale)',\n",
    "          ylabel='Frequency',\n",
    "          xlabel='Length')\n",
    "\n",
    "make_hist(seq_lens, 20,\n",
    "          title='Length of Sequences in Train (Linear Scale)',\n",
    "          ylabel='Frequency',\n",
    "          xlabel='Length',\n",
    "          yscale='log')\n",
    "\n",
    "print(\"Minimum sequence length\", min(seq_lens))\n",
    "print(\"Max sequence length\", max(seq_lens))\n",
    "print(\"Average sequence length\", sum(seq_lens)/len(seq_lens))\n"
   ]
  },
  {
   "cell_type": "markdown",
   "metadata": {
    "id": "t_OFKp1Z7s1t"
   },
   "source": [
    "Possible solutions: \n",
    "* Get more RAM (not guarenteed to work)\n",
    "* Cut off all sequences to a particular value (but what?)\n",
    "* Something else? What did others do?"
   ]
  },
  {
   "cell_type": "markdown",
   "metadata": {
    "id": "Xq5HuA_CcyuJ"
   },
   "source": [
    "#### Class Labels Histogram"
   ]
  },
  {
   "cell_type": "code",
   "execution_count": 20,
   "metadata": {
    "id": "0AgtQFC7dlTg"
   },
   "outputs": [
    {
     "data": {
      "image/png": "[encoded data removed]",
      "text/plain": [
       "<Figure size 432x288 with 1 Axes>"
      ]
     },
     "metadata": {
      "needs_background": "light"
     },
     "output_type": "display_data"
    }
   ],
   "source": [
    "# get how many counts of label there are\n",
    "label_to_counts = dict()\n",
    "for label in labels:\n",
    "  if label not in label_to_counts:\n",
    "    label_to_counts[label] = 0\n",
    "  label_to_counts[label] += 1\n",
    "\n",
    "# get a list of label counts\n",
    "counts = label_to_counts.values()\n",
    "\n",
    "make_hist(counts, 20,\n",
    "          title='Number of Labels Per Class in Train',\n",
    "          ylabel='Frequency',\n",
    "          xlabel='Number of Labels Per Class',\n",
    "          yscale='log',\n",
    "          color='C1')"
   ]
  },
  {
   "cell_type": "markdown",
   "metadata": {
    "id": "ZM_JDiDkcvPu"
   },
   "source": [
    "### Tokenize Data"
   ]
  },
  {
   "cell_type": "code",
   "execution_count": 21,
   "metadata": {
    "id": "f46GwtL2ijUe"
   },
   "outputs": [],
   "source": [
    "# seqs = seqs[:2]\n",
    "# labels = labels[:2]"
   ]
  },
  {
   "cell_type": "code",
   "execution_count": 22,
   "metadata": {
    "id": "OJ1r6VhD1Ef9"
   },
   "outputs": [
    {
     "data": {
      "text/plain": [
       "[('A', 'C'), ('A', 'G'), ('A', 'T'), ('C', 'G'), ('C', 'T'), ('G', 'T')]"
      ]
     },
     "execution_count": 22,
     "metadata": {},
     "output_type": "execute_result"
    }
   ],
   "source": [
    "bases = ['A', 'C', 'G', 'T']\n",
    "list(itertools.combinations(bases, 2))"
   ]
  },
  {
   "cell_type": "code",
   "execution_count": 31,
   "metadata": {},
   "outputs": [],
   "source": [
    "def prep_data(seqs, cutoff_len=None, kmer_size=None):\n",
    "    '''\n",
    "    prepares data and returns train-dataloader and test_dataloader\n",
    "    given the cutoff_len. \n",
    "    If no cutoff_len is given, will not cut sequences.\n",
    "    If no kmer_size is given, will not convert to kmers. Otherwise\n",
    "    will conver to kmers of that length.\n",
    "    '''\n",
    "    \n",
    "    # cutting off sequences to given length\n",
    "    if not cutoff_len is None:\n",
    "        seqs = [seq[:cutoff_len] for seq in seqs]  \n",
    "        \n",
    "    # prepare kmers\n",
    "    if not kmer_size is None:\n",
    "        seqs = prepare_kmers(seqs, kmer_size)\n",
    "        \n",
    "    # tokenizing and getting a vocab\n",
    "    tokenized_seqs, voc2ind = prepare_data(seqs)\n",
    "    print(\"data prepared\")\n",
    "    \n",
    "    # if we are preparing kmers, we need to make sure we include\n",
    "    # kmers that are not included in the input sequences so that if we\n",
    "    # read in sequences with new k-mers\n",
    "    # basically will add new kmers to voc2ind (dict) a \n",
    "    # dictionary where keys are letters, values are the corresponding token\n",
    "    if not kmer_size is None:\n",
    "        # get all kmers\n",
    "        bases = ['A', 'C', 'G', 'T']\n",
    "        all_kmers = itertools.combinations(bases, kmer_size)\n",
    "        # add them into voc2ind if not present\n",
    "        i = len(voc2ind)\n",
    "        for kmer in all_kmers:\n",
    "            if kmer not in voc2ind:\n",
    "                voc2ind[kmer] = i\n",
    "                i += 1\n",
    "                \n",
    "    # padding\n",
    "    tokenized_seqs = pad(tokenized_seqs, voc2ind)\n",
    "    print(\"tokenized sequenced\")\n",
    "\n",
    "    # tokenizing labels\n",
    "    tokenized_labels, label2token = prepare_labels(labels)\n",
    "    print('tokenized labels')\n",
    "\n",
    "    print()\n",
    "\n",
    "    # Showing the result of this:\n",
    "    print(\"\\n\", tokenized_seqs, \n",
    "          \"\\n\\n\", voc2ind, \n",
    "          \"\\n\\n\", label_to_count(labels))\n",
    "\n",
    "    # Train Test Split\n",
    "    train_inputs, test_inputs, train_labels, test_labels = train_test_split(\n",
    "        tokenized_seqs, tokenized_labels, test_size=0.1, random_state=42)\n",
    "\n",
    "    # Load data to PyTorch DataLoader\n",
    "    train_dataloader, test_dataloader = data_loader(train_inputs, test_inputs, \n",
    "                                                    train_labels, test_labels, \n",
    "                                                    batch_size=50)\n",
    "    \n",
    "    return train_dataloader, test_dataloader, seqs, voc2ind, tokenized_seqs, labels"
   ]
  },
  {
   "cell_type": "code",
   "execution_count": 32,
   "metadata": {},
   "outputs": [
    {
     "name": "stdout",
     "output_type": "stream",
     "text": [
      "data prepared\n",
      "Finding Max Sequence Length\n",
      "Max sequence length found: 100\n",
      "Min sequence length found: 20\n",
      "Begin Padding\n",
      "Change to a numpy array\n",
      "tokenized sequenced\n",
      "Begin prepare labels\n",
      "tokenized labels\n",
      "\n",
      "\n",
      " [[1. 2. 3. ... 3. 4. 4.]\n",
      " [4. 1. 3. ... 3. 1. 1.]\n",
      " [5. 5. 1. ... 3. 4. 4.]\n",
      " ...\n",
      " [1. 1. 4. ... 4. 1. 1.]\n",
      " [1. 3. 2. ... 4. 1. 1.]\n",
      " [3. 4. 4. ... 4. 1. 3.]] \n",
      "\n",
      " {'<pad>': 0, 'C': 1, 'A': 2, 'T': 3, 'G': 4, 'N': 5} \n",
      "\n",
      " {'RYUA3GVO': 51, 'UK4B4I7A': 23, 'YMHGXK99': 422, '9HRDSOST': 15, 'L905DK46': 5, 'YKXRSB4N': 100, 'I7FXTVDP': 8286, 'FRX9XJYW': 261, 'JO1WTZOB': 28, 'THW6JGC7': 133, 'B2BULVFH': 23, '3N169DM2': 6, '3EARN0Z7': 5, 'Q1D88JO2': 6, 'HVXSID0M': 31, 'W1STLS0T': 456, '5PC2F8NE': 34, '97PR85CP': 23, 'MQQTIYIC': 10, 'ZT1IP3T6': 26, '4PKCMX7O': 25, '3TUFYWQN': 9, '9U0DELRD': 61, 'ZB862XHR': 28, 'H9RBDN30': 20, 'NMQKJMH3': 16, 'T8R673OI': 8, 'EYOJGC9T': 98, '1B9BJ2IP': 7, 'Y5YH740Y': 7, 'REKW7MRF': 13, 'F3D2JAYU': 43, '7QF2VB5B': 166, 'QYBCIW4J': 5, '3MDRJUI2': 12, '459BZKP3': 91, 'IZD0O5Q0': 57, 'V5C3CWTK': 17, 'PY8VPVM5': 76, 'IOKPSO7K': 23, 'FN38BX60': 40, '13LZE1F7': 6, 'KRS7ST1L': 16, 'RSMDF425': 110, 'THD393NW': 625, '36XLYYGZ': 9, 'NKRRLD5O': 22, '8T12OXHS': 204, '3FPH0N6R': 9, 'ON2CU60C': 19, 'RKJHZGDQ': 2732, 'FXBIP7LS': 16, 'TBJE6V15': 17, 'DEWKAO5I': 11, 'ZEB7PDQK': 79, 'KB0YFLBH': 48, 'BBZJCYJ0': 31, 'E5OB5QF1': 64, 'IYKXT23R': 48, 'BV8D4RYV': 7, 'ND88CY09': 11, 'SBWHI6Y6': 12, 'IBBLXRDR': 17, 'D8OQ3YNK': 52, 'SU06AE5D': 113, 'ZIGUIE0J': 6, 'WL3FJI96': 48, 'U6TNOS7M': 16, 'A1738D1Z': 28, '38MDETY1': 16, 'COVE5WRD': 13, 'KSFFKSV7': 340, '9DKQF2I2': 9, 'WZX61W39': 35, 'S15Z6XG6': 118, 'A0Z7XCDN': 52, 'HY9DN23J': 17, 'K4AGNZ3R': 14, '6QUCW04X': 12, '1K11RCST': 75, 'H48Y5BOY': 24, 'AHMVJ2VP': 53, '4LCFACE1': 37, 'QZ8BT14M': 359, 'JS1KUAD6': 20, 'ZFBSIW7Q': 10, '5SGMS705': 36, '669R7ER0': 34, 'IMFV7GM3': 59, 'QT44Y8VV': 39, 'JB8JTFSG': 10, 'KMPCXZUY': 37, 'WG7S6W2T': 20, 'M4V0NJ97': 76, 'JPO7CTQP': 9, 'WK162QYQ': 24, 'UH5Z524P': 71, '4QK5ZDHA': 25, '34TE1Q0A': 18, 'Y81SHRRC': 19, 'MGQBELNN': 49, 'K1DU5H0C': 16, '5PR9OSRS': 42, '5Q9ETXJL': 46, 'VFOEJ2CS': 8, 'SRZSX1LR': 38, 'J339EI56': 111, 'U49ISLNE': 6, 'SLVO27W6': 42, 'MQKR83SM': 221, 'FN1RKQ2M': 7, 'ZZJVE4HO': 193, '00Q4V31T': 17, '0XPTGGLP': 44, 'Z1Y066QU': 12, '3MX1D3LD': 8, '8FZMCIFG': 29, 'GHG5MDER': 128, 'WM9JWC4B': 114, 'LQ6K46C8': 25, 'FH8TEJI1': 29, 'OYRI4NVE': 10, '55HTZ7T0': 210, 'RIEIBCRF': 21, '5ASQZ0OT': 118, 'ZLSXM0KN': 11, 'Z80NVAXF': 19, 'ZQ5A6IY9': 14, 'IS75OD95': 10, 'W9QZOUW7': 141, 'Z1C99MVU': 10, 'FRK40JVP': 11, 'IZSQDCWP': 10, 'Q2K8NHZY': 973, '3C2VZQ2R': 383, '558GIQ68': 21, 'V1YVL2DL': 6, 'QJMUUPFK': 65, 'TWH1XFPL': 12, '6TTWEXT3': 130, '3YAQWNBK': 8, 'JQ7Z5Q44': 30, 'WUR2UJYP': 14, 'A3QUOXIX': 27, 'ZCU48L3S': 98, 'HVAG84XI': 10, '46AZ97U9': 157, 'B9H5SLHK': 21, 'IM2JLO1B': 157, 'BHW9ILRC': 40, 'YDPNP1KR': 77, 'TBUHVONI': 9, '6UI9XACW': 7, '5LH9NUMK': 17, 'SEH3FI81': 106, 'SHKNA9S1': 20, 'QNQQVRNB': 129, 'OKI0Z2UO': 9, '86ET7WW4': 144, '904V6V2S': 20, 'GDV3S3ZG': 8, 'VOT8OKU2': 171, '1AP294AT': 16, 'H3D82ATM': 16, '27OS3BTP': 42, 'PQZ6Z3YJ': 19, '9ZTEQPA4': 35, 'X0VJJXGQ': 35, 'CBCQST29': 37, 'S2ZYVBUF': 10, 'SLG5DZG2': 9, 'BQJ79YS3': 11, '0PJ91ZT6': 93, 'RHSAJGR1': 7, 'RFUY4U4W': 110, '0NP55E93': 35, '579G0TJI': 26, '3EYBG174': 21, '7OV5K86R': 115, 'RQUURTUT': 13, 'Q3O4J4HB': 12, 'BN8BMXPM': 7, '1KC6XYO6': 37, 'E4EF2K0A': 53, '4X2RTV2D': 8, '6LQ0W02R': 8, 'XP5B8615': 18, 'LHMKC873': 10, 'M59DNUXD': 8, 'J648LM1S': 14, '9YM3QINZ': 38, 'CENOJ84D': 136, 'SD7VPKVQ': 18, 'UNAGKRY0': 10, 'XY9JOM6L': 208, '25UVYUID': 45, 'PGWZZALU': 12, 'PFNRAGJP': 25, 'BHKOO62U': 83, 'QQFF3LO5': 51, 'ED0OS5OF': 53, 'L5AMS3QT': 10, '71R7TM8L': 5, 'Z7ZKDLZG': 106, 'NDZT8PV3': 5, 'WM3Q8LBC': 4, 'SDNECLRB': 11, 'UFTYVG6Y': 48, '8IPYO6SS': 36, 'F3S4VUQI': 18, 'AOQQU910': 26, '2MCB7LXW': 14, 'D3KJQCYH': 37, '81QAZACE': 45, 'YW85XPTE': 16, '8ZB99KHH': 67, '1UOA7CA1': 11, 'NYI75N90': 45, 'X2PFPX2S': 29, 'ILKPIFSA': 21, 'EZ40BRHE': 31, '9Y5EWA8O': 177, 'CKDZNQV2': 15, 'OKWROFEH': 10, 'CNX48K3H': 11, '10TEBWK2': 64, 'ZEJOQQJF': 54, 'VGWO9SBA': 214, '8HI3GY44': 12, '24SL2992': 7, 'BWFN4ZI7': 152, 'Q1M9RXYR': 20, 'OUA1CRWO': 28, 'BV6PVSO5': 5, 'U69N21WU': 12, 'YGFI5B9G': 6, 'GJKR73YA': 174, 'ZU6860XU': 10, 'X6497O49': 8, 'K3QD4AHX': 33, '7YSTNZME': 55, 'LVXSGLT6': 17, 'SM3HAKL8': 21, 'IMVSI4VW': 16, '3BGLF8BC': 6, 'QZ1V5GME': 10, '8G29TDOS': 93, 'NR26DCAB': 10, 'CA0MBQ9S': 124, 'L78GOBQS': 49, 'SEVOI9NR': 8, 'KDZ388UF': 358, 'TWV05PEP': 63, 'IP9XMFII': 21, 'IGHBC70Q': 13, 'PRU3JF6Y': 13, 'COEMYLH1': 9, 'KGMINGSB': 46, '0N3V9P9M': 48, 'URO46KFW': 32, 'URY1ZVZI': 45, 'AATDRXYQ': 6, 'C35C2C2W': 16, '11TTDKTM': 29, 'UMDZG9XM': 9, 'UYLJZRPN': 5, 'Z8BWVZZX': 6, 'CAO2H0WE': 7, 'E6TPDVWA': 66, '8SW7WFE6': 125, '0W6O08VX': 18, 'ER1IJR80': 35, 'QZD4I9UW': 63, 'ELX1D1DS': 13, 'NUOEY3LD': 8, 'ZMUIMBDX': 60, '5AUVXXDU': 10, '38MEQ4SU': 12, '1NXRMDN6': 11, 'UHU62P41': 12, 'WTYMIZ88': 39, 'GLUZC5HC': 14, '4WRI77CU': 17, 'V8MF2IKQ': 74, 'FJTJ4KY0': 10, '8HW91I4K': 15, '1DJ9L58E': 6, '62PKSARW': 11, 'ONPQ2I44': 88, 'FLHGDG0P': 24, 'YWQZUSA8': 41, '9WQQKFVK': 11, 'KF32BDPB': 68, 'TRM5SRRW': 69, '49YZILWR': 11, 'WQBN4WGH': 23, 'I0J54PBT': 88, 'NDDT3NOB': 11, '9LSH625Y': 11, 'CK1M5UHL': 7, 'HT51BMN1': 10, 'LYY8P69T': 27, '6YSX60MZ': 9, 'OPPRIPN9': 10, 'HX5NMCPJ': 65, '0A9M05NC': 17, 'RD5YXSBA': 17, '8Z6SANMH': 60, 'ELF2BN3S': 24, '8F0XPAZX': 5, 'GB45D1XV': 11, 'MUO5QBB6': 22, 'YHUR7HZ6': 6, 'EQPB3YTZ': 16, 'UVXQ3O4K': 15, 'H0WSDLJE': 9, 'V04Z48C3': 28, 'N5X3YG2I': 80, 'CZUGPH88': 7, '2GSZMU46': 14, 'GSK9JT39': 6, 'JUC55NLK': 7, 'WUARWGNF': 25, '4GF31RCS': 26, 'ZGY1YZ7P': 7, '1TC200QC': 8, 'PONI61NE': 9, 'TYQ2T01H': 53, 'RD62G56Y': 31, '1DTDCRUO': 32, 'FHZYKEUV': 319, 'GLOJFBA0': 12, 'LHNLO8Q8': 57, 'U2C1NG0D': 18, 'VDYHUCQB': 11, 'KWH2Y6KA': 17, '8C9737JL': 7, '3C952KY7': 22, 'WX0HMR4F': 37, 'MV1CMX4O': 21, 'NUYVBFLU': 7, 'W184Y53L': 30, 'KU0G64D0': 43, 'M3B15QGL': 72, '8C0T09C6': 133, 'EW4ZXWSN': 57, 'WTFS8JV2': 7, 'IJEA3NUI': 74, 'D0NFHXL2': 25, 'GUWYJRRS': 39, 'UFEO02VM': 27, 'FNKCHGB7': 9, 'V4RKPN30': 44, 'VKU9G6Y5': 8, '8WAY3T1E': 42, 'A4BM0B6A': 5, 'CFOET28L': 5, 'FNM1Z945': 12, '57NGF1YS': 10, 'CB714TAM': 10, '4LQ8L195': 23, '4M3XG8RC': 27, 'LXBPBCS3': 12, 'B517ID6W': 13, 'BLFM4YKK': 32, 'UMM76IOX': 29, 'R830GQGO': 7, 'BY5IEG4O': 48, '8MUKKVMF': 9, 'TZ8JAEO6': 13, '20ABQYHS': 12, 'US8KF8X3': 7, 'WAL364PD': 6, '8EKC599S': 10, 'XHQPAVRU': 34, '0B9GCUVV': 571, 'NRRH4BON': 6, 'QASMCASJ': 12, '4RHLX089': 5, 'NWE84W10': 6, 'YQITW66D': 19, 'RZPT9APG': 9, 'O7NEA7KO': 56, 'FSR0IC6I': 27, '09MQV1TY': 20, 'D10S0UDQ': 10, 'N7BY4DKZ': 50, 'T9LSOTV6': 379, '1S515B69': 490, 'B8YR9IIK': 65, 'HGN5HD65': 5, 'ZIJRW95G': 7, '6NKNB308': 25, 'SWHE2RH1': 11, 'CDU1LWN3': 38, '4J7KEYE2': 33, 'EA2DKNTD': 36, 'I5RNBXF3': 41, 'CFQ9PAJA': 11, 'ID37U3DA': 194, 'A2A1R52R': 12, 'J1UFMOCR': 15, 'FMJ19E48': 14, 'SGIINS2G': 33, 'GWJ0A1IK': 25, '0FFBBVE1': 682, '9G5XH4HI': 9, '5SCOFTY2': 8, 'ULOHU3PC': 548, 'GWP6E8FA': 27, 'QSLQZQH2': 8, 'MLGLKKI7': 9, 'EI8B4WEC': 6, 'QR91QBR2': 35, 'UEZVPK90': 10, '6UXF7L28': 7, '8US76O46': 23, '5CBNCRST': 5, 'M2R84KMY': 42, '74RXUGS4': 49, 'TFTOGJOD': 23, '8OBT3FSQ': 13, 'S5CBU2AX': 5, '2VX4F6RC': 10, 'A2U1AIC1': 12, 'CY64689U': 14, '0L3Y6ZB2': 1, '0T2AZBD6': 27, 'PS6MZN15': 10, 'OKK933IV': 6, 'PSY58O49': 14, '1UU0CHTK': 22, 'NPWC1BXV': 17, 'B131HDBV': 11, 'PV7QTHJV': 21, 'U2C2VVY8': 13, 'PRYT0A2P': 24, '2Q33W599': 168, 'G4UJDFPK': 14, 'RASRCD7I': 21, 'IO2FYB6G': 302, 'X4WO7LHO': 8, 'INELF20P': 8, '3RK54JUW': 9, 'BTQL3UFQ': 7, '7ZV0Z1T9': 14, 'DEFNZK0A': 8, 'GBX3MNVS': 10, 'RZPGGEG4': 4, '384ASNLB': 11, '7GWW4637': 367, 'SOPNMXWX': 6, 'UYCX4ZJS': 9, 'QVAZPYQ8': 333, 'M9265ASV': 18, 'U6DS14AT': 53, 'NIRCF0RK': 43, '7185O9V8': 44, 'E8100WU0': 25, '40ZI3TDN': 112, '747XMBIJ': 15, 'ZBQD50GN': 164, 'KFWFMIUK': 20, 'PW7GT7TE': 8, 'I5L6E1U2': 12, 'LUI0TOT2': 5, 'PKC5LJ6W': 69, 'N8X63KYC': 12, 'S2PFIP6S': 9, 'VKN3L279': 32, 'D0EKC82X': 7, 'JZ2KQL0P': 9, '2Y9L13L4': 8, 'SQB9N47Y': 47, 'ZX06ZDZN': 9, 'PJYVLL0Z': 21, 'QVAHXT35': 12, '0R296F9R': 7, 'LGEAIIK8': 71, '2NEXWXMT': 9, '68OY1RK5': 4, 'BJKTDFN4': 36, 'S824JJ06': 8, 'NT9Y0D19': 552, 'AR433PVR': 116, 'SBQXQOPV': 5, 'ON9AXMKF': 1, '8VI1RY3M': 9, 'ZSHS4VJZ': 20, '2SSVM7H9': 21, '6WD2LIHN': 17, 'CBFKYZ9S': 23, '14PBN8C2': 10, 'DD0JBK3T': 15, '7ANCD9AK': 13, 'JS59HL6M': 12, 'F8LNIZ27': 49, 'MB9HHEPN': 13, 'QNE79S52': 5, 'SEAEY0CN': 16, 'JKUCC6UK': 8, 'KVLIE219': 14, 'BH7HW7XH': 5, 'INJ6L6NB': 6, '9R765PJF': 11, 'VAGUTU8C': 20, 'RBMLZBYW': 76, '4KSHU5M7': 6, 'IDXJ25FE': 10, 'S7345IVO': 25, 'TNR495LD': 473, 'JDENEZ6I': 27, '2GGU2QA2': 40, 'WBGCVIO8': 16, 'KV5TCH8S': 12, '8HZXGARR': 58, 'TYJN7K7A': 18, 'X920R0YN': 11, '0HWCWFNU': 8, '4DGMNDIC': 6, 'SGAZ5VOA': 14, 'KUGU9MQC': 14, '4E7187A9': 14, 'U47IUY9C': 10, 'D2N5DOSQ': 9, '343M819H': 35, 'OOKK1JHN': 21, '1VPOX8VI': 17, '7TYZHD5J': 12, '1BE35FI1': 33, 'O1LMIA6M': 8, '443NZOSB': 28, '0CML4B5I': 69, 'MZOM2K35': 10, 'KJJYCUJ7': 8, '65CCBIXK': 60, 'FZ37IFWH': 48, 'E4T4IQMG': 36, 'LPBA27LH': 13, 'JC35D8WT': 20, '91Z8RRSB': 13, '39LLQ2PB': 17, '7O3PWIL0': 15, 'YQ3L8TWE': 48, 'JRDHZ51W': 11, 'EKHYS325': 10, 'HTXABMRS': 10, 'WL8VMHWG': 12, 'OVPHRVOD': 30, '58BSUZQB': 3, '2GTLIT33': 25, '1EDZ6CA7': 8, 'DGQ2L6KM': 12, '8H6M75LF': 9, 'BL2TLVFC': 35, '0DTHTJLJ': 19, '2L336TQL': 5, 'IL47R85Z': 117, '7QEORFJN': 61, '7XPDUYJE': 15, '3TXFYNKG': 502, '15S88O4Q': 16, 'MQRIDTFZ': 21, '2H37WPKA': 10, '0CL7QVG8': 8, 'CFDEOSH4': 9, '298AMR5C': 172, '8JKDTT0Y': 14, '99A19JAD': 8, '35MKXPL0': 173, '9KV8R3HP': 20, 'TJLVHJ87': 7, 'R6QNKUC4': 25, 'L0FS3EPM': 6, 'EBF1G8Z7': 9, 'LM6LV3JB': 67, 'U8FRHWSV': 7, '131RRHBV': 710, '6WT1F4RJ': 16, 'F50DBVIK': 34, 'EL9FN1LB': 12, 'P8PW7Q1Q': 34, '3NSJ6N02': 115, '4U5LAAN5': 7, 'A810BWR5': 98, 'U74I1JYB': 8, 'SFPE2DX4': 52, 'U2VWRM3F': 10, 'I1RQMFZC': 26, 'YEZ30YUQ': 7, 'B1I4L0XW': 18, '0WHP4PPK': 20, 'I6B3VKYD': 36, '709K4VRB': 7, 'PNWFSSF0': 43, 'MBQUJESG': 11, 'CYCSYMQ3': 12, 'O5PJEO54': 8, 'RRIG3SH3': 10, 'NNNIMDVI': 8, 'RF45YZMF': 15, 'EN78WKI4': 13, 'LKC4LOOM': 13, 'NK0S2WH6': 9, 'YTGT3GEX': 17, '4WAQ4VFB': 12, 'Y575VUS1': 99, 'AOFJN8HX': 7, 'GJPI1WIV': 15, '5H71LUBY': 12, 'G57JANUL': 62, 'HV6GZXC3': 31, 'A1A8EROR': 11, 'RE7IER1C': 18, 'J9M11KX1': 8, 'ADB7SAPN': 8, 'HNGYSI62': 11, 'GKY7BZOQ': 10, 'Y620TYKH': 15, 'VFCTUL5J': 8, 'KG943QKP': 43, 'AMV4U0A0': 664, 'WNEX0Y1X': 8, 'N764BFJU': 11, '7T28F53W': 52, 'LU684LJ9': 26, 'H12S8X2Q': 6, '330L4OIV': 115, '8FT6HD4D': 13, 'UFAQZXPY': 61, 'WRDZ1CVS': 31, 'CAQEITX6': 28, '3D9CMQ4V': 6, '318RH8P0': 7, '738FBTIL': 284, 'DSE2G8LF': 6, '1ZC8RPN1': 8, 'HHSIC4NY': 24, 'EZMV5TKG': 6, 'ABWCZWFU': 16, 'LNTF6KP8': 10, 'YP4WCV92': 11, 'CBKRHK4I': 10, '2TVMHQTW': 8, '7E63E5RD': 19, '7DMNXU84': 10, 'CJFLQNE1': 6, '82NXGO4K': 11, 'YHX2594T': 10, 'KKG07XA9': 7, 'JRRTJ3GV': 9, '5ZB8I3T0': 9, 'L2UTYYJT': 43, 'ABMAPCYN': 21, 'V6X2Z58S': 54, 'G81LO0AZ': 9, 'QJ5LYZHA': 6, 'G2P73NZ0': 3, 'XCWSW5T9': 4, 'A8FZHMOS': 51, 'JVWQ5HEJ': 24, 'P361G1OD': 95, '9MG50RM7': 12, 'AUZNSS79': 98, 'PYX7I7X5': 17, 'M9PHW06O': 22, '2M3CXS8N': 7, '4Y4DT3SL': 7, 'KH4VOX9Q': 29, 'TCKOTGYJ': 35, 'CTLP20Y9': 9, 'MIUE47ZL': 7, 'BPT27UPE': 19, 'NBCZC85X': 16, 'LL11R5T6': 21, 'YFSGJUTL': 24, 'YTOOMPZ8': 94, 'HVZMFFNW': 22, '8ORZZFA7': 101, 'YCNWCC0Z': 6, '5FUDT1QA': 14, 'PHQEJTNO': 38, 'E3FFACSU': 12, 'UAY0HW9A': 8, 'E7CPRIYW': 10, 'K57LN37R': 14, 'ML5W6LDB': 12, '8VCFY56I': 12, '1OQJ21E9': 52, '21ZFBX5E': 32, 'WWDAZG6C': 22, '7KG191H8': 17, 'JWVCJ3UR': 32, '7MUAYEHW': 26, '909V5A2H': 27, 'WD8MHX8N': 19, '2YLQA8OZ': 23, 'TZL79DYX': 10, 'LGTP4O86': 4, 'KUH39TQR': 10, '44N2CYI9': 6, 'OL1HWRRD': 135, 'VW6ZY2L1': 16, 'IO56YRTG': 34, 'Y73L2QKM': 8, 'DGE8LLAJ': 7, 'E6G69ESA': 14, 'BNFZZTKX': 52, 'U5966IDO': 34, '8ECLELF1': 21, 'ICRBJL24': 14, 'UBXL2EGE': 28, 'SSVDNEY9': 247, '3KCEM7V4': 55, 'QUFMTUB3': 25, 'HB3OQUA5': 14, '73RKEO3U': 8, 'JWYYB1L5': 8, '78XDAJNS': 5, 'OJ9HCGTB': 8, '4648UZGD': 16, 'DZ2XFGQS': 10, 'BDQOSDFG': 107, 'GZMPRX5J': 41, '3GEXBRC0': 19, 'QC3VEU4P': 70, 'I8U0Q5FP': 31, 'O8E18PJ4': 5, '448QVC4C': 39, 'A6RCKKER': 14, 'I2N7C27Y': 14, 'RBLPDV4R': 65, '0Y24J5G2': 19, 'XSA3Y2H6': 27, '6TT5CXVI': 46, 'KDW3ZVWJ': 9, 'TK932JM1': 13, 'UBO7MS4D': 10, '1VQS4WNS': 10, '36W150XW': 14, 'SUUFTUWK': 14, '9WEGTUIJ': 10, 'RBL3SN1I': 20, '8RIKS696': 13, 'EMJXDINV': 18, 'QV09SDY8': 13, '5V3Z108E': 6, 'Z7YFK3I0': 5, '5BTY65G6': 19, '1KZHNVYR': 4, '6DBY872A': 36, 'K212MH7P': 8, 'AUUSW2YZ': 24, '0M44GDO8': 7, 'BSH6LB19': 9, '49571DXY': 31, 'EMNH5MYX': 38, '9JRKFKVC': 9, 'VO0ATBFS': 87, 'OCJ3W2EF': 8, 'DY0KIZZ9': 12, '9MEFUZQN': 11, 'P3Q11IAK': 37, '93WIIL7Y': 7, '4S1LIWGV': 31, 'WDNYZZHJ': 7, '1PIGWQFY': 27, 'LXOZJ3TV': 8, 'JSEGAB8K': 21, 'BLNELN02': 12, '4IADYZ8R': 37, 'A1J0YXZX': 24, 'BD9EXLDM': 9, 'OML0TEF3': 10, '4CKAV3LS': 7, 'WB78G3XF': 2, 'SEX60YJE': 9, 'J3YKGOCX': 8, 'AOCCEP3S': 6, 'JYZ82A2B': 7, 'SZ0MR59K': 30, 'KKIO1X0Z': 7, '6XVBD39G': 27, 'J0NVCXDJ': 21, 'GTVTUGVY': 2672, '0VRP2DI6': 7, 'JICWX3AS': 228, 'FRFT0H8N': 56, 'JT4GYL2P': 10, '8VLB2R3D': 93, 'RP37N5WN': 12, '1X0VC0O1': 7, 'N0FDUY5E': 11, '92WF5WVN': 14, '3XE0BJDW': 17, '1PA232PA': 10, '2JPNC9X6': 5, '4IDTMY10': 8, 'UMOD7PGG': 4, 'Y3HA6UDE': 8, '3QP4D23X': 7, '7WKS90AG': 18, 'JQJ499YN': 15, 'U2OZU4IY': 18, 'PIT16TZ9': 20, 'GS8G1IFF': 6, 'EJXP2QAW': 15, 'AMSPTQVJ': 12, 'VDSDXJ71': 4, 'XV32YHEZ': 19, 'HGPS0FQN': 164, 'L76WWQ74': 75, 'QQR3SE8Y': 15, 'M46L0EBU': 6, 'CDM3SRRP': 11, 'K83DA8K5': 18, '1TI4HS4X': 8, 'O69KS0OS': 29, 'BDSEVK9M': 19, 'IQPZXRU2': 16, 'VGCXUCRO': 37, '216DWMG6': 31, 'O3M287V6': 11, 'AL7N3DL2': 8, '5W2PCT95': 48, '7PWA4ZJN': 6, 'G7MXLRV8': 12, 'WHLUO40S': 14, 'CEATO4LM': 7, '8ABA3MWO': 7, 'ICDP084U': 7, '6UGWNYCX': 12, 'XE4D68OI': 28, 'TD593FIM': 11, 'BZBNZDNS': 11, 'Q35PXLRT': 57, '2FCX4O0X': 22, '6KT0EAKX': 8, 'CRP30ATM': 6, 'QL3AU1NN': 43, '3L314D8W': 10, 'Y4X5JU76': 8, 'YEA0ZZZP': 16, 'ZMEZU4BS': 20, 'A7CK3WNB': 6, '2YCH1PUI': 5, 'NTLCS343': 7, 'UJNF3UO2': 6, '3LSNTL1N': 7, 'J70NZZIW': 7, 'DKA65CRR': 17, 'JJBJFUAT': 31, 'POKTJVRL': 11, 'GUCIE6TT': 14, '6AT20D5S': 10, '7NGLQ1CA': 9, 'NKPC0Z4Q': 7, 'SYQSKHN2': 26, '1XU60MET': 44, 'M2HPA1EK': 9, 'XD80LQN2': 8, '3FW33G68': 9, 'JRBK08H6': 108, '6SBB6IL2': 30, '3X2GGDHW': 42, 'R2O5C424': 53, '7UU8O65I': 9, 'S0Z5J1EW': 86, 'L3OPGJO5': 36, 'WQ1DVVYG': 12, 'ZB6DPIG5': 8, 'Q21CAL4Z': 7, 'D63K976U': 15, '3O1GIAV7': 50, 'AOFPYGHC': 9, 'V3JDHWOB': 8, 'ZEBTRK7D': 7, '1KNFJ6KQ': 39, 'IUJPYIRX': 6, '9MC0DPDJ': 7, 'J7PWRE94': 11, 'ZOI7FJEN': 26, 'K1K1AESM': 16, 'OB97CO94': 14, '29D6Q091': 53, 'X9RNN0YD': 10, 'ACO8WWPF': 13, '54ZFOPSF': 6, 'IOOQONCI': 29, 'R1BX2NZI': 19, '6E28DNQK': 53, 'ST2DCNR0': 50, '5QY2HU8J': 11, 'E59C5N01': 5, '4VHMF1RI': 16, '9IVIPDX5': 73, 'U5ZJCLCX': 134, 'AOKRU4AF': 59, '1OWZDF82': 12, 'EJ3T17DB': 5, 'UC094GDG': 7, 'C1BIUBL5': 10, 'AUCMR8HU': 39, 'JZTRRSKQ': 31, '1Q1IUY3G': 23, '4DGGCYVE': 45, 'RZCRWMTU': 10, 'LUHRMKEB': 5, 'QPA31HRW': 16, '3YYEC52Y': 7, 'VHPX9GYO': 14, 'JNB98WP1': 11, '3TLD81QQ': 9, 'HRWBEBRE': 15, '4RCA1UZG': 6, 'W7WRIFC0': 13, 'HVBBJM37': 89, '74TS5KG4': 20, 'FPH5H8JT': 94, 'EEC8D29F': 47, 'B832TQ6U': 45, '1UREJUSJ': 106, 'R3AAYF7V': 23, 'G6MP6EIN': 5, '9GDHC3D0': 24, 'WK4NBYSB': 13, '60HBQEP8': 22, '20CEB9KE': 83, '40MD0YZ3': 17, 'WZZLL8O4': 91, 'ZAYLY2YU': 9, '0XS4FHP3': 17, 'P4H26KKX': 9, 'HVN93I56': 15, 'JXDP2C4M': 11, 'XYB5NWR4': 5, '64FFXH4M': 7, 'A3FZPLM1': 18, '15D0Z97U': 6, 'VRZZPHI4': 13, 'TIAPP57M': 119, 'A78F2YFJ': 13, 'Q2LO2OGN': 15, 'CTJGWLX0': 6, '1HCQTAYT': 11, '9DBCRJYM': 80, '5K2PTY6L': 147, 'INDCDVP0': 4, 'ZH6LR5MO': 8, 'L27ULB0P': 10, '03Y3W51H': 345, '862RYK1K': 11, 'GYCOAVYS': 14, 'F1X6DMDH': 12, 'KM3OV97R': 7, '2VTLZHDS': 21, 'TUO2TVTX': 140, 'ZC07UYVV': 45, 'F8I0DT7Z': 24, 'ZUI6TDWV': 9, 'XTKRJ8N6': 10, 'L2HRYP1A': 76, 'AM8AJH2H': 32, 'LWQ8FULT': 6, 'M2W28OUV': 18, '57FHO8YC': 22, 'SR345GAS': 32, 'HQC2OFGM': 56, 'IOPR6B78': 25, '0A4AHRCT': 21, '48F0EUVN': 18, '7X3RSRT5': 15, '33AR5KVE': 17, '2KDACBQT': 7, 'D4PJE56U': 31, 'AV7ONIVD': 8, 'JZ1RSLKQ': 27, '638UYIQC': 62, 'DE6NAU7D': 18, '9QQZ79I6': 16, 'YE9BU3J3': 18, 'RFYO6TO0': 12, 'Y324NGPN': 27, 'ISMP5LYF': 10, 'EFKGYR79': 30, '52Y9GFGK': 7, 'UCVUALGM': 6, 'UNE947CO': 18, 'LPQY1SEL': 241, 'AAURK3RG': 26, '5BNUT8AW': 8, 'A0ADXLZU': 332, 'BSEEWS00': 10, 'IH12MVU4': 7, '8MW998Z0': 7, 'GM3HKY2J': 16, 'EOQAQ9X1': 75, 'XPQ9IYZC': 56, 'JQ4YBT3Z': 201, 'CWZP8AQK': 31, 'POZMOX9T': 38, 'NX7I9PQG': 6, '6QBXXYN4': 8, '2XX0N87I': 9, 'HODOBX62': 20, 'LDCSZOKC': 6, '4GHCND6Z': 8, 'NUSJ1NGL': 31, 'HX2XDS73': 11, 'YMWK7JKH': 71, '8BF8ANNO': 7, '9MZBKXJF': 16, 'JZS556ZA': 26, 'F0ESSJYM': 49, '1IXFZ3HO': 43, '9SJCUIKS': 15, 'PMCWG8N5': 8, 'LKR5NGJZ': 53, 'JL1OZP2G': 36, 'SNZP9G8K': 11, '9XE0FL8P': 46, '6T9SGGS1': 14, '3EZXYI3U': 17, 'R1OFLDKQ': 28, 'TE1TWCPZ': 6, 'B4L9R8JU': 11, 'T18CGW8H': 10, 'TGPPSF7M': 9, 'YLS2HEMR': 6, 'B17J3JSX': 7, 'Q5V3EKJC': 6, 'ZU75P59K': 67, '2BAFY4GP': 9, 'IIWFYXGG': 7, 'BBTA1L43': 8, '18C9J8EH': 9, 'R67AMR4P': 25, 'J5WRC3DJ': 9, 'UCC4KYQL': 14, 'M1CZ7MK8': 6, 'T5R7YFPH': 6, 'TTU1NVDI': 11, 'OERPDTWW': 7, 'UBWK5LJH': 10, 'SNNICLKQ': 15, '2PY8K6GU': 10, '39TEZ0C3': 7, 'WSHPKJ3H': 8, '91Y7NKBM': 14, 'EXQZ5V7S': 15, 'MMU3QFIP': 76, 'AWWC1KIV': 9, 'SAONBMNO': 22, 'H3RWZ7UR': 8, 'N5LOOJSR': 57, 'TVQC1R4D': 7, 'QYZ57QTQ': 8, '93R70J1L': 107, 'VJU9EYFE': 31, '03GRNN7N': 4, '7039MMH2': 13, 'BLC9WIIM': 9, 'FHR8UUYO': 13, 'H20JGHP0': 6, 'HCW1Y9QM': 5, 'YCY2FFYZ': 37, 'MJR1CR7U': 59, 'D4Q1QMRJ': 11, 'FEBWERSN': 19, 'NIKHJTWP': 23, 'I2ATV1DI': 30, 'UO4MVLJS': 6, '7XU8ACPI': 14, 'U3QRAT06': 10, 'FWOZ05UZ': 7, '9PWYZMNS': 12, 'HZ5C2E4C': 16, 'LFQ6YRHV': 18, 'XOEVMQZT': 9, 'E8GMEHFW': 19, 'JUYW4QZ1': 16, 'T3KHULCH': 15, 'I9MWC6I3': 50, 'A18S09P2': 1064, 'ML1YCDCG': 7, 'F0MOWJYA': 9, '1CIHYCE4': 16, 'HRFD8R1G': 7, 'HK78MCH7': 14, 'MNV2YSWZ': 18, 'WKYJ6R7D': 14, 'RNSK8HLJ': 44, 'ZEAZQ1QQ': 9, '0URA80CN': 10, 'DRFCUPZO': 9, 'X6LFEBK7': 19, 'ULVU086L': 42, '39TPBOL7': 7, 'PFI6E05S': 6, 'UJSK2U9A': 31, 'UWWS6RWO': 12, '303BN0Z0': 12, '6PXRABDR': 34, '9MC1YKKZ': 11, 'YXKFDH6S': 8, 'PXT3AJ7C': 4, 'A9G8OKRG': 12, 'MH0GC0GY': 5, 'QJJAG1IV': 7, 'VB04AEHZ': 14, 'NWKWVAIA': 13, 'OG01U0FT': 9, 'TI21BGNU': 5, 'WP6H3E2T': 15, 'JAEI655A': 11, 'WG42FGWA': 9, 'K25LXPOI': 88, '012VT4JK': 41, 'LXPTXE5K': 6, 'H1G4FFR7': 23, 'MFZHQ165': 15, 'HI7ZNYCK': 61, 'A768XIWP': 9, '685KTH3G': 8, 'MDCIP8E0': 8, 'ND7I48LA': 14, 'ZU6TVFFU': 44, 'GSNU5TXL': 18, 'TU2W2LCB': 5, 'D7L6VZNV': 6, 'QNKGHIRB': 5, '28D4D4QM': 7, 'MXV7CSHI': 7, '3YEGUN04': 23, 'FLSWA4NU': 18, 'ZMCRIYYJ': 9, 'Y4G53L4X': 19, 'QUUKEGL5': 33, 'JK9C0VN8': 7, '5Z4CMIY5': 5, 'ZQNGGY33': 13, 'Y6EC9YQA': 9, 'YZX8R26H': 7, '2XC1478M': 43, '5X9VNAN3': 8, 'DQGG01WF': 10, 'X4YNMN9Z': 32, 'ETR2SP13': 66, 'U8SWTHB5': 6, '6PS2LHCV': 13, 'LF9AQIHZ': 31, 'ZELU1VMX': 30, 'S768X16I': 81, 'V4A28VLV': 5, 'JN497K3S': 17, '8D4D6M5V': 19, 'GYCY8LCF': 7, 'ZWFD8OHC': 49, '5ZW05824': 61, 'RGD51NW1': 10, 'UYPE34HA': 7, 'QV71AJ91': 22, 'YY5Y32CI': 7, 'N9I581ZL': 18, '4TIT4L5F': 6, 'RZT9JPDV': 6, '2AQG6I31': 11, 'FLU9ZT18': 12, '7IHPTKFF': 29, '2MQ2NPMA': 81, '1LBGAU5Z': 5, 'T4J4YRDK': 14, 'M3MFQNC7': 21, '19CAUKJB': 11, 'D8MRQA91': 7, 'VMU0L6UM': 5, '97FR69TQ': 17, 'VYW7T8YY': 22, '4ZYW54M8': 15, 'G8QWQL1C': 576, 'AG93GZYN': 83, 'FVYCRUFK': 13, '2VP4JPB9': 7, 'DLSU0QRX': 13, '7F905YRZ': 8, 'IPV1W17S': 36, 'MEKV5BRI': 11, 'MEVIH0XF': 14, 'BHNI9DCI': 16, 'UQUIUCVA': 6, 'C4W63WJ2': 15, '8N5EPD5C': 4, 'UKG1R822': 8, 'YL8AOR9Q': 71, 'GKY6ZB15': 18, 'PUECZ8ZI': 22, 'OL59ZZX5': 234, '5OFUVG9U': 158, 'NQVW27OC': 72, '9DRMDPIZ': 71, 'D0YWREJ5': 9, 'MULMC195': 51, 'Y060M6TK': 24, 'FQ8V2QHL': 36, '9HPM9NFY': 21, '8ZB94ICE': 83, '6NCTAA30': 9, 'OUJLF506': 9, 'SIUTK5SR': 6, '5OBD73W0': 25, 'W2DYAZID': 4, 'J3752QSY': 16, 'IPVYEI8G': 10, 'B8FC99WI': 44, '5QLBIUXN': 6, 'LKVB0S84': 148, '4QU07FT7': 163, 'R5B3KVZI': 18, 'EKXAPD70': 7, 'PEUBDA2B': 36, 'L657W1BK': 26, 'JCHNPTSF': 19, 'JC6LUZLT': 13, 'UP3750KB': 6, 'CLO7VQ12': 29, 'OAEZWMZR': 25, 'E7EZD62E': 11, '0MDYJM3H': 15, 'FCI1HZ3G': 39, 'SW00LEHT': 7, '9SSQ1FSY': 12, '69M351P4': 28, '26KK8UM5': 8, 'VZLS9GCK': 11, 'NHNLVWDR': 6, 'EPDX32D3': 6, '5OF7OYEA': 9, '2CJHRNWD': 25, 'BXMEKONO': 35, '5KXWXV9G': 26, 'U0U7F3EW': 6, 'HJNGSDJ5': 8, 'JNU5CAOV': 6, 'TQAA3UHV': 6, 'D1BZRMOB': 9, 'TKLYRWYO': 111, 'JMJD18BP': 20, '7QWHL2C6': 25, 'KMSH5BSO': 7, 'N0CP1NI7': 12, 'J3L1KD1J': 15, 'N8FNYI0A': 10, 'T9ZHWQE9': 13, 'E3CRPQL7': 39, 'B25KOPVH': 35, 'FXRWH0M9': 7, 'RHH1X0A2': 23, 'QEOKKUF1': 8, 'O4VJ2EV7': 15, 'SIUXBYDS': 39, 'U2ZEEFLD': 17, 'SCKCR39J': 7, 'O55K40VQ': 6, '4O39WLXM': 7, '88E6O06E': 8, '6NULQ6KP': 32, 'QTIRUM0G': 9, '2HNZZYDB': 6, 'DJW5U56I': 5, 'GT4RHNUE': 50, 'A44GW57T': 35, '50NBGIOB': 11, 'VE48SF8D': 12, 'KD7N9YDF': 5, 'CHTQ7QLX': 22, 'YWZAEK5A': 24, '8K0HZBL0': 6, 'Z6LWLWFZ': 14, 'XU8GASLQ': 6, 'E3CE5WE9': 19, '028IO5W2': 14, 'MOCIAZ0D': 13, '9KHXMSMW': 22, 'UXK3D4GF': 12, '7SW79VAJ': 22, '1HK4VXP8': 11, '66XSSS3Q': 8, 'EZL4HNHH': 10, 'H5Y73UHQ': 18, 'BP2X9ITX': 22, '2TXY439E': 14, 'I3UODLOR': 5, 'L3RQSW75': 7, 'OEGM98R5': 10, 'A332O9JW': 8, '54C6PEBH': 21, '37VO60SB': 221, 'ZK6YBV02': 14, 'JPI7LZJ3': 42, 'YCD71LRY': 4, 'XP1SRNTB': 7, 'WKRC8NSD': 10, 'DN01XVIU': 5, '78QGAL01': 5, 'XR7GR7UE': 8, '4O5RQHEF': 8, 'L3SSKU27': 15, 'OAPTL0AF': 12, 'XLYFD8RW': 11, 'AS30HPUK': 30, 'XRENDLF1': 36, 'R3QOGZZF': 9, 'I16TS2B4': 63, 'YGFIQ8SA': 30}\n"
     ]
    }
   ],
   "source": [
    "# Example where we'll cut sequences to 100\n",
    "train_dataloader, test_dataloader, new_seqs, voc2ind, tokenized_seqs, labels = prep_data(seqs, \n",
    "                                                                                         cutoff_len=100)"
   ]
  },
  {
   "cell_type": "code",
   "execution_count": 33,
   "metadata": {},
   "outputs": [
    {
     "name": "stdout",
     "output_type": "stream",
     "text": [
      "data prepared\n",
      "Finding Max Sequence Length\n",
      "Max sequence length found: 99\n",
      "Min sequence length found: 19\n",
      "Begin Padding\n",
      "Change to a numpy array\n",
      "tokenized sequenced\n",
      "Begin prepare labels\n",
      "tokenized labels\n",
      "\n",
      "\n",
      " [[ 1.  2.  3. ... 16.  3. 13.]\n",
      " [ 4. 16.  3. ...  5. 10. 14.]\n",
      " [17. 18. 14. ... 16.  3. 13.]\n",
      " ...\n",
      " [14. 12. 13. ...  7.  4. 14.]\n",
      " [16.  6.  7. ... 13.  4. 14.]\n",
      " [ 3. 13.  4. ... 12.  4. 16.]] \n",
      "\n",
      " {'<pad>': 0, ('C', 'A'): 1, ('A', 'T'): 2, ('T', 'G'): 3, ('G', 'C'): 4, ('T', 'T'): 5, ('T', 'A'): 6, ('A', 'G'): 7, ('G', 'T'): 8, ('A', 'A'): 9, ('T', 'C'): 10, ('A', 'C'): 11, ('C', 'G'): 12, ('G', 'G'): 13, ('C', 'C'): 14, ('G', 'A'): 15, ('C', 'T'): 16, ('N', 'N'): 17, ('N', 'C'): 18, ('G', 'N'): 19, ('N', 'A'): 20, ('N', 'T'): 21, ('C', 'N'): 22, ('N', 'G'): 23, ('A', 'N'): 24, ('T', 'N'): 25} \n",
      "\n",
      " {'RYUA3GVO': 51, 'UK4B4I7A': 23, 'YMHGXK99': 422, '9HRDSOST': 15, 'L905DK46': 5, 'YKXRSB4N': 100, 'I7FXTVDP': 8286, 'FRX9XJYW': 261, 'JO1WTZOB': 28, 'THW6JGC7': 133, 'B2BULVFH': 23, '3N169DM2': 6, '3EARN0Z7': 5, 'Q1D88JO2': 6, 'HVXSID0M': 31, 'W1STLS0T': 456, '5PC2F8NE': 34, '97PR85CP': 23, 'MQQTIYIC': 10, 'ZT1IP3T6': 26, '4PKCMX7O': 25, '3TUFYWQN': 9, '9U0DELRD': 61, 'ZB862XHR': 28, 'H9RBDN30': 20, 'NMQKJMH3': 16, 'T8R673OI': 8, 'EYOJGC9T': 98, '1B9BJ2IP': 7, 'Y5YH740Y': 7, 'REKW7MRF': 13, 'F3D2JAYU': 43, '7QF2VB5B': 166, 'QYBCIW4J': 5, '3MDRJUI2': 12, '459BZKP3': 91, 'IZD0O5Q0': 57, 'V5C3CWTK': 17, 'PY8VPVM5': 76, 'IOKPSO7K': 23, 'FN38BX60': 40, '13LZE1F7': 6, 'KRS7ST1L': 16, 'RSMDF425': 110, 'THD393NW': 625, '36XLYYGZ': 9, 'NKRRLD5O': 22, '8T12OXHS': 204, '3FPH0N6R': 9, 'ON2CU60C': 19, 'RKJHZGDQ': 2732, 'FXBIP7LS': 16, 'TBJE6V15': 17, 'DEWKAO5I': 11, 'ZEB7PDQK': 79, 'KB0YFLBH': 48, 'BBZJCYJ0': 31, 'E5OB5QF1': 64, 'IYKXT23R': 48, 'BV8D4RYV': 7, 'ND88CY09': 11, 'SBWHI6Y6': 12, 'IBBLXRDR': 17, 'D8OQ3YNK': 52, 'SU06AE5D': 113, 'ZIGUIE0J': 6, 'WL3FJI96': 48, 'U6TNOS7M': 16, 'A1738D1Z': 28, '38MDETY1': 16, 'COVE5WRD': 13, 'KSFFKSV7': 340, '9DKQF2I2': 9, 'WZX61W39': 35, 'S15Z6XG6': 118, 'A0Z7XCDN': 52, 'HY9DN23J': 17, 'K4AGNZ3R': 14, '6QUCW04X': 12, '1K11RCST': 75, 'H48Y5BOY': 24, 'AHMVJ2VP': 53, '4LCFACE1': 37, 'QZ8BT14M': 359, 'JS1KUAD6': 20, 'ZFBSIW7Q': 10, '5SGMS705': 36, '669R7ER0': 34, 'IMFV7GM3': 59, 'QT44Y8VV': 39, 'JB8JTFSG': 10, 'KMPCXZUY': 37, 'WG7S6W2T': 20, 'M4V0NJ97': 76, 'JPO7CTQP': 9, 'WK162QYQ': 24, 'UH5Z524P': 71, '4QK5ZDHA': 25, '34TE1Q0A': 18, 'Y81SHRRC': 19, 'MGQBELNN': 49, 'K1DU5H0C': 16, '5PR9OSRS': 42, '5Q9ETXJL': 46, 'VFOEJ2CS': 8, 'SRZSX1LR': 38, 'J339EI56': 111, 'U49ISLNE': 6, 'SLVO27W6': 42, 'MQKR83SM': 221, 'FN1RKQ2M': 7, 'ZZJVE4HO': 193, '00Q4V31T': 17, '0XPTGGLP': 44, 'Z1Y066QU': 12, '3MX1D3LD': 8, '8FZMCIFG': 29, 'GHG5MDER': 128, 'WM9JWC4B': 114, 'LQ6K46C8': 25, 'FH8TEJI1': 29, 'OYRI4NVE': 10, '55HTZ7T0': 210, 'RIEIBCRF': 21, '5ASQZ0OT': 118, 'ZLSXM0KN': 11, 'Z80NVAXF': 19, 'ZQ5A6IY9': 14, 'IS75OD95': 10, 'W9QZOUW7': 141, 'Z1C99MVU': 10, 'FRK40JVP': 11, 'IZSQDCWP': 10, 'Q2K8NHZY': 973, '3C2VZQ2R': 383, '558GIQ68': 21, 'V1YVL2DL': 6, 'QJMUUPFK': 65, 'TWH1XFPL': 12, '6TTWEXT3': 130, '3YAQWNBK': 8, 'JQ7Z5Q44': 30, 'WUR2UJYP': 14, 'A3QUOXIX': 27, 'ZCU48L3S': 98, 'HVAG84XI': 10, '46AZ97U9': 157, 'B9H5SLHK': 21, 'IM2JLO1B': 157, 'BHW9ILRC': 40, 'YDPNP1KR': 77, 'TBUHVONI': 9, '6UI9XACW': 7, '5LH9NUMK': 17, 'SEH3FI81': 106, 'SHKNA9S1': 20, 'QNQQVRNB': 129, 'OKI0Z2UO': 9, '86ET7WW4': 144, '904V6V2S': 20, 'GDV3S3ZG': 8, 'VOT8OKU2': 171, '1AP294AT': 16, 'H3D82ATM': 16, '27OS3BTP': 42, 'PQZ6Z3YJ': 19, '9ZTEQPA4': 35, 'X0VJJXGQ': 35, 'CBCQST29': 37, 'S2ZYVBUF': 10, 'SLG5DZG2': 9, 'BQJ79YS3': 11, '0PJ91ZT6': 93, 'RHSAJGR1': 7, 'RFUY4U4W': 110, '0NP55E93': 35, '579G0TJI': 26, '3EYBG174': 21, '7OV5K86R': 115, 'RQUURTUT': 13, 'Q3O4J4HB': 12, 'BN8BMXPM': 7, '1KC6XYO6': 37, 'E4EF2K0A': 53, '4X2RTV2D': 8, '6LQ0W02R': 8, 'XP5B8615': 18, 'LHMKC873': 10, 'M59DNUXD': 8, 'J648LM1S': 14, '9YM3QINZ': 38, 'CENOJ84D': 136, 'SD7VPKVQ': 18, 'UNAGKRY0': 10, 'XY9JOM6L': 208, '25UVYUID': 45, 'PGWZZALU': 12, 'PFNRAGJP': 25, 'BHKOO62U': 83, 'QQFF3LO5': 51, 'ED0OS5OF': 53, 'L5AMS3QT': 10, '71R7TM8L': 5, 'Z7ZKDLZG': 106, 'NDZT8PV3': 5, 'WM3Q8LBC': 4, 'SDNECLRB': 11, 'UFTYVG6Y': 48, '8IPYO6SS': 36, 'F3S4VUQI': 18, 'AOQQU910': 26, '2MCB7LXW': 14, 'D3KJQCYH': 37, '81QAZACE': 45, 'YW85XPTE': 16, '8ZB99KHH': 67, '1UOA7CA1': 11, 'NYI75N90': 45, 'X2PFPX2S': 29, 'ILKPIFSA': 21, 'EZ40BRHE': 31, '9Y5EWA8O': 177, 'CKDZNQV2': 15, 'OKWROFEH': 10, 'CNX48K3H': 11, '10TEBWK2': 64, 'ZEJOQQJF': 54, 'VGWO9SBA': 214, '8HI3GY44': 12, '24SL2992': 7, 'BWFN4ZI7': 152, 'Q1M9RXYR': 20, 'OUA1CRWO': 28, 'BV6PVSO5': 5, 'U69N21WU': 12, 'YGFI5B9G': 6, 'GJKR73YA': 174, 'ZU6860XU': 10, 'X6497O49': 8, 'K3QD4AHX': 33, '7YSTNZME': 55, 'LVXSGLT6': 17, 'SM3HAKL8': 21, 'IMVSI4VW': 16, '3BGLF8BC': 6, 'QZ1V5GME': 10, '8G29TDOS': 93, 'NR26DCAB': 10, 'CA0MBQ9S': 124, 'L78GOBQS': 49, 'SEVOI9NR': 8, 'KDZ388UF': 358, 'TWV05PEP': 63, 'IP9XMFII': 21, 'IGHBC70Q': 13, 'PRU3JF6Y': 13, 'COEMYLH1': 9, 'KGMINGSB': 46, '0N3V9P9M': 48, 'URO46KFW': 32, 'URY1ZVZI': 45, 'AATDRXYQ': 6, 'C35C2C2W': 16, '11TTDKTM': 29, 'UMDZG9XM': 9, 'UYLJZRPN': 5, 'Z8BWVZZX': 6, 'CAO2H0WE': 7, 'E6TPDVWA': 66, '8SW7WFE6': 125, '0W6O08VX': 18, 'ER1IJR80': 35, 'QZD4I9UW': 63, 'ELX1D1DS': 13, 'NUOEY3LD': 8, 'ZMUIMBDX': 60, '5AUVXXDU': 10, '38MEQ4SU': 12, '1NXRMDN6': 11, 'UHU62P41': 12, 'WTYMIZ88': 39, 'GLUZC5HC': 14, '4WRI77CU': 17, 'V8MF2IKQ': 74, 'FJTJ4KY0': 10, '8HW91I4K': 15, '1DJ9L58E': 6, '62PKSARW': 11, 'ONPQ2I44': 88, 'FLHGDG0P': 24, 'YWQZUSA8': 41, '9WQQKFVK': 11, 'KF32BDPB': 68, 'TRM5SRRW': 69, '49YZILWR': 11, 'WQBN4WGH': 23, 'I0J54PBT': 88, 'NDDT3NOB': 11, '9LSH625Y': 11, 'CK1M5UHL': 7, 'HT51BMN1': 10, 'LYY8P69T': 27, '6YSX60MZ': 9, 'OPPRIPN9': 10, 'HX5NMCPJ': 65, '0A9M05NC': 17, 'RD5YXSBA': 17, '8Z6SANMH': 60, 'ELF2BN3S': 24, '8F0XPAZX': 5, 'GB45D1XV': 11, 'MUO5QBB6': 22, 'YHUR7HZ6': 6, 'EQPB3YTZ': 16, 'UVXQ3O4K': 15, 'H0WSDLJE': 9, 'V04Z48C3': 28, 'N5X3YG2I': 80, 'CZUGPH88': 7, '2GSZMU46': 14, 'GSK9JT39': 6, 'JUC55NLK': 7, 'WUARWGNF': 25, '4GF31RCS': 26, 'ZGY1YZ7P': 7, '1TC200QC': 8, 'PONI61NE': 9, 'TYQ2T01H': 53, 'RD62G56Y': 31, '1DTDCRUO': 32, 'FHZYKEUV': 319, 'GLOJFBA0': 12, 'LHNLO8Q8': 57, 'U2C1NG0D': 18, 'VDYHUCQB': 11, 'KWH2Y6KA': 17, '8C9737JL': 7, '3C952KY7': 22, 'WX0HMR4F': 37, 'MV1CMX4O': 21, 'NUYVBFLU': 7, 'W184Y53L': 30, 'KU0G64D0': 43, 'M3B15QGL': 72, '8C0T09C6': 133, 'EW4ZXWSN': 57, 'WTFS8JV2': 7, 'IJEA3NUI': 74, 'D0NFHXL2': 25, 'GUWYJRRS': 39, 'UFEO02VM': 27, 'FNKCHGB7': 9, 'V4RKPN30': 44, 'VKU9G6Y5': 8, '8WAY3T1E': 42, 'A4BM0B6A': 5, 'CFOET28L': 5, 'FNM1Z945': 12, '57NGF1YS': 10, 'CB714TAM': 10, '4LQ8L195': 23, '4M3XG8RC': 27, 'LXBPBCS3': 12, 'B517ID6W': 13, 'BLFM4YKK': 32, 'UMM76IOX': 29, 'R830GQGO': 7, 'BY5IEG4O': 48, '8MUKKVMF': 9, 'TZ8JAEO6': 13, '20ABQYHS': 12, 'US8KF8X3': 7, 'WAL364PD': 6, '8EKC599S': 10, 'XHQPAVRU': 34, '0B9GCUVV': 571, 'NRRH4BON': 6, 'QASMCASJ': 12, '4RHLX089': 5, 'NWE84W10': 6, 'YQITW66D': 19, 'RZPT9APG': 9, 'O7NEA7KO': 56, 'FSR0IC6I': 27, '09MQV1TY': 20, 'D10S0UDQ': 10, 'N7BY4DKZ': 50, 'T9LSOTV6': 379, '1S515B69': 490, 'B8YR9IIK': 65, 'HGN5HD65': 5, 'ZIJRW95G': 7, '6NKNB308': 25, 'SWHE2RH1': 11, 'CDU1LWN3': 38, '4J7KEYE2': 33, 'EA2DKNTD': 36, 'I5RNBXF3': 41, 'CFQ9PAJA': 11, 'ID37U3DA': 194, 'A2A1R52R': 12, 'J1UFMOCR': 15, 'FMJ19E48': 14, 'SGIINS2G': 33, 'GWJ0A1IK': 25, '0FFBBVE1': 682, '9G5XH4HI': 9, '5SCOFTY2': 8, 'ULOHU3PC': 548, 'GWP6E8FA': 27, 'QSLQZQH2': 8, 'MLGLKKI7': 9, 'EI8B4WEC': 6, 'QR91QBR2': 35, 'UEZVPK90': 10, '6UXF7L28': 7, '8US76O46': 23, '5CBNCRST': 5, 'M2R84KMY': 42, '74RXUGS4': 49, 'TFTOGJOD': 23, '8OBT3FSQ': 13, 'S5CBU2AX': 5, '2VX4F6RC': 10, 'A2U1AIC1': 12, 'CY64689U': 14, '0L3Y6ZB2': 1, '0T2AZBD6': 27, 'PS6MZN15': 10, 'OKK933IV': 6, 'PSY58O49': 14, '1UU0CHTK': 22, 'NPWC1BXV': 17, 'B131HDBV': 11, 'PV7QTHJV': 21, 'U2C2VVY8': 13, 'PRYT0A2P': 24, '2Q33W599': 168, 'G4UJDFPK': 14, 'RASRCD7I': 21, 'IO2FYB6G': 302, 'X4WO7LHO': 8, 'INELF20P': 8, '3RK54JUW': 9, 'BTQL3UFQ': 7, '7ZV0Z1T9': 14, 'DEFNZK0A': 8, 'GBX3MNVS': 10, 'RZPGGEG4': 4, '384ASNLB': 11, '7GWW4637': 367, 'SOPNMXWX': 6, 'UYCX4ZJS': 9, 'QVAZPYQ8': 333, 'M9265ASV': 18, 'U6DS14AT': 53, 'NIRCF0RK': 43, '7185O9V8': 44, 'E8100WU0': 25, '40ZI3TDN': 112, '747XMBIJ': 15, 'ZBQD50GN': 164, 'KFWFMIUK': 20, 'PW7GT7TE': 8, 'I5L6E1U2': 12, 'LUI0TOT2': 5, 'PKC5LJ6W': 69, 'N8X63KYC': 12, 'S2PFIP6S': 9, 'VKN3L279': 32, 'D0EKC82X': 7, 'JZ2KQL0P': 9, '2Y9L13L4': 8, 'SQB9N47Y': 47, 'ZX06ZDZN': 9, 'PJYVLL0Z': 21, 'QVAHXT35': 12, '0R296F9R': 7, 'LGEAIIK8': 71, '2NEXWXMT': 9, '68OY1RK5': 4, 'BJKTDFN4': 36, 'S824JJ06': 8, 'NT9Y0D19': 552, 'AR433PVR': 116, 'SBQXQOPV': 5, 'ON9AXMKF': 1, '8VI1RY3M': 9, 'ZSHS4VJZ': 20, '2SSVM7H9': 21, '6WD2LIHN': 17, 'CBFKYZ9S': 23, '14PBN8C2': 10, 'DD0JBK3T': 15, '7ANCD9AK': 13, 'JS59HL6M': 12, 'F8LNIZ27': 49, 'MB9HHEPN': 13, 'QNE79S52': 5, 'SEAEY0CN': 16, 'JKUCC6UK': 8, 'KVLIE219': 14, 'BH7HW7XH': 5, 'INJ6L6NB': 6, '9R765PJF': 11, 'VAGUTU8C': 20, 'RBMLZBYW': 76, '4KSHU5M7': 6, 'IDXJ25FE': 10, 'S7345IVO': 25, 'TNR495LD': 473, 'JDENEZ6I': 27, '2GGU2QA2': 40, 'WBGCVIO8': 16, 'KV5TCH8S': 12, '8HZXGARR': 58, 'TYJN7K7A': 18, 'X920R0YN': 11, '0HWCWFNU': 8, '4DGMNDIC': 6, 'SGAZ5VOA': 14, 'KUGU9MQC': 14, '4E7187A9': 14, 'U47IUY9C': 10, 'D2N5DOSQ': 9, '343M819H': 35, 'OOKK1JHN': 21, '1VPOX8VI': 17, '7TYZHD5J': 12, '1BE35FI1': 33, 'O1LMIA6M': 8, '443NZOSB': 28, '0CML4B5I': 69, 'MZOM2K35': 10, 'KJJYCUJ7': 8, '65CCBIXK': 60, 'FZ37IFWH': 48, 'E4T4IQMG': 36, 'LPBA27LH': 13, 'JC35D8WT': 20, '91Z8RRSB': 13, '39LLQ2PB': 17, '7O3PWIL0': 15, 'YQ3L8TWE': 48, 'JRDHZ51W': 11, 'EKHYS325': 10, 'HTXABMRS': 10, 'WL8VMHWG': 12, 'OVPHRVOD': 30, '58BSUZQB': 3, '2GTLIT33': 25, '1EDZ6CA7': 8, 'DGQ2L6KM': 12, '8H6M75LF': 9, 'BL2TLVFC': 35, '0DTHTJLJ': 19, '2L336TQL': 5, 'IL47R85Z': 117, '7QEORFJN': 61, '7XPDUYJE': 15, '3TXFYNKG': 502, '15S88O4Q': 16, 'MQRIDTFZ': 21, '2H37WPKA': 10, '0CL7QVG8': 8, 'CFDEOSH4': 9, '298AMR5C': 172, '8JKDTT0Y': 14, '99A19JAD': 8, '35MKXPL0': 173, '9KV8R3HP': 20, 'TJLVHJ87': 7, 'R6QNKUC4': 25, 'L0FS3EPM': 6, 'EBF1G8Z7': 9, 'LM6LV3JB': 67, 'U8FRHWSV': 7, '131RRHBV': 710, '6WT1F4RJ': 16, 'F50DBVIK': 34, 'EL9FN1LB': 12, 'P8PW7Q1Q': 34, '3NSJ6N02': 115, '4U5LAAN5': 7, 'A810BWR5': 98, 'U74I1JYB': 8, 'SFPE2DX4': 52, 'U2VWRM3F': 10, 'I1RQMFZC': 26, 'YEZ30YUQ': 7, 'B1I4L0XW': 18, '0WHP4PPK': 20, 'I6B3VKYD': 36, '709K4VRB': 7, 'PNWFSSF0': 43, 'MBQUJESG': 11, 'CYCSYMQ3': 12, 'O5PJEO54': 8, 'RRIG3SH3': 10, 'NNNIMDVI': 8, 'RF45YZMF': 15, 'EN78WKI4': 13, 'LKC4LOOM': 13, 'NK0S2WH6': 9, 'YTGT3GEX': 17, '4WAQ4VFB': 12, 'Y575VUS1': 99, 'AOFJN8HX': 7, 'GJPI1WIV': 15, '5H71LUBY': 12, 'G57JANUL': 62, 'HV6GZXC3': 31, 'A1A8EROR': 11, 'RE7IER1C': 18, 'J9M11KX1': 8, 'ADB7SAPN': 8, 'HNGYSI62': 11, 'GKY7BZOQ': 10, 'Y620TYKH': 15, 'VFCTUL5J': 8, 'KG943QKP': 43, 'AMV4U0A0': 664, 'WNEX0Y1X': 8, 'N764BFJU': 11, '7T28F53W': 52, 'LU684LJ9': 26, 'H12S8X2Q': 6, '330L4OIV': 115, '8FT6HD4D': 13, 'UFAQZXPY': 61, 'WRDZ1CVS': 31, 'CAQEITX6': 28, '3D9CMQ4V': 6, '318RH8P0': 7, '738FBTIL': 284, 'DSE2G8LF': 6, '1ZC8RPN1': 8, 'HHSIC4NY': 24, 'EZMV5TKG': 6, 'ABWCZWFU': 16, 'LNTF6KP8': 10, 'YP4WCV92': 11, 'CBKRHK4I': 10, '2TVMHQTW': 8, '7E63E5RD': 19, '7DMNXU84': 10, 'CJFLQNE1': 6, '82NXGO4K': 11, 'YHX2594T': 10, 'KKG07XA9': 7, 'JRRTJ3GV': 9, '5ZB8I3T0': 9, 'L2UTYYJT': 43, 'ABMAPCYN': 21, 'V6X2Z58S': 54, 'G81LO0AZ': 9, 'QJ5LYZHA': 6, 'G2P73NZ0': 3, 'XCWSW5T9': 4, 'A8FZHMOS': 51, 'JVWQ5HEJ': 24, 'P361G1OD': 95, '9MG50RM7': 12, 'AUZNSS79': 98, 'PYX7I7X5': 17, 'M9PHW06O': 22, '2M3CXS8N': 7, '4Y4DT3SL': 7, 'KH4VOX9Q': 29, 'TCKOTGYJ': 35, 'CTLP20Y9': 9, 'MIUE47ZL': 7, 'BPT27UPE': 19, 'NBCZC85X': 16, 'LL11R5T6': 21, 'YFSGJUTL': 24, 'YTOOMPZ8': 94, 'HVZMFFNW': 22, '8ORZZFA7': 101, 'YCNWCC0Z': 6, '5FUDT1QA': 14, 'PHQEJTNO': 38, 'E3FFACSU': 12, 'UAY0HW9A': 8, 'E7CPRIYW': 10, 'K57LN37R': 14, 'ML5W6LDB': 12, '8VCFY56I': 12, '1OQJ21E9': 52, '21ZFBX5E': 32, 'WWDAZG6C': 22, '7KG191H8': 17, 'JWVCJ3UR': 32, '7MUAYEHW': 26, '909V5A2H': 27, 'WD8MHX8N': 19, '2YLQA8OZ': 23, 'TZL79DYX': 10, 'LGTP4O86': 4, 'KUH39TQR': 10, '44N2CYI9': 6, 'OL1HWRRD': 135, 'VW6ZY2L1': 16, 'IO56YRTG': 34, 'Y73L2QKM': 8, 'DGE8LLAJ': 7, 'E6G69ESA': 14, 'BNFZZTKX': 52, 'U5966IDO': 34, '8ECLELF1': 21, 'ICRBJL24': 14, 'UBXL2EGE': 28, 'SSVDNEY9': 247, '3KCEM7V4': 55, 'QUFMTUB3': 25, 'HB3OQUA5': 14, '73RKEO3U': 8, 'JWYYB1L5': 8, '78XDAJNS': 5, 'OJ9HCGTB': 8, '4648UZGD': 16, 'DZ2XFGQS': 10, 'BDQOSDFG': 107, 'GZMPRX5J': 41, '3GEXBRC0': 19, 'QC3VEU4P': 70, 'I8U0Q5FP': 31, 'O8E18PJ4': 5, '448QVC4C': 39, 'A6RCKKER': 14, 'I2N7C27Y': 14, 'RBLPDV4R': 65, '0Y24J5G2': 19, 'XSA3Y2H6': 27, '6TT5CXVI': 46, 'KDW3ZVWJ': 9, 'TK932JM1': 13, 'UBO7MS4D': 10, '1VQS4WNS': 10, '36W150XW': 14, 'SUUFTUWK': 14, '9WEGTUIJ': 10, 'RBL3SN1I': 20, '8RIKS696': 13, 'EMJXDINV': 18, 'QV09SDY8': 13, '5V3Z108E': 6, 'Z7YFK3I0': 5, '5BTY65G6': 19, '1KZHNVYR': 4, '6DBY872A': 36, 'K212MH7P': 8, 'AUUSW2YZ': 24, '0M44GDO8': 7, 'BSH6LB19': 9, '49571DXY': 31, 'EMNH5MYX': 38, '9JRKFKVC': 9, 'VO0ATBFS': 87, 'OCJ3W2EF': 8, 'DY0KIZZ9': 12, '9MEFUZQN': 11, 'P3Q11IAK': 37, '93WIIL7Y': 7, '4S1LIWGV': 31, 'WDNYZZHJ': 7, '1PIGWQFY': 27, 'LXOZJ3TV': 8, 'JSEGAB8K': 21, 'BLNELN02': 12, '4IADYZ8R': 37, 'A1J0YXZX': 24, 'BD9EXLDM': 9, 'OML0TEF3': 10, '4CKAV3LS': 7, 'WB78G3XF': 2, 'SEX60YJE': 9, 'J3YKGOCX': 8, 'AOCCEP3S': 6, 'JYZ82A2B': 7, 'SZ0MR59K': 30, 'KKIO1X0Z': 7, '6XVBD39G': 27, 'J0NVCXDJ': 21, 'GTVTUGVY': 2672, '0VRP2DI6': 7, 'JICWX3AS': 228, 'FRFT0H8N': 56, 'JT4GYL2P': 10, '8VLB2R3D': 93, 'RP37N5WN': 12, '1X0VC0O1': 7, 'N0FDUY5E': 11, '92WF5WVN': 14, '3XE0BJDW': 17, '1PA232PA': 10, '2JPNC9X6': 5, '4IDTMY10': 8, 'UMOD7PGG': 4, 'Y3HA6UDE': 8, '3QP4D23X': 7, '7WKS90AG': 18, 'JQJ499YN': 15, 'U2OZU4IY': 18, 'PIT16TZ9': 20, 'GS8G1IFF': 6, 'EJXP2QAW': 15, 'AMSPTQVJ': 12, 'VDSDXJ71': 4, 'XV32YHEZ': 19, 'HGPS0FQN': 164, 'L76WWQ74': 75, 'QQR3SE8Y': 15, 'M46L0EBU': 6, 'CDM3SRRP': 11, 'K83DA8K5': 18, '1TI4HS4X': 8, 'O69KS0OS': 29, 'BDSEVK9M': 19, 'IQPZXRU2': 16, 'VGCXUCRO': 37, '216DWMG6': 31, 'O3M287V6': 11, 'AL7N3DL2': 8, '5W2PCT95': 48, '7PWA4ZJN': 6, 'G7MXLRV8': 12, 'WHLUO40S': 14, 'CEATO4LM': 7, '8ABA3MWO': 7, 'ICDP084U': 7, '6UGWNYCX': 12, 'XE4D68OI': 28, 'TD593FIM': 11, 'BZBNZDNS': 11, 'Q35PXLRT': 57, '2FCX4O0X': 22, '6KT0EAKX': 8, 'CRP30ATM': 6, 'QL3AU1NN': 43, '3L314D8W': 10, 'Y4X5JU76': 8, 'YEA0ZZZP': 16, 'ZMEZU4BS': 20, 'A7CK3WNB': 6, '2YCH1PUI': 5, 'NTLCS343': 7, 'UJNF3UO2': 6, '3LSNTL1N': 7, 'J70NZZIW': 7, 'DKA65CRR': 17, 'JJBJFUAT': 31, 'POKTJVRL': 11, 'GUCIE6TT': 14, '6AT20D5S': 10, '7NGLQ1CA': 9, 'NKPC0Z4Q': 7, 'SYQSKHN2': 26, '1XU60MET': 44, 'M2HPA1EK': 9, 'XD80LQN2': 8, '3FW33G68': 9, 'JRBK08H6': 108, '6SBB6IL2': 30, '3X2GGDHW': 42, 'R2O5C424': 53, '7UU8O65I': 9, 'S0Z5J1EW': 86, 'L3OPGJO5': 36, 'WQ1DVVYG': 12, 'ZB6DPIG5': 8, 'Q21CAL4Z': 7, 'D63K976U': 15, '3O1GIAV7': 50, 'AOFPYGHC': 9, 'V3JDHWOB': 8, 'ZEBTRK7D': 7, '1KNFJ6KQ': 39, 'IUJPYIRX': 6, '9MC0DPDJ': 7, 'J7PWRE94': 11, 'ZOI7FJEN': 26, 'K1K1AESM': 16, 'OB97CO94': 14, '29D6Q091': 53, 'X9RNN0YD': 10, 'ACO8WWPF': 13, '54ZFOPSF': 6, 'IOOQONCI': 29, 'R1BX2NZI': 19, '6E28DNQK': 53, 'ST2DCNR0': 50, '5QY2HU8J': 11, 'E59C5N01': 5, '4VHMF1RI': 16, '9IVIPDX5': 73, 'U5ZJCLCX': 134, 'AOKRU4AF': 59, '1OWZDF82': 12, 'EJ3T17DB': 5, 'UC094GDG': 7, 'C1BIUBL5': 10, 'AUCMR8HU': 39, 'JZTRRSKQ': 31, '1Q1IUY3G': 23, '4DGGCYVE': 45, 'RZCRWMTU': 10, 'LUHRMKEB': 5, 'QPA31HRW': 16, '3YYEC52Y': 7, 'VHPX9GYO': 14, 'JNB98WP1': 11, '3TLD81QQ': 9, 'HRWBEBRE': 15, '4RCA1UZG': 6, 'W7WRIFC0': 13, 'HVBBJM37': 89, '74TS5KG4': 20, 'FPH5H8JT': 94, 'EEC8D29F': 47, 'B832TQ6U': 45, '1UREJUSJ': 106, 'R3AAYF7V': 23, 'G6MP6EIN': 5, '9GDHC3D0': 24, 'WK4NBYSB': 13, '60HBQEP8': 22, '20CEB9KE': 83, '40MD0YZ3': 17, 'WZZLL8O4': 91, 'ZAYLY2YU': 9, '0XS4FHP3': 17, 'P4H26KKX': 9, 'HVN93I56': 15, 'JXDP2C4M': 11, 'XYB5NWR4': 5, '64FFXH4M': 7, 'A3FZPLM1': 18, '15D0Z97U': 6, 'VRZZPHI4': 13, 'TIAPP57M': 119, 'A78F2YFJ': 13, 'Q2LO2OGN': 15, 'CTJGWLX0': 6, '1HCQTAYT': 11, '9DBCRJYM': 80, '5K2PTY6L': 147, 'INDCDVP0': 4, 'ZH6LR5MO': 8, 'L27ULB0P': 10, '03Y3W51H': 345, '862RYK1K': 11, 'GYCOAVYS': 14, 'F1X6DMDH': 12, 'KM3OV97R': 7, '2VTLZHDS': 21, 'TUO2TVTX': 140, 'ZC07UYVV': 45, 'F8I0DT7Z': 24, 'ZUI6TDWV': 9, 'XTKRJ8N6': 10, 'L2HRYP1A': 76, 'AM8AJH2H': 32, 'LWQ8FULT': 6, 'M2W28OUV': 18, '57FHO8YC': 22, 'SR345GAS': 32, 'HQC2OFGM': 56, 'IOPR6B78': 25, '0A4AHRCT': 21, '48F0EUVN': 18, '7X3RSRT5': 15, '33AR5KVE': 17, '2KDACBQT': 7, 'D4PJE56U': 31, 'AV7ONIVD': 8, 'JZ1RSLKQ': 27, '638UYIQC': 62, 'DE6NAU7D': 18, '9QQZ79I6': 16, 'YE9BU3J3': 18, 'RFYO6TO0': 12, 'Y324NGPN': 27, 'ISMP5LYF': 10, 'EFKGYR79': 30, '52Y9GFGK': 7, 'UCVUALGM': 6, 'UNE947CO': 18, 'LPQY1SEL': 241, 'AAURK3RG': 26, '5BNUT8AW': 8, 'A0ADXLZU': 332, 'BSEEWS00': 10, 'IH12MVU4': 7, '8MW998Z0': 7, 'GM3HKY2J': 16, 'EOQAQ9X1': 75, 'XPQ9IYZC': 56, 'JQ4YBT3Z': 201, 'CWZP8AQK': 31, 'POZMOX9T': 38, 'NX7I9PQG': 6, '6QBXXYN4': 8, '2XX0N87I': 9, 'HODOBX62': 20, 'LDCSZOKC': 6, '4GHCND6Z': 8, 'NUSJ1NGL': 31, 'HX2XDS73': 11, 'YMWK7JKH': 71, '8BF8ANNO': 7, '9MZBKXJF': 16, 'JZS556ZA': 26, 'F0ESSJYM': 49, '1IXFZ3HO': 43, '9SJCUIKS': 15, 'PMCWG8N5': 8, 'LKR5NGJZ': 53, 'JL1OZP2G': 36, 'SNZP9G8K': 11, '9XE0FL8P': 46, '6T9SGGS1': 14, '3EZXYI3U': 17, 'R1OFLDKQ': 28, 'TE1TWCPZ': 6, 'B4L9R8JU': 11, 'T18CGW8H': 10, 'TGPPSF7M': 9, 'YLS2HEMR': 6, 'B17J3JSX': 7, 'Q5V3EKJC': 6, 'ZU75P59K': 67, '2BAFY4GP': 9, 'IIWFYXGG': 7, 'BBTA1L43': 8, '18C9J8EH': 9, 'R67AMR4P': 25, 'J5WRC3DJ': 9, 'UCC4KYQL': 14, 'M1CZ7MK8': 6, 'T5R7YFPH': 6, 'TTU1NVDI': 11, 'OERPDTWW': 7, 'UBWK5LJH': 10, 'SNNICLKQ': 15, '2PY8K6GU': 10, '39TEZ0C3': 7, 'WSHPKJ3H': 8, '91Y7NKBM': 14, 'EXQZ5V7S': 15, 'MMU3QFIP': 76, 'AWWC1KIV': 9, 'SAONBMNO': 22, 'H3RWZ7UR': 8, 'N5LOOJSR': 57, 'TVQC1R4D': 7, 'QYZ57QTQ': 8, '93R70J1L': 107, 'VJU9EYFE': 31, '03GRNN7N': 4, '7039MMH2': 13, 'BLC9WIIM': 9, 'FHR8UUYO': 13, 'H20JGHP0': 6, 'HCW1Y9QM': 5, 'YCY2FFYZ': 37, 'MJR1CR7U': 59, 'D4Q1QMRJ': 11, 'FEBWERSN': 19, 'NIKHJTWP': 23, 'I2ATV1DI': 30, 'UO4MVLJS': 6, '7XU8ACPI': 14, 'U3QRAT06': 10, 'FWOZ05UZ': 7, '9PWYZMNS': 12, 'HZ5C2E4C': 16, 'LFQ6YRHV': 18, 'XOEVMQZT': 9, 'E8GMEHFW': 19, 'JUYW4QZ1': 16, 'T3KHULCH': 15, 'I9MWC6I3': 50, 'A18S09P2': 1064, 'ML1YCDCG': 7, 'F0MOWJYA': 9, '1CIHYCE4': 16, 'HRFD8R1G': 7, 'HK78MCH7': 14, 'MNV2YSWZ': 18, 'WKYJ6R7D': 14, 'RNSK8HLJ': 44, 'ZEAZQ1QQ': 9, '0URA80CN': 10, 'DRFCUPZO': 9, 'X6LFEBK7': 19, 'ULVU086L': 42, '39TPBOL7': 7, 'PFI6E05S': 6, 'UJSK2U9A': 31, 'UWWS6RWO': 12, '303BN0Z0': 12, '6PXRABDR': 34, '9MC1YKKZ': 11, 'YXKFDH6S': 8, 'PXT3AJ7C': 4, 'A9G8OKRG': 12, 'MH0GC0GY': 5, 'QJJAG1IV': 7, 'VB04AEHZ': 14, 'NWKWVAIA': 13, 'OG01U0FT': 9, 'TI21BGNU': 5, 'WP6H3E2T': 15, 'JAEI655A': 11, 'WG42FGWA': 9, 'K25LXPOI': 88, '012VT4JK': 41, 'LXPTXE5K': 6, 'H1G4FFR7': 23, 'MFZHQ165': 15, 'HI7ZNYCK': 61, 'A768XIWP': 9, '685KTH3G': 8, 'MDCIP8E0': 8, 'ND7I48LA': 14, 'ZU6TVFFU': 44, 'GSNU5TXL': 18, 'TU2W2LCB': 5, 'D7L6VZNV': 6, 'QNKGHIRB': 5, '28D4D4QM': 7, 'MXV7CSHI': 7, '3YEGUN04': 23, 'FLSWA4NU': 18, 'ZMCRIYYJ': 9, 'Y4G53L4X': 19, 'QUUKEGL5': 33, 'JK9C0VN8': 7, '5Z4CMIY5': 5, 'ZQNGGY33': 13, 'Y6EC9YQA': 9, 'YZX8R26H': 7, '2XC1478M': 43, '5X9VNAN3': 8, 'DQGG01WF': 10, 'X4YNMN9Z': 32, 'ETR2SP13': 66, 'U8SWTHB5': 6, '6PS2LHCV': 13, 'LF9AQIHZ': 31, 'ZELU1VMX': 30, 'S768X16I': 81, 'V4A28VLV': 5, 'JN497K3S': 17, '8D4D6M5V': 19, 'GYCY8LCF': 7, 'ZWFD8OHC': 49, '5ZW05824': 61, 'RGD51NW1': 10, 'UYPE34HA': 7, 'QV71AJ91': 22, 'YY5Y32CI': 7, 'N9I581ZL': 18, '4TIT4L5F': 6, 'RZT9JPDV': 6, '2AQG6I31': 11, 'FLU9ZT18': 12, '7IHPTKFF': 29, '2MQ2NPMA': 81, '1LBGAU5Z': 5, 'T4J4YRDK': 14, 'M3MFQNC7': 21, '19CAUKJB': 11, 'D8MRQA91': 7, 'VMU0L6UM': 5, '97FR69TQ': 17, 'VYW7T8YY': 22, '4ZYW54M8': 15, 'G8QWQL1C': 576, 'AG93GZYN': 83, 'FVYCRUFK': 13, '2VP4JPB9': 7, 'DLSU0QRX': 13, '7F905YRZ': 8, 'IPV1W17S': 36, 'MEKV5BRI': 11, 'MEVIH0XF': 14, 'BHNI9DCI': 16, 'UQUIUCVA': 6, 'C4W63WJ2': 15, '8N5EPD5C': 4, 'UKG1R822': 8, 'YL8AOR9Q': 71, 'GKY6ZB15': 18, 'PUECZ8ZI': 22, 'OL59ZZX5': 234, '5OFUVG9U': 158, 'NQVW27OC': 72, '9DRMDPIZ': 71, 'D0YWREJ5': 9, 'MULMC195': 51, 'Y060M6TK': 24, 'FQ8V2QHL': 36, '9HPM9NFY': 21, '8ZB94ICE': 83, '6NCTAA30': 9, 'OUJLF506': 9, 'SIUTK5SR': 6, '5OBD73W0': 25, 'W2DYAZID': 4, 'J3752QSY': 16, 'IPVYEI8G': 10, 'B8FC99WI': 44, '5QLBIUXN': 6, 'LKVB0S84': 148, '4QU07FT7': 163, 'R5B3KVZI': 18, 'EKXAPD70': 7, 'PEUBDA2B': 36, 'L657W1BK': 26, 'JCHNPTSF': 19, 'JC6LUZLT': 13, 'UP3750KB': 6, 'CLO7VQ12': 29, 'OAEZWMZR': 25, 'E7EZD62E': 11, '0MDYJM3H': 15, 'FCI1HZ3G': 39, 'SW00LEHT': 7, '9SSQ1FSY': 12, '69M351P4': 28, '26KK8UM5': 8, 'VZLS9GCK': 11, 'NHNLVWDR': 6, 'EPDX32D3': 6, '5OF7OYEA': 9, '2CJHRNWD': 25, 'BXMEKONO': 35, '5KXWXV9G': 26, 'U0U7F3EW': 6, 'HJNGSDJ5': 8, 'JNU5CAOV': 6, 'TQAA3UHV': 6, 'D1BZRMOB': 9, 'TKLYRWYO': 111, 'JMJD18BP': 20, '7QWHL2C6': 25, 'KMSH5BSO': 7, 'N0CP1NI7': 12, 'J3L1KD1J': 15, 'N8FNYI0A': 10, 'T9ZHWQE9': 13, 'E3CRPQL7': 39, 'B25KOPVH': 35, 'FXRWH0M9': 7, 'RHH1X0A2': 23, 'QEOKKUF1': 8, 'O4VJ2EV7': 15, 'SIUXBYDS': 39, 'U2ZEEFLD': 17, 'SCKCR39J': 7, 'O55K40VQ': 6, '4O39WLXM': 7, '88E6O06E': 8, '6NULQ6KP': 32, 'QTIRUM0G': 9, '2HNZZYDB': 6, 'DJW5U56I': 5, 'GT4RHNUE': 50, 'A44GW57T': 35, '50NBGIOB': 11, 'VE48SF8D': 12, 'KD7N9YDF': 5, 'CHTQ7QLX': 22, 'YWZAEK5A': 24, '8K0HZBL0': 6, 'Z6LWLWFZ': 14, 'XU8GASLQ': 6, 'E3CE5WE9': 19, '028IO5W2': 14, 'MOCIAZ0D': 13, '9KHXMSMW': 22, 'UXK3D4GF': 12, '7SW79VAJ': 22, '1HK4VXP8': 11, '66XSSS3Q': 8, 'EZL4HNHH': 10, 'H5Y73UHQ': 18, 'BP2X9ITX': 22, '2TXY439E': 14, 'I3UODLOR': 5, 'L3RQSW75': 7, 'OEGM98R5': 10, 'A332O9JW': 8, '54C6PEBH': 21, '37VO60SB': 221, 'ZK6YBV02': 14, 'JPI7LZJ3': 42, 'YCD71LRY': 4, 'XP1SRNTB': 7, 'WKRC8NSD': 10, 'DN01XVIU': 5, '78QGAL01': 5, 'XR7GR7UE': 8, '4O5RQHEF': 8, 'L3SSKU27': 15, 'OAPTL0AF': 12, 'XLYFD8RW': 11, 'AS30HPUK': 30, 'XRENDLF1': 36, 'R3QOGZZF': 9, 'I16TS2B4': 63, 'YGFIQ8SA': 30}\n"
     ]
    }
   ],
   "source": [
    "# Example where we'll cut sequences to 100, and kmer sizes to 2\n",
    "train_dataloader, test_dataloader, new_seqs, voc2ind, tokenized_seqs, labels = prep_data(seqs, \n",
    "                                                                                         cutoff_len=100 ,\n",
    "                                                                                         kmer_size=2)"
   ]
  },
  {
   "cell_type": "code",
   "execution_count": 28,
   "metadata": {},
   "outputs": [
    {
     "ename": "NameError",
     "evalue": "name 'STOP' is not defined",
     "output_type": "error",
     "traceback": [
      "\u001b[1;31m---------------------------------------------------------------------------\u001b[0m",
      "\u001b[1;31mNameError\u001b[0m                                 Traceback (most recent call last)",
      "\u001b[1;32m~\\AppData\\Local\\Temp/ipykernel_5484/2885374392.py\u001b[0m in \u001b[0;36m<module>\u001b[1;34m\u001b[0m\n\u001b[0;32m      1\u001b[0m \u001b[1;31m# So you can now go choose what model you want!\u001b[0m\u001b[1;33m\u001b[0m\u001b[1;33m\u001b[0m\u001b[0m\n\u001b[1;32m----> 2\u001b[1;33m \u001b[0mSTOP\u001b[0m\u001b[1;33m\u001b[0m\u001b[1;33m\u001b[0m\u001b[0m\n\u001b[0m",
      "\u001b[1;31mNameError\u001b[0m: name 'STOP' is not defined"
     ]
    }
   ],
   "source": [
    "# So you can now go choose what model you want!\n",
    "STOP"
   ]
  },
  {
   "cell_type": "markdown",
   "metadata": {
    "id": "kJha3W9_9ESa"
   },
   "source": [
    "## Model"
   ]
  },
  {
   "cell_type": "code",
   "execution_count": null,
   "metadata": {},
   "outputs": [],
   "source": [
    "FEATURE_SIZE = tokenized_seqs.shape[1]"
   ]
  },
  {
   "cell_type": "markdown",
   "metadata": {
    "id": "syZOJAar9ezl"
   },
   "source": [
    "### Simple Model\n",
    "This extremly simple neural network is to sanity check that the data has been processed correctly. Also if an extremly simple neural network with just a relu will classify output, that would also be great."
   ]
  },
  {
   "cell_type": "code",
   "execution_count": null,
   "metadata": {
    "id": "I9lHXsKY9l0p"
   },
   "outputs": [],
   "source": [
    "FEATURE_SIZE = tokenized_seqs.shape[1]\n",
    "\n",
    "class SimpleNet(nn.Module):\n",
    "    def __init__(self, vocab_size, feature_size, num_classes):\n",
    "        super(SimpleNet, self).__init__()\n",
    "        # lenth of the vocabulary (number of words in the vocabulary)\n",
    "        self.vocab_size = vocab_size\n",
    "        # embeded_dim: Dimension of word vectors.\n",
    "        self.feature_size = feature_size\n",
    "        \n",
    "        # encoder doesnt do anything and doesn't make much sense for this net\n",
    "        # self.encoder = nn.Embedding(self.vocab_size, self.feature_size)\n",
    "\n",
    "        self.fc1 = nn.Linear(feature_size, 1000)\n",
    "        self.fc2 = nn.Linear(1000, num_classes)\n",
    "\n",
    "    def forward(self, x):\n",
    "        x = torch.flatten(x, 1)\n",
    "        x = self.fc1(x)\n",
    "        x = F.relu(x)\n",
    "        x = self.fc2(x)\n",
    "        return x\n",
    "    \n",
    "\n",
    "\n",
    "# Creating net and training\n",
    "net = SimpleNet(len(voc2ind), FEATURE_SIZE, len(set(labels)))\n",
    "losses = train(net, train_dataloader, epochs = 2)\n",
    "\n",
    "# Evaluation\n",
    "plot_losses(losses, title = \"Splice Dataset: Convolutional Network Loss\")\n",
    "print_eval(net, train_dataloader, test_dataloader)\n",
    "print()"
   ]
  },
  {
   "cell_type": "code",
   "execution_count": null,
   "metadata": {},
   "outputs": [],
   "source": [
    "vocab_size = len(voc2ind)\n",
    "feature_size = tokenized_seqs.shape[1]\n",
    "print(\"vocab_size\", vocab_size)\n",
    "print(\"feautre_size\", feature_size)\n",
    "encoder = nn.Embedding(vocab_size, feature_size)"
   ]
  },
  {
   "cell_type": "markdown",
   "metadata": {},
   "source": [
    "## Simple Net with Encoder"
   ]
  },
  {
   "cell_type": "code",
   "execution_count": null,
   "metadata": {},
   "outputs": [],
   "source": [
    "FEATURE_SIZE = tokenized_seqs.shape[1]\n",
    "\n",
    "class SimpleNet(nn.Module):\n",
    "    def __init__(self, vocab_size, feature_size, num_classes):\n",
    "        super(SimpleNet, self).__init__()\n",
    "        # lenth of the vocabulary (number of words in the vocabulary)\n",
    "        self.vocab_size = vocab_size\n",
    "        # embeded_dim: Dimension of word vectors.\n",
    "        self.feature_size = feature_size\n",
    "        \n",
    "        self.encoder = nn.Embedding(self.vocab_size, self.feature_size)\n",
    "\n",
    "        self.fc1 = nn.Linear(feature_size ** 2, 1000)\n",
    "        self.fc2 = nn.Linear(1000, num_classes)\n",
    "\n",
    "    def forward(self, x):\n",
    "        # The following line is required to send it through the encoder. \n",
    "        # because indexes are neccesary for use in the encoder\n",
    "        # x = torch.tensor(x).to(torch.int64)\n",
    "        x = x.clone().detach().requires_grad_(True).to(torch.int64)\n",
    "        \n",
    "    \n",
    "        # Encode. \n",
    "        # Output shape: (b, max_len, embedded_dim)\n",
    "        x = self.encoder(x)\n",
    "        \n",
    "        \n",
    "        x = torch.flatten(x, 1)\n",
    "        \n",
    "        # print(self.feature_size)\n",
    "        # print(x.shape)\n",
    "        \n",
    "        x = self.fc1(x)\n",
    "        x = F.relu(x)\n",
    "        x = self.fc2(x)\n",
    "        return x\n",
    "    \n",
    "\n",
    "\n",
    "# Creating net and training\n",
    "net = SimpleNet(len(voc2ind), FEATURE_SIZE, len(set(labels)))\n",
    "losses = train(net, train_dataloader, epochs = 5)\n",
    "\n",
    "# Evaluation\n",
    "plot_losses(losses, title = \"Splice Dataset: Convolutional Network Loss\")\n",
    "print_eval(net, train_dataloader, test_dataloader)\n",
    "print()"
   ]
  },
  {
   "cell_type": "raw",
   "metadata": {},
   "source": [
    "10 epochs, \n",
    "sequence length cut to 500\n",
    "Train accuracy: 0.2266596138587675\t(12855/56715)\n",
    "Test accuracy: 0.22786417010472865\t(1436/6302)"
   ]
  },
  {
   "cell_type": "markdown",
   "metadata": {},
   "source": [
    "## CNN"
   ]
  },
  {
   "cell_type": "markdown",
   "metadata": {},
   "source": [
    "DSC by CNN???"
   ]
  },
  {
   "cell_type": "markdown",
   "metadata": {},
   "source": [
    "# Attempt at CNN"
   ]
  },
  {
   "cell_type": "code",
   "execution_count": null,
   "metadata": {},
   "outputs": [],
   "source": [
    "curr_cutoff = None"
   ]
  },
  {
   "cell_type": "code",
   "execution_count": null,
   "metadata": {},
   "outputs": [],
   "source": [
    "750//2"
   ]
  },
  {
   "cell_type": "code",
   "execution_count": null,
   "metadata": {},
   "outputs": [],
   "source": [
    "# experiments\n",
    "# NOTE THAT in_channels_conv1 is always the seq_cutoff length\n",
    "hyperparams = [\n",
    "    # EXPERIMENT 0\n",
    "    {'in_channels_conv1': 1000,     'out_channels_conv1': 300,\n",
    "     'in_channels_conv2': 150,     'out_channels_conv2': 300,\n",
    "     'in_channels_conv3': 150,     'out_channels_conv3': 300,\n",
    "     'in_channels_fc1': 150,     'in_channels_fc2': 300, \n",
    "     'kernel_size': 20,     'stride': 20,\n",
    "     'decay': 0.01,\n",
    "     'epochs': 10,\n",
    "     'train_acc': 0.33,     'test_acc': 0.33,     'time': None\n",
    "    },\n",
    "    \n",
    "    # EXPERIMENT 1\n",
    "    {'in_channels_conv1': 2000,     'out_channels_conv1': 600,\n",
    "     'in_channels_conv2': 300,     'out_channels_conv2': 600,\n",
    "     'in_channels_conv3': 300,     'out_channels_conv3': 600,\n",
    "     'in_channels_fc1': 300,     'in_channels_fc2': 600, \n",
    "     'kernel_size': 20,     'stride': 20,\n",
    "     'decay': 0.01,\n",
    "     'epochs': 10,\n",
    "     'train_acc': 0.36,     'test_acc': 0.34,     'time': \"5hr\"\n",
    "    },  \n",
    "    \n",
    "    # EXPERIMENT 2\n",
    "    {'in_channels_conv1': 1000,     'out_channels_conv1': 300,\n",
    "     'in_channels_conv2': 150,     'out_channels_conv2': 75,\n",
    "     'in_channels_conv3': 75//2,     'out_channels_conv3': 75//2,\n",
    "     'in_channels_fc1': 38,     'in_channels_fc2': 300, \n",
    "     'kernel_size': 20,     'stride': 20,\n",
    "     'decay': 0.01,\n",
    "     'epochs': 10,\n",
    "     'train_acc': 0.27,     'test_acc': 0.27,     'time': \"1h 1m 40s\"\n",
    "    },\n",
    "]\n",
    "\n",
    "i = 2\n",
    "hp = hyperparams[i]"
   ]
  },
  {
   "cell_type": "code",
   "execution_count": null,
   "metadata": {},
   "outputs": [],
   "source": [
    "if curr_cutoff is None or curr_cutoff != hp['in_channels_conv1']:\n",
    "        train_dataloader, test_dataloader, new_seqs, voc2ind, tokenized_seqs, labels = prep_data(seqs, cutoff_len = hp['in_channels_conv1'])\n",
    "        FEATURE_SIZE = tokenized_seqs.shape[1]\n",
    "else:\n",
    "    print('already prepared for this in_channels_conv1')\n",
    "    \n",
    "curr_cutoff = hp['in_channels_conv1']"
   ]
  },
  {
   "cell_type": "code",
   "execution_count": null,
   "metadata": {},
   "outputs": [],
   "source": [
    "class DSC_by_CNN(nn.Module):\n",
    "    def __init__(self, vocab_size, feature_size, num_classes):\n",
    "        \n",
    "\n",
    "\n",
    "        super(DSC_by_CNN, self).__init__()\n",
    "        # Number of vocab words\n",
    "        self.vocab_size = vocab_size\n",
    "        # embeded_dim: Dimension of word vectors.\n",
    "        self.feature_size = feature_size\n",
    "\n",
    "        self.encoder = nn.Embedding(self.vocab_size, self.feature_size)\n",
    "        \n",
    "\n",
    "        self.conv1 = nn.Conv1d(in_channels=hp['in_channels_conv1'],\n",
    "                               out_channels=hp['out_channels_conv1'], \n",
    "                               kernel_size=hp['kernel_size'],\n",
    "                               stride = hp['stride'],\n",
    "                               padding = 1)\n",
    "        \n",
    "        self.conv2 = nn.Conv1d(in_channels=hp['in_channels_conv2'],\n",
    "                               out_channels=hp['out_channels_conv2'], \n",
    "                               kernel_size=hp['kernel_size'],\n",
    "                               stride = hp['stride'],\n",
    "                               padding = 1)\n",
    "        \n",
    "        self.conv3 = nn.Conv1d(in_channels=hp['in_channels_conv3'],\n",
    "                               out_channels=hp['out_channels_conv3'], \n",
    "                               kernel_size=hp['kernel_size'],\n",
    "                               stride = hp['stride'],\n",
    "                               padding = 1)\n",
    "\n",
    "        # Activation\n",
    "        self.act = nn.ReLU()\n",
    "\n",
    "        # Pooling\n",
    "        self.pool = nn.MaxPool2d(3, 2, 1)\n",
    "\n",
    "        # fully connected layer\n",
    "        self.fc1 = nn.Linear(hp['in_channels_fc1'], hp['in_channels_fc2'])\n",
    "        self.fc2 = nn.Linear(hp['in_channels_fc2'], num_classes)\n",
    "\n",
    "        # dropout\n",
    "        self.drop = nn.Dropout(p=0.5)\n",
    "\n",
    "\n",
    "    # seen in the network pytorch tutorial\n",
    "    # I've been using this function for years, no idea what it does.\n",
    "    # Would it kill the pytorch tutorial people to document this guy?\n",
    "    def num_flat_features(self, x):\n",
    "        size = x.size()[1:]  # all dimensions except the batch dimension\n",
    "        num_features = 1\n",
    "        for s in size:\n",
    "            num_features *= s\n",
    "        return num_features        \n",
    "\n",
    "\n",
    "    def forward(self, x):\n",
    "        # print(\"forward\")\n",
    "        # The following line is required to send it through the encoder. \n",
    "        # because indexes are neccesary for use in the encoder\n",
    "        # x = torch.tensor(x).to(torch.int64)\n",
    "        x = x.clone().detach().requires_grad_(True).to(torch.int64)\n",
    "        \n",
    "    \n",
    "        # Encode. \n",
    "        # Output shape: (b, max_len, embedded_dim)\n",
    "        x = self.encoder(x)\n",
    "  \n",
    "        # Permute shuffles dimensions. Do this to satisfy requirments of nn.Conv1d\n",
    "        # Output shape: (b, embedded_dim, max_len)\n",
    "        x = x.permute(0, 2, 1)\n",
    "\n",
    "        # convolutional layer 1\n",
    "        x = self.conv1(x)\n",
    "        x = self.act(x)                         \n",
    "        x = self.pool(x)\n",
    "\n",
    "        # convolutional layer 2\n",
    "        x = self.conv2(x)\n",
    "        x = self.act(x)\n",
    "        x = self.pool(x)\n",
    "        \n",
    "        # convolutional layer 3\n",
    "\n",
    "        # flattening\n",
    "        x = x.view(-1, self.num_flat_features(x))\n",
    "\n",
    "        # Tring to figure out the shape\n",
    "        #print(x.shape)\n",
    "\n",
    "        # fully linear layer + dropout\n",
    "        x = self.drop(x)\n",
    "        # x = self.softm(x)\n",
    "        x = self.fc1(x)\n",
    "        \n",
    "        # fully linear layer\n",
    "        x = self.fc2(x)\n",
    "\n",
    "        return x\n",
    "    \n",
    "start_time = time.time()\n",
    "# Creating net and training\n",
    "net = DSC_by_CNN(len(voc2ind), FEATURE_SIZE, len(set(labels)))\n",
    "losses = train(net, train_dataloader, epochs=hp['epochs'], lr=0.01, decay = hp['decay'])\n",
    "\n",
    "\n",
    "# Evaluation\n",
    "plot_losses(losses, title = \"Splice Dataset: Convolutional Network Loss\")\n",
    "print_eval(net, train_dataloader, test_dataloader)\n",
    "print()\n",
    "\n",
    "# time to complete\n",
    "end_time = time.time()\n",
    "print('Time to complete', time_str(end_time - start_time))"
   ]
  },
  {
   "cell_type": "markdown",
   "metadata": {},
   "source": [
    "### Kmers Model"
   ]
  },
  {
   "cell_type": "code",
   "execution_count": null,
   "metadata": {},
   "outputs": [],
   "source": [
    "if curr_cutoff is None or curr_cutoff != hp['in_channels_conv1']:\n",
    "    \n",
    "    train_dataloader, test_dataloader, new_seqs, voc2ind, tokenized_seqs, labels = prep_data(seqs, cutoff_len = hp['in_channels_conv1'])\n",
    "    FEATURE_SIZE = tokenized_seqs.shape[1]\n",
    "else:\n",
    "    print('already prepared for this in_channels_conv1')\n",
    "    \n",
    "curr_cutoff = hp['in_channels_conv1']"
   ]
  },
  {
   "cell_type": "code",
   "execution_count": null,
   "metadata": {},
   "outputs": [],
   "source": [
    "train_dataloader, test_dataloader, new_seqs, voc2ind, tokenized_seqs, labels = prep_data(seqs, \n",
    "                                                                                         cutoff_len = hp['in_channels_conv1']\n",
    "                                                                                            ,kmer_size=2)"
   ]
  },
  {
   "cell_type": "code",
   "execution_count": null,
   "metadata": {},
   "outputs": [],
   "source": []
  }
 ],
 "metadata": {
  "colab": {
   "collapsed_sections": [],
   "name": "CNN_Test1.ipynb",
   "provenance": []
  },
  "kernelspec": {
   "display_name": "Python 3 (ipykernel)",
   "language": "python",
   "name": "python3"
  },
  "language_info": {
   "codemirror_mode": {
    "name": "ipython",
    "version": 3
   },
   "file_extension": ".py",
   "mimetype": "text/x-python",
   "name": "python",
   "nbconvert_exporter": "python",
   "pygments_lexer": "ipython3",
   "version": "3.9.7"
  }
 },
 "nbformat": 4,
 "nbformat_minor": 1
}
