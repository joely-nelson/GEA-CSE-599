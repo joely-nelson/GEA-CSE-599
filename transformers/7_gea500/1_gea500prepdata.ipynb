{
 "cells": [
  {
   "cell_type": "markdown",
   "metadata": {},
   "source": [
    "## Process data"
   ]
  },
  {
   "cell_type": "markdown",
   "metadata": {},
   "source": [
    "Load the gea data, taking only the 30 most abundant classes.\n",
    "Here as a new thing I will take 2048 sequence length so it will be split in $4*512$ preds by the model.\n",
    "\n",
    "Here training and test data is completely balanced (283 observations per class)"
   ]
  },
  {
   "cell_type": "markdown",
   "metadata": {},
   "source": [
    "**VERY IMPORTANT:** Here, since I cannot find enough stretches without any \"N\" nucleotide to get this amount of samples for all classes and the model does not support them, I follow this strategy:\n",
    " - Take a random sequence that does not have more than 3 Ns, convert the Ns to A residues.\n",
    " - There are many sequences without any Ns but I am afraid that if I do this I would be "
   ]
  },
  {
   "cell_type": "markdown",
   "metadata": {},
   "source": [
    "**Define total number of samples**. Since 1313 are going to go to test dataset (one for each), I am going to use 8321 in total, because: (8321-1313)/32=219 which is a round number so that our batches are full. So train set is 7008 of size"
   ]
  },
  {
   "cell_type": "code",
   "execution_count": 2,
   "metadata": {},
   "outputs": [],
   "source": [
    "# set directory of this repo so that all paths can be absolute/relative (not ended with a '/')\n",
    "path_prefix = '/home/mexposit/cg/gea'"
   ]
  },
  {
   "cell_type": "code",
   "execution_count": 3,
   "metadata": {},
   "outputs": [],
   "source": [
    "import math\n",
    "import numpy as np\n",
    "import pandas as pd\n",
    "import matplotlib.pyplot as plt\n",
    "import seaborn as sns\n",
    "from imblearn.over_sampling import RandomOverSampler\n",
    "from imblearn.under_sampling import RandomUnderSampler"
   ]
  },
  {
   "cell_type": "code",
   "execution_count": 4,
   "metadata": {},
   "outputs": [],
   "source": [
    "def rev_comp(seq):\n",
    "    revcomp = ''\n",
    "    for nt in seq:\n",
    "        if nt.upper() == 'A':\n",
    "            revcomp = revcomp+'T'\n",
    "        elif nt.upper() == 'G':\n",
    "            revcomp = revcomp+'C'\n",
    "        elif nt.upper() == 'C':\n",
    "            revcomp = revcomp+'G'\n",
    "        elif nt.upper() == 'T':\n",
    "            revcomp = revcomp+'A'\n",
    "        else:\n",
    "            raise ValueError(f'Unrecognized nucleotide {nt}')\n",
    "    return revcomp[::-1]"
   ]
  },
  {
   "cell_type": "code",
   "execution_count": 5,
   "metadata": {},
   "outputs": [
    {
     "data": {
      "text/plain": [
       "'CGAT'"
      ]
     },
     "execution_count": 5,
     "metadata": {},
     "output_type": "execute_result"
    }
   ],
   "source": [
    "rev_comp('ATCG')"
   ]
  },
  {
   "cell_type": "code",
   "execution_count": 6,
   "metadata": {},
   "outputs": [],
   "source": [
    "def min_nonN_seq(seq):\n",
    "    \"\"\"\n",
    "    Gets the number of contiguous nucleotides in a sequence that are not N\n",
    "    \"\"\"\n",
    "    seq = seq.upper()\n",
    "    max_stretch = 0\n",
    "    cont_len = 0\n",
    "    for char in seq:\n",
    "        if char in 'ATCG':\n",
    "            cont_len += 1\n",
    "        elif char == 'N':\n",
    "            # found N, see if contiguous count is larger than previous maximum\n",
    "            if cont_len > max_stretch:\n",
    "                max_stretch = cont_len\n",
    "            # reset to zero\n",
    "            cont_len = 0\n",
    "        else:\n",
    "            raise ValueError(f'Found unrecognized nucleotide {char} in seq {seq}')\n",
    "    # get stretch if no N has been found\n",
    "    if max_stretch == 0:\n",
    "        max_stretch = cont_len\n",
    "    return max_stretch    "
   ]
  },
  {
   "cell_type": "code",
   "execution_count": 7,
   "metadata": {},
   "outputs": [
    {
     "name": "stdout",
     "output_type": "stream",
     "text": [
      "5\n",
      "0\n",
      "7\n"
     ]
    }
   ],
   "source": [
    "print(min_nonN_seq('ATCGTNATNA'))\n",
    "print(min_nonN_seq('NNNN'))\n",
    "print(min_nonN_seq('agtcatc'))"
   ]
  },
  {
   "cell_type": "markdown",
   "metadata": {},
   "source": [
    "### Load data"
   ]
  },
  {
   "cell_type": "code",
   "execution_count": 8,
   "metadata": {},
   "outputs": [],
   "source": [
    "train_vals = pd.read_csv(f'{path_prefix}/data/train_values.csv', index_col=0)\n",
    "train_labl = pd.read_csv(f'{path_prefix}/data/train_labels.csv', index_col=0)"
   ]
  },
  {
   "cell_type": "code",
   "execution_count": 9,
   "metadata": {},
   "outputs": [
    {
     "data": {
      "text/html": [
       "<div>\n",
       "<style scoped>\n",
       "    .dataframe tbody tr th:only-of-type {\n",
       "        vertical-align: middle;\n",
       "    }\n",
       "\n",
       "    .dataframe tbody tr th {\n",
       "        vertical-align: top;\n",
       "    }\n",
       "\n",
       "    .dataframe thead th {\n",
       "        text-align: right;\n",
       "    }\n",
       "</style>\n",
       "<table border=\"1\" class=\"dataframe\">\n",
       "  <thead>\n",
       "    <tr style=\"text-align: right;\">\n",
       "      <th></th>\n",
       "      <th>sequence</th>\n",
       "      <th>bacterial_resistance_ampicillin</th>\n",
       "      <th>bacterial_resistance_chloramphenicol</th>\n",
       "      <th>bacterial_resistance_kanamycin</th>\n",
       "      <th>bacterial_resistance_other</th>\n",
       "      <th>bacterial_resistance_spectinomycin</th>\n",
       "      <th>copy_number_high_copy</th>\n",
       "      <th>copy_number_low_copy</th>\n",
       "      <th>copy_number_unknown</th>\n",
       "      <th>growth_strain_ccdb_survival</th>\n",
       "      <th>...</th>\n",
       "      <th>species_budding_yeast</th>\n",
       "      <th>species_fly</th>\n",
       "      <th>species_human</th>\n",
       "      <th>species_mouse</th>\n",
       "      <th>species_mustard_weed</th>\n",
       "      <th>species_nematode</th>\n",
       "      <th>species_other</th>\n",
       "      <th>species_rat</th>\n",
       "      <th>species_synthetic</th>\n",
       "      <th>species_zebrafish</th>\n",
       "    </tr>\n",
       "    <tr>\n",
       "      <th>sequence_id</th>\n",
       "      <th></th>\n",
       "      <th></th>\n",
       "      <th></th>\n",
       "      <th></th>\n",
       "      <th></th>\n",
       "      <th></th>\n",
       "      <th></th>\n",
       "      <th></th>\n",
       "      <th></th>\n",
       "      <th></th>\n",
       "      <th></th>\n",
       "      <th></th>\n",
       "      <th></th>\n",
       "      <th></th>\n",
       "      <th></th>\n",
       "      <th></th>\n",
       "      <th></th>\n",
       "      <th></th>\n",
       "      <th></th>\n",
       "      <th></th>\n",
       "      <th></th>\n",
       "    </tr>\n",
       "  </thead>\n",
       "  <tbody>\n",
       "    <tr>\n",
       "      <th>9ZIMC</th>\n",
       "      <td>CATGCATTAGTTATTAATAGTAATCAATTACGGGGTCATTAGTTCA...</td>\n",
       "      <td>0.0</td>\n",
       "      <td>0.0</td>\n",
       "      <td>1.0</td>\n",
       "      <td>0.0</td>\n",
       "      <td>0.0</td>\n",
       "      <td>1.0</td>\n",
       "      <td>0.0</td>\n",
       "      <td>0.0</td>\n",
       "      <td>0.0</td>\n",
       "      <td>...</td>\n",
       "      <td>0.0</td>\n",
       "      <td>0.0</td>\n",
       "      <td>0.0</td>\n",
       "      <td>1.0</td>\n",
       "      <td>0.0</td>\n",
       "      <td>0.0</td>\n",
       "      <td>0.0</td>\n",
       "      <td>0.0</td>\n",
       "      <td>0.0</td>\n",
       "      <td>0.0</td>\n",
       "    </tr>\n",
       "    <tr>\n",
       "      <th>5SAQC</th>\n",
       "      <td>GCTGGATGGTTTGGGACATGTGCAGCCCCGTCTCTGTATGGAGTGA...</td>\n",
       "      <td>1.0</td>\n",
       "      <td>0.0</td>\n",
       "      <td>0.0</td>\n",
       "      <td>0.0</td>\n",
       "      <td>0.0</td>\n",
       "      <td>1.0</td>\n",
       "      <td>0.0</td>\n",
       "      <td>0.0</td>\n",
       "      <td>0.0</td>\n",
       "      <td>...</td>\n",
       "      <td>0.0</td>\n",
       "      <td>0.0</td>\n",
       "      <td>0.0</td>\n",
       "      <td>1.0</td>\n",
       "      <td>0.0</td>\n",
       "      <td>0.0</td>\n",
       "      <td>0.0</td>\n",
       "      <td>0.0</td>\n",
       "      <td>0.0</td>\n",
       "      <td>0.0</td>\n",
       "    </tr>\n",
       "    <tr>\n",
       "      <th>E7QRO</th>\n",
       "      <td>NNCCGGGCTGTAGCTACACAGGGCGGAGATGAGAGCCCTACGAAAG...</td>\n",
       "      <td>1.0</td>\n",
       "      <td>0.0</td>\n",
       "      <td>0.0</td>\n",
       "      <td>0.0</td>\n",
       "      <td>0.0</td>\n",
       "      <td>1.0</td>\n",
       "      <td>0.0</td>\n",
       "      <td>0.0</td>\n",
       "      <td>0.0</td>\n",
       "      <td>...</td>\n",
       "      <td>0.0</td>\n",
       "      <td>0.0</td>\n",
       "      <td>0.0</td>\n",
       "      <td>1.0</td>\n",
       "      <td>0.0</td>\n",
       "      <td>0.0</td>\n",
       "      <td>0.0</td>\n",
       "      <td>0.0</td>\n",
       "      <td>0.0</td>\n",
       "      <td>0.0</td>\n",
       "    </tr>\n",
       "    <tr>\n",
       "      <th>CT5FP</th>\n",
       "      <td>GCGGAGATGAAGAGCCCTACGAAAGCTGAGCCTGCGACTCCCGCAG...</td>\n",
       "      <td>1.0</td>\n",
       "      <td>0.0</td>\n",
       "      <td>0.0</td>\n",
       "      <td>0.0</td>\n",
       "      <td>0.0</td>\n",
       "      <td>1.0</td>\n",
       "      <td>0.0</td>\n",
       "      <td>0.0</td>\n",
       "      <td>0.0</td>\n",
       "      <td>...</td>\n",
       "      <td>0.0</td>\n",
       "      <td>0.0</td>\n",
       "      <td>0.0</td>\n",
       "      <td>1.0</td>\n",
       "      <td>0.0</td>\n",
       "      <td>0.0</td>\n",
       "      <td>0.0</td>\n",
       "      <td>0.0</td>\n",
       "      <td>0.0</td>\n",
       "      <td>0.0</td>\n",
       "    </tr>\n",
       "    <tr>\n",
       "      <th>7PTD8</th>\n",
       "      <td>CGCGCATTACTTCACATGGTCCTCAAGGGTAACATGAAAGTGATCC...</td>\n",
       "      <td>1.0</td>\n",
       "      <td>0.0</td>\n",
       "      <td>0.0</td>\n",
       "      <td>0.0</td>\n",
       "      <td>0.0</td>\n",
       "      <td>1.0</td>\n",
       "      <td>0.0</td>\n",
       "      <td>0.0</td>\n",
       "      <td>0.0</td>\n",
       "      <td>...</td>\n",
       "      <td>0.0</td>\n",
       "      <td>0.0</td>\n",
       "      <td>0.0</td>\n",
       "      <td>1.0</td>\n",
       "      <td>0.0</td>\n",
       "      <td>0.0</td>\n",
       "      <td>0.0</td>\n",
       "      <td>0.0</td>\n",
       "      <td>0.0</td>\n",
       "      <td>0.0</td>\n",
       "    </tr>\n",
       "  </tbody>\n",
       "</table>\n",
       "<p>5 rows × 40 columns</p>\n",
       "</div>"
      ],
      "text/plain": [
       "                                                      sequence  \\\n",
       "sequence_id                                                      \n",
       "9ZIMC        CATGCATTAGTTATTAATAGTAATCAATTACGGGGTCATTAGTTCA...   \n",
       "5SAQC        GCTGGATGGTTTGGGACATGTGCAGCCCCGTCTCTGTATGGAGTGA...   \n",
       "E7QRO        NNCCGGGCTGTAGCTACACAGGGCGGAGATGAGAGCCCTACGAAAG...   \n",
       "CT5FP        GCGGAGATGAAGAGCCCTACGAAAGCTGAGCCTGCGACTCCCGCAG...   \n",
       "7PTD8        CGCGCATTACTTCACATGGTCCTCAAGGGTAACATGAAAGTGATCC...   \n",
       "\n",
       "             bacterial_resistance_ampicillin  \\\n",
       "sequence_id                                    \n",
       "9ZIMC                                    0.0   \n",
       "5SAQC                                    1.0   \n",
       "E7QRO                                    1.0   \n",
       "CT5FP                                    1.0   \n",
       "7PTD8                                    1.0   \n",
       "\n",
       "             bacterial_resistance_chloramphenicol  \\\n",
       "sequence_id                                         \n",
       "9ZIMC                                         0.0   \n",
       "5SAQC                                         0.0   \n",
       "E7QRO                                         0.0   \n",
       "CT5FP                                         0.0   \n",
       "7PTD8                                         0.0   \n",
       "\n",
       "             bacterial_resistance_kanamycin  bacterial_resistance_other  \\\n",
       "sequence_id                                                               \n",
       "9ZIMC                                   1.0                         0.0   \n",
       "5SAQC                                   0.0                         0.0   \n",
       "E7QRO                                   0.0                         0.0   \n",
       "CT5FP                                   0.0                         0.0   \n",
       "7PTD8                                   0.0                         0.0   \n",
       "\n",
       "             bacterial_resistance_spectinomycin  copy_number_high_copy  \\\n",
       "sequence_id                                                              \n",
       "9ZIMC                                       0.0                    1.0   \n",
       "5SAQC                                       0.0                    1.0   \n",
       "E7QRO                                       0.0                    1.0   \n",
       "CT5FP                                       0.0                    1.0   \n",
       "7PTD8                                       0.0                    1.0   \n",
       "\n",
       "             copy_number_low_copy  copy_number_unknown  \\\n",
       "sequence_id                                              \n",
       "9ZIMC                         0.0                  0.0   \n",
       "5SAQC                         0.0                  0.0   \n",
       "E7QRO                         0.0                  0.0   \n",
       "CT5FP                         0.0                  0.0   \n",
       "7PTD8                         0.0                  0.0   \n",
       "\n",
       "             growth_strain_ccdb_survival  ...  species_budding_yeast  \\\n",
       "sequence_id                               ...                          \n",
       "9ZIMC                                0.0  ...                    0.0   \n",
       "5SAQC                                0.0  ...                    0.0   \n",
       "E7QRO                                0.0  ...                    0.0   \n",
       "CT5FP                                0.0  ...                    0.0   \n",
       "7PTD8                                0.0  ...                    0.0   \n",
       "\n",
       "             species_fly  species_human  species_mouse  species_mustard_weed  \\\n",
       "sequence_id                                                                    \n",
       "9ZIMC                0.0            0.0            1.0                   0.0   \n",
       "5SAQC                0.0            0.0            1.0                   0.0   \n",
       "E7QRO                0.0            0.0            1.0                   0.0   \n",
       "CT5FP                0.0            0.0            1.0                   0.0   \n",
       "7PTD8                0.0            0.0            1.0                   0.0   \n",
       "\n",
       "             species_nematode  species_other  species_rat  species_synthetic  \\\n",
       "sequence_id                                                                    \n",
       "9ZIMC                     0.0            0.0          0.0                0.0   \n",
       "5SAQC                     0.0            0.0          0.0                0.0   \n",
       "E7QRO                     0.0            0.0          0.0                0.0   \n",
       "CT5FP                     0.0            0.0          0.0                0.0   \n",
       "7PTD8                     0.0            0.0          0.0                0.0   \n",
       "\n",
       "             species_zebrafish  \n",
       "sequence_id                     \n",
       "9ZIMC                      0.0  \n",
       "5SAQC                      0.0  \n",
       "E7QRO                      0.0  \n",
       "CT5FP                      0.0  \n",
       "7PTD8                      0.0  \n",
       "\n",
       "[5 rows x 40 columns]"
      ]
     },
     "execution_count": 9,
     "metadata": {},
     "output_type": "execute_result"
    }
   ],
   "source": [
    "train_vals.head()"
   ]
  },
  {
   "cell_type": "code",
   "execution_count": 10,
   "metadata": {},
   "outputs": [
    {
     "data": {
      "text/html": [
       "<div>\n",
       "<style scoped>\n",
       "    .dataframe tbody tr th:only-of-type {\n",
       "        vertical-align: middle;\n",
       "    }\n",
       "\n",
       "    .dataframe tbody tr th {\n",
       "        vertical-align: top;\n",
       "    }\n",
       "\n",
       "    .dataframe thead th {\n",
       "        text-align: right;\n",
       "    }\n",
       "</style>\n",
       "<table border=\"1\" class=\"dataframe\">\n",
       "  <thead>\n",
       "    <tr style=\"text-align: right;\">\n",
       "      <th></th>\n",
       "      <th>00Q4V31T</th>\n",
       "      <th>012VT4JK</th>\n",
       "      <th>028IO5W2</th>\n",
       "      <th>03GRNN7N</th>\n",
       "      <th>03Y3W51H</th>\n",
       "      <th>09MQV1TY</th>\n",
       "      <th>0A4AHRCT</th>\n",
       "      <th>0A9M05NC</th>\n",
       "      <th>0B9GCUVV</th>\n",
       "      <th>0CL7QVG8</th>\n",
       "      <th>...</th>\n",
       "      <th>ZQNGGY33</th>\n",
       "      <th>ZSHS4VJZ</th>\n",
       "      <th>ZT1IP3T6</th>\n",
       "      <th>ZU6860XU</th>\n",
       "      <th>ZU6TVFFU</th>\n",
       "      <th>ZU75P59K</th>\n",
       "      <th>ZUI6TDWV</th>\n",
       "      <th>ZWFD8OHC</th>\n",
       "      <th>ZX06ZDZN</th>\n",
       "      <th>ZZJVE4HO</th>\n",
       "    </tr>\n",
       "    <tr>\n",
       "      <th>sequence_id</th>\n",
       "      <th></th>\n",
       "      <th></th>\n",
       "      <th></th>\n",
       "      <th></th>\n",
       "      <th></th>\n",
       "      <th></th>\n",
       "      <th></th>\n",
       "      <th></th>\n",
       "      <th></th>\n",
       "      <th></th>\n",
       "      <th></th>\n",
       "      <th></th>\n",
       "      <th></th>\n",
       "      <th></th>\n",
       "      <th></th>\n",
       "      <th></th>\n",
       "      <th></th>\n",
       "      <th></th>\n",
       "      <th></th>\n",
       "      <th></th>\n",
       "      <th></th>\n",
       "    </tr>\n",
       "  </thead>\n",
       "  <tbody>\n",
       "    <tr>\n",
       "      <th>9ZIMC</th>\n",
       "      <td>0.0</td>\n",
       "      <td>0.0</td>\n",
       "      <td>0.0</td>\n",
       "      <td>0.0</td>\n",
       "      <td>0.0</td>\n",
       "      <td>0.0</td>\n",
       "      <td>0.0</td>\n",
       "      <td>0.0</td>\n",
       "      <td>0.0</td>\n",
       "      <td>0.0</td>\n",
       "      <td>...</td>\n",
       "      <td>0.0</td>\n",
       "      <td>0.0</td>\n",
       "      <td>0.0</td>\n",
       "      <td>0.0</td>\n",
       "      <td>0.0</td>\n",
       "      <td>0.0</td>\n",
       "      <td>0.0</td>\n",
       "      <td>0.0</td>\n",
       "      <td>0.0</td>\n",
       "      <td>0.0</td>\n",
       "    </tr>\n",
       "    <tr>\n",
       "      <th>5SAQC</th>\n",
       "      <td>0.0</td>\n",
       "      <td>0.0</td>\n",
       "      <td>0.0</td>\n",
       "      <td>0.0</td>\n",
       "      <td>0.0</td>\n",
       "      <td>0.0</td>\n",
       "      <td>0.0</td>\n",
       "      <td>0.0</td>\n",
       "      <td>0.0</td>\n",
       "      <td>0.0</td>\n",
       "      <td>...</td>\n",
       "      <td>0.0</td>\n",
       "      <td>0.0</td>\n",
       "      <td>0.0</td>\n",
       "      <td>0.0</td>\n",
       "      <td>0.0</td>\n",
       "      <td>0.0</td>\n",
       "      <td>0.0</td>\n",
       "      <td>0.0</td>\n",
       "      <td>0.0</td>\n",
       "      <td>0.0</td>\n",
       "    </tr>\n",
       "    <tr>\n",
       "      <th>E7QRO</th>\n",
       "      <td>0.0</td>\n",
       "      <td>0.0</td>\n",
       "      <td>0.0</td>\n",
       "      <td>0.0</td>\n",
       "      <td>0.0</td>\n",
       "      <td>0.0</td>\n",
       "      <td>0.0</td>\n",
       "      <td>0.0</td>\n",
       "      <td>0.0</td>\n",
       "      <td>0.0</td>\n",
       "      <td>...</td>\n",
       "      <td>0.0</td>\n",
       "      <td>0.0</td>\n",
       "      <td>0.0</td>\n",
       "      <td>0.0</td>\n",
       "      <td>0.0</td>\n",
       "      <td>0.0</td>\n",
       "      <td>0.0</td>\n",
       "      <td>0.0</td>\n",
       "      <td>0.0</td>\n",
       "      <td>0.0</td>\n",
       "    </tr>\n",
       "    <tr>\n",
       "      <th>CT5FP</th>\n",
       "      <td>0.0</td>\n",
       "      <td>0.0</td>\n",
       "      <td>0.0</td>\n",
       "      <td>0.0</td>\n",
       "      <td>0.0</td>\n",
       "      <td>0.0</td>\n",
       "      <td>0.0</td>\n",
       "      <td>0.0</td>\n",
       "      <td>0.0</td>\n",
       "      <td>0.0</td>\n",
       "      <td>...</td>\n",
       "      <td>0.0</td>\n",
       "      <td>0.0</td>\n",
       "      <td>0.0</td>\n",
       "      <td>0.0</td>\n",
       "      <td>0.0</td>\n",
       "      <td>0.0</td>\n",
       "      <td>0.0</td>\n",
       "      <td>0.0</td>\n",
       "      <td>0.0</td>\n",
       "      <td>0.0</td>\n",
       "    </tr>\n",
       "    <tr>\n",
       "      <th>7PTD8</th>\n",
       "      <td>0.0</td>\n",
       "      <td>0.0</td>\n",
       "      <td>0.0</td>\n",
       "      <td>0.0</td>\n",
       "      <td>0.0</td>\n",
       "      <td>0.0</td>\n",
       "      <td>0.0</td>\n",
       "      <td>0.0</td>\n",
       "      <td>0.0</td>\n",
       "      <td>0.0</td>\n",
       "      <td>...</td>\n",
       "      <td>0.0</td>\n",
       "      <td>0.0</td>\n",
       "      <td>0.0</td>\n",
       "      <td>0.0</td>\n",
       "      <td>0.0</td>\n",
       "      <td>0.0</td>\n",
       "      <td>0.0</td>\n",
       "      <td>0.0</td>\n",
       "      <td>0.0</td>\n",
       "      <td>0.0</td>\n",
       "    </tr>\n",
       "  </tbody>\n",
       "</table>\n",
       "<p>5 rows × 1314 columns</p>\n",
       "</div>"
      ],
      "text/plain": [
       "             00Q4V31T  012VT4JK  028IO5W2  03GRNN7N  03Y3W51H  09MQV1TY  \\\n",
       "sequence_id                                                               \n",
       "9ZIMC             0.0       0.0       0.0       0.0       0.0       0.0   \n",
       "5SAQC             0.0       0.0       0.0       0.0       0.0       0.0   \n",
       "E7QRO             0.0       0.0       0.0       0.0       0.0       0.0   \n",
       "CT5FP             0.0       0.0       0.0       0.0       0.0       0.0   \n",
       "7PTD8             0.0       0.0       0.0       0.0       0.0       0.0   \n",
       "\n",
       "             0A4AHRCT  0A9M05NC  0B9GCUVV  0CL7QVG8  ...  ZQNGGY33  ZSHS4VJZ  \\\n",
       "sequence_id                                          ...                       \n",
       "9ZIMC             0.0       0.0       0.0       0.0  ...       0.0       0.0   \n",
       "5SAQC             0.0       0.0       0.0       0.0  ...       0.0       0.0   \n",
       "E7QRO             0.0       0.0       0.0       0.0  ...       0.0       0.0   \n",
       "CT5FP             0.0       0.0       0.0       0.0  ...       0.0       0.0   \n",
       "7PTD8             0.0       0.0       0.0       0.0  ...       0.0       0.0   \n",
       "\n",
       "             ZT1IP3T6  ZU6860XU  ZU6TVFFU  ZU75P59K  ZUI6TDWV  ZWFD8OHC  \\\n",
       "sequence_id                                                               \n",
       "9ZIMC             0.0       0.0       0.0       0.0       0.0       0.0   \n",
       "5SAQC             0.0       0.0       0.0       0.0       0.0       0.0   \n",
       "E7QRO             0.0       0.0       0.0       0.0       0.0       0.0   \n",
       "CT5FP             0.0       0.0       0.0       0.0       0.0       0.0   \n",
       "7PTD8             0.0       0.0       0.0       0.0       0.0       0.0   \n",
       "\n",
       "             ZX06ZDZN  ZZJVE4HO  \n",
       "sequence_id                      \n",
       "9ZIMC             0.0       0.0  \n",
       "5SAQC             0.0       0.0  \n",
       "E7QRO             0.0       0.0  \n",
       "CT5FP             0.0       0.0  \n",
       "7PTD8             0.0       0.0  \n",
       "\n",
       "[5 rows x 1314 columns]"
      ]
     },
     "execution_count": 10,
     "metadata": {},
     "output_type": "execute_result"
    }
   ],
   "source": [
    "train_labl.head()"
   ]
  },
  {
   "cell_type": "markdown",
   "metadata": {},
   "source": [
    "### There are sequence duplicates, remove them"
   ]
  },
  {
   "cell_type": "markdown",
   "metadata": {},
   "source": [
    "Aprox 500 entries"
   ]
  },
  {
   "cell_type": "code",
   "execution_count": 11,
   "metadata": {},
   "outputs": [
    {
     "data": {
      "text/plain": [
       "(63017, 40)"
      ]
     },
     "execution_count": 11,
     "metadata": {},
     "output_type": "execute_result"
    }
   ],
   "source": [
    "train_vals.shape"
   ]
  },
  {
   "cell_type": "code",
   "execution_count": 12,
   "metadata": {},
   "outputs": [],
   "source": [
    "train_vals.drop_duplicates('sequence', inplace=True)"
   ]
  },
  {
   "cell_type": "code",
   "execution_count": 13,
   "metadata": {},
   "outputs": [
    {
     "data": {
      "text/plain": [
       "(62643, 40)"
      ]
     },
     "execution_count": 13,
     "metadata": {},
     "output_type": "execute_result"
    }
   ],
   "source": [
    "train_vals.shape"
   ]
  },
  {
   "cell_type": "markdown",
   "metadata": {},
   "source": [
    "Also make the change in the labels"
   ]
  },
  {
   "cell_type": "code",
   "execution_count": 14,
   "metadata": {},
   "outputs": [],
   "source": [
    "train_labl = train_labl.loc[train_vals.index].copy()"
   ]
  },
  {
   "cell_type": "code",
   "execution_count": 15,
   "metadata": {},
   "outputs": [
    {
     "data": {
      "text/plain": [
       "(62643, 40)"
      ]
     },
     "execution_count": 15,
     "metadata": {},
     "output_type": "execute_result"
    }
   ],
   "source": [
    "train_vals.shape"
   ]
  },
  {
   "cell_type": "markdown",
   "metadata": {},
   "source": [
    "Reverse one hot encoding of labels"
   ]
  },
  {
   "cell_type": "code",
   "execution_count": 16,
   "metadata": {},
   "outputs": [],
   "source": [
    "labs = train_labl.columns"
   ]
  },
  {
   "cell_type": "code",
   "execution_count": 17,
   "metadata": {},
   "outputs": [],
   "source": [
    "labels = train_labl.apply(lambda x: labs[np.array(x.values, dtype=bool)][0], axis=1)"
   ]
  },
  {
   "cell_type": "markdown",
   "metadata": {},
   "source": [
    "### Visualize label imbalance"
   ]
  },
  {
   "cell_type": "code",
   "execution_count": 18,
   "metadata": {},
   "outputs": [
    {
     "data": {
      "text/plain": [
       "I7FXTVDP    8226\n",
       "RKJHZGDQ    2732\n",
       "GTVTUGVY    2660\n",
       "A18S09P2    1054\n",
       "Q2K8NHZY     970\n",
       "            ... \n",
       "G2P73NZ0       3\n",
       "58BSUZQB       3\n",
       "WB78G3XF       2\n",
       "ON9AXMKF       1\n",
       "0L3Y6ZB2       1\n",
       "Length: 1314, dtype: int64"
      ]
     },
     "execution_count": 18,
     "metadata": {},
     "output_type": "execute_result"
    }
   ],
   "source": [
    "labels.value_counts()"
   ]
  },
  {
   "cell_type": "code",
   "execution_count": 19,
   "metadata": {},
   "outputs": [
    {
     "data": {
      "image/png": "[encoded data removed]",
      "text/plain": [
       "<Figure size 432x288 with 1 Axes>"
      ]
     },
     "metadata": {
      "needs_background": "light"
     },
     "output_type": "display_data"
    }
   ],
   "source": [
    "plt.bar(x=labels.value_counts()[:50].index, height=labels.value_counts()[:50].values)\n",
    "plt.xticks(rotation = 90)\n",
    "plt.show()"
   ]
  },
  {
   "cell_type": "code",
   "execution_count": 20,
   "metadata": {},
   "outputs": [
    {
     "data": {
      "image/png": "[encoded data removed]",
      "text/plain": [
       "<Figure size 432x288 with 1 Axes>"
      ]
     },
     "metadata": {
      "needs_background": "light"
     },
     "output_type": "display_data"
    }
   ],
   "source": [
    "plt.bar(x=labels.value_counts()[50:400].index, height=labels.value_counts()[50:400].values)\n",
    "plt.xticks(rotation = 90)\n",
    "plt.show()"
   ]
  },
  {
   "cell_type": "markdown",
   "metadata": {},
   "source": [
    "More than half of the data has less than 25 sequences"
   ]
  },
  {
   "cell_type": "code",
   "execution_count": 21,
   "metadata": {},
   "outputs": [
    {
     "data": {
      "image/png": "[encoded data removed]",
      "text/plain": [
       "<Figure size 432x288 with 1 Axes>"
      ]
     },
     "metadata": {
      "needs_background": "light"
     },
     "output_type": "display_data"
    }
   ],
   "source": [
    "plt.bar(x=labels.value_counts()[400:].index, height=labels.value_counts()[400:].values)\n",
    "plt.xticks(rotation = 90)\n",
    "plt.show()"
   ]
  },
  {
   "cell_type": "code",
   "execution_count": 37,
   "metadata": {},
   "outputs": [
    {
     "data": {
      "image/png": "[encoded data removed]",
      "text/plain": [
       "<Figure size 1000x600 with 1 Axes>"
      ]
     },
     "metadata": {
      "needs_background": "light"
     },
     "output_type": "display_data"
    }
   ],
   "source": [
    "plt.figure(figsize=(5,3), dpi=200)\n",
    "sns.histplot(labels.value_counts(), log_scale=True)\n",
    "plt.xlabel('Sample number by label')\n",
    "plt.show()"
   ]
  },
  {
   "cell_type": "markdown",
   "metadata": {},
   "source": [
    "### Partially balancing the dataset"
   ]
  },
  {
   "cell_type": "markdown",
   "metadata": {},
   "source": [
    "If I use weights INVERSELY proportional to the number of original samples, I get lots of samples of the ones that had very few examples and data becomes very imbalanced but the other way around."
   ]
  },
  {
   "cell_type": "markdown",
   "metadata": {},
   "source": [
    "Define total number of samples. Since 1313 are going to go to test dataset (one for each), I am going to use 8321 in total, because: (8321-1313)/32=219 which is a round number so that our batches are full"
   ]
  },
  {
   "cell_type": "code",
   "execution_count": 38,
   "metadata": {},
   "outputs": [],
   "source": [
    "num_samples = 8321"
   ]
  },
  {
   "cell_type": "code",
   "execution_count": 39,
   "metadata": {},
   "outputs": [],
   "source": [
    "lab_value_cts = labels.value_counts()\n",
    "lab_ids = lab_value_cts.index\n",
    "lab_val = lab_value_cts.values"
   ]
  },
  {
   "cell_type": "code",
   "execution_count": 40,
   "metadata": {},
   "outputs": [],
   "source": [
    "weights = [1/weig for weig in (lab_val)]\n",
    "weights = weights / np.sum(weights) #normalize to 1\n",
    "lab_dist = np.random.choice(lab_ids, size=num_samples, p=weights)"
   ]
  },
  {
   "cell_type": "code",
   "execution_count": 41,
   "metadata": {},
   "outputs": [],
   "source": [
    "resampl = pd.Series(lab_dist, name='resampled').value_counts()"
   ]
  },
  {
   "cell_type": "code",
   "execution_count": 42,
   "metadata": {},
   "outputs": [],
   "source": [
    "comp = pd.DataFrame(lab_value_cts, columns=['original']).join(resampl)"
   ]
  },
  {
   "cell_type": "code",
   "execution_count": 43,
   "metadata": {},
   "outputs": [
    {
     "data": {
      "image/png": "[encoded data removed]",
      "text/plain": [
       "<Figure size 360x360 with 1 Axes>"
      ]
     },
     "metadata": {
      "needs_background": "light"
     },
     "output_type": "display_data"
    }
   ],
   "source": [
    "sns.catplot(x='resampled', y='original', data=comp)\n",
    "plt.xticks(rotation=90)\n",
    "plt.show()"
   ]
  },
  {
   "cell_type": "markdown",
   "metadata": {},
   "source": [
    "I can follow another strategy, which is summing a value orders of magnitude larger than the most abundant sample to decrease the differences between samples, this way I don't need to inverse it. Still more abundant samples are somewhat more likely (not much) to have more samples than the less abundant "
   ]
  },
  {
   "cell_type": "code",
   "execution_count": 50,
   "metadata": {},
   "outputs": [],
   "source": [
    "weights = [weig for weig in (lab_val + 50000)]\n",
    "weights = weights / np.sum(weights) #normalize to 1\n",
    "np.random.seed(42)\n",
    "lab_dist = np.random.choice(lab_ids, size=num_samples, p=weights)"
   ]
  },
  {
   "cell_type": "code",
   "execution_count": 51,
   "metadata": {},
   "outputs": [
    {
     "data": {
      "text/plain": [
       "8321"
      ]
     },
     "execution_count": 51,
     "metadata": {},
     "output_type": "execute_result"
    }
   ],
   "source": [
    "len(lab_dist)"
   ]
  },
  {
   "cell_type": "code",
   "execution_count": 52,
   "metadata": {},
   "outputs": [],
   "source": [
    "lab_dist = pd.Series(lab_dist, name='Samples by label in resampled data').value_counts()"
   ]
  },
  {
   "cell_type": "code",
   "execution_count": 53,
   "metadata": {},
   "outputs": [
    {
     "data": {
      "image/png": "[encoded data removed]",
      "text/plain": [
       "<Figure size 1000x600 with 1 Axes>"
      ]
     },
     "metadata": {
      "needs_background": "light"
     },
     "output_type": "display_data"
    }
   ],
   "source": [
    "plt.figure(figsize=(5,3), dpi=200)\n",
    "sns.histplot(lab_dist)\n",
    "plt.show()"
   ]
  },
  {
   "cell_type": "code",
   "execution_count": 32,
   "metadata": {},
   "outputs": [],
   "source": [
    "comp = pd.DataFrame(lab_value_cts, columns=['original']).join(lab_dist)"
   ]
  },
  {
   "cell_type": "code",
   "execution_count": 33,
   "metadata": {},
   "outputs": [
    {
     "data": {
      "image/png": "[encoded data removed]",
      "text/plain": [
       "<Figure size 360x360 with 1 Axes>"
      ]
     },
     "metadata": {
      "needs_background": "light"
     },
     "output_type": "display_data"
    }
   ],
   "source": [
    "sns.catplot(x='resampled', y='original', data=comp)\n",
    "plt.xticks(rotation=90)\n",
    "plt.show()"
   ]
  },
  {
   "cell_type": "code",
   "execution_count": 34,
   "metadata": {},
   "outputs": [
    {
     "data": {
      "image/png": "[encoded data removed]",
      "text/plain": [
       "<Figure size 360x360 with 1 Axes>"
      ]
     },
     "metadata": {
      "needs_background": "light"
     },
     "output_type": "display_data"
    }
   ],
   "source": [
    "sns.catplot(x='resampled', y='original', data=comp)\n",
    "plt.xticks(rotation=90)\n",
    "plt.ylim(-5,800)\n",
    "plt.show()"
   ]
  },
  {
   "cell_type": "markdown",
   "metadata": {},
   "source": [
    "**So the dataset is still imbalanced but much less imbalanced. Depending on the number of available samples for each label I may be oversampling or undersampling it.**"
   ]
  },
  {
   "cell_type": "markdown",
   "metadata": {},
   "source": [
    "### Getting subsequences"
   ]
  },
  {
   "cell_type": "markdown",
   "metadata": {},
   "source": [
    "Calculate some values that are useful"
   ]
  },
  {
   "cell_type": "code",
   "execution_count": 35,
   "metadata": {},
   "outputs": [],
   "source": [
    "train_vals['seq_len'] = [len(seq) for seq in train_vals['sequence']]"
   ]
  },
  {
   "cell_type": "code",
   "execution_count": 36,
   "metadata": {},
   "outputs": [],
   "source": [
    "# get the maximum length of contiguous sequence without any undefined nucleotide\n",
    "train_vals['min_nonN_seq'] = [min_nonN_seq(seq) for seq in train_vals['sequence']]"
   ]
  },
  {
   "cell_type": "code",
   "execution_count": 37,
   "metadata": {},
   "outputs": [],
   "source": [
    "# number of N per sequence\n",
    "train_vals['undefval'] = [seq.upper().count('N') for seq in train_vals['sequence']]"
   ]
  },
  {
   "cell_type": "code",
   "execution_count": 38,
   "metadata": {},
   "outputs": [],
   "source": [
    "train_vals['label'] = labels"
   ]
  },
  {
   "cell_type": "code",
   "execution_count": 39,
   "metadata": {},
   "outputs": [],
   "source": [
    "min_len = 512"
   ]
  },
  {
   "cell_type": "code",
   "execution_count": 40,
   "metadata": {},
   "outputs": [],
   "source": [
    "sele_train = []\n",
    "\n",
    "prob=0\n",
    "prob_repe=0\n",
    "for lab, num in lab_dist.iteritems():\n",
    "    subset = train_vals[(train_vals['min_nonN_seq'] > min_len) & (train_vals['label'] == lab) ].copy()\n",
    "    if len(subset) >= num:\n",
    "        # enough longer sequences without N, just randomly sample\n",
    "        sele_train.append(subset.sample(n=num, replace=False, random_state=42))\n",
    "#         print(f'Label {lab} processed without having to pad or remove Ns')\n",
    "    else:\n",
    "        # count labels that have problems finding sequences\n",
    "        prob+=1\n",
    "        # discard all sequences with more than 10 Ns\n",
    "        subset = train_vals[(train_vals['undefval'] <= 10) & (train_vals['label'] == lab) ].copy()\n",
    "        # replace all the N nucleotides in the sequences by As\n",
    "        subset['sequence'] = [seq.upper().replace('N','A') for seq in subset['sequence']]\n",
    "        try:\n",
    "            # avoid replacements if there are enough, try to get longer sequences using weights\n",
    "            sele_subset = subset.sample(n=num, replace=False, random_state=42, weights=subset['seq_len'])\n",
    "#             print(f'Label {lab} replaced Ns and pad if necesary, but no replacements')\n",
    "        except:\n",
    "            prob_repe+=1\n",
    "            # do replacements if some lack sequences, but avoid repeting as much as possible by not using weights\n",
    "            sele_subset = subset.sample(n=num, replace=True, random_state=42)\n",
    "#             print(f'Label {lab} replaced Ns and pad if necesary, and had to include replacements')\n",
    "        sele_train.append(sele_subset)"
   ]
  },
  {
   "cell_type": "code",
   "execution_count": 41,
   "metadata": {},
   "outputs": [
    {
     "name": "stdout",
     "output_type": "stream",
     "text": [
      "Found 126 labels that did not have a 512bp sequence without Ns,\n",
      "so had to replace some Ns by As (less than 10Ns replaced per sequence for sure)\n",
      "Of those, 121 labels had to use repeated samples, so they were here bc could not find so many samples\n"
     ]
    }
   ],
   "source": [
    "print(f'Found {prob} labels that did not have a {min_len}bp sequence without Ns,')\n",
    "print('so had to replace some Ns by As (less than 10Ns replaced per sequence for sure)')\n",
    "print(f'Of those, {prob_repe} labels had to use repeated samples, so they were here bc could not find so many samples')"
   ]
  },
  {
   "cell_type": "code",
   "execution_count": 42,
   "metadata": {},
   "outputs": [],
   "source": [
    "sele_train = pd.concat(sele_train)"
   ]
  },
  {
   "cell_type": "code",
   "execution_count": 43,
   "metadata": {},
   "outputs": [
    {
     "data": {
      "text/html": [
       "<div>\n",
       "<style scoped>\n",
       "    .dataframe tbody tr th:only-of-type {\n",
       "        vertical-align: middle;\n",
       "    }\n",
       "\n",
       "    .dataframe tbody tr th {\n",
       "        vertical-align: top;\n",
       "    }\n",
       "\n",
       "    .dataframe thead th {\n",
       "        text-align: right;\n",
       "    }\n",
       "</style>\n",
       "<table border=\"1\" class=\"dataframe\">\n",
       "  <thead>\n",
       "    <tr style=\"text-align: right;\">\n",
       "      <th></th>\n",
       "      <th>sequence</th>\n",
       "      <th>bacterial_resistance_ampicillin</th>\n",
       "      <th>bacterial_resistance_chloramphenicol</th>\n",
       "      <th>bacterial_resistance_kanamycin</th>\n",
       "      <th>bacterial_resistance_other</th>\n",
       "      <th>bacterial_resistance_spectinomycin</th>\n",
       "      <th>copy_number_high_copy</th>\n",
       "      <th>copy_number_low_copy</th>\n",
       "      <th>copy_number_unknown</th>\n",
       "      <th>growth_strain_ccdb_survival</th>\n",
       "      <th>...</th>\n",
       "      <th>species_mustard_weed</th>\n",
       "      <th>species_nematode</th>\n",
       "      <th>species_other</th>\n",
       "      <th>species_rat</th>\n",
       "      <th>species_synthetic</th>\n",
       "      <th>species_zebrafish</th>\n",
       "      <th>seq_len</th>\n",
       "      <th>min_nonN_seq</th>\n",
       "      <th>undefval</th>\n",
       "      <th>label</th>\n",
       "    </tr>\n",
       "    <tr>\n",
       "      <th>sequence_id</th>\n",
       "      <th></th>\n",
       "      <th></th>\n",
       "      <th></th>\n",
       "      <th></th>\n",
       "      <th></th>\n",
       "      <th></th>\n",
       "      <th></th>\n",
       "      <th></th>\n",
       "      <th></th>\n",
       "      <th></th>\n",
       "      <th></th>\n",
       "      <th></th>\n",
       "      <th></th>\n",
       "      <th></th>\n",
       "      <th></th>\n",
       "      <th></th>\n",
       "      <th></th>\n",
       "      <th></th>\n",
       "      <th></th>\n",
       "      <th></th>\n",
       "      <th></th>\n",
       "    </tr>\n",
       "  </thead>\n",
       "  <tbody>\n",
       "    <tr>\n",
       "      <th>R8D86</th>\n",
       "      <td>GACGAAAGGGCCTCGTGATACGCCTATTTTTATAGGTTAATGTCAT...</td>\n",
       "      <td>1.0</td>\n",
       "      <td>1.0</td>\n",
       "      <td>0.0</td>\n",
       "      <td>0.0</td>\n",
       "      <td>0.0</td>\n",
       "      <td>0.0</td>\n",
       "      <td>1.0</td>\n",
       "      <td>0.0</td>\n",
       "      <td>1.0</td>\n",
       "      <td>...</td>\n",
       "      <td>0.0</td>\n",
       "      <td>0.0</td>\n",
       "      <td>0.0</td>\n",
       "      <td>0.0</td>\n",
       "      <td>0.0</td>\n",
       "      <td>0.0</td>\n",
       "      <td>6645</td>\n",
       "      <td>6645</td>\n",
       "      <td>0</td>\n",
       "      <td>XV32YHEZ</td>\n",
       "    </tr>\n",
       "    <tr>\n",
       "      <th>WOAGB</th>\n",
       "      <td>GACGAAAGGGCCTCGTGATACGCCTATTTTTATAGGTTAATGTCAT...</td>\n",
       "      <td>1.0</td>\n",
       "      <td>1.0</td>\n",
       "      <td>0.0</td>\n",
       "      <td>0.0</td>\n",
       "      <td>0.0</td>\n",
       "      <td>1.0</td>\n",
       "      <td>0.0</td>\n",
       "      <td>0.0</td>\n",
       "      <td>1.0</td>\n",
       "      <td>...</td>\n",
       "      <td>0.0</td>\n",
       "      <td>0.0</td>\n",
       "      <td>0.0</td>\n",
       "      <td>0.0</td>\n",
       "      <td>0.0</td>\n",
       "      <td>0.0</td>\n",
       "      <td>7859</td>\n",
       "      <td>7859</td>\n",
       "      <td>0</td>\n",
       "      <td>XV32YHEZ</td>\n",
       "    </tr>\n",
       "    <tr>\n",
       "      <th>RPHFD</th>\n",
       "      <td>TCGCGCGTTTCGGTGATGACGGTGAAAACCTCTGACACATGCAGCT...</td>\n",
       "      <td>1.0</td>\n",
       "      <td>1.0</td>\n",
       "      <td>0.0</td>\n",
       "      <td>0.0</td>\n",
       "      <td>0.0</td>\n",
       "      <td>1.0</td>\n",
       "      <td>0.0</td>\n",
       "      <td>0.0</td>\n",
       "      <td>0.0</td>\n",
       "      <td>...</td>\n",
       "      <td>0.0</td>\n",
       "      <td>0.0</td>\n",
       "      <td>0.0</td>\n",
       "      <td>0.0</td>\n",
       "      <td>0.0</td>\n",
       "      <td>0.0</td>\n",
       "      <td>7912</td>\n",
       "      <td>7912</td>\n",
       "      <td>0</td>\n",
       "      <td>XV32YHEZ</td>\n",
       "    </tr>\n",
       "    <tr>\n",
       "      <th>JCE9W</th>\n",
       "      <td>GACGAAAGGGCCTCGTGATACGCCTATTTTTATAGGTTAATGTCAT...</td>\n",
       "      <td>1.0</td>\n",
       "      <td>1.0</td>\n",
       "      <td>0.0</td>\n",
       "      <td>0.0</td>\n",
       "      <td>0.0</td>\n",
       "      <td>0.0</td>\n",
       "      <td>1.0</td>\n",
       "      <td>0.0</td>\n",
       "      <td>1.0</td>\n",
       "      <td>...</td>\n",
       "      <td>0.0</td>\n",
       "      <td>0.0</td>\n",
       "      <td>0.0</td>\n",
       "      <td>0.0</td>\n",
       "      <td>0.0</td>\n",
       "      <td>0.0</td>\n",
       "      <td>7270</td>\n",
       "      <td>7270</td>\n",
       "      <td>0</td>\n",
       "      <td>XV32YHEZ</td>\n",
       "    </tr>\n",
       "    <tr>\n",
       "      <th>4KHKK</th>\n",
       "      <td>GACGAAAGGGCCTCGTGATACGCCTATTTTTATAGGTTAATGTCAT...</td>\n",
       "      <td>1.0</td>\n",
       "      <td>1.0</td>\n",
       "      <td>0.0</td>\n",
       "      <td>0.0</td>\n",
       "      <td>0.0</td>\n",
       "      <td>0.0</td>\n",
       "      <td>1.0</td>\n",
       "      <td>0.0</td>\n",
       "      <td>1.0</td>\n",
       "      <td>...</td>\n",
       "      <td>0.0</td>\n",
       "      <td>0.0</td>\n",
       "      <td>0.0</td>\n",
       "      <td>0.0</td>\n",
       "      <td>0.0</td>\n",
       "      <td>0.0</td>\n",
       "      <td>7470</td>\n",
       "      <td>7470</td>\n",
       "      <td>0</td>\n",
       "      <td>XV32YHEZ</td>\n",
       "    </tr>\n",
       "    <tr>\n",
       "      <th>...</th>\n",
       "      <td>...</td>\n",
       "      <td>...</td>\n",
       "      <td>...</td>\n",
       "      <td>...</td>\n",
       "      <td>...</td>\n",
       "      <td>...</td>\n",
       "      <td>...</td>\n",
       "      <td>...</td>\n",
       "      <td>...</td>\n",
       "      <td>...</td>\n",
       "      <td>...</td>\n",
       "      <td>...</td>\n",
       "      <td>...</td>\n",
       "      <td>...</td>\n",
       "      <td>...</td>\n",
       "      <td>...</td>\n",
       "      <td>...</td>\n",
       "      <td>...</td>\n",
       "      <td>...</td>\n",
       "      <td>...</td>\n",
       "      <td>...</td>\n",
       "    </tr>\n",
       "    <tr>\n",
       "      <th>B592R</th>\n",
       "      <td>GAATTCGAGCTTGCATGCCTGCAGGTCGTTACATAACTTACGGTAA...</td>\n",
       "      <td>1.0</td>\n",
       "      <td>0.0</td>\n",
       "      <td>0.0</td>\n",
       "      <td>0.0</td>\n",
       "      <td>0.0</td>\n",
       "      <td>1.0</td>\n",
       "      <td>0.0</td>\n",
       "      <td>0.0</td>\n",
       "      <td>0.0</td>\n",
       "      <td>...</td>\n",
       "      <td>0.0</td>\n",
       "      <td>0.0</td>\n",
       "      <td>0.0</td>\n",
       "      <td>0.0</td>\n",
       "      <td>0.0</td>\n",
       "      <td>0.0</td>\n",
       "      <td>5109</td>\n",
       "      <td>5109</td>\n",
       "      <td>0</td>\n",
       "      <td>2Y9L13L4</td>\n",
       "    </tr>\n",
       "    <tr>\n",
       "      <th>OXMIV</th>\n",
       "      <td>CCGGGGANGCTCCTCGCCCTTGCTCACCATGGTGGCGACCGGTGGA...</td>\n",
       "      <td>0.0</td>\n",
       "      <td>0.0</td>\n",
       "      <td>1.0</td>\n",
       "      <td>0.0</td>\n",
       "      <td>0.0</td>\n",
       "      <td>0.0</td>\n",
       "      <td>0.0</td>\n",
       "      <td>1.0</td>\n",
       "      <td>0.0</td>\n",
       "      <td>...</td>\n",
       "      <td>0.0</td>\n",
       "      <td>0.0</td>\n",
       "      <td>0.0</td>\n",
       "      <td>0.0</td>\n",
       "      <td>0.0</td>\n",
       "      <td>0.0</td>\n",
       "      <td>670</td>\n",
       "      <td>646</td>\n",
       "      <td>4</td>\n",
       "      <td>1AP294AT</td>\n",
       "    </tr>\n",
       "    <tr>\n",
       "      <th>S6OT6</th>\n",
       "      <td>CTTTCCTGCGTTATCCCCTGATTCTGTGGATAACCGTATTACCGCC...</td>\n",
       "      <td>0.0</td>\n",
       "      <td>0.0</td>\n",
       "      <td>0.0</td>\n",
       "      <td>0.0</td>\n",
       "      <td>1.0</td>\n",
       "      <td>1.0</td>\n",
       "      <td>0.0</td>\n",
       "      <td>0.0</td>\n",
       "      <td>0.0</td>\n",
       "      <td>...</td>\n",
       "      <td>0.0</td>\n",
       "      <td>0.0</td>\n",
       "      <td>0.0</td>\n",
       "      <td>0.0</td>\n",
       "      <td>0.0</td>\n",
       "      <td>0.0</td>\n",
       "      <td>3366</td>\n",
       "      <td>3366</td>\n",
       "      <td>0</td>\n",
       "      <td>A18S09P2</td>\n",
       "    </tr>\n",
       "    <tr>\n",
       "      <th>TLTV7</th>\n",
       "      <td>AGATCTCGATCCCGCGAAATTAATACGACTCACTATAGGGGAATTG...</td>\n",
       "      <td>1.0</td>\n",
       "      <td>0.0</td>\n",
       "      <td>0.0</td>\n",
       "      <td>0.0</td>\n",
       "      <td>0.0</td>\n",
       "      <td>0.0</td>\n",
       "      <td>0.0</td>\n",
       "      <td>1.0</td>\n",
       "      <td>0.0</td>\n",
       "      <td>...</td>\n",
       "      <td>0.0</td>\n",
       "      <td>0.0</td>\n",
       "      <td>0.0</td>\n",
       "      <td>0.0</td>\n",
       "      <td>0.0</td>\n",
       "      <td>0.0</td>\n",
       "      <td>6258</td>\n",
       "      <td>6258</td>\n",
       "      <td>0</td>\n",
       "      <td>XOEVMQZT</td>\n",
       "    </tr>\n",
       "    <tr>\n",
       "      <th>R2VAV</th>\n",
       "      <td>TGGCAGGATATATTGTGGTGTAAACAAATTGACGCTTAGACAACTT...</td>\n",
       "      <td>0.0</td>\n",
       "      <td>0.0</td>\n",
       "      <td>1.0</td>\n",
       "      <td>0.0</td>\n",
       "      <td>0.0</td>\n",
       "      <td>1.0</td>\n",
       "      <td>0.0</td>\n",
       "      <td>0.0</td>\n",
       "      <td>0.0</td>\n",
       "      <td>...</td>\n",
       "      <td>0.0</td>\n",
       "      <td>0.0</td>\n",
       "      <td>1.0</td>\n",
       "      <td>0.0</td>\n",
       "      <td>0.0</td>\n",
       "      <td>0.0</td>\n",
       "      <td>10598</td>\n",
       "      <td>10598</td>\n",
       "      <td>0</td>\n",
       "      <td>Q5V3EKJC</td>\n",
       "    </tr>\n",
       "  </tbody>\n",
       "</table>\n",
       "<p>8321 rows × 44 columns</p>\n",
       "</div>"
      ],
      "text/plain": [
       "                                                      sequence  \\\n",
       "sequence_id                                                      \n",
       "R8D86        GACGAAAGGGCCTCGTGATACGCCTATTTTTATAGGTTAATGTCAT...   \n",
       "WOAGB        GACGAAAGGGCCTCGTGATACGCCTATTTTTATAGGTTAATGTCAT...   \n",
       "RPHFD        TCGCGCGTTTCGGTGATGACGGTGAAAACCTCTGACACATGCAGCT...   \n",
       "JCE9W        GACGAAAGGGCCTCGTGATACGCCTATTTTTATAGGTTAATGTCAT...   \n",
       "4KHKK        GACGAAAGGGCCTCGTGATACGCCTATTTTTATAGGTTAATGTCAT...   \n",
       "...                                                        ...   \n",
       "B592R        GAATTCGAGCTTGCATGCCTGCAGGTCGTTACATAACTTACGGTAA...   \n",
       "OXMIV        CCGGGGANGCTCCTCGCCCTTGCTCACCATGGTGGCGACCGGTGGA...   \n",
       "S6OT6        CTTTCCTGCGTTATCCCCTGATTCTGTGGATAACCGTATTACCGCC...   \n",
       "TLTV7        AGATCTCGATCCCGCGAAATTAATACGACTCACTATAGGGGAATTG...   \n",
       "R2VAV        TGGCAGGATATATTGTGGTGTAAACAAATTGACGCTTAGACAACTT...   \n",
       "\n",
       "             bacterial_resistance_ampicillin  \\\n",
       "sequence_id                                    \n",
       "R8D86                                    1.0   \n",
       "WOAGB                                    1.0   \n",
       "RPHFD                                    1.0   \n",
       "JCE9W                                    1.0   \n",
       "4KHKK                                    1.0   \n",
       "...                                      ...   \n",
       "B592R                                    1.0   \n",
       "OXMIV                                    0.0   \n",
       "S6OT6                                    0.0   \n",
       "TLTV7                                    1.0   \n",
       "R2VAV                                    0.0   \n",
       "\n",
       "             bacterial_resistance_chloramphenicol  \\\n",
       "sequence_id                                         \n",
       "R8D86                                         1.0   \n",
       "WOAGB                                         1.0   \n",
       "RPHFD                                         1.0   \n",
       "JCE9W                                         1.0   \n",
       "4KHKK                                         1.0   \n",
       "...                                           ...   \n",
       "B592R                                         0.0   \n",
       "OXMIV                                         0.0   \n",
       "S6OT6                                         0.0   \n",
       "TLTV7                                         0.0   \n",
       "R2VAV                                         0.0   \n",
       "\n",
       "             bacterial_resistance_kanamycin  bacterial_resistance_other  \\\n",
       "sequence_id                                                               \n",
       "R8D86                                   0.0                         0.0   \n",
       "WOAGB                                   0.0                         0.0   \n",
       "RPHFD                                   0.0                         0.0   \n",
       "JCE9W                                   0.0                         0.0   \n",
       "4KHKK                                   0.0                         0.0   \n",
       "...                                     ...                         ...   \n",
       "B592R                                   0.0                         0.0   \n",
       "OXMIV                                   1.0                         0.0   \n",
       "S6OT6                                   0.0                         0.0   \n",
       "TLTV7                                   0.0                         0.0   \n",
       "R2VAV                                   1.0                         0.0   \n",
       "\n",
       "             bacterial_resistance_spectinomycin  copy_number_high_copy  \\\n",
       "sequence_id                                                              \n",
       "R8D86                                       0.0                    0.0   \n",
       "WOAGB                                       0.0                    1.0   \n",
       "RPHFD                                       0.0                    1.0   \n",
       "JCE9W                                       0.0                    0.0   \n",
       "4KHKK                                       0.0                    0.0   \n",
       "...                                         ...                    ...   \n",
       "B592R                                       0.0                    1.0   \n",
       "OXMIV                                       0.0                    0.0   \n",
       "S6OT6                                       1.0                    1.0   \n",
       "TLTV7                                       0.0                    0.0   \n",
       "R2VAV                                       0.0                    1.0   \n",
       "\n",
       "             copy_number_low_copy  copy_number_unknown  \\\n",
       "sequence_id                                              \n",
       "R8D86                         1.0                  0.0   \n",
       "WOAGB                         0.0                  0.0   \n",
       "RPHFD                         0.0                  0.0   \n",
       "JCE9W                         1.0                  0.0   \n",
       "4KHKK                         1.0                  0.0   \n",
       "...                           ...                  ...   \n",
       "B592R                         0.0                  0.0   \n",
       "OXMIV                         0.0                  1.0   \n",
       "S6OT6                         0.0                  0.0   \n",
       "TLTV7                         0.0                  1.0   \n",
       "R2VAV                         0.0                  0.0   \n",
       "\n",
       "             growth_strain_ccdb_survival  ...  species_mustard_weed  \\\n",
       "sequence_id                               ...                         \n",
       "R8D86                                1.0  ...                   0.0   \n",
       "WOAGB                                1.0  ...                   0.0   \n",
       "RPHFD                                0.0  ...                   0.0   \n",
       "JCE9W                                1.0  ...                   0.0   \n",
       "4KHKK                                1.0  ...                   0.0   \n",
       "...                                  ...  ...                   ...   \n",
       "B592R                                0.0  ...                   0.0   \n",
       "OXMIV                                0.0  ...                   0.0   \n",
       "S6OT6                                0.0  ...                   0.0   \n",
       "TLTV7                                0.0  ...                   0.0   \n",
       "R2VAV                                0.0  ...                   0.0   \n",
       "\n",
       "             species_nematode  species_other  species_rat  species_synthetic  \\\n",
       "sequence_id                                                                    \n",
       "R8D86                     0.0            0.0          0.0                0.0   \n",
       "WOAGB                     0.0            0.0          0.0                0.0   \n",
       "RPHFD                     0.0            0.0          0.0                0.0   \n",
       "JCE9W                     0.0            0.0          0.0                0.0   \n",
       "4KHKK                     0.0            0.0          0.0                0.0   \n",
       "...                       ...            ...          ...                ...   \n",
       "B592R                     0.0            0.0          0.0                0.0   \n",
       "OXMIV                     0.0            0.0          0.0                0.0   \n",
       "S6OT6                     0.0            0.0          0.0                0.0   \n",
       "TLTV7                     0.0            0.0          0.0                0.0   \n",
       "R2VAV                     0.0            1.0          0.0                0.0   \n",
       "\n",
       "             species_zebrafish  seq_len  min_nonN_seq  undefval     label  \n",
       "sequence_id                                                                \n",
       "R8D86                      0.0     6645          6645         0  XV32YHEZ  \n",
       "WOAGB                      0.0     7859          7859         0  XV32YHEZ  \n",
       "RPHFD                      0.0     7912          7912         0  XV32YHEZ  \n",
       "JCE9W                      0.0     7270          7270         0  XV32YHEZ  \n",
       "4KHKK                      0.0     7470          7470         0  XV32YHEZ  \n",
       "...                        ...      ...           ...       ...       ...  \n",
       "B592R                      0.0     5109          5109         0  2Y9L13L4  \n",
       "OXMIV                      0.0      670           646         4  1AP294AT  \n",
       "S6OT6                      0.0     3366          3366         0  A18S09P2  \n",
       "TLTV7                      0.0     6258          6258         0  XOEVMQZT  \n",
       "R2VAV                      0.0    10598         10598         0  Q5V3EKJC  \n",
       "\n",
       "[8321 rows x 44 columns]"
      ]
     },
     "execution_count": 43,
     "metadata": {},
     "output_type": "execute_result"
    }
   ],
   "source": [
    "sele_train"
   ]
  },
  {
   "cell_type": "markdown",
   "metadata": {},
   "source": [
    "Confirm those two are equal"
   ]
  },
  {
   "cell_type": "code",
   "execution_count": 44,
   "metadata": {
    "scrolled": true
   },
   "outputs": [
    {
     "data": {
      "text/plain": [
       "XV32YHEZ    17\n",
       "HGPS0FQN    17\n",
       "HVAG84XI    17\n",
       "97PR85CP    15\n",
       "4M3XG8RC    15\n",
       "            ..\n",
       "2Y9L13L4     1\n",
       "1AP294AT     1\n",
       "A18S09P2     1\n",
       "XOEVMQZT     1\n",
       "Q5V3EKJC     1\n",
       "Name: resampled, Length: 1313, dtype: int64"
      ]
     },
     "execution_count": 44,
     "metadata": {},
     "output_type": "execute_result"
    }
   ],
   "source": [
    "lab_dist"
   ]
  },
  {
   "cell_type": "code",
   "execution_count": 45,
   "metadata": {},
   "outputs": [
    {
     "data": {
      "text/plain": [
       "XV32YHEZ    17\n",
       "HVAG84XI    17\n",
       "HGPS0FQN    17\n",
       "97PR85CP    15\n",
       "4M3XG8RC    15\n",
       "            ..\n",
       "J9M11KX1     1\n",
       "IPVYEI8G     1\n",
       "46AZ97U9     1\n",
       "CFDEOSH4     1\n",
       "Q5V3EKJC     1\n",
       "Name: label, Length: 1313, dtype: int64"
      ]
     },
     "execution_count": 45,
     "metadata": {},
     "output_type": "execute_result"
    }
   ],
   "source": [
    "sele_train.label.value_counts()"
   ]
  },
  {
   "cell_type": "code",
   "execution_count": 46,
   "metadata": {},
   "outputs": [
    {
     "data": {
      "image/png": "[encoded data removed]",
      "text/plain": [
       "<Figure size 432x288 with 1 Axes>"
      ]
     },
     "metadata": {
      "needs_background": "light"
     },
     "output_type": "display_data"
    }
   ],
   "source": [
    "sns.countplot(x='label', data=sele_train)\n",
    "plt.xticks(rotation=90)\n",
    "plt.show()"
   ]
  },
  {
   "cell_type": "markdown",
   "metadata": {},
   "source": [
    "### Get subsequences"
   ]
  },
  {
   "cell_type": "markdown",
   "metadata": {},
   "source": [
    "For each sequence, take 1 subsequence randomly with random Reverse Translatation"
   ]
  },
  {
   "cell_type": "code",
   "execution_count": 47,
   "metadata": {},
   "outputs": [],
   "source": [
    "num_subseq_per_seq = 1\n",
    "seq_len = min_len\n",
    "\n",
    "\n",
    "random_seq_sele = []\n",
    "\n",
    "np.random.seed(42)\n",
    "\n",
    "for seq in sele_train['sequence']:\n",
    "    sub_list = []\n",
    "    for _ in range(num_subseq_per_seq):\n",
    "        # if sequence is shorter, take entire sequence and it will be padded\n",
    "        # if it has a N on it, this is a problem and would be better to manually analyze and discard this observation before running cell\n",
    "        if len(seq) <= seq_len:\n",
    "            if 'N' in seq.upper(): \n",
    "                raise ValueError(\"Can't process sequences, found a sequence shorter than seq_len and with a N character...discard this sequence\")\n",
    "            # with probability 0.5 make the Reverse Complement of that sequence\n",
    "            if np.random.rand() > .5:\n",
    "                sub_list.append(seq)\n",
    "            else:\n",
    "                sub_list.append(rev_comp(seq))\n",
    "        else:\n",
    "            # if sequence is longer, need to randomly select a subsequence\n",
    "            subseq ='' # initialize to enter while\n",
    "            # keep looking for subsequences until they do not have any N (this might bias a bit the initial positions)\n",
    "            while ('N' in subseq.upper()) or (len(subseq) != seq_len):\n",
    "                start_pos = np.random.randint(len(seq) - seq_len + 1)\n",
    "                subseq = seq[start_pos:start_pos+seq_len]\n",
    "            # with probability 0.5 make the Reverse Complement of that sequence\n",
    "            if np.random.rand() > .5:\n",
    "                sub_list.append(subseq)\n",
    "            else:\n",
    "                sub_list.append(rev_comp(subseq))\n",
    "    random_seq_sele.append(sub_list)"
   ]
  },
  {
   "cell_type": "code",
   "execution_count": 48,
   "metadata": {},
   "outputs": [
    {
     "name": "stdout",
     "output_type": "stream",
     "text": [
      "Got: (8321, 1)\n"
     ]
    }
   ],
   "source": [
    "# 8 subsequences per each sequence\n",
    "print('Got:', np.array(random_seq_sele).shape)"
   ]
  },
  {
   "cell_type": "code",
   "execution_count": 49,
   "metadata": {},
   "outputs": [],
   "source": [
    "sele_train['random_seq_sele'] = random_seq_sele"
   ]
  },
  {
   "cell_type": "markdown",
   "metadata": {},
   "source": [
    "there are 100 repeats in this subset, not a problem, it can just happen by random selection and it is not much compared to 8000 total examples\n"
   ]
  },
  {
   "cell_type": "code",
   "execution_count": 50,
   "metadata": {},
   "outputs": [
    {
     "name": "stdout",
     "output_type": "stream",
     "text": [
      "(8321,)\n",
      "132\n"
     ]
    }
   ],
   "source": [
    "print(sele_train['random_seq_sele'].shape)\n",
    "print(np.sum(sele_train['random_seq_sele'].value_counts() > 1))"
   ]
  },
  {
   "cell_type": "markdown",
   "metadata": {},
   "source": [
    "Number of repeated sequences divided by class. Not many compared to 283 seqs we have per class"
   ]
  },
  {
   "cell_type": "code",
   "execution_count": 51,
   "metadata": {},
   "outputs": [],
   "source": [
    "rep_seqs = []\n",
    "for lab in lab_dist.index:\n",
    "    rep_seqs.append(np.sum(sele_train[sele_train['label'] == lab]['random_seq_sele'].value_counts() > 1))"
   ]
  },
  {
   "cell_type": "markdown",
   "metadata": {},
   "source": [
    "They are repeated in the sample that was short on sequences"
   ]
  },
  {
   "cell_type": "code",
   "execution_count": 52,
   "metadata": {
    "scrolled": true
   },
   "outputs": [
    {
     "data": {
      "image/png": "[encoded data removed]",
      "text/plain": [
       "<Figure size 432x288 with 1 Axes>"
      ]
     },
     "metadata": {
      "needs_background": "light"
     },
     "output_type": "display_data"
    }
   ],
   "source": [
    "plt.bar(x=lab_dist.index, height=rep_seqs)\n",
    "plt.xticks(rotation=90)\n",
    "plt.xlabel('Number of repeated sequences')\n",
    "plt.show()"
   ]
  },
  {
   "cell_type": "markdown",
   "metadata": {},
   "source": [
    "Number of sequences that will require padding"
   ]
  },
  {
   "cell_type": "code",
   "execution_count": 53,
   "metadata": {},
   "outputs": [],
   "source": [
    "sele_train['sele_seq_len'] = sele_train['random_seq_sele'].apply(lambda x: len(x[0]))"
   ]
  },
  {
   "cell_type": "markdown",
   "metadata": {},
   "source": [
    "The maximum per class is 4 that will require padding. This could be a lot depending on total number of seqs for that class that is around mean 10"
   ]
  },
  {
   "cell_type": "code",
   "execution_count": 54,
   "metadata": {},
   "outputs": [
    {
     "data": {
      "image/png": "[encoded data removed]",
      "text/plain": [
       "<Figure size 432x288 with 1 Axes>"
      ]
     },
     "metadata": {
      "needs_background": "light"
     },
     "output_type": "display_data"
    }
   ],
   "source": [
    "pad_seqs = []\n",
    "for lab in lab_dist.index:\n",
    "    pad_seqs.append(np.sum(sele_train[sele_train['label'] == lab]['sele_seq_len'] < min_len))\n",
    "plt.bar(x=lab_dist.index, height=pad_seqs)\n",
    "plt.xticks(rotation=90)\n",
    "plt.xlabel('Number of sequences below specified length')\n",
    "plt.show()"
   ]
  },
  {
   "cell_type": "code",
   "execution_count": 55,
   "metadata": {},
   "outputs": [
    {
     "data": {
      "text/plain": [
       "4"
      ]
     },
     "execution_count": 55,
     "metadata": {},
     "output_type": "execute_result"
    }
   ],
   "source": [
    "max(pad_seqs)"
   ]
  },
  {
   "cell_type": "code",
   "execution_count": 56,
   "metadata": {},
   "outputs": [],
   "source": [
    "# too many classes to represent with this\n",
    "# fig, axs = plt.subplots(6,5, figsize=(14,8), sharex=True)\n",
    "# axs = axs.flatten()\n",
    "# for i, lab in enumerate(sele_labs):\n",
    "#     sns.histplot(sele_train[sele_train['label'] == lab]['sele_seq_len'], ax=axs[i])\n",
    "#     axs[i].set_title(lab)\n",
    "# plt.tight_layout()\n",
    "# plt.show()"
   ]
  },
  {
   "cell_type": "markdown",
   "metadata": {},
   "source": [
    "### Convert labels to integer values"
   ]
  },
  {
   "cell_type": "code",
   "execution_count": 57,
   "metadata": {},
   "outputs": [],
   "source": [
    "label_key = {}\n",
    "for i, lab in enumerate(lab_dist.index):\n",
    "    label_key[lab] = str(i)"
   ]
  },
  {
   "cell_type": "code",
   "execution_count": 58,
   "metadata": {},
   "outputs": [
    {
     "data": {
      "text/plain": [
       "1313"
      ]
     },
     "execution_count": 58,
     "metadata": {},
     "output_type": "execute_result"
    }
   ],
   "source": [
    "len(label_key)"
   ]
  },
  {
   "cell_type": "code",
   "execution_count": 59,
   "metadata": {},
   "outputs": [],
   "source": [
    "# convert label name to an integer\n",
    "sele_train['bin_label'] = [label_key[lab] for lab in sele_train['label']]"
   ]
  },
  {
   "cell_type": "code",
   "execution_count": 60,
   "metadata": {},
   "outputs": [
    {
     "data": {
      "image/png": "[encoded data removed]",
      "text/plain": [
       "<Figure size 432x288 with 1 Axes>"
      ]
     },
     "metadata": {
      "needs_background": "light"
     },
     "output_type": "display_data"
    }
   ],
   "source": [
    "sns.countplot(x='bin_label', data=sele_train)\n",
    "plt.show()"
   ]
  },
  {
   "cell_type": "markdown",
   "metadata": {},
   "source": [
    "## Conver to kmers"
   ]
  },
  {
   "cell_type": "code",
   "execution_count": 61,
   "metadata": {},
   "outputs": [],
   "source": [
    "kmer_size = 6"
   ]
  },
  {
   "cell_type": "markdown",
   "metadata": {},
   "source": [
    "Use their function seq2kmer from `motif/motif_utils.py`"
   ]
  },
  {
   "cell_type": "code",
   "execution_count": 62,
   "metadata": {},
   "outputs": [],
   "source": [
    "def seq2kmer(seq, k):\n",
    "    \"\"\"\n",
    "    Convert original sequence to kmers\n",
    "    \n",
    "    Arguments:\n",
    "    seq -- str, original sequence.\n",
    "    k -- int, kmer of length k specified.\n",
    "    \n",
    "    Returns:\n",
    "    kmers -- str, kmers separated by space\n",
    "\n",
    "    \"\"\"\n",
    "    kmer = [seq[x:x+k] for x in range(len(seq)+1-k)]\n",
    "    kmers = \" \".join(kmer)\n",
    "    return kmers"
   ]
  },
  {
   "cell_type": "markdown",
   "metadata": {},
   "source": [
    "Example"
   ]
  },
  {
   "cell_type": "code",
   "execution_count": 63,
   "metadata": {},
   "outputs": [],
   "source": [
    "sele_train['kmer_rand'] = [[seq2kmer(seq, kmer_size) for seq in subseq] for subseq in sele_train['random_seq_sele']]"
   ]
  },
  {
   "cell_type": "code",
   "execution_count": 64,
   "metadata": {},
   "outputs": [
    {
     "data": {
      "text/plain": [
       "sequence_id\n",
       "R8D86    [GCAGAA CAGAAG AGAAGT GAAGTG AAGTGG AGTGGT GTG...\n",
       "WOAGB    [ACGCCA CGCCAT GCCATT CCATTA CATTAA ATTAAC TTA...\n",
       "RPHFD    [TGGGTT GGGTTA GGTTAC GTTACA TTACAT TACATC ACA...\n",
       "JCE9W    [TTGTTT TGTTTT GTTTTC TTTTCA TTTCAA TTCAAG TCA...\n",
       "4KHKK    [TGCGGG GCGGGA CGGGAG GGGAGG GGAGGT GAGGTG AGG...\n",
       "                               ...                        \n",
       "B592R    [GATTAG ATTAGG TTAGGA TAGGAG AGGAGG GGAGGA GAG...\n",
       "OXMIV    [TTTCAT TTCATG TCATGA CATGAC ATGACC TGACCC GAC...\n",
       "S6OT6    [GGCAGA GCAGAG CAGAGG AGAGGA GAGGAC AGGACT GGA...\n",
       "TLTV7    [TAAGAG AAGAGA AGAGAA GAGAAT AGAATT GAATTA AAT...\n",
       "R2VAV    [CACAGA ACAGAG CAGAGA AGAGAA GAGAAA AGAAAG GAA...\n",
       "Name: kmer_rand, Length: 8321, dtype: object"
      ]
     },
     "execution_count": 64,
     "metadata": {},
     "output_type": "execute_result"
    }
   ],
   "source": [
    "sele_train['kmer_rand']"
   ]
  },
  {
   "cell_type": "code",
   "execution_count": 65,
   "metadata": {},
   "outputs": [
    {
     "data": {
      "text/plain": [
       "['GCAGAA CAGAAG AGAAGT GAAGTG AAGTGG AGTGGT GTGGTC TGGTCC GGTCCT GTCCTG TCCTGC CCTGCA CTGCAA TGCAAC GCAACT CAACTT AACTTT ACTTTA CTTTAT TTTATC TTATCC TATCCG ATCCGC TCCGCC CCGCCT CGCCTC GCCTCC CCTCCA CTCCAT TCCATC CCATCC CATCCA ATCCAG TCCAGT CCAGTC CAGTCT AGTCTA GTCTAT TCTATT CTATTA TATTAA ATTAAT TTAATT TAATTG AATTGT ATTGTT TTGTTG TGTTGC GTTGCC TTGCCG TGCCGG GCCGGG CCGGGA CGGGAA GGGAAG GGAAGC GAAGCT AAGCTA AGCTAG GCTAGA CTAGAG TAGAGT AGAGTA GAGTAA AGTAAG GTAAGT TAAGTA AAGTAG AGTAGT GTAGTT TAGTTC AGTTCG GTTCGC TTCGCC TCGCCA CGCCAG GCCAGT CCAGTT CAGTTA AGTTAA GTTAAT TTAATA TAATAG AATAGT ATAGTT TAGTTT AGTTTG GTTTGC TTTGCG TTGCGC TGCGCA GCGCAA CGCAAC GCAACG CAACGT AACGTT ACGTTG CGTTGT GTTGTT TTGTTG TGTTGC GTTGCC TTGCCA TGCCAT GCCATT CCATTG CATTGC ATTGCT TTGCTA TGCTAC GCTACA CTACAG TACAGG ACAGGC CAGGCA AGGCAT GGCATC GCATCG CATCGT ATCGTG TCGTGG CGTGGT GTGGTG TGGTGT GGTGTC GTGTCA TGTCAC GTCACG TCACGC CACGCT ACGCTC CGCTCG GCTCGT CTCGTC TCGTCG CGTCGT GTCGTT TCGTTT CGTTTG GTTTGG TTTGGT TTGGTA TGGTAT GGTATG GTATGG TATGGC ATGGCT TGGCTT GGCTTC GCTTCA CTTCAT TTCATT TCATTC CATTCA ATTCAG TTCAGC TCAGCT CAGCTC AGCTCC GCTCCG CTCCGG TCCGGT CCGGTT CGGTTC GGTTCC GTTCCC TTCCCA TCCCAA CCCAAC CCAACG CAACGA AACGAT ACGATC CGATCA GATCAA ATCAAG TCAAGG CAAGGC AAGGCG AGGCGA GGCGAG GCGAGT CGAGTT GAGTTA AGTTAC GTTACA TTACAT TACATG ACATGA CATGAT ATGATC TGATCC GATCCC ATCCCC TCCCCC CCCCCA CCCCAT CCCATG CCATGT CATGTT ATGTTG TGTTGT GTTGTG TTGTGC TGTGCA GTGCAA TGCAAA GCAAAA CAAAAA AAAAAA AAAAAG AAAAGC AAAGCG AAGCGG AGCGGT GCGGTT CGGTTA GGTTAG GTTAGC TTAGCT TAGCTC AGCTCC GCTCCT CTCCTT TCCTTC CCTTCG CTTCGG TTCGGT TCGGTC CGGTCC GGTCCT GTCCTC TCCTCC CCTCCG CTCCGA TCCGAT CCGATC CGATCG GATCGT ATCGTT TCGTTG CGTTGT GTTGTC TTGTCA TGTCAG GTCAGA TCAGAA CAGAAG AGAAGT GAAGTA AAGTAA AGTAAG GTAAGT TAAGTT AAGTTG AGTTGG GTTGGC TTGGCC TGGCCG GGCCGC GCCGCA CCGCAG CGCAGT GCAGTG CAGTGT AGTGTT GTGTTA TGTTAT GTTATC TTATCA TATCAC ATCACT TCACTC CACTCA ACTCAT CTCATG TCATGG CATGGT ATGGTT TGGTTA GGTTAT GTTATG TTATGG TATGGC ATGGCA TGGCAG GGCAGC GCAGCA CAGCAC AGCACT GCACTG CACTGC ACTGCA CTGCAT TGCATA GCATAA CATAAT ATAATT TAATTC AATTCT ATTCTC TTCTCT TCTCTT CTCTTA TCTTAC CTTACT TTACTG TACTGT ACTGTC CTGTCA TGTCAT GTCATG TCATGC CATGCC ATGCCA TGCCAT GCCATC CCATCC CATCCG ATCCGT TCCGTA CCGTAA CGTAAG GTAAGA TAAGAT AAGATG AGATGC GATGCT ATGCTT TGCTTT GCTTTT CTTTTC TTTTCT TTTCTG TTCTGT TCTGTG CTGTGA TGTGAC GTGACT TGACTG GACTGG ACTGGT CTGGTG TGGTGA GGTGAG GTGAGT TGAGTA GAGTAC AGTACT GTACTC TACTCA ACTCAA CTCAAC TCAACC CAACCA AACCAA ACCAAG CCAAGT CAAGTC AAGTCA AGTCAT GTCATT TCATTC CATTCT ATTCTG TTCTGA TCTGAG CTGAGA TGAGAA GAGAAT AGAATA GAATAG AATAGT ATAGTG TAGTGT AGTGTA GTGTAT TGTATG GTATGC TATGCG ATGCGG TGCGGC GCGGCG CGGCGA GGCGAC GCGACC CGACCG GACCGA ACCGAG CCGAGT CGAGTT GAGTTG AGTTGC GTTGCT TTGCTC TGCTCT GCTCTT CTCTTG TCTTGC CTTGCC TTGCCC TGCCCG GCCCGG CCCGGC CCGGCG CGGCGT GGCGTC GCGTCA CGTCAA GTCAAT TCAATA CAATAC AATACG ATACGG TACGGG ACGGGA CGGGAT GGGATA GGATAA GATAAT ATAATA TAATAC AATACC ATACCG TACCGC ACCGCG CCGCGC CGCGCC GCGCCA CGCCAC GCCACA CCACAT CACATA ACATAG CATAGC ATAGCA TAGCAG AGCAGA GCAGAA CAGAAC AGAACT GAACTT AACTTT ACTTTA CTTTAA TTTAAA TTAAAA TAAAAG AAAAGT AAAGTG AAGTGC AGTGCT GTGCTC TGCTCA GCTCAT CTCATC TCATCA CATCAT ATCATT TCATTG CATTGG ATTGGA TTGGAA TGGAAA GGAAAA GAAAAC AAAACG AAACGT AACGTT ACGTTC CGTTCT GTTCTT TTCTTC TCTTCG CTTCGG TTCGGG TCGGGG CGGGGC GGGGCG GGGCGA GGCGAA GCGAAA CGAAAA GAAAAC AAAACT AAACTC AACTCT ACTCTC CTCTCA TCTCAA CTCAAG TCAAGG CAAGGA AAGGAT AGGATC GGATCT GATCTT ATCTTA TCTTAC CTTACC TTACCG TACCGC ACCGCT CCGCTG CGCTGT GCTGTT CTGTTG']"
      ]
     },
     "execution_count": 65,
     "metadata": {},
     "output_type": "execute_result"
    }
   ],
   "source": [
    "sele_train['kmer_rand'].values[0]"
   ]
  },
  {
   "cell_type": "code",
   "execution_count": 66,
   "metadata": {},
   "outputs": [
    {
     "data": {
      "text/plain": [
       "3548"
      ]
     },
     "execution_count": 66,
     "metadata": {},
     "output_type": "execute_result"
    }
   ],
   "source": [
    "6*(512-5)+(512-5)-1 # last kmer does not have end space"
   ]
  },
  {
   "cell_type": "code",
   "execution_count": 67,
   "metadata": {},
   "outputs": [
    {
     "data": {
      "text/plain": [
       "3548"
      ]
     },
     "execution_count": 67,
     "metadata": {},
     "output_type": "execute_result"
    }
   ],
   "source": [
    "len(sele_train['kmer_rand'].values[0][0])"
   ]
  },
  {
   "cell_type": "markdown",
   "metadata": {},
   "source": [
    "Now, I need to get individual subsequence kmer represnetations as each row"
   ]
  },
  {
   "cell_type": "code",
   "execution_count": 68,
   "metadata": {},
   "outputs": [],
   "source": [
    "final_data = []\n",
    "\n",
    "for seq_idx, row in sele_train.iterrows():\n",
    "    bin_label = row['bin_label']\n",
    "    for seq in row['kmer_rand']:\n",
    "        final_data.append({\n",
    "            'sequence_id': seq_idx,\n",
    "            'sequence': seq,\n",
    "            'label': bin_label\n",
    "        })\n",
    "\n",
    "final_data = pd.DataFrame.from_records(final_data)"
   ]
  },
  {
   "cell_type": "code",
   "execution_count": 69,
   "metadata": {},
   "outputs": [
    {
     "data": {
      "text/plain": [
       "(8321, 3)"
      ]
     },
     "execution_count": 69,
     "metadata": {},
     "output_type": "execute_result"
    }
   ],
   "source": [
    "final_data.shape"
   ]
  },
  {
   "cell_type": "code",
   "execution_count": 70,
   "metadata": {},
   "outputs": [],
   "source": [
    "final_data.set_index('sequence_id', inplace=True)"
   ]
  },
  {
   "cell_type": "code",
   "execution_count": 71,
   "metadata": {},
   "outputs": [
    {
     "data": {
      "text/html": [
       "<div>\n",
       "<style scoped>\n",
       "    .dataframe tbody tr th:only-of-type {\n",
       "        vertical-align: middle;\n",
       "    }\n",
       "\n",
       "    .dataframe tbody tr th {\n",
       "        vertical-align: top;\n",
       "    }\n",
       "\n",
       "    .dataframe thead th {\n",
       "        text-align: right;\n",
       "    }\n",
       "</style>\n",
       "<table border=\"1\" class=\"dataframe\">\n",
       "  <thead>\n",
       "    <tr style=\"text-align: right;\">\n",
       "      <th></th>\n",
       "      <th>sequence</th>\n",
       "      <th>label</th>\n",
       "    </tr>\n",
       "    <tr>\n",
       "      <th>sequence_id</th>\n",
       "      <th></th>\n",
       "      <th></th>\n",
       "    </tr>\n",
       "  </thead>\n",
       "  <tbody>\n",
       "    <tr>\n",
       "      <th>R8D86</th>\n",
       "      <td>GCAGAA CAGAAG AGAAGT GAAGTG AAGTGG AGTGGT GTGG...</td>\n",
       "      <td>0</td>\n",
       "    </tr>\n",
       "    <tr>\n",
       "      <th>WOAGB</th>\n",
       "      <td>ACGCCA CGCCAT GCCATT CCATTA CATTAA ATTAAC TTAA...</td>\n",
       "      <td>0</td>\n",
       "    </tr>\n",
       "    <tr>\n",
       "      <th>RPHFD</th>\n",
       "      <td>TGGGTT GGGTTA GGTTAC GTTACA TTACAT TACATC ACAT...</td>\n",
       "      <td>0</td>\n",
       "    </tr>\n",
       "    <tr>\n",
       "      <th>JCE9W</th>\n",
       "      <td>TTGTTT TGTTTT GTTTTC TTTTCA TTTCAA TTCAAG TCAA...</td>\n",
       "      <td>0</td>\n",
       "    </tr>\n",
       "    <tr>\n",
       "      <th>4KHKK</th>\n",
       "      <td>TGCGGG GCGGGA CGGGAG GGGAGG GGAGGT GAGGTG AGGT...</td>\n",
       "      <td>0</td>\n",
       "    </tr>\n",
       "    <tr>\n",
       "      <th>...</th>\n",
       "      <td>...</td>\n",
       "      <td>...</td>\n",
       "    </tr>\n",
       "    <tr>\n",
       "      <th>B592R</th>\n",
       "      <td>GATTAG ATTAGG TTAGGA TAGGAG AGGAGG GGAGGA GAGG...</td>\n",
       "      <td>1308</td>\n",
       "    </tr>\n",
       "    <tr>\n",
       "      <th>OXMIV</th>\n",
       "      <td>TTTCAT TTCATG TCATGA CATGAC ATGACC TGACCC GACC...</td>\n",
       "      <td>1309</td>\n",
       "    </tr>\n",
       "    <tr>\n",
       "      <th>S6OT6</th>\n",
       "      <td>GGCAGA GCAGAG CAGAGG AGAGGA GAGGAC AGGACT GGAC...</td>\n",
       "      <td>1310</td>\n",
       "    </tr>\n",
       "    <tr>\n",
       "      <th>TLTV7</th>\n",
       "      <td>TAAGAG AAGAGA AGAGAA GAGAAT AGAATT GAATTA AATT...</td>\n",
       "      <td>1311</td>\n",
       "    </tr>\n",
       "    <tr>\n",
       "      <th>R2VAV</th>\n",
       "      <td>CACAGA ACAGAG CAGAGA AGAGAA GAGAAA AGAAAG GAAA...</td>\n",
       "      <td>1312</td>\n",
       "    </tr>\n",
       "  </tbody>\n",
       "</table>\n",
       "<p>8321 rows × 2 columns</p>\n",
       "</div>"
      ],
      "text/plain": [
       "                                                      sequence label\n",
       "sequence_id                                                         \n",
       "R8D86        GCAGAA CAGAAG AGAAGT GAAGTG AAGTGG AGTGGT GTGG...     0\n",
       "WOAGB        ACGCCA CGCCAT GCCATT CCATTA CATTAA ATTAAC TTAA...     0\n",
       "RPHFD        TGGGTT GGGTTA GGTTAC GTTACA TTACAT TACATC ACAT...     0\n",
       "JCE9W        TTGTTT TGTTTT GTTTTC TTTTCA TTTCAA TTCAAG TCAA...     0\n",
       "4KHKK        TGCGGG GCGGGA CGGGAG GGGAGG GGAGGT GAGGTG AGGT...     0\n",
       "...                                                        ...   ...\n",
       "B592R        GATTAG ATTAGG TTAGGA TAGGAG AGGAGG GGAGGA GAGG...  1308\n",
       "OXMIV        TTTCAT TTCATG TCATGA CATGAC ATGACC TGACCC GACC...  1309\n",
       "S6OT6        GGCAGA GCAGAG CAGAGG AGAGGA GAGGAC AGGACT GGAC...  1310\n",
       "TLTV7        TAAGAG AAGAGA AGAGAA GAGAAT AGAATT GAATTA AATT...  1311\n",
       "R2VAV        CACAGA ACAGAG CAGAGA AGAGAA GAGAAA AGAAAG GAAA...  1312\n",
       "\n",
       "[8321 rows x 2 columns]"
      ]
     },
     "execution_count": 71,
     "metadata": {},
     "output_type": "execute_result"
    }
   ],
   "source": [
    "final_data"
   ]
  },
  {
   "cell_type": "markdown",
   "metadata": {},
   "source": [
    "## Split data"
   ]
  },
  {
   "cell_type": "markdown",
   "metadata": {},
   "source": [
    "Original finetuning data is split between a dev.tsv file with 1000 observations and a train.tsv file with 32367 observations. I think the dev set is used during training to evaluate the accuracy on a held-out dataset (test accuracy). \n",
    "\n",
    "**SINCE I AM NOT COMPARING MODELS BETWEEN THEM, BECAUSE THE DATA I USE IN EVERYONE IS DIFFEERENT, THERE IS NO USE FOR A TRAIN DATASET THAT IS NOT USED TO EVALUATE OR CHOOSE HYPERPARAMETERS OF THE MODEL AND IS ONLY USED TO COMPARE ACROSS MODELS, HENCE IT IS FINE TO JUST USE THE DEV SET, WHICH IS NOT USED DURING FINETUNING TO SET ANY KIND OF PARAMETER**"
   ]
  },
  {
   "cell_type": "markdown",
   "metadata": {},
   "source": [
    "I create a column with unique id for each observation, since I have repeated samples (and hence repeated indices) just looking at the indices would not work"
   ]
  },
  {
   "cell_type": "code",
   "execution_count": 72,
   "metadata": {},
   "outputs": [],
   "source": [
    "final_data['num'] = [i for i in range(0,len(final_data))]"
   ]
  },
  {
   "cell_type": "markdown",
   "metadata": {},
   "source": [
    "I pick a random sequence from each class to form a 1313 sized test dataset"
   ]
  },
  {
   "cell_type": "code",
   "execution_count": 73,
   "metadata": {},
   "outputs": [],
   "source": [
    "dev_data = final_data.groupby('label').sample(1, replace=False, random_state=42).copy()"
   ]
  },
  {
   "cell_type": "markdown",
   "metadata": {},
   "source": [
    "to get the train_data I need to make a list from 0 to len(train_data) excluding those indices in dev_data"
   ]
  },
  {
   "cell_type": "code",
   "execution_count": 74,
   "metadata": {},
   "outputs": [],
   "source": [
    "# I cannot do it like this because there are repeated values\n",
    "# train_data = final_data[~(final_data.index.isin(dev_data.index))].copy()\n",
    "train_data = final_data[~(final_data['num'].isin(dev_data['num']))].copy()"
   ]
  },
  {
   "cell_type": "markdown",
   "metadata": {},
   "source": [
    "We can see how dev_data has one of every"
   ]
  },
  {
   "cell_type": "code",
   "execution_count": 75,
   "metadata": {},
   "outputs": [
    {
     "data": {
      "text/plain": [
       "1    1313\n",
       "Name: label, dtype: int64"
      ]
     },
     "execution_count": 75,
     "metadata": {},
     "output_type": "execute_result"
    }
   ],
   "source": [
    "dev_data['label'].value_counts().value_counts()"
   ]
  },
  {
   "cell_type": "code",
   "execution_count": 76,
   "metadata": {},
   "outputs": [
    {
     "data": {
      "image/png": "[encoded data removed]",
      "text/plain": [
       "<Figure size 432x288 with 1 Axes>"
      ]
     },
     "metadata": {
      "needs_background": "light"
     },
     "output_type": "display_data"
    }
   ],
   "source": [
    "sns.countplot(x='label', data=train_data)\n",
    "plt.show()"
   ]
  },
  {
   "cell_type": "code",
   "execution_count": 77,
   "metadata": {},
   "outputs": [
    {
     "data": {
      "text/html": [
       "<div>\n",
       "<style scoped>\n",
       "    .dataframe tbody tr th:only-of-type {\n",
       "        vertical-align: middle;\n",
       "    }\n",
       "\n",
       "    .dataframe tbody tr th {\n",
       "        vertical-align: top;\n",
       "    }\n",
       "\n",
       "    .dataframe thead th {\n",
       "        text-align: right;\n",
       "    }\n",
       "</style>\n",
       "<table border=\"1\" class=\"dataframe\">\n",
       "  <thead>\n",
       "    <tr style=\"text-align: right;\">\n",
       "      <th></th>\n",
       "      <th>sequence</th>\n",
       "      <th>label</th>\n",
       "      <th>num</th>\n",
       "    </tr>\n",
       "    <tr>\n",
       "      <th>sequence_id</th>\n",
       "      <th></th>\n",
       "      <th></th>\n",
       "      <th></th>\n",
       "    </tr>\n",
       "  </thead>\n",
       "  <tbody>\n",
       "    <tr>\n",
       "      <th>R8D86</th>\n",
       "      <td>GCAGAA CAGAAG AGAAGT GAAGTG AAGTGG AGTGGT GTGG...</td>\n",
       "      <td>0</td>\n",
       "      <td>0</td>\n",
       "    </tr>\n",
       "    <tr>\n",
       "      <th>9UVU3</th>\n",
       "      <td>TCTAGT CTAGTG TAGTGT AGTGTA GTGTAG TGTAGC GTAG...</td>\n",
       "      <td>1</td>\n",
       "      <td>31</td>\n",
       "    </tr>\n",
       "    <tr>\n",
       "      <th>6OCLU</th>\n",
       "      <td>TGACAG GACAGT ACAGTA CAGTAA AGTAAG GTAAGA TAAG...</td>\n",
       "      <td>10</td>\n",
       "      <td>154</td>\n",
       "    </tr>\n",
       "    <tr>\n",
       "      <th>TJENW</th>\n",
       "      <td>CTGAAA TGAAAC GAAACA AAACAT AACATG ACATGG CATG...</td>\n",
       "      <td>100</td>\n",
       "      <td>1149</td>\n",
       "    </tr>\n",
       "    <tr>\n",
       "      <th>S12LH</th>\n",
       "      <td>ATGGAA TGGAAA GGAAAA GAAAAA AAAAAC AAAACG AAAC...</td>\n",
       "      <td>1000</td>\n",
       "      <td>7303</td>\n",
       "    </tr>\n",
       "    <tr>\n",
       "      <th>...</th>\n",
       "      <td>...</td>\n",
       "      <td>...</td>\n",
       "      <td>...</td>\n",
       "    </tr>\n",
       "    <tr>\n",
       "      <th>UVUIH</th>\n",
       "      <td>TTTGTG TTGTGA TGTGAA GTGAAA TGAAAT GAAATT AAAT...</td>\n",
       "      <td>995</td>\n",
       "      <td>7278</td>\n",
       "    </tr>\n",
       "    <tr>\n",
       "      <th>BQK05</th>\n",
       "      <td>TACTAG ACTAGT CTAGTA TAGTAT AGTATT GTATTG TATT...</td>\n",
       "      <td>996</td>\n",
       "      <td>7283</td>\n",
       "    </tr>\n",
       "    <tr>\n",
       "      <th>9LL82</th>\n",
       "      <td>AGCGGT GCGGTC CGGTCA GGTCAC GTCACG TCACGC CACG...</td>\n",
       "      <td>997</td>\n",
       "      <td>7289</td>\n",
       "    </tr>\n",
       "    <tr>\n",
       "      <th>0P3LW</th>\n",
       "      <td>ATGAGA TGAGAT GAGATT AGATTA GATTAT ATTATC TTAT...</td>\n",
       "      <td>998</td>\n",
       "      <td>7292</td>\n",
       "    </tr>\n",
       "    <tr>\n",
       "      <th>THJQE</th>\n",
       "      <td>CACACA ACACAC CACACC ACACCC CACCCC ACCCCG CCCC...</td>\n",
       "      <td>999</td>\n",
       "      <td>7299</td>\n",
       "    </tr>\n",
       "  </tbody>\n",
       "</table>\n",
       "<p>1313 rows × 3 columns</p>\n",
       "</div>"
      ],
      "text/plain": [
       "                                                      sequence label   num\n",
       "sequence_id                                                               \n",
       "R8D86        GCAGAA CAGAAG AGAAGT GAAGTG AAGTGG AGTGGT GTGG...     0     0\n",
       "9UVU3        TCTAGT CTAGTG TAGTGT AGTGTA GTGTAG TGTAGC GTAG...     1    31\n",
       "6OCLU        TGACAG GACAGT ACAGTA CAGTAA AGTAAG GTAAGA TAAG...    10   154\n",
       "TJENW        CTGAAA TGAAAC GAAACA AAACAT AACATG ACATGG CATG...   100  1149\n",
       "S12LH        ATGGAA TGGAAA GGAAAA GAAAAA AAAAAC AAAACG AAAC...  1000  7303\n",
       "...                                                        ...   ...   ...\n",
       "UVUIH        TTTGTG TTGTGA TGTGAA GTGAAA TGAAAT GAAATT AAAT...   995  7278\n",
       "BQK05        TACTAG ACTAGT CTAGTA TAGTAT AGTATT GTATTG TATT...   996  7283\n",
       "9LL82        AGCGGT GCGGTC CGGTCA GGTCAC GTCACG TCACGC CACG...   997  7289\n",
       "0P3LW        ATGAGA TGAGAT GAGATT AGATTA GATTAT ATTATC TTAT...   998  7292\n",
       "THJQE        CACACA ACACAC CACACC ACACCC CACCCC ACCCCG CCCC...   999  7299\n",
       "\n",
       "[1313 rows x 3 columns]"
      ]
     },
     "execution_count": 77,
     "metadata": {},
     "output_type": "execute_result"
    }
   ],
   "source": [
    "dev_data"
   ]
  },
  {
   "cell_type": "code",
   "execution_count": 78,
   "metadata": {
    "scrolled": true
   },
   "outputs": [
    {
     "data": {
      "text/html": [
       "<div>\n",
       "<style scoped>\n",
       "    .dataframe tbody tr th:only-of-type {\n",
       "        vertical-align: middle;\n",
       "    }\n",
       "\n",
       "    .dataframe tbody tr th {\n",
       "        vertical-align: top;\n",
       "    }\n",
       "\n",
       "    .dataframe thead th {\n",
       "        text-align: right;\n",
       "    }\n",
       "</style>\n",
       "<table border=\"1\" class=\"dataframe\">\n",
       "  <thead>\n",
       "    <tr style=\"text-align: right;\">\n",
       "      <th></th>\n",
       "      <th>sequence</th>\n",
       "      <th>label</th>\n",
       "      <th>num</th>\n",
       "    </tr>\n",
       "    <tr>\n",
       "      <th>sequence_id</th>\n",
       "      <th></th>\n",
       "      <th></th>\n",
       "      <th></th>\n",
       "    </tr>\n",
       "  </thead>\n",
       "  <tbody>\n",
       "    <tr>\n",
       "      <th>WOAGB</th>\n",
       "      <td>ACGCCA CGCCAT GCCATT CCATTA CATTAA ATTAAC TTAA...</td>\n",
       "      <td>0</td>\n",
       "      <td>1</td>\n",
       "    </tr>\n",
       "    <tr>\n",
       "      <th>RPHFD</th>\n",
       "      <td>TGGGTT GGGTTA GGTTAC GTTACA TTACAT TACATC ACAT...</td>\n",
       "      <td>0</td>\n",
       "      <td>2</td>\n",
       "    </tr>\n",
       "    <tr>\n",
       "      <th>JCE9W</th>\n",
       "      <td>TTGTTT TGTTTT GTTTTC TTTTCA TTTCAA TTCAAG TCAA...</td>\n",
       "      <td>0</td>\n",
       "      <td>3</td>\n",
       "    </tr>\n",
       "    <tr>\n",
       "      <th>4KHKK</th>\n",
       "      <td>TGCGGG GCGGGA CGGGAG GGGAGG GGAGGT GAGGTG AGGT...</td>\n",
       "      <td>0</td>\n",
       "      <td>4</td>\n",
       "    </tr>\n",
       "    <tr>\n",
       "      <th>2YETQ</th>\n",
       "      <td>GTTTCT TTTCTG TTCTGA TCTGAA CTGAAA TGAAAC GAAA...</td>\n",
       "      <td>0</td>\n",
       "      <td>5</td>\n",
       "    </tr>\n",
       "    <tr>\n",
       "      <th>...</th>\n",
       "      <td>...</td>\n",
       "      <td>...</td>\n",
       "      <td>...</td>\n",
       "    </tr>\n",
       "    <tr>\n",
       "      <th>1C0DS</th>\n",
       "      <td>TGGGGA GGGGAC GGGACA GGACAT GACATC ACATCA CATC...</td>\n",
       "      <td>1295</td>\n",
       "      <td>8299</td>\n",
       "    </tr>\n",
       "    <tr>\n",
       "      <th>GUNZQ</th>\n",
       "      <td>ACAGGA CAGGAA AGGAAA GGAAAA GAAAAA AAAAAA AAAA...</td>\n",
       "      <td>1296</td>\n",
       "      <td>8300</td>\n",
       "    </tr>\n",
       "    <tr>\n",
       "      <th>JWAU8</th>\n",
       "      <td>AAATGG AATGGA ATGGAG TGGAGC GGAGCA GAGCAA AGCA...</td>\n",
       "      <td>1297</td>\n",
       "      <td>8302</td>\n",
       "    </tr>\n",
       "    <tr>\n",
       "      <th>J8PKA</th>\n",
       "      <td>CCCATC CCATCT CATCTC ATCTCT TCTCTA CTCTAC TCTA...</td>\n",
       "      <td>1298</td>\n",
       "      <td>8304</td>\n",
       "    </tr>\n",
       "    <tr>\n",
       "      <th>KSJG6</th>\n",
       "      <td>AATGGT ATGGTG TGGTGA GGTGAA GTGAAT TGAATA GAAT...</td>\n",
       "      <td>1299</td>\n",
       "      <td>8307</td>\n",
       "    </tr>\n",
       "  </tbody>\n",
       "</table>\n",
       "<p>7008 rows × 3 columns</p>\n",
       "</div>"
      ],
      "text/plain": [
       "                                                      sequence label   num\n",
       "sequence_id                                                               \n",
       "WOAGB        ACGCCA CGCCAT GCCATT CCATTA CATTAA ATTAAC TTAA...     0     1\n",
       "RPHFD        TGGGTT GGGTTA GGTTAC GTTACA TTACAT TACATC ACAT...     0     2\n",
       "JCE9W        TTGTTT TGTTTT GTTTTC TTTTCA TTTCAA TTCAAG TCAA...     0     3\n",
       "4KHKK        TGCGGG GCGGGA CGGGAG GGGAGG GGAGGT GAGGTG AGGT...     0     4\n",
       "2YETQ        GTTTCT TTTCTG TTCTGA TCTGAA CTGAAA TGAAAC GAAA...     0     5\n",
       "...                                                        ...   ...   ...\n",
       "1C0DS        TGGGGA GGGGAC GGGACA GGACAT GACATC ACATCA CATC...  1295  8299\n",
       "GUNZQ        ACAGGA CAGGAA AGGAAA GGAAAA GAAAAA AAAAAA AAAA...  1296  8300\n",
       "JWAU8        AAATGG AATGGA ATGGAG TGGAGC GGAGCA GAGCAA AGCA...  1297  8302\n",
       "J8PKA        CCCATC CCATCT CATCTC ATCTCT TCTCTA CTCTAC TCTA...  1298  8304\n",
       "KSJG6        AATGGT ATGGTG TGGTGA GGTGAA GTGAAT TGAATA GAAT...  1299  8307\n",
       "\n",
       "[7008 rows x 3 columns]"
      ]
     },
     "execution_count": 78,
     "metadata": {},
     "output_type": "execute_result"
    }
   ],
   "source": [
    "train_data"
   ]
  },
  {
   "cell_type": "markdown",
   "metadata": {},
   "source": [
    "Drop num column"
   ]
  },
  {
   "cell_type": "code",
   "execution_count": 87,
   "metadata": {},
   "outputs": [],
   "source": [
    "dev_data.drop(labels='num',axis=1, inplace=True)"
   ]
  },
  {
   "cell_type": "code",
   "execution_count": 88,
   "metadata": {},
   "outputs": [],
   "source": [
    "train_data.drop(labels='num',axis=1, inplace=True)"
   ]
  },
  {
   "cell_type": "markdown",
   "metadata": {},
   "source": [
    "### Shuffle"
   ]
  },
  {
   "cell_type": "markdown",
   "metadata": {},
   "source": [
    "As it is now, observations are ordered by label. Will shuffle it just in case the model does not shuffle input data to take the 32 batch sizes (I bet it does)"
   ]
  },
  {
   "cell_type": "code",
   "execution_count": 89,
   "metadata": {},
   "outputs": [],
   "source": [
    "train_data = train_data.sample(frac=1, random_state=42)"
   ]
  },
  {
   "cell_type": "code",
   "execution_count": 90,
   "metadata": {},
   "outputs": [
    {
     "data": {
      "text/html": [
       "<div>\n",
       "<style scoped>\n",
       "    .dataframe tbody tr th:only-of-type {\n",
       "        vertical-align: middle;\n",
       "    }\n",
       "\n",
       "    .dataframe tbody tr th {\n",
       "        vertical-align: top;\n",
       "    }\n",
       "\n",
       "    .dataframe thead th {\n",
       "        text-align: right;\n",
       "    }\n",
       "</style>\n",
       "<table border=\"1\" class=\"dataframe\">\n",
       "  <thead>\n",
       "    <tr style=\"text-align: right;\">\n",
       "      <th></th>\n",
       "      <th>sequence</th>\n",
       "      <th>label</th>\n",
       "    </tr>\n",
       "    <tr>\n",
       "      <th>sequence_id</th>\n",
       "      <th></th>\n",
       "      <th></th>\n",
       "    </tr>\n",
       "  </thead>\n",
       "  <tbody>\n",
       "    <tr>\n",
       "      <th>UPK17</th>\n",
       "      <td>GGCTGG GCTGGC CTGGCT TGGCTG GGCTGG GCTGGT CTGG...</td>\n",
       "      <td>1043</td>\n",
       "    </tr>\n",
       "    <tr>\n",
       "      <th>JEGY9</th>\n",
       "      <td>AAGAGT AGAGTA GAGTAA AGTAAT GTAATT TAATTG AATT...</td>\n",
       "      <td>181</td>\n",
       "    </tr>\n",
       "    <tr>\n",
       "      <th>NDPSH</th>\n",
       "      <td>AAACTT AACTTG ACTTGA CTTGAT TTGATT TGATTA GATT...</td>\n",
       "      <td>466</td>\n",
       "    </tr>\n",
       "    <tr>\n",
       "      <th>VZS7T</th>\n",
       "      <td>AACCGT ACCGTA CCGTAA CGTAAA GTAAAA TAAAAA AAAA...</td>\n",
       "      <td>253</td>\n",
       "    </tr>\n",
       "    <tr>\n",
       "      <th>LH1AF</th>\n",
       "      <td>ATGCTT TGCTTA GCTTAA CTTAAT TTAATC TAATCA AATC...</td>\n",
       "      <td>877</td>\n",
       "    </tr>\n",
       "    <tr>\n",
       "      <th>...</th>\n",
       "      <td>...</td>\n",
       "      <td>...</td>\n",
       "    </tr>\n",
       "    <tr>\n",
       "      <th>JMQU6</th>\n",
       "      <td>AATACA ATACAA TACAAC ACAACC CAACCT AACCTA ACCT...</td>\n",
       "      <td>802</td>\n",
       "    </tr>\n",
       "    <tr>\n",
       "      <th>1XTUU</th>\n",
       "      <td>GTGGTT TGGTTC GGTTCT GTTCTG TTCTGC TCTGCT CTGC...</td>\n",
       "      <td>834</td>\n",
       "    </tr>\n",
       "    <tr>\n",
       "      <th>013DI</th>\n",
       "      <td>GATCTG ATCTGA TCTGAT CTGATG TGATGG GATGGC ATGG...</td>\n",
       "      <td>982</td>\n",
       "    </tr>\n",
       "    <tr>\n",
       "      <th>L2XT2</th>\n",
       "      <td>AACTCG ACTCGA CTCGAC TCGACC CGACCA GACCAC ACCA...</td>\n",
       "      <td>591</td>\n",
       "    </tr>\n",
       "    <tr>\n",
       "      <th>MIM4E</th>\n",
       "      <td>GCGATC CGATCA GATCAC ATCACA TCACAT CACATG ACAT...</td>\n",
       "      <td>830</td>\n",
       "    </tr>\n",
       "  </tbody>\n",
       "</table>\n",
       "<p>1313 rows × 2 columns</p>\n",
       "</div>"
      ],
      "text/plain": [
       "                                                      sequence label\n",
       "sequence_id                                                         \n",
       "UPK17        GGCTGG GCTGGC CTGGCT TGGCTG GGCTGG GCTGGT CTGG...  1043\n",
       "JEGY9        AAGAGT AGAGTA GAGTAA AGTAAT GTAATT TAATTG AATT...   181\n",
       "NDPSH        AAACTT AACTTG ACTTGA CTTGAT TTGATT TGATTA GATT...   466\n",
       "VZS7T        AACCGT ACCGTA CCGTAA CGTAAA GTAAAA TAAAAA AAAA...   253\n",
       "LH1AF        ATGCTT TGCTTA GCTTAA CTTAAT TTAATC TAATCA AATC...   877\n",
       "...                                                        ...   ...\n",
       "JMQU6        AATACA ATACAA TACAAC ACAACC CAACCT AACCTA ACCT...   802\n",
       "1XTUU        GTGGTT TGGTTC GGTTCT GTTCTG TTCTGC TCTGCT CTGC...   834\n",
       "013DI        GATCTG ATCTGA TCTGAT CTGATG TGATGG GATGGC ATGG...   982\n",
       "L2XT2        AACTCG ACTCGA CTCGAC TCGACC CGACCA GACCAC ACCA...   591\n",
       "MIM4E        GCGATC CGATCA GATCAC ATCACA TCACAT CACATG ACAT...   830\n",
       "\n",
       "[1313 rows x 2 columns]"
      ]
     },
     "execution_count": 90,
     "metadata": {},
     "output_type": "execute_result"
    }
   ],
   "source": [
    "dev_data"
   ]
  },
  {
   "cell_type": "code",
   "execution_count": 91,
   "metadata": {},
   "outputs": [],
   "source": [
    "dev_data = dev_data.sample(frac=1, random_state=42)"
   ]
  },
  {
   "cell_type": "code",
   "execution_count": 92,
   "metadata": {},
   "outputs": [
    {
     "data": {
      "text/html": [
       "<div>\n",
       "<style scoped>\n",
       "    .dataframe tbody tr th:only-of-type {\n",
       "        vertical-align: middle;\n",
       "    }\n",
       "\n",
       "    .dataframe tbody tr th {\n",
       "        vertical-align: top;\n",
       "    }\n",
       "\n",
       "    .dataframe thead th {\n",
       "        text-align: right;\n",
       "    }\n",
       "</style>\n",
       "<table border=\"1\" class=\"dataframe\">\n",
       "  <thead>\n",
       "    <tr style=\"text-align: right;\">\n",
       "      <th></th>\n",
       "      <th>sequence</th>\n",
       "      <th>label</th>\n",
       "    </tr>\n",
       "    <tr>\n",
       "      <th>sequence_id</th>\n",
       "      <th></th>\n",
       "      <th></th>\n",
       "    </tr>\n",
       "  </thead>\n",
       "  <tbody>\n",
       "    <tr>\n",
       "      <th>KT1RZ</th>\n",
       "      <td>TACTCT ACTCTT CTCTTC TCTTCC CTTCCT TTCCTT TCCT...</td>\n",
       "      <td>187</td>\n",
       "    </tr>\n",
       "    <tr>\n",
       "      <th>NPRCX</th>\n",
       "      <td>AATACG ATACGA TACGAC ACGACT CGACTC GACTCA ACTC...</td>\n",
       "      <td>451</td>\n",
       "    </tr>\n",
       "    <tr>\n",
       "      <th>DJUUX</th>\n",
       "      <td>GCCTCT CCTCTT CTCTTC TCTTCG CTTCGC TTCGCT TCGC...</td>\n",
       "      <td>724</td>\n",
       "    </tr>\n",
       "    <tr>\n",
       "      <th>5KKO0</th>\n",
       "      <td>CGGACT GGACTG GACTGT ACTGTT CTGTTG TGTTGG GTTG...</td>\n",
       "      <td>896</td>\n",
       "    </tr>\n",
       "    <tr>\n",
       "      <th>F5VM2</th>\n",
       "      <td>TGAAGG GAAGGG AAGGGC AGGGCA GGGCAA GGCAAT GCAA...</td>\n",
       "      <td>302</td>\n",
       "    </tr>\n",
       "    <tr>\n",
       "      <th>...</th>\n",
       "      <td>...</td>\n",
       "      <td>...</td>\n",
       "    </tr>\n",
       "    <tr>\n",
       "      <th>PLLPV</th>\n",
       "      <td>TCATGG CATGGC ATGGCC TGGCCT GGCCTA GCCTAC CCTA...</td>\n",
       "      <td>1045</td>\n",
       "    </tr>\n",
       "    <tr>\n",
       "      <th>WW475</th>\n",
       "      <td>TGTGTT GTGTTC TGTTCC GTTCCA TTCCAG TCCAGG CCAG...</td>\n",
       "      <td>1126</td>\n",
       "    </tr>\n",
       "    <tr>\n",
       "      <th>77RBU</th>\n",
       "      <td>CGGCTG GGCTGC GCTGCG CTGCGG TGCGGC GCGGCG CGGC...</td>\n",
       "      <td>910</td>\n",
       "    </tr>\n",
       "    <tr>\n",
       "      <th>83E2Z</th>\n",
       "      <td>CCCACA CCACAC CACACA ACACAT CACATA ACATAG CATA...</td>\n",
       "      <td>1238</td>\n",
       "    </tr>\n",
       "    <tr>\n",
       "      <th>C3K5L</th>\n",
       "      <td>CTGACA TGACAG GACAGT ACAGTT CAGTTA AGTTAC GTTA...</td>\n",
       "      <td>41</td>\n",
       "    </tr>\n",
       "  </tbody>\n",
       "</table>\n",
       "<p>1313 rows × 2 columns</p>\n",
       "</div>"
      ],
      "text/plain": [
       "                                                      sequence label\n",
       "sequence_id                                                         \n",
       "KT1RZ        TACTCT ACTCTT CTCTTC TCTTCC CTTCCT TTCCTT TCCT...   187\n",
       "NPRCX        AATACG ATACGA TACGAC ACGACT CGACTC GACTCA ACTC...   451\n",
       "DJUUX        GCCTCT CCTCTT CTCTTC TCTTCG CTTCGC TTCGCT TCGC...   724\n",
       "5KKO0        CGGACT GGACTG GACTGT ACTGTT CTGTTG TGTTGG GTTG...   896\n",
       "F5VM2        TGAAGG GAAGGG AAGGGC AGGGCA GGGCAA GGCAAT GCAA...   302\n",
       "...                                                        ...   ...\n",
       "PLLPV        TCATGG CATGGC ATGGCC TGGCCT GGCCTA GCCTAC CCTA...  1045\n",
       "WW475        TGTGTT GTGTTC TGTTCC GTTCCA TTCCAG TCCAGG CCAG...  1126\n",
       "77RBU        CGGCTG GGCTGC GCTGCG CTGCGG TGCGGC GCGGCG CGGC...   910\n",
       "83E2Z        CCCACA CCACAC CACACA ACACAT CACATA ACATAG CATA...  1238\n",
       "C3K5L        CTGACA TGACAG GACAGT ACAGTT CAGTTA AGTTAC GTTA...    41\n",
       "\n",
       "[1313 rows x 2 columns]"
      ]
     },
     "execution_count": 92,
     "metadata": {},
     "output_type": "execute_result"
    }
   ],
   "source": [
    "dev_data"
   ]
  },
  {
   "cell_type": "markdown",
   "metadata": {},
   "source": [
    "### Export"
   ]
  },
  {
   "cell_type": "markdown",
   "metadata": {},
   "source": [
    "Finally, export this dataframes in the appropriate format and in a .csv file that could be read back to pandas (which contains information about the indices!)"
   ]
  },
  {
   "cell_type": "code",
   "execution_count": 93,
   "metadata": {},
   "outputs": [],
   "source": [
    "train_data.to_csv(f'{path_prefix}/transformers/7_gea500/in_data/train_data.csv')\n",
    "dev_data.to_csv(f'{path_prefix}/transformers/7_gea500/in_data/dev_data.csv')"
   ]
  },
  {
   "cell_type": "markdown",
   "metadata": {},
   "source": [
    "Model will use these tsv files."
   ]
  },
  {
   "cell_type": "code",
   "execution_count": 94,
   "metadata": {},
   "outputs": [],
   "source": [
    "train_data.to_csv(f'{path_prefix}/transformers/7_gea500/in_data/train.tsv', sep='\\t', index=False)\n",
    "dev_data.to_csv(f'{path_prefix}/transformers/7_gea500/in_data/dev.tsv', sep='\\t', index=False)"
   ]
  },
  {
   "cell_type": "markdown",
   "metadata": {},
   "source": [
    "Also export the key to relate each numeric label to each class name"
   ]
  },
  {
   "cell_type": "code",
   "execution_count": 95,
   "metadata": {},
   "outputs": [],
   "source": [
    "with open(f'{path_prefix}/transformers/7_gea500/in_data/label_key.csv','w') as f:\n",
    "    f.write('label_name label_num\\n')\n",
    "    for name, num in label_key.items():\n",
    "        f.write(f'{name} {num}\\n')"
   ]
  },
  {
   "cell_type": "code",
   "execution_count": null,
   "metadata": {},
   "outputs": [],
   "source": []
  }
 ],
 "metadata": {
  "kernelspec": {
   "display_name": "comp_genomics",
   "language": "python",
   "name": "comp_genomics"
  },
  "language_info": {
   "codemirror_mode": {
    "name": "ipython",
    "version": 3
   },
   "file_extension": ".py",
   "mimetype": "text/x-python",
   "name": "python",
   "nbconvert_exporter": "python",
   "pygments_lexer": "ipython3",
   "version": "3.9.7"
  }
 },
 "nbformat": 4,
 "nbformat_minor": 4
}
