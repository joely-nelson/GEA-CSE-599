{
 "cells": [
  {
   "cell_type": "markdown",
   "metadata": {},
   "source": [
    "## Process data"
   ]
  },
  {
   "cell_type": "markdown",
   "metadata": {},
   "source": [
    "Load the gea data, taking only the 30 most abundant classes. Select only the initial 101 nts to use in pretraining of the model, as done before.\n",
    "\n",
    "Here training and test data is completely balanced (283 observations per class)"
   ]
  },
  {
   "cell_type": "code",
   "execution_count": 32,
   "metadata": {},
   "outputs": [],
   "source": [
    "# set directory of this repo so that all paths can be absolute/relative (not ended with a '/')\n",
    "path_prefix = '/home/mexposit/cg/gea'"
   ]
  },
  {
   "cell_type": "code",
   "execution_count": 33,
   "metadata": {},
   "outputs": [],
   "source": [
    "import math\n",
    "import numpy as np\n",
    "import pandas as pd\n",
    "import matplotlib.pyplot as plt\n",
    "import seaborn as sns"
   ]
  },
  {
   "cell_type": "code",
   "execution_count": 34,
   "metadata": {},
   "outputs": [],
   "source": [
    "def rev_comp(seq):\n",
    "    revcomp = ''\n",
    "    for nt in seq:\n",
    "        if nt.upper() == 'A':\n",
    "            revcomp = revcomp+'T'\n",
    "        elif nt.upper() == 'G':\n",
    "            revcomp = revcomp+'C'\n",
    "        elif nt.upper() == 'C':\n",
    "            revcomp = revcomp+'G'\n",
    "        elif nt.upper() == 'T':\n",
    "            revcomp = revcomp+'A'\n",
    "        else:\n",
    "            raise ValueError(f'Unrecognized nucleotide {nt}')\n",
    "    return revcomp[::-1]"
   ]
  },
  {
   "cell_type": "code",
   "execution_count": 35,
   "metadata": {},
   "outputs": [
    {
     "data": {
      "text/plain": [
       "'CGAT'"
      ]
     },
     "execution_count": 35,
     "metadata": {},
     "output_type": "execute_result"
    }
   ],
   "source": [
    "rev_comp('ATCG')"
   ]
  },
  {
   "cell_type": "code",
   "execution_count": 36,
   "metadata": {},
   "outputs": [],
   "source": [
    "def min_nonN_seq(seq):\n",
    "    \"\"\"\n",
    "    Gets the number of contiguous nucleotides in a sequence that are not N\n",
    "    \"\"\"\n",
    "    seq = seq.upper()\n",
    "    max_stretch = 0\n",
    "    cont_len = 0\n",
    "    for char in seq:\n",
    "        if char in 'ATCG':\n",
    "            cont_len += 1\n",
    "        elif char == 'N':\n",
    "            # found N, see if contiguous count is larger than previous maximum\n",
    "            if cont_len > max_stretch:\n",
    "                max_stretch = cont_len\n",
    "            # reset to zero\n",
    "            cont_len = 0\n",
    "        else:\n",
    "            raise ValueError(f'Found unrecognized nucleotide {char} in seq {seq}')\n",
    "    # get stretch if no N has been found\n",
    "    if max_stretch == 0:\n",
    "        max_stretch = cont_len\n",
    "    return max_stretch    "
   ]
  },
  {
   "cell_type": "code",
   "execution_count": 37,
   "metadata": {},
   "outputs": [
    {
     "name": "stdout",
     "output_type": "stream",
     "text": [
      "5\n",
      "0\n",
      "7\n"
     ]
    }
   ],
   "source": [
    "print(min_nonN_seq('ATCGTNATNA'))\n",
    "print(min_nonN_seq('NNNN'))\n",
    "print(min_nonN_seq('agtcatc'))"
   ]
  },
  {
   "cell_type": "markdown",
   "metadata": {},
   "source": [
    "### Load data"
   ]
  },
  {
   "cell_type": "code",
   "execution_count": 38,
   "metadata": {},
   "outputs": [],
   "source": [
    "train_vals = pd.read_csv(f'{path_prefix}/data/train_values.csv', index_col=0)\n",
    "train_labl = pd.read_csv(f'{path_prefix}/data/train_labels.csv', index_col=0)"
   ]
  },
  {
   "cell_type": "code",
   "execution_count": 39,
   "metadata": {},
   "outputs": [
    {
     "data": {
      "text/html": [
       "<div>\n",
       "<style scoped>\n",
       "    .dataframe tbody tr th:only-of-type {\n",
       "        vertical-align: middle;\n",
       "    }\n",
       "\n",
       "    .dataframe tbody tr th {\n",
       "        vertical-align: top;\n",
       "    }\n",
       "\n",
       "    .dataframe thead th {\n",
       "        text-align: right;\n",
       "    }\n",
       "</style>\n",
       "<table border=\"1\" class=\"dataframe\">\n",
       "  <thead>\n",
       "    <tr style=\"text-align: right;\">\n",
       "      <th></th>\n",
       "      <th>sequence</th>\n",
       "      <th>bacterial_resistance_ampicillin</th>\n",
       "      <th>bacterial_resistance_chloramphenicol</th>\n",
       "      <th>bacterial_resistance_kanamycin</th>\n",
       "      <th>bacterial_resistance_other</th>\n",
       "      <th>bacterial_resistance_spectinomycin</th>\n",
       "      <th>copy_number_high_copy</th>\n",
       "      <th>copy_number_low_copy</th>\n",
       "      <th>copy_number_unknown</th>\n",
       "      <th>growth_strain_ccdb_survival</th>\n",
       "      <th>...</th>\n",
       "      <th>species_budding_yeast</th>\n",
       "      <th>species_fly</th>\n",
       "      <th>species_human</th>\n",
       "      <th>species_mouse</th>\n",
       "      <th>species_mustard_weed</th>\n",
       "      <th>species_nematode</th>\n",
       "      <th>species_other</th>\n",
       "      <th>species_rat</th>\n",
       "      <th>species_synthetic</th>\n",
       "      <th>species_zebrafish</th>\n",
       "    </tr>\n",
       "    <tr>\n",
       "      <th>sequence_id</th>\n",
       "      <th></th>\n",
       "      <th></th>\n",
       "      <th></th>\n",
       "      <th></th>\n",
       "      <th></th>\n",
       "      <th></th>\n",
       "      <th></th>\n",
       "      <th></th>\n",
       "      <th></th>\n",
       "      <th></th>\n",
       "      <th></th>\n",
       "      <th></th>\n",
       "      <th></th>\n",
       "      <th></th>\n",
       "      <th></th>\n",
       "      <th></th>\n",
       "      <th></th>\n",
       "      <th></th>\n",
       "      <th></th>\n",
       "      <th></th>\n",
       "      <th></th>\n",
       "    </tr>\n",
       "  </thead>\n",
       "  <tbody>\n",
       "    <tr>\n",
       "      <th>9ZIMC</th>\n",
       "      <td>CATGCATTAGTTATTAATAGTAATCAATTACGGGGTCATTAGTTCA...</td>\n",
       "      <td>0.0</td>\n",
       "      <td>0.0</td>\n",
       "      <td>1.0</td>\n",
       "      <td>0.0</td>\n",
       "      <td>0.0</td>\n",
       "      <td>1.0</td>\n",
       "      <td>0.0</td>\n",
       "      <td>0.0</td>\n",
       "      <td>0.0</td>\n",
       "      <td>...</td>\n",
       "      <td>0.0</td>\n",
       "      <td>0.0</td>\n",
       "      <td>0.0</td>\n",
       "      <td>1.0</td>\n",
       "      <td>0.0</td>\n",
       "      <td>0.0</td>\n",
       "      <td>0.0</td>\n",
       "      <td>0.0</td>\n",
       "      <td>0.0</td>\n",
       "      <td>0.0</td>\n",
       "    </tr>\n",
       "    <tr>\n",
       "      <th>5SAQC</th>\n",
       "      <td>GCTGGATGGTTTGGGACATGTGCAGCCCCGTCTCTGTATGGAGTGA...</td>\n",
       "      <td>1.0</td>\n",
       "      <td>0.0</td>\n",
       "      <td>0.0</td>\n",
       "      <td>0.0</td>\n",
       "      <td>0.0</td>\n",
       "      <td>1.0</td>\n",
       "      <td>0.0</td>\n",
       "      <td>0.0</td>\n",
       "      <td>0.0</td>\n",
       "      <td>...</td>\n",
       "      <td>0.0</td>\n",
       "      <td>0.0</td>\n",
       "      <td>0.0</td>\n",
       "      <td>1.0</td>\n",
       "      <td>0.0</td>\n",
       "      <td>0.0</td>\n",
       "      <td>0.0</td>\n",
       "      <td>0.0</td>\n",
       "      <td>0.0</td>\n",
       "      <td>0.0</td>\n",
       "    </tr>\n",
       "    <tr>\n",
       "      <th>E7QRO</th>\n",
       "      <td>NNCCGGGCTGTAGCTACACAGGGCGGAGATGAGAGCCCTACGAAAG...</td>\n",
       "      <td>1.0</td>\n",
       "      <td>0.0</td>\n",
       "      <td>0.0</td>\n",
       "      <td>0.0</td>\n",
       "      <td>0.0</td>\n",
       "      <td>1.0</td>\n",
       "      <td>0.0</td>\n",
       "      <td>0.0</td>\n",
       "      <td>0.0</td>\n",
       "      <td>...</td>\n",
       "      <td>0.0</td>\n",
       "      <td>0.0</td>\n",
       "      <td>0.0</td>\n",
       "      <td>1.0</td>\n",
       "      <td>0.0</td>\n",
       "      <td>0.0</td>\n",
       "      <td>0.0</td>\n",
       "      <td>0.0</td>\n",
       "      <td>0.0</td>\n",
       "      <td>0.0</td>\n",
       "    </tr>\n",
       "    <tr>\n",
       "      <th>CT5FP</th>\n",
       "      <td>GCGGAGATGAAGAGCCCTACGAAAGCTGAGCCTGCGACTCCCGCAG...</td>\n",
       "      <td>1.0</td>\n",
       "      <td>0.0</td>\n",
       "      <td>0.0</td>\n",
       "      <td>0.0</td>\n",
       "      <td>0.0</td>\n",
       "      <td>1.0</td>\n",
       "      <td>0.0</td>\n",
       "      <td>0.0</td>\n",
       "      <td>0.0</td>\n",
       "      <td>...</td>\n",
       "      <td>0.0</td>\n",
       "      <td>0.0</td>\n",
       "      <td>0.0</td>\n",
       "      <td>1.0</td>\n",
       "      <td>0.0</td>\n",
       "      <td>0.0</td>\n",
       "      <td>0.0</td>\n",
       "      <td>0.0</td>\n",
       "      <td>0.0</td>\n",
       "      <td>0.0</td>\n",
       "    </tr>\n",
       "    <tr>\n",
       "      <th>7PTD8</th>\n",
       "      <td>CGCGCATTACTTCACATGGTCCTCAAGGGTAACATGAAAGTGATCC...</td>\n",
       "      <td>1.0</td>\n",
       "      <td>0.0</td>\n",
       "      <td>0.0</td>\n",
       "      <td>0.0</td>\n",
       "      <td>0.0</td>\n",
       "      <td>1.0</td>\n",
       "      <td>0.0</td>\n",
       "      <td>0.0</td>\n",
       "      <td>0.0</td>\n",
       "      <td>...</td>\n",
       "      <td>0.0</td>\n",
       "      <td>0.0</td>\n",
       "      <td>0.0</td>\n",
       "      <td>1.0</td>\n",
       "      <td>0.0</td>\n",
       "      <td>0.0</td>\n",
       "      <td>0.0</td>\n",
       "      <td>0.0</td>\n",
       "      <td>0.0</td>\n",
       "      <td>0.0</td>\n",
       "    </tr>\n",
       "  </tbody>\n",
       "</table>\n",
       "<p>5 rows × 40 columns</p>\n",
       "</div>"
      ],
      "text/plain": [
       "                                                      sequence  \\\n",
       "sequence_id                                                      \n",
       "9ZIMC        CATGCATTAGTTATTAATAGTAATCAATTACGGGGTCATTAGTTCA...   \n",
       "5SAQC        GCTGGATGGTTTGGGACATGTGCAGCCCCGTCTCTGTATGGAGTGA...   \n",
       "E7QRO        NNCCGGGCTGTAGCTACACAGGGCGGAGATGAGAGCCCTACGAAAG...   \n",
       "CT5FP        GCGGAGATGAAGAGCCCTACGAAAGCTGAGCCTGCGACTCCCGCAG...   \n",
       "7PTD8        CGCGCATTACTTCACATGGTCCTCAAGGGTAACATGAAAGTGATCC...   \n",
       "\n",
       "             bacterial_resistance_ampicillin  \\\n",
       "sequence_id                                    \n",
       "9ZIMC                                    0.0   \n",
       "5SAQC                                    1.0   \n",
       "E7QRO                                    1.0   \n",
       "CT5FP                                    1.0   \n",
       "7PTD8                                    1.0   \n",
       "\n",
       "             bacterial_resistance_chloramphenicol  \\\n",
       "sequence_id                                         \n",
       "9ZIMC                                         0.0   \n",
       "5SAQC                                         0.0   \n",
       "E7QRO                                         0.0   \n",
       "CT5FP                                         0.0   \n",
       "7PTD8                                         0.0   \n",
       "\n",
       "             bacterial_resistance_kanamycin  bacterial_resistance_other  \\\n",
       "sequence_id                                                               \n",
       "9ZIMC                                   1.0                         0.0   \n",
       "5SAQC                                   0.0                         0.0   \n",
       "E7QRO                                   0.0                         0.0   \n",
       "CT5FP                                   0.0                         0.0   \n",
       "7PTD8                                   0.0                         0.0   \n",
       "\n",
       "             bacterial_resistance_spectinomycin  copy_number_high_copy  \\\n",
       "sequence_id                                                              \n",
       "9ZIMC                                       0.0                    1.0   \n",
       "5SAQC                                       0.0                    1.0   \n",
       "E7QRO                                       0.0                    1.0   \n",
       "CT5FP                                       0.0                    1.0   \n",
       "7PTD8                                       0.0                    1.0   \n",
       "\n",
       "             copy_number_low_copy  copy_number_unknown  \\\n",
       "sequence_id                                              \n",
       "9ZIMC                         0.0                  0.0   \n",
       "5SAQC                         0.0                  0.0   \n",
       "E7QRO                         0.0                  0.0   \n",
       "CT5FP                         0.0                  0.0   \n",
       "7PTD8                         0.0                  0.0   \n",
       "\n",
       "             growth_strain_ccdb_survival  ...  species_budding_yeast  \\\n",
       "sequence_id                               ...                          \n",
       "9ZIMC                                0.0  ...                    0.0   \n",
       "5SAQC                                0.0  ...                    0.0   \n",
       "E7QRO                                0.0  ...                    0.0   \n",
       "CT5FP                                0.0  ...                    0.0   \n",
       "7PTD8                                0.0  ...                    0.0   \n",
       "\n",
       "             species_fly  species_human  species_mouse  species_mustard_weed  \\\n",
       "sequence_id                                                                    \n",
       "9ZIMC                0.0            0.0            1.0                   0.0   \n",
       "5SAQC                0.0            0.0            1.0                   0.0   \n",
       "E7QRO                0.0            0.0            1.0                   0.0   \n",
       "CT5FP                0.0            0.0            1.0                   0.0   \n",
       "7PTD8                0.0            0.0            1.0                   0.0   \n",
       "\n",
       "             species_nematode  species_other  species_rat  species_synthetic  \\\n",
       "sequence_id                                                                    \n",
       "9ZIMC                     0.0            0.0          0.0                0.0   \n",
       "5SAQC                     0.0            0.0          0.0                0.0   \n",
       "E7QRO                     0.0            0.0          0.0                0.0   \n",
       "CT5FP                     0.0            0.0          0.0                0.0   \n",
       "7PTD8                     0.0            0.0          0.0                0.0   \n",
       "\n",
       "             species_zebrafish  \n",
       "sequence_id                     \n",
       "9ZIMC                      0.0  \n",
       "5SAQC                      0.0  \n",
       "E7QRO                      0.0  \n",
       "CT5FP                      0.0  \n",
       "7PTD8                      0.0  \n",
       "\n",
       "[5 rows x 40 columns]"
      ]
     },
     "execution_count": 39,
     "metadata": {},
     "output_type": "execute_result"
    }
   ],
   "source": [
    "train_vals.head()"
   ]
  },
  {
   "cell_type": "code",
   "execution_count": 40,
   "metadata": {},
   "outputs": [
    {
     "data": {
      "text/html": [
       "<div>\n",
       "<style scoped>\n",
       "    .dataframe tbody tr th:only-of-type {\n",
       "        vertical-align: middle;\n",
       "    }\n",
       "\n",
       "    .dataframe tbody tr th {\n",
       "        vertical-align: top;\n",
       "    }\n",
       "\n",
       "    .dataframe thead th {\n",
       "        text-align: right;\n",
       "    }\n",
       "</style>\n",
       "<table border=\"1\" class=\"dataframe\">\n",
       "  <thead>\n",
       "    <tr style=\"text-align: right;\">\n",
       "      <th></th>\n",
       "      <th>00Q4V31T</th>\n",
       "      <th>012VT4JK</th>\n",
       "      <th>028IO5W2</th>\n",
       "      <th>03GRNN7N</th>\n",
       "      <th>03Y3W51H</th>\n",
       "      <th>09MQV1TY</th>\n",
       "      <th>0A4AHRCT</th>\n",
       "      <th>0A9M05NC</th>\n",
       "      <th>0B9GCUVV</th>\n",
       "      <th>0CL7QVG8</th>\n",
       "      <th>...</th>\n",
       "      <th>ZQNGGY33</th>\n",
       "      <th>ZSHS4VJZ</th>\n",
       "      <th>ZT1IP3T6</th>\n",
       "      <th>ZU6860XU</th>\n",
       "      <th>ZU6TVFFU</th>\n",
       "      <th>ZU75P59K</th>\n",
       "      <th>ZUI6TDWV</th>\n",
       "      <th>ZWFD8OHC</th>\n",
       "      <th>ZX06ZDZN</th>\n",
       "      <th>ZZJVE4HO</th>\n",
       "    </tr>\n",
       "    <tr>\n",
       "      <th>sequence_id</th>\n",
       "      <th></th>\n",
       "      <th></th>\n",
       "      <th></th>\n",
       "      <th></th>\n",
       "      <th></th>\n",
       "      <th></th>\n",
       "      <th></th>\n",
       "      <th></th>\n",
       "      <th></th>\n",
       "      <th></th>\n",
       "      <th></th>\n",
       "      <th></th>\n",
       "      <th></th>\n",
       "      <th></th>\n",
       "      <th></th>\n",
       "      <th></th>\n",
       "      <th></th>\n",
       "      <th></th>\n",
       "      <th></th>\n",
       "      <th></th>\n",
       "      <th></th>\n",
       "    </tr>\n",
       "  </thead>\n",
       "  <tbody>\n",
       "    <tr>\n",
       "      <th>9ZIMC</th>\n",
       "      <td>0.0</td>\n",
       "      <td>0.0</td>\n",
       "      <td>0.0</td>\n",
       "      <td>0.0</td>\n",
       "      <td>0.0</td>\n",
       "      <td>0.0</td>\n",
       "      <td>0.0</td>\n",
       "      <td>0.0</td>\n",
       "      <td>0.0</td>\n",
       "      <td>0.0</td>\n",
       "      <td>...</td>\n",
       "      <td>0.0</td>\n",
       "      <td>0.0</td>\n",
       "      <td>0.0</td>\n",
       "      <td>0.0</td>\n",
       "      <td>0.0</td>\n",
       "      <td>0.0</td>\n",
       "      <td>0.0</td>\n",
       "      <td>0.0</td>\n",
       "      <td>0.0</td>\n",
       "      <td>0.0</td>\n",
       "    </tr>\n",
       "    <tr>\n",
       "      <th>5SAQC</th>\n",
       "      <td>0.0</td>\n",
       "      <td>0.0</td>\n",
       "      <td>0.0</td>\n",
       "      <td>0.0</td>\n",
       "      <td>0.0</td>\n",
       "      <td>0.0</td>\n",
       "      <td>0.0</td>\n",
       "      <td>0.0</td>\n",
       "      <td>0.0</td>\n",
       "      <td>0.0</td>\n",
       "      <td>...</td>\n",
       "      <td>0.0</td>\n",
       "      <td>0.0</td>\n",
       "      <td>0.0</td>\n",
       "      <td>0.0</td>\n",
       "      <td>0.0</td>\n",
       "      <td>0.0</td>\n",
       "      <td>0.0</td>\n",
       "      <td>0.0</td>\n",
       "      <td>0.0</td>\n",
       "      <td>0.0</td>\n",
       "    </tr>\n",
       "    <tr>\n",
       "      <th>E7QRO</th>\n",
       "      <td>0.0</td>\n",
       "      <td>0.0</td>\n",
       "      <td>0.0</td>\n",
       "      <td>0.0</td>\n",
       "      <td>0.0</td>\n",
       "      <td>0.0</td>\n",
       "      <td>0.0</td>\n",
       "      <td>0.0</td>\n",
       "      <td>0.0</td>\n",
       "      <td>0.0</td>\n",
       "      <td>...</td>\n",
       "      <td>0.0</td>\n",
       "      <td>0.0</td>\n",
       "      <td>0.0</td>\n",
       "      <td>0.0</td>\n",
       "      <td>0.0</td>\n",
       "      <td>0.0</td>\n",
       "      <td>0.0</td>\n",
       "      <td>0.0</td>\n",
       "      <td>0.0</td>\n",
       "      <td>0.0</td>\n",
       "    </tr>\n",
       "    <tr>\n",
       "      <th>CT5FP</th>\n",
       "      <td>0.0</td>\n",
       "      <td>0.0</td>\n",
       "      <td>0.0</td>\n",
       "      <td>0.0</td>\n",
       "      <td>0.0</td>\n",
       "      <td>0.0</td>\n",
       "      <td>0.0</td>\n",
       "      <td>0.0</td>\n",
       "      <td>0.0</td>\n",
       "      <td>0.0</td>\n",
       "      <td>...</td>\n",
       "      <td>0.0</td>\n",
       "      <td>0.0</td>\n",
       "      <td>0.0</td>\n",
       "      <td>0.0</td>\n",
       "      <td>0.0</td>\n",
       "      <td>0.0</td>\n",
       "      <td>0.0</td>\n",
       "      <td>0.0</td>\n",
       "      <td>0.0</td>\n",
       "      <td>0.0</td>\n",
       "    </tr>\n",
       "    <tr>\n",
       "      <th>7PTD8</th>\n",
       "      <td>0.0</td>\n",
       "      <td>0.0</td>\n",
       "      <td>0.0</td>\n",
       "      <td>0.0</td>\n",
       "      <td>0.0</td>\n",
       "      <td>0.0</td>\n",
       "      <td>0.0</td>\n",
       "      <td>0.0</td>\n",
       "      <td>0.0</td>\n",
       "      <td>0.0</td>\n",
       "      <td>...</td>\n",
       "      <td>0.0</td>\n",
       "      <td>0.0</td>\n",
       "      <td>0.0</td>\n",
       "      <td>0.0</td>\n",
       "      <td>0.0</td>\n",
       "      <td>0.0</td>\n",
       "      <td>0.0</td>\n",
       "      <td>0.0</td>\n",
       "      <td>0.0</td>\n",
       "      <td>0.0</td>\n",
       "    </tr>\n",
       "  </tbody>\n",
       "</table>\n",
       "<p>5 rows × 1314 columns</p>\n",
       "</div>"
      ],
      "text/plain": [
       "             00Q4V31T  012VT4JK  028IO5W2  03GRNN7N  03Y3W51H  09MQV1TY  \\\n",
       "sequence_id                                                               \n",
       "9ZIMC             0.0       0.0       0.0       0.0       0.0       0.0   \n",
       "5SAQC             0.0       0.0       0.0       0.0       0.0       0.0   \n",
       "E7QRO             0.0       0.0       0.0       0.0       0.0       0.0   \n",
       "CT5FP             0.0       0.0       0.0       0.0       0.0       0.0   \n",
       "7PTD8             0.0       0.0       0.0       0.0       0.0       0.0   \n",
       "\n",
       "             0A4AHRCT  0A9M05NC  0B9GCUVV  0CL7QVG8  ...  ZQNGGY33  ZSHS4VJZ  \\\n",
       "sequence_id                                          ...                       \n",
       "9ZIMC             0.0       0.0       0.0       0.0  ...       0.0       0.0   \n",
       "5SAQC             0.0       0.0       0.0       0.0  ...       0.0       0.0   \n",
       "E7QRO             0.0       0.0       0.0       0.0  ...       0.0       0.0   \n",
       "CT5FP             0.0       0.0       0.0       0.0  ...       0.0       0.0   \n",
       "7PTD8             0.0       0.0       0.0       0.0  ...       0.0       0.0   \n",
       "\n",
       "             ZT1IP3T6  ZU6860XU  ZU6TVFFU  ZU75P59K  ZUI6TDWV  ZWFD8OHC  \\\n",
       "sequence_id                                                               \n",
       "9ZIMC             0.0       0.0       0.0       0.0       0.0       0.0   \n",
       "5SAQC             0.0       0.0       0.0       0.0       0.0       0.0   \n",
       "E7QRO             0.0       0.0       0.0       0.0       0.0       0.0   \n",
       "CT5FP             0.0       0.0       0.0       0.0       0.0       0.0   \n",
       "7PTD8             0.0       0.0       0.0       0.0       0.0       0.0   \n",
       "\n",
       "             ZX06ZDZN  ZZJVE4HO  \n",
       "sequence_id                      \n",
       "9ZIMC             0.0       0.0  \n",
       "5SAQC             0.0       0.0  \n",
       "E7QRO             0.0       0.0  \n",
       "CT5FP             0.0       0.0  \n",
       "7PTD8             0.0       0.0  \n",
       "\n",
       "[5 rows x 1314 columns]"
      ]
     },
     "execution_count": 40,
     "metadata": {},
     "output_type": "execute_result"
    }
   ],
   "source": [
    "train_labl.head()"
   ]
  },
  {
   "cell_type": "markdown",
   "metadata": {},
   "source": [
    "### There are sequence duplicates, remove them"
   ]
  },
  {
   "cell_type": "markdown",
   "metadata": {},
   "source": [
    "Aprox 500 entries"
   ]
  },
  {
   "cell_type": "code",
   "execution_count": 41,
   "metadata": {},
   "outputs": [
    {
     "data": {
      "text/plain": [
       "(63017, 40)"
      ]
     },
     "execution_count": 41,
     "metadata": {},
     "output_type": "execute_result"
    }
   ],
   "source": [
    "train_vals.shape"
   ]
  },
  {
   "cell_type": "code",
   "execution_count": 42,
   "metadata": {},
   "outputs": [],
   "source": [
    "train_vals.drop_duplicates('sequence', inplace=True)"
   ]
  },
  {
   "cell_type": "code",
   "execution_count": 43,
   "metadata": {},
   "outputs": [
    {
     "data": {
      "text/plain": [
       "(62643, 40)"
      ]
     },
     "execution_count": 43,
     "metadata": {},
     "output_type": "execute_result"
    }
   ],
   "source": [
    "train_vals.shape"
   ]
  },
  {
   "cell_type": "markdown",
   "metadata": {},
   "source": [
    "Also make the change in the labels"
   ]
  },
  {
   "cell_type": "code",
   "execution_count": 44,
   "metadata": {},
   "outputs": [],
   "source": [
    "train_labl = train_labl.loc[train_vals.index].copy()"
   ]
  },
  {
   "cell_type": "code",
   "execution_count": 45,
   "metadata": {},
   "outputs": [
    {
     "data": {
      "text/plain": [
       "(62643, 40)"
      ]
     },
     "execution_count": 45,
     "metadata": {},
     "output_type": "execute_result"
    }
   ],
   "source": [
    "train_vals.shape"
   ]
  },
  {
   "cell_type": "markdown",
   "metadata": {},
   "source": [
    "### Count which labs are more abundant"
   ]
  },
  {
   "cell_type": "markdown",
   "metadata": {},
   "source": [
    "Reverse one hot encoding of labels"
   ]
  },
  {
   "cell_type": "code",
   "execution_count": 46,
   "metadata": {},
   "outputs": [],
   "source": [
    "labs = train_labl.columns"
   ]
  },
  {
   "cell_type": "code",
   "execution_count": 47,
   "metadata": {},
   "outputs": [],
   "source": [
    "labels = train_labl.apply(lambda x: labs[np.array(x.values, dtype=bool)][0], axis=1)"
   ]
  },
  {
   "cell_type": "code",
   "execution_count": 48,
   "metadata": {},
   "outputs": [],
   "source": [
    "# here we use top 30 most abundant labs\n",
    "top_n = 30"
   ]
  },
  {
   "cell_type": "code",
   "execution_count": 49,
   "metadata": {},
   "outputs": [],
   "source": [
    "topn_abundant_labs = labels.value_counts()[:top_n]"
   ]
  },
  {
   "cell_type": "code",
   "execution_count": 50,
   "metadata": {},
   "outputs": [
    {
     "data": {
      "image/png": "[encoded data removed]",
      "text/plain": [
       "<Figure size 432x288 with 1 Axes>"
      ]
     },
     "metadata": {
      "needs_background": "light"
     },
     "output_type": "display_data"
    }
   ],
   "source": [
    "plt.bar(x=topn_abundant_labs.index, height=topn_abundant_labs.values)\n",
    "plt.xticks(rotation = 90)\n",
    "plt.show()"
   ]
  },
  {
   "cell_type": "code",
   "execution_count": 52,
   "metadata": {},
   "outputs": [
    {
     "data": {
      "image/png": "[encoded data removed]",
      "text/plain": [
       "<Figure size 1000x800 with 1 Axes>"
      ]
     },
     "metadata": {
      "needs_background": "light"
     },
     "output_type": "display_data"
    }
   ],
   "source": [
    "plt.figure(figsize=(5,4), dpi=200)\n",
    "plt.bar(x=topn_abundant_labs.index, height=topn_abundant_labs.values)\n",
    "plt.xticks(rotation = 90)\n",
    "plt.xlabel('Lab of origin')\n",
    "plt.ylabel('Num samples')\n",
    "plt.show()"
   ]
  },
  {
   "cell_type": "markdown",
   "metadata": {},
   "source": [
    "How large is the imbalance?"
   ]
  },
  {
   "cell_type": "code",
   "execution_count": 20,
   "metadata": {},
   "outputs": [
    {
     "data": {
      "text/plain": [
       "'Ratio most abundant : less abundant = 8226/284 = 28.965'"
      ]
     },
     "execution_count": 20,
     "metadata": {},
     "output_type": "execute_result"
    }
   ],
   "source": [
    "f'Ratio most abundant : less abundant = {topn_abundant_labs[0]}/{topn_abundant_labs[-1]} = {round(topn_abundant_labs[0]/topn_abundant_labs[-1],3)}'"
   ]
  },
  {
   "cell_type": "code",
   "execution_count": 21,
   "metadata": {},
   "outputs": [
    {
     "data": {
      "text/plain": [
       "'Ratio second most abundant : less abundant = 2732/284 = 9.62'"
      ]
     },
     "execution_count": 21,
     "metadata": {},
     "output_type": "execute_result"
    }
   ],
   "source": [
    "f'Ratio second most abundant : less abundant = {topn_abundant_labs[1]}/{topn_abundant_labs[-1]} = {round(topn_abundant_labs[1]/topn_abundant_labs[-1],3)}'"
   ]
  },
  {
   "cell_type": "markdown",
   "metadata": {},
   "source": [
    "It is not terribly imbalanced. However, here I am testing multiclass classification, not the effect of imbalance.\n",
    "\n",
    "**Strategy:** For this test, I will just UNDERSAMPLE the most abundant classes to the number of samples of the least abundant one. I will not sample multiple times from the same plasmid sequence as I have done before, as it was not really necessary at least for binary classification."
   ]
  },
  {
   "cell_type": "markdown",
   "metadata": {},
   "source": [
    "### Reduce data to only selected classes undersampling to have them balanced"
   ]
  },
  {
   "cell_type": "code",
   "execution_count": 22,
   "metadata": {},
   "outputs": [
    {
     "name": "stdout",
     "output_type": "stream",
     "text": [
      "284\n"
     ]
    }
   ],
   "source": [
    "obs_per_label = topn_abundant_labs[-1]\n",
    "print(obs_per_label)"
   ]
  },
  {
   "cell_type": "code",
   "execution_count": 23,
   "metadata": {},
   "outputs": [
    {
     "name": "stdout",
     "output_type": "stream",
     "text": [
      "['I7FXTVDP', 'RKJHZGDQ', 'GTVTUGVY', 'A18S09P2', 'Q2K8NHZY', '131RRHBV', '0FFBBVE1', 'AMV4U0A0', 'THD393NW', 'G8QWQL1C', '0B9GCUVV', 'NT9Y0D19', 'ULOHU3PC', '3TXFYNKG', '1S515B69', 'TNR495LD', 'W1STLS0T', 'YMHGXK99', '3C2VZQ2R', '7GWW4637', 'KDZ388UF', 'QZ8BT14M', '03Y3W51H', 'KSFFKSV7', 'T9LSOTV6', 'A0ADXLZU', 'QVAZPYQ8', 'FHZYKEUV', 'IO2FYB6G', '738FBTIL']\n"
     ]
    }
   ],
   "source": [
    "sele_labs = topn_abundant_labs.index.to_list()\n",
    "print(sele_labs)"
   ]
  },
  {
   "cell_type": "code",
   "execution_count": 24,
   "metadata": {},
   "outputs": [],
   "source": [
    "## this is used to select all observations with the selected labels\n",
    "# sele_index = labels[labels.isin(sele_labs)]\n",
    "# print(sele_index.value_counts()[:10])\n",
    "# print(sele_index)"
   ]
  },
  {
   "cell_type": "code",
   "execution_count": 25,
   "metadata": {},
   "outputs": [],
   "source": [
    "sele_index = pd.Series(dtype=str)\n",
    "for lab in sele_labs:\n",
    "    idx = labels[labels == lab]\n",
    "    sele_index = pd.concat([sele_index, idx.sample(n=obs_per_label, replace=False, random_state=42)])"
   ]
  },
  {
   "cell_type": "code",
   "execution_count": 26,
   "metadata": {},
   "outputs": [
    {
     "data": {
      "text/plain": [
       "I7FXTVDP    284\n",
       "RKJHZGDQ    284\n",
       "IO2FYB6G    284\n",
       "FHZYKEUV    284\n",
       "QVAZPYQ8    284\n",
       "A0ADXLZU    284\n",
       "T9LSOTV6    284\n",
       "KSFFKSV7    284\n",
       "03Y3W51H    284\n",
       "QZ8BT14M    284\n",
       "KDZ388UF    284\n",
       "7GWW4637    284\n",
       "3C2VZQ2R    284\n",
       "YMHGXK99    284\n",
       "W1STLS0T    284\n",
       "TNR495LD    284\n",
       "1S515B69    284\n",
       "3TXFYNKG    284\n",
       "ULOHU3PC    284\n",
       "NT9Y0D19    284\n",
       "0B9GCUVV    284\n",
       "G8QWQL1C    284\n",
       "THD393NW    284\n",
       "AMV4U0A0    284\n",
       "0FFBBVE1    284\n",
       "131RRHBV    284\n",
       "Q2K8NHZY    284\n",
       "A18S09P2    284\n",
       "GTVTUGVY    284\n",
       "738FBTIL    284\n",
       "dtype: int64"
      ]
     },
     "execution_count": 26,
     "metadata": {},
     "output_type": "execute_result"
    }
   ],
   "source": [
    "sele_index.value_counts()"
   ]
  },
  {
   "cell_type": "code",
   "execution_count": 27,
   "metadata": {},
   "outputs": [
    {
     "data": {
      "text/plain": [
       "False"
      ]
     },
     "execution_count": 27,
     "metadata": {},
     "output_type": "execute_result"
    }
   ],
   "source": [
    "# all indices are unique, so we did not include twice the same sequence\n",
    "sele_index.index.has_duplicates"
   ]
  },
  {
   "cell_type": "code",
   "execution_count": 28,
   "metadata": {},
   "outputs": [],
   "source": [
    "sele_train = train_vals.loc[sele_index.index].copy()"
   ]
  },
  {
   "cell_type": "code",
   "execution_count": 29,
   "metadata": {},
   "outputs": [],
   "source": [
    "sele_train = sele_train.join(sele_index.rename('label'))\n",
    "sele_train = sele_train[['sequence','label']]"
   ]
  },
  {
   "cell_type": "code",
   "execution_count": 30,
   "metadata": {},
   "outputs": [
    {
     "data": {
      "text/html": [
       "<div>\n",
       "<style scoped>\n",
       "    .dataframe tbody tr th:only-of-type {\n",
       "        vertical-align: middle;\n",
       "    }\n",
       "\n",
       "    .dataframe tbody tr th {\n",
       "        vertical-align: top;\n",
       "    }\n",
       "\n",
       "    .dataframe thead th {\n",
       "        text-align: right;\n",
       "    }\n",
       "</style>\n",
       "<table border=\"1\" class=\"dataframe\">\n",
       "  <thead>\n",
       "    <tr style=\"text-align: right;\">\n",
       "      <th></th>\n",
       "      <th>sequence</th>\n",
       "      <th>label</th>\n",
       "    </tr>\n",
       "  </thead>\n",
       "  <tbody>\n",
       "    <tr>\n",
       "      <th>6RYTD</th>\n",
       "      <td>CCTGCAGGCAGCTGCGCGCTCGCTCGCTCACTGAGGCCGCCCGGGC...</td>\n",
       "      <td>I7FXTVDP</td>\n",
       "    </tr>\n",
       "    <tr>\n",
       "      <th>QAXF7</th>\n",
       "      <td>AAAACGCCAGCAACGCGGCCTTTTTACGGTTCCTGGCCTTTTGCTG...</td>\n",
       "      <td>I7FXTVDP</td>\n",
       "    </tr>\n",
       "    <tr>\n",
       "      <th>6R9GK</th>\n",
       "      <td>TCGCCCTTGCTTGTGCCGTGGTGATGGTGGTGATGGTGGTGACCAG...</td>\n",
       "      <td>I7FXTVDP</td>\n",
       "    </tr>\n",
       "    <tr>\n",
       "      <th>Z33CT</th>\n",
       "      <td>CTAAATTGTAAGCGTTAATATTTTGTTAAAATTCGCGTTAAATTTT...</td>\n",
       "      <td>I7FXTVDP</td>\n",
       "    </tr>\n",
       "    <tr>\n",
       "      <th>7TLWX</th>\n",
       "      <td>GCAGCCGGATCTCAGTGGTGGTGGTGGTGGTGCTCGAGTGCGGCCG...</td>\n",
       "      <td>I7FXTVDP</td>\n",
       "    </tr>\n",
       "  </tbody>\n",
       "</table>\n",
       "</div>"
      ],
      "text/plain": [
       "                                                sequence     label\n",
       "6RYTD  CCTGCAGGCAGCTGCGCGCTCGCTCGCTCACTGAGGCCGCCCGGGC...  I7FXTVDP\n",
       "QAXF7  AAAACGCCAGCAACGCGGCCTTTTTACGGTTCCTGGCCTTTTGCTG...  I7FXTVDP\n",
       "6R9GK  TCGCCCTTGCTTGTGCCGTGGTGATGGTGGTGATGGTGGTGACCAG...  I7FXTVDP\n",
       "Z33CT  CTAAATTGTAAGCGTTAATATTTTGTTAAAATTCGCGTTAAATTTT...  I7FXTVDP\n",
       "7TLWX  GCAGCCGGATCTCAGTGGTGGTGGTGGTGGTGCTCGAGTGCGGCCG...  I7FXTVDP"
      ]
     },
     "execution_count": 30,
     "metadata": {},
     "output_type": "execute_result"
    }
   ],
   "source": [
    "sele_train.head()"
   ]
  },
  {
   "cell_type": "code",
   "execution_count": 31,
   "metadata": {},
   "outputs": [
    {
     "data": {
      "image/png": "[encoded data removed]",
      "text/plain": [
       "<Figure size 432x288 with 1 Axes>"
      ]
     },
     "metadata": {
      "needs_background": "light"
     },
     "output_type": "display_data"
    }
   ],
   "source": [
    "sns.countplot(x=sele_train.label)\n",
    "plt.xticks(rotation=90)\n",
    "plt.show()"
   ]
  },
  {
   "cell_type": "markdown",
   "metadata": {},
   "source": [
    "### Check plasmid length of the subsampled"
   ]
  },
  {
   "cell_type": "code",
   "execution_count": 32,
   "metadata": {},
   "outputs": [],
   "source": [
    "plasmid_length_sum = []\n",
    "for lab in sele_labs:\n",
    "    plasmid_length_sum.append(np.sum([len(seq) for seq in sele_train[sele_train['label'] == lab]['sequence']]))"
   ]
  },
  {
   "cell_type": "code",
   "execution_count": 33,
   "metadata": {},
   "outputs": [
    {
     "data": {
      "image/png": "[encoded data removed]",
      "text/plain": [
       "<Figure size 432x288 with 1 Axes>"
      ]
     },
     "metadata": {
      "needs_background": "light"
     },
     "output_type": "display_data"
    }
   ],
   "source": [
    "plt.bar(x=sele_labs, height=plasmid_length_sum)\n",
    "plt.xticks(rotation=90)\n",
    "plt.ylabel('Sum of plasmid sequence length by class')\n",
    "plt.show()"
   ]
  },
  {
   "cell_type": "markdown",
   "metadata": {},
   "source": [
    "The median plasmid length is quite different. Some are quite short"
   ]
  },
  {
   "cell_type": "code",
   "execution_count": 34,
   "metadata": {},
   "outputs": [],
   "source": [
    "plasmid_length_median = []\n",
    "for lab in sele_labs:\n",
    "    plasmid_length_median.append(np.median([len(seq) for seq in sele_train[sele_train['label'] == lab]['sequence']]))"
   ]
  },
  {
   "cell_type": "code",
   "execution_count": 35,
   "metadata": {},
   "outputs": [
    {
     "data": {
      "image/png": "[encoded data removed]",
      "text/plain": [
       "<Figure size 432x288 with 1 Axes>"
      ]
     },
     "metadata": {
      "needs_background": "light"
     },
     "output_type": "display_data"
    }
   ],
   "source": [
    "plt.bar(x=sele_labs, height=plasmid_length_median)\n",
    "plt.xticks(rotation=90)\n",
    "plt.ylabel('Median plasmid length by class')\n",
    "plt.show()"
   ]
  },
  {
   "cell_type": "markdown",
   "metadata": {},
   "source": [
    "The minimum is quite low."
   ]
  },
  {
   "cell_type": "code",
   "execution_count": 36,
   "metadata": {},
   "outputs": [],
   "source": [
    "plasmid_length_min = []\n",
    "for lab in sele_labs:\n",
    "    plasmid_length_min.append(np.min([len(seq) for seq in sele_train[sele_train['label'] == lab]['sequence']]))"
   ]
  },
  {
   "cell_type": "code",
   "execution_count": 37,
   "metadata": {},
   "outputs": [
    {
     "data": {
      "image/png": "[encoded data removed]",
      "text/plain": [
       "<Figure size 432x288 with 1 Axes>"
      ]
     },
     "metadata": {
      "needs_background": "light"
     },
     "output_type": "display_data"
    }
   ],
   "source": [
    "plt.bar(x=sele_labs, height=plasmid_length_min)\n",
    "plt.xticks(rotation=90)\n",
    "plt.ylabel('Median plasmid length by class')\n",
    "plt.show()"
   ]
  },
  {
   "cell_type": "markdown",
   "metadata": {},
   "source": [
    "There are sequences that are shorter than 100"
   ]
  },
  {
   "cell_type": "code",
   "execution_count": 38,
   "metadata": {},
   "outputs": [
    {
     "data": {
      "text/plain": [
       "86"
      ]
     },
     "execution_count": 38,
     "metadata": {},
     "output_type": "execute_result"
    }
   ],
   "source": [
    "np.min(plasmid_length_min)"
   ]
  },
  {
   "cell_type": "markdown",
   "metadata": {},
   "source": [
    "### Redo sampling to ensure >100nts length"
   ]
  },
  {
   "cell_type": "markdown",
   "metadata": {},
   "source": [
    "We can randomly sample from the subset of plasmids above 100nts in length for the classes that are more abundant and see if there are enough.\n",
    "\n",
    "Alternatives that could also be tried: Concatenating the end of the plasmid with its beggining to get 100nts (since they are circular this can be done) or append the Rev Complement at the end (a winning solution did this)"
   ]
  },
  {
   "cell_type": "markdown",
   "metadata": {},
   "source": [
    "First, check if all classes have more than `obs_per_label=284` sequences with >100nts and no 'N' (undefined) nucleotides"
   ]
  },
  {
   "cell_type": "code",
   "execution_count": 39,
   "metadata": {},
   "outputs": [
    {
     "name": "stdout",
     "output_type": "stream",
     "text": [
      "284\n"
     ]
    }
   ],
   "source": [
    "obs_per_label = topn_abundant_labs[-1]\n",
    "print(obs_per_label)"
   ]
  },
  {
   "cell_type": "code",
   "execution_count": 40,
   "metadata": {},
   "outputs": [],
   "source": [
    "train_vals['seq_len'] = [len(seq) for seq in train_vals['sequence']]"
   ]
  },
  {
   "cell_type": "code",
   "execution_count": 41,
   "metadata": {},
   "outputs": [],
   "source": [
    "# get the maximum length of contiguous sequence without any undefined nucleotide\n",
    "train_vals['min_nonN_seq'] = [min_nonN_seq(seq) for seq in train_vals['sequence']]"
   ]
  },
  {
   "cell_type": "code",
   "execution_count": 42,
   "metadata": {},
   "outputs": [],
   "source": [
    "train_vals['label'] = labels"
   ]
  },
  {
   "cell_type": "code",
   "execution_count": 43,
   "metadata": {},
   "outputs": [
    {
     "name": "stdout",
     "output_type": "stream",
     "text": [
      "Label I7FXTVDP is fine, it has 8163 sequences above 101bp and no N\n",
      "Label RKJHZGDQ is fine, it has 2732 sequences above 101bp and no N\n",
      "Label GTVTUGVY is fine, it has 2657 sequences above 101bp and no N\n",
      "Label A18S09P2 is fine, it has 1054 sequences above 101bp and no N\n",
      "Label Q2K8NHZY is fine, it has 969 sequences above 101bp and no N\n",
      "Label 131RRHBV is fine, it has 698 sequences above 101bp and no N\n",
      "Label 0FFBBVE1 is fine, it has 679 sequences above 101bp and no N\n",
      "Label AMV4U0A0 is fine, it has 659 sequences above 101bp and no N\n",
      "Label THD393NW is fine, it has 619 sequences above 101bp and no N\n",
      "Label G8QWQL1C is fine, it has 572 sequences above 101bp and no N\n",
      "Label 0B9GCUVV is fine, it has 554 sequences above 101bp and no N\n",
      "Label NT9Y0D19 is fine, it has 552 sequences above 101bp and no N\n",
      "Label ULOHU3PC is fine, it has 548 sequences above 101bp and no N\n",
      "Label 3TXFYNKG is fine, it has 497 sequences above 101bp and no N\n",
      "Label 1S515B69 is fine, it has 486 sequences above 101bp and no N\n",
      "Label TNR495LD is fine, it has 463 sequences above 101bp and no N\n",
      "Label W1STLS0T is fine, it has 442 sequences above 101bp and no N\n",
      "Label YMHGXK99 is fine, it has 417 sequences above 101bp and no N\n",
      "Label 3C2VZQ2R is fine, it has 382 sequences above 101bp and no N\n",
      "Label 7GWW4637 is fine, it has 362 sequences above 101bp and no N\n",
      "Label KDZ388UF is fine, it has 338 sequences above 101bp and no N\n",
      "Label QZ8BT14M is fine, it has 322 sequences above 101bp and no N\n",
      "Label 03Y3W51H is fine, it has 338 sequences above 101bp and no N\n",
      "Label KSFFKSV7 is fine, it has 338 sequences above 101bp and no N\n",
      "Label T9LSOTV6 is fine, it has 333 sequences above 101bp and no N\n",
      "Label A0ADXLZU is fine, it has 331 sequences above 101bp and no N\n",
      "Label QVAZPYQ8 is fine, it has 329 sequences above 101bp and no N\n",
      "Label FHZYKEUV is fine, it has 319 sequences above 101bp and no N\n",
      "Label IO2FYB6G is fine, it has 301 sequences above 101bp and no N\n",
      "WARNING: Label 738FBTIL does only have 283 sequences above 101bp, insufficient to get 284\n"
     ]
    }
   ],
   "source": [
    "min_len = 101 # thld to accept sequences\n",
    "\n",
    "for lab in sele_labs:\n",
    "    subset = train_vals[(train_vals['min_nonN_seq'] > min_len) & (train_vals['label'] == lab) ].copy()\n",
    "    num_above = len(subset)\n",
    "    if num_above < obs_per_label:\n",
    "        print(f'WARNING: Label {lab} does only have {num_above} sequences above {min_len}bp, insufficient to get {obs_per_label}')\n",
    "    else:\n",
    "        print(f'Label {lab} is fine, it has {num_above} sequences above {min_len}bp and no N')"
   ]
  },
  {
   "cell_type": "markdown",
   "metadata": {},
   "source": [
    "All of them are okay except the lass class, so will decrease `obs_per_label` to 283"
   ]
  },
  {
   "cell_type": "code",
   "execution_count": 44,
   "metadata": {},
   "outputs": [],
   "source": [
    "obs_per_label = 283"
   ]
  },
  {
   "cell_type": "markdown",
   "metadata": {},
   "source": [
    "Since all classes have this number of sequences, I will randomly sample from the subset that satisfy this condition"
   ]
  },
  {
   "cell_type": "code",
   "execution_count": 45,
   "metadata": {},
   "outputs": [],
   "source": [
    "min_len = 101 # thld to accept sequences\n",
    "\n",
    "sele_train = []\n",
    "for lab in sele_labs:\n",
    "    subset = train_vals[(train_vals['min_nonN_seq'] > min_len) & (train_vals['label'] == lab) ].copy()\n",
    "    sele_train.append(subset.sample(n=obs_per_label, replace=False, random_state=42))"
   ]
  },
  {
   "cell_type": "code",
   "execution_count": 46,
   "metadata": {},
   "outputs": [],
   "source": [
    "sele_train = pd.concat(sele_train)"
   ]
  },
  {
   "cell_type": "code",
   "execution_count": 47,
   "metadata": {},
   "outputs": [
    {
     "data": {
      "image/png": "[encoded data removed]",
      "text/plain": [
       "<Figure size 432x288 with 1 Axes>"
      ]
     },
     "metadata": {
      "needs_background": "light"
     },
     "output_type": "display_data"
    }
   ],
   "source": [
    "sns.countplot(x='label', data=sele_train)\n",
    "plt.xticks(rotation=90)\n",
    "plt.show()"
   ]
  },
  {
   "cell_type": "markdown",
   "metadata": {},
   "source": [
    "### Get subsequences"
   ]
  },
  {
   "cell_type": "markdown",
   "metadata": {},
   "source": [
    "For each sequence, take 1 subsequence randomly with random Reverse Translatation"
   ]
  },
  {
   "cell_type": "code",
   "execution_count": 48,
   "metadata": {},
   "outputs": [],
   "source": [
    "num_subseq_per_seq = 1\n",
    "seq_len = 101\n",
    "\n",
    "\n",
    "random_seq_sele = []\n",
    "\n",
    "np.random.seed(42)\n",
    "\n",
    "for seq in sele_train['sequence']:\n",
    "    sub_list = []\n",
    "    for _ in range(num_subseq_per_seq):\n",
    "        # if sequence is shorter, take entire sequence and it will be padded\n",
    "        # if it has a N on it, this is a problem and would be better to manually analyze and discard this observation before running cell\n",
    "        if len(seq) <= seq_len:\n",
    "            if 'N' in seq.upper(): \n",
    "                raise ValueError(\"Can't process sequences, found a sequence shorter than seq_len and with a N character...discard this sequence\")\n",
    "            # with probability 0.5 make the Reverse Complement of that sequence\n",
    "            if np.random.rand() > .5:\n",
    "                sub_list.append(seq)\n",
    "            else:\n",
    "                sub_list.append(rev_comp(seq))\n",
    "        else:\n",
    "            # if sequence is longer, need to randomly select a subsequence\n",
    "            subseq ='' # initialize to enter while\n",
    "            # keep looking for subsequences until they do not have any N (this might bias a bit the initial positions)\n",
    "            while ('N' in subseq.upper()) or (len(subseq) != seq_len):\n",
    "                start_pos = np.random.randint(len(seq) - seq_len + 1)\n",
    "                subseq = seq[start_pos:start_pos+seq_len]\n",
    "            # with probability 0.5 make the Reverse Complement of that sequence\n",
    "            if np.random.rand() > .5:\n",
    "                sub_list.append(subseq)\n",
    "            else:\n",
    "                sub_list.append(rev_comp(subseq))\n",
    "    random_seq_sele.append(sub_list)"
   ]
  },
  {
   "cell_type": "code",
   "execution_count": 49,
   "metadata": {},
   "outputs": [
    {
     "name": "stdout",
     "output_type": "stream",
     "text": [
      "Expected 8490 sequences\n",
      "Got: (8490, 1)\n"
     ]
    }
   ],
   "source": [
    "# 1 subsequences per each sequence\n",
    "print(f'Expected {len(sele_labs) * obs_per_label * num_subseq_per_seq} sequences')\n",
    "print('Got:', np.array(random_seq_sele).shape)"
   ]
  },
  {
   "cell_type": "code",
   "execution_count": 50,
   "metadata": {},
   "outputs": [],
   "source": [
    "sele_train['random_seq_sele'] = random_seq_sele"
   ]
  },
  {
   "cell_type": "markdown",
   "metadata": {},
   "source": [
    "I don't look at repeats here bc there are probably some as I take randomly"
   ]
  },
  {
   "cell_type": "code",
   "execution_count": 51,
   "metadata": {},
   "outputs": [
    {
     "name": "stdout",
     "output_type": "stream",
     "text": [
      "(8490,)\n",
      "241\n"
     ]
    }
   ],
   "source": [
    "# there are 241 repeats in this subset, not a problem, it can just happen by random selection and it is not much compared to 5000 total examples\n",
    "print(sele_train['random_seq_sele'].shape)\n",
    "print(np.sum(sele_train['random_seq_sele'].value_counts() > 1))"
   ]
  },
  {
   "cell_type": "markdown",
   "metadata": {},
   "source": [
    "Number of repeated sequences divided by class. Not many compared to 283 seqs we have per class"
   ]
  },
  {
   "cell_type": "code",
   "execution_count": 52,
   "metadata": {},
   "outputs": [],
   "source": [
    "rep_seqs = []\n",
    "for lab in sele_labs:\n",
    "    rep_seqs.append(np.sum(sele_train[sele_train['label'] == lab]['random_seq_sele'].value_counts() > 1))"
   ]
  },
  {
   "cell_type": "code",
   "execution_count": 53,
   "metadata": {},
   "outputs": [
    {
     "data": {
      "image/png": "[encoded data removed]",
      "text/plain": [
       "<Figure size 432x288 with 1 Axes>"
      ]
     },
     "metadata": {
      "needs_background": "light"
     },
     "output_type": "display_data"
    }
   ],
   "source": [
    "plt.bar(x=sele_labs, height=rep_seqs)\n",
    "plt.xticks(rotation=90)\n",
    "plt.xlabel('Number of repeated sequences')\n",
    "plt.show()"
   ]
  },
  {
   "cell_type": "markdown",
   "metadata": {},
   "source": [
    "### Convert labels to integer values"
   ]
  },
  {
   "cell_type": "code",
   "execution_count": 54,
   "metadata": {},
   "outputs": [],
   "source": [
    "label_key = {}\n",
    "for i, lab in enumerate(sele_labs):\n",
    "    label_key[lab] = str(i)"
   ]
  },
  {
   "cell_type": "code",
   "execution_count": 55,
   "metadata": {},
   "outputs": [
    {
     "data": {
      "text/plain": [
       "{'I7FXTVDP': '0',\n",
       " 'RKJHZGDQ': '1',\n",
       " 'GTVTUGVY': '2',\n",
       " 'A18S09P2': '3',\n",
       " 'Q2K8NHZY': '4',\n",
       " '131RRHBV': '5',\n",
       " '0FFBBVE1': '6',\n",
       " 'AMV4U0A0': '7',\n",
       " 'THD393NW': '8',\n",
       " 'G8QWQL1C': '9',\n",
       " '0B9GCUVV': '10',\n",
       " 'NT9Y0D19': '11',\n",
       " 'ULOHU3PC': '12',\n",
       " '3TXFYNKG': '13',\n",
       " '1S515B69': '14',\n",
       " 'TNR495LD': '15',\n",
       " 'W1STLS0T': '16',\n",
       " 'YMHGXK99': '17',\n",
       " '3C2VZQ2R': '18',\n",
       " '7GWW4637': '19',\n",
       " 'KDZ388UF': '20',\n",
       " 'QZ8BT14M': '21',\n",
       " '03Y3W51H': '22',\n",
       " 'KSFFKSV7': '23',\n",
       " 'T9LSOTV6': '24',\n",
       " 'A0ADXLZU': '25',\n",
       " 'QVAZPYQ8': '26',\n",
       " 'FHZYKEUV': '27',\n",
       " 'IO2FYB6G': '28',\n",
       " '738FBTIL': '29'}"
      ]
     },
     "execution_count": 55,
     "metadata": {},
     "output_type": "execute_result"
    }
   ],
   "source": [
    "label_key"
   ]
  },
  {
   "cell_type": "code",
   "execution_count": 56,
   "metadata": {},
   "outputs": [],
   "source": [
    "sele_train['bin_label'] = [label_key[lab] for lab in sele_train['label']]"
   ]
  },
  {
   "cell_type": "code",
   "execution_count": 57,
   "metadata": {},
   "outputs": [
    {
     "data": {
      "image/png": "[encoded data removed]",
      "text/plain": [
       "<Figure size 432x288 with 1 Axes>"
      ]
     },
     "metadata": {
      "needs_background": "light"
     },
     "output_type": "display_data"
    }
   ],
   "source": [
    "sns.countplot(x='bin_label', data=sele_train)\n",
    "plt.show()"
   ]
  },
  {
   "cell_type": "markdown",
   "metadata": {},
   "source": [
    "## Conver to kmers"
   ]
  },
  {
   "cell_type": "code",
   "execution_count": 58,
   "metadata": {},
   "outputs": [],
   "source": [
    "kmer_size = 6"
   ]
  },
  {
   "cell_type": "markdown",
   "metadata": {},
   "source": [
    "Use their function seq2kmer from `motif/motif_utils.py`"
   ]
  },
  {
   "cell_type": "code",
   "execution_count": 59,
   "metadata": {},
   "outputs": [],
   "source": [
    "def seq2kmer(seq, k):\n",
    "    \"\"\"\n",
    "    Convert original sequence to kmers\n",
    "    \n",
    "    Arguments:\n",
    "    seq -- str, original sequence.\n",
    "    k -- int, kmer of length k specified.\n",
    "    \n",
    "    Returns:\n",
    "    kmers -- str, kmers separated by space\n",
    "\n",
    "    \"\"\"\n",
    "    kmer = [seq[x:x+k] for x in range(len(seq)+1-k)]\n",
    "    kmers = \" \".join(kmer)\n",
    "    return kmers"
   ]
  },
  {
   "cell_type": "markdown",
   "metadata": {},
   "source": [
    "Example"
   ]
  },
  {
   "cell_type": "code",
   "execution_count": 60,
   "metadata": {},
   "outputs": [],
   "source": [
    "sele_train['kmer_rand'] = [[seq2kmer(seq, kmer_size) for seq in subseq] for subseq in sele_train['random_seq_sele']]"
   ]
  },
  {
   "cell_type": "code",
   "execution_count": 61,
   "metadata": {},
   "outputs": [
    {
     "data": {
      "text/plain": [
       "sequence_id\n",
       "VIS02    [CCCTGC CCTGCC CTGCCA TGCCAC GCCACT CCACTC CAC...\n",
       "3WSN2    [GACCGA ACCGAC CCGACT CGACTT GACTTC ACTTCA CTT...\n",
       "IMFLG    [TAACCA AACCAT ACCATG CCATGA CATGAG ATGAGT TGA...\n",
       "L123V    [CCCAGG CCAGGC CAGGCT AGGCTA GGCTAG GCTAGC CTA...\n",
       "YSZF0    [TTATTT TATTTT ATTTTT TTTTTC TTTTCT TTTCTA TTC...\n",
       "                               ...                        \n",
       "J7YSD    [GGGACT GGACTT GACTTC ACTTCA CTTCAT TTCATG TCA...\n",
       "4WRQP    [GCCGCC CCGCCG CGCCGC GCCGCA CCGCAT CGCATT GCA...\n",
       "ZHZRA    [GCATTT CATTTT ATTTTT TTTTTT TTTTTT TTTTTC TTT...\n",
       "AIAH0    [TCCTGA CCTGAC CTGACG TGACGT GACGTT ACGTTG CGT...\n",
       "8ION0    [CCACGG CACGGG ACGGGG CGGGGC GGGGCC GGGCCC GGC...\n",
       "Name: kmer_rand, Length: 8490, dtype: object"
      ]
     },
     "execution_count": 61,
     "metadata": {},
     "output_type": "execute_result"
    }
   ],
   "source": [
    "sele_train['kmer_rand']"
   ]
  },
  {
   "cell_type": "markdown",
   "metadata": {},
   "source": [
    "Now, I need to get individual subsequence kmer represnetations as each row, so numbers of rows will grow 8 times more..."
   ]
  },
  {
   "cell_type": "code",
   "execution_count": 62,
   "metadata": {},
   "outputs": [],
   "source": [
    "final_data = []\n",
    "\n",
    "for seq_idx, row in sele_train.iterrows():\n",
    "    bin_label = row['bin_label']\n",
    "    for seq in row['kmer_rand']:\n",
    "        final_data.append({\n",
    "            'sequence_id': seq_idx,\n",
    "            'sequence': seq,\n",
    "            'label': bin_label\n",
    "        })\n",
    "\n",
    "final_data = pd.DataFrame.from_records(final_data)"
   ]
  },
  {
   "cell_type": "code",
   "execution_count": 63,
   "metadata": {},
   "outputs": [
    {
     "data": {
      "text/plain": [
       "(8490, 3)"
      ]
     },
     "execution_count": 63,
     "metadata": {},
     "output_type": "execute_result"
    }
   ],
   "source": [
    "final_data.shape"
   ]
  },
  {
   "cell_type": "code",
   "execution_count": 64,
   "metadata": {},
   "outputs": [],
   "source": [
    "final_data.set_index('sequence_id', inplace=True)"
   ]
  },
  {
   "cell_type": "code",
   "execution_count": 65,
   "metadata": {},
   "outputs": [
    {
     "data": {
      "text/html": [
       "<div>\n",
       "<style scoped>\n",
       "    .dataframe tbody tr th:only-of-type {\n",
       "        vertical-align: middle;\n",
       "    }\n",
       "\n",
       "    .dataframe tbody tr th {\n",
       "        vertical-align: top;\n",
       "    }\n",
       "\n",
       "    .dataframe thead th {\n",
       "        text-align: right;\n",
       "    }\n",
       "</style>\n",
       "<table border=\"1\" class=\"dataframe\">\n",
       "  <thead>\n",
       "    <tr style=\"text-align: right;\">\n",
       "      <th></th>\n",
       "      <th>sequence</th>\n",
       "      <th>label</th>\n",
       "    </tr>\n",
       "    <tr>\n",
       "      <th>sequence_id</th>\n",
       "      <th></th>\n",
       "      <th></th>\n",
       "    </tr>\n",
       "  </thead>\n",
       "  <tbody>\n",
       "    <tr>\n",
       "      <th>VIS02</th>\n",
       "      <td>CCCTGC CCTGCC CTGCCA TGCCAC GCCACT CCACTC CACT...</td>\n",
       "      <td>0</td>\n",
       "    </tr>\n",
       "    <tr>\n",
       "      <th>3WSN2</th>\n",
       "      <td>GACCGA ACCGAC CCGACT CGACTT GACTTC ACTTCA CTTC...</td>\n",
       "      <td>0</td>\n",
       "    </tr>\n",
       "    <tr>\n",
       "      <th>IMFLG</th>\n",
       "      <td>TAACCA AACCAT ACCATG CCATGA CATGAG ATGAGT TGAG...</td>\n",
       "      <td>0</td>\n",
       "    </tr>\n",
       "    <tr>\n",
       "      <th>L123V</th>\n",
       "      <td>CCCAGG CCAGGC CAGGCT AGGCTA GGCTAG GCTAGC CTAG...</td>\n",
       "      <td>0</td>\n",
       "    </tr>\n",
       "    <tr>\n",
       "      <th>YSZF0</th>\n",
       "      <td>TTATTT TATTTT ATTTTT TTTTTC TTTTCT TTTCTA TTCT...</td>\n",
       "      <td>0</td>\n",
       "    </tr>\n",
       "    <tr>\n",
       "      <th>...</th>\n",
       "      <td>...</td>\n",
       "      <td>...</td>\n",
       "    </tr>\n",
       "    <tr>\n",
       "      <th>J7YSD</th>\n",
       "      <td>GGGACT GGACTT GACTTC ACTTCA CTTCAT TTCATG TCAT...</td>\n",
       "      <td>29</td>\n",
       "    </tr>\n",
       "    <tr>\n",
       "      <th>4WRQP</th>\n",
       "      <td>GCCGCC CCGCCG CGCCGC GCCGCA CCGCAT CGCATT GCAT...</td>\n",
       "      <td>29</td>\n",
       "    </tr>\n",
       "    <tr>\n",
       "      <th>ZHZRA</th>\n",
       "      <td>GCATTT CATTTT ATTTTT TTTTTT TTTTTT TTTTTC TTTT...</td>\n",
       "      <td>29</td>\n",
       "    </tr>\n",
       "    <tr>\n",
       "      <th>AIAH0</th>\n",
       "      <td>TCCTGA CCTGAC CTGACG TGACGT GACGTT ACGTTG CGTT...</td>\n",
       "      <td>29</td>\n",
       "    </tr>\n",
       "    <tr>\n",
       "      <th>8ION0</th>\n",
       "      <td>CCACGG CACGGG ACGGGG CGGGGC GGGGCC GGGCCC GGCC...</td>\n",
       "      <td>29</td>\n",
       "    </tr>\n",
       "  </tbody>\n",
       "</table>\n",
       "<p>8490 rows × 2 columns</p>\n",
       "</div>"
      ],
      "text/plain": [
       "                                                      sequence label\n",
       "sequence_id                                                         \n",
       "VIS02        CCCTGC CCTGCC CTGCCA TGCCAC GCCACT CCACTC CACT...     0\n",
       "3WSN2        GACCGA ACCGAC CCGACT CGACTT GACTTC ACTTCA CTTC...     0\n",
       "IMFLG        TAACCA AACCAT ACCATG CCATGA CATGAG ATGAGT TGAG...     0\n",
       "L123V        CCCAGG CCAGGC CAGGCT AGGCTA GGCTAG GCTAGC CTAG...     0\n",
       "YSZF0        TTATTT TATTTT ATTTTT TTTTTC TTTTCT TTTCTA TTCT...     0\n",
       "...                                                        ...   ...\n",
       "J7YSD        GGGACT GGACTT GACTTC ACTTCA CTTCAT TTCATG TCAT...    29\n",
       "4WRQP        GCCGCC CCGCCG CGCCGC GCCGCA CCGCAT CGCATT GCAT...    29\n",
       "ZHZRA        GCATTT CATTTT ATTTTT TTTTTT TTTTTT TTTTTC TTTT...    29\n",
       "AIAH0        TCCTGA CCTGAC CTGACG TGACGT GACGTT ACGTTG CGTT...    29\n",
       "8ION0        CCACGG CACGGG ACGGGG CGGGGC GGGGCC GGGCCC GGCC...    29\n",
       "\n",
       "[8490 rows x 2 columns]"
      ]
     },
     "execution_count": 65,
     "metadata": {},
     "output_type": "execute_result"
    }
   ],
   "source": [
    "final_data"
   ]
  },
  {
   "cell_type": "markdown",
   "metadata": {},
   "source": [
    "## Split data"
   ]
  },
  {
   "cell_type": "markdown",
   "metadata": {},
   "source": [
    "Original finetuning data is split between a dev.tsv file with 1000 observations and a train.tsv file with 32367 observations. I think the dev set is used during training to evaluate the accuracy on a held-out dataset (test accuracy). \n",
    "\n",
    "**SINCE I AM NOT COMPARING MODELS BETWEEN THEM, BECAUSE THE DATA I USE IN EVERYONE IS DIFFEERENT, THERE IS NO USE FOR A TRAIN DATASET THAT IS NOT USED TO EVALUATE OR CHOOSE HYPERPARAMETERS OF THE MODEL AND IS ONLY USED TO COMPARE ACROSS MODELS, HENCE IT IS FINE TO JUST USE THE DEV SET, WHICH IS NOT USED DURING FINETUNING TO SET ANY KIND OF PARAMETER**"
   ]
  },
  {
   "cell_type": "markdown",
   "metadata": {},
   "source": [
    "I want a perfectly balanced test set. So I manually subsample each class to about 1000 total sequences (closest multiple to number of classes)"
   ]
  },
  {
   "cell_type": "code",
   "execution_count": 66,
   "metadata": {},
   "outputs": [],
   "source": [
    "num_dev_class = math.floor(1000/len(sele_labs))"
   ]
  },
  {
   "cell_type": "code",
   "execution_count": 67,
   "metadata": {},
   "outputs": [
    {
     "data": {
      "text/plain": [
       "33"
      ]
     },
     "execution_count": 67,
     "metadata": {},
     "output_type": "execute_result"
    }
   ],
   "source": [
    "num_dev_class"
   ]
  },
  {
   "cell_type": "code",
   "execution_count": 68,
   "metadata": {},
   "outputs": [],
   "source": [
    "dev_data = final_data.groupby('label').sample(num_dev_class, replace=False, random_state=42).copy()"
   ]
  },
  {
   "cell_type": "markdown",
   "metadata": {},
   "source": [
    "to get the train_data I need to make a list from 0 to len(train_data) excluding those indices in dev_data"
   ]
  },
  {
   "cell_type": "code",
   "execution_count": 69,
   "metadata": {},
   "outputs": [],
   "source": [
    "train_data = final_data[~(final_data.index.isin(dev_data.index))].copy()"
   ]
  },
  {
   "cell_type": "markdown",
   "metadata": {},
   "source": [
    "They are balanced"
   ]
  },
  {
   "cell_type": "code",
   "execution_count": 71,
   "metadata": {},
   "outputs": [
    {
     "data": {
      "image/png": "[encoded data removed]",
      "text/plain": [
       "<Figure size 432x288 with 1 Axes>"
      ]
     },
     "metadata": {
      "needs_background": "light"
     },
     "output_type": "display_data"
    }
   ],
   "source": [
    "sns.countplot(x='label', data=dev_data)\n",
    "plt.show()"
   ]
  },
  {
   "cell_type": "code",
   "execution_count": 72,
   "metadata": {},
   "outputs": [
    {
     "data": {
      "image/png": "[encoded data removed]",
      "text/plain": [
       "<Figure size 432x288 with 1 Axes>"
      ]
     },
     "metadata": {
      "needs_background": "light"
     },
     "output_type": "display_data"
    }
   ],
   "source": [
    "sns.countplot(x='label', data=train_data)\n",
    "plt.show()"
   ]
  },
  {
   "cell_type": "code",
   "execution_count": 73,
   "metadata": {},
   "outputs": [
    {
     "data": {
      "text/html": [
       "<div>\n",
       "<style scoped>\n",
       "    .dataframe tbody tr th:only-of-type {\n",
       "        vertical-align: middle;\n",
       "    }\n",
       "\n",
       "    .dataframe tbody tr th {\n",
       "        vertical-align: top;\n",
       "    }\n",
       "\n",
       "    .dataframe thead th {\n",
       "        text-align: right;\n",
       "    }\n",
       "</style>\n",
       "<table border=\"1\" class=\"dataframe\">\n",
       "  <thead>\n",
       "    <tr style=\"text-align: right;\">\n",
       "      <th></th>\n",
       "      <th>sequence</th>\n",
       "      <th>label</th>\n",
       "    </tr>\n",
       "    <tr>\n",
       "      <th>sequence_id</th>\n",
       "      <th></th>\n",
       "      <th></th>\n",
       "    </tr>\n",
       "  </thead>\n",
       "  <tbody>\n",
       "    <tr>\n",
       "      <th>9TBQW</th>\n",
       "      <td>TCTTGT CTTGTA TTGTAC TGTACA GTACAA TACAAA ACAA...</td>\n",
       "      <td>0</td>\n",
       "    </tr>\n",
       "    <tr>\n",
       "      <th>TIL8T</th>\n",
       "      <td>TGCAGT GCAGTG CAGTGC AGTGCT GTGCTT TGCTTC GCTT...</td>\n",
       "      <td>0</td>\n",
       "    </tr>\n",
       "    <tr>\n",
       "      <th>W0G1B</th>\n",
       "      <td>CGTCGA GTCGAC TCGACT CGACTG GACTGC ACTGCA CTGC...</td>\n",
       "      <td>0</td>\n",
       "    </tr>\n",
       "    <tr>\n",
       "      <th>UDFC0</th>\n",
       "      <td>ATCTCA TCTCAA CTCAAT TCAATT CAATTA AATTAG ATTA...</td>\n",
       "      <td>0</td>\n",
       "    </tr>\n",
       "    <tr>\n",
       "      <th>AEVPG</th>\n",
       "      <td>GCCTAA CCTAAT CTAATG TAATGA AATGAG ATGAGT TGAG...</td>\n",
       "      <td>0</td>\n",
       "    </tr>\n",
       "    <tr>\n",
       "      <th>...</th>\n",
       "      <td>...</td>\n",
       "      <td>...</td>\n",
       "    </tr>\n",
       "    <tr>\n",
       "      <th>OBHO6</th>\n",
       "      <td>CATAAT ATAATG TAATGG AATGGT ATGGTG TGGTGC GGTG...</td>\n",
       "      <td>9</td>\n",
       "    </tr>\n",
       "    <tr>\n",
       "      <th>VLUUC</th>\n",
       "      <td>CAAACG AAACGC AACGCT ACGCTA CGCTAA GCTAAT CTAA...</td>\n",
       "      <td>9</td>\n",
       "    </tr>\n",
       "    <tr>\n",
       "      <th>RKL6M</th>\n",
       "      <td>GCTCTA CTCTAA TCTAAA CTAAAT TAAATC AAATCG AATC...</td>\n",
       "      <td>9</td>\n",
       "    </tr>\n",
       "    <tr>\n",
       "      <th>5Z9H8</th>\n",
       "      <td>TTTGTC TTGTCT TGTCTT GTCTTT TCTTTT CTTTTT TTTT...</td>\n",
       "      <td>9</td>\n",
       "    </tr>\n",
       "    <tr>\n",
       "      <th>WPCYB</th>\n",
       "      <td>GTTTCG TTTCGG TTCGGT TCGGTG CGGTGA GGTGAT GTGA...</td>\n",
       "      <td>9</td>\n",
       "    </tr>\n",
       "  </tbody>\n",
       "</table>\n",
       "<p>990 rows × 2 columns</p>\n",
       "</div>"
      ],
      "text/plain": [
       "                                                      sequence label\n",
       "sequence_id                                                         \n",
       "9TBQW        TCTTGT CTTGTA TTGTAC TGTACA GTACAA TACAAA ACAA...     0\n",
       "TIL8T        TGCAGT GCAGTG CAGTGC AGTGCT GTGCTT TGCTTC GCTT...     0\n",
       "W0G1B        CGTCGA GTCGAC TCGACT CGACTG GACTGC ACTGCA CTGC...     0\n",
       "UDFC0        ATCTCA TCTCAA CTCAAT TCAATT CAATTA AATTAG ATTA...     0\n",
       "AEVPG        GCCTAA CCTAAT CTAATG TAATGA AATGAG ATGAGT TGAG...     0\n",
       "...                                                        ...   ...\n",
       "OBHO6        CATAAT ATAATG TAATGG AATGGT ATGGTG TGGTGC GGTG...     9\n",
       "VLUUC        CAAACG AAACGC AACGCT ACGCTA CGCTAA GCTAAT CTAA...     9\n",
       "RKL6M        GCTCTA CTCTAA TCTAAA CTAAAT TAAATC AAATCG AATC...     9\n",
       "5Z9H8        TTTGTC TTGTCT TGTCTT GTCTTT TCTTTT CTTTTT TTTT...     9\n",
       "WPCYB        GTTTCG TTTCGG TTCGGT TCGGTG CGGTGA GGTGAT GTGA...     9\n",
       "\n",
       "[990 rows x 2 columns]"
      ]
     },
     "execution_count": 73,
     "metadata": {},
     "output_type": "execute_result"
    }
   ],
   "source": [
    "dev_data"
   ]
  },
  {
   "cell_type": "code",
   "execution_count": 74,
   "metadata": {},
   "outputs": [
    {
     "data": {
      "text/html": [
       "<div>\n",
       "<style scoped>\n",
       "    .dataframe tbody tr th:only-of-type {\n",
       "        vertical-align: middle;\n",
       "    }\n",
       "\n",
       "    .dataframe tbody tr th {\n",
       "        vertical-align: top;\n",
       "    }\n",
       "\n",
       "    .dataframe thead th {\n",
       "        text-align: right;\n",
       "    }\n",
       "</style>\n",
       "<table border=\"1\" class=\"dataframe\">\n",
       "  <thead>\n",
       "    <tr style=\"text-align: right;\">\n",
       "      <th></th>\n",
       "      <th>sequence</th>\n",
       "      <th>label</th>\n",
       "    </tr>\n",
       "    <tr>\n",
       "      <th>sequence_id</th>\n",
       "      <th></th>\n",
       "      <th></th>\n",
       "    </tr>\n",
       "  </thead>\n",
       "  <tbody>\n",
       "    <tr>\n",
       "      <th>VIS02</th>\n",
       "      <td>CCCTGC CCTGCC CTGCCA TGCCAC GCCACT CCACTC CACT...</td>\n",
       "      <td>0</td>\n",
       "    </tr>\n",
       "    <tr>\n",
       "      <th>3WSN2</th>\n",
       "      <td>GACCGA ACCGAC CCGACT CGACTT GACTTC ACTTCA CTTC...</td>\n",
       "      <td>0</td>\n",
       "    </tr>\n",
       "    <tr>\n",
       "      <th>IMFLG</th>\n",
       "      <td>TAACCA AACCAT ACCATG CCATGA CATGAG ATGAGT TGAG...</td>\n",
       "      <td>0</td>\n",
       "    </tr>\n",
       "    <tr>\n",
       "      <th>L123V</th>\n",
       "      <td>CCCAGG CCAGGC CAGGCT AGGCTA GGCTAG GCTAGC CTAG...</td>\n",
       "      <td>0</td>\n",
       "    </tr>\n",
       "    <tr>\n",
       "      <th>YSZF0</th>\n",
       "      <td>TTATTT TATTTT ATTTTT TTTTTC TTTTCT TTTCTA TTCT...</td>\n",
       "      <td>0</td>\n",
       "    </tr>\n",
       "    <tr>\n",
       "      <th>...</th>\n",
       "      <td>...</td>\n",
       "      <td>...</td>\n",
       "    </tr>\n",
       "    <tr>\n",
       "      <th>85RGS</th>\n",
       "      <td>GTTCAT TTCATC TCATCC CATCCA ATCCAT TCCATA CCAT...</td>\n",
       "      <td>29</td>\n",
       "    </tr>\n",
       "    <tr>\n",
       "      <th>J7YSD</th>\n",
       "      <td>GGGACT GGACTT GACTTC ACTTCA CTTCAT TTCATG TCAT...</td>\n",
       "      <td>29</td>\n",
       "    </tr>\n",
       "    <tr>\n",
       "      <th>4WRQP</th>\n",
       "      <td>GCCGCC CCGCCG CGCCGC GCCGCA CCGCAT CGCATT GCAT...</td>\n",
       "      <td>29</td>\n",
       "    </tr>\n",
       "    <tr>\n",
       "      <th>ZHZRA</th>\n",
       "      <td>GCATTT CATTTT ATTTTT TTTTTT TTTTTT TTTTTC TTTT...</td>\n",
       "      <td>29</td>\n",
       "    </tr>\n",
       "    <tr>\n",
       "      <th>8ION0</th>\n",
       "      <td>CCACGG CACGGG ACGGGG CGGGGC GGGGCC GGGCCC GGCC...</td>\n",
       "      <td>29</td>\n",
       "    </tr>\n",
       "  </tbody>\n",
       "</table>\n",
       "<p>7500 rows × 2 columns</p>\n",
       "</div>"
      ],
      "text/plain": [
       "                                                      sequence label\n",
       "sequence_id                                                         \n",
       "VIS02        CCCTGC CCTGCC CTGCCA TGCCAC GCCACT CCACTC CACT...     0\n",
       "3WSN2        GACCGA ACCGAC CCGACT CGACTT GACTTC ACTTCA CTTC...     0\n",
       "IMFLG        TAACCA AACCAT ACCATG CCATGA CATGAG ATGAGT TGAG...     0\n",
       "L123V        CCCAGG CCAGGC CAGGCT AGGCTA GGCTAG GCTAGC CTAG...     0\n",
       "YSZF0        TTATTT TATTTT ATTTTT TTTTTC TTTTCT TTTCTA TTCT...     0\n",
       "...                                                        ...   ...\n",
       "85RGS        GTTCAT TTCATC TCATCC CATCCA ATCCAT TCCATA CCAT...    29\n",
       "J7YSD        GGGACT GGACTT GACTTC ACTTCA CTTCAT TTCATG TCAT...    29\n",
       "4WRQP        GCCGCC CCGCCG CGCCGC GCCGCA CCGCAT CGCATT GCAT...    29\n",
       "ZHZRA        GCATTT CATTTT ATTTTT TTTTTT TTTTTT TTTTTC TTTT...    29\n",
       "8ION0        CCACGG CACGGG ACGGGG CGGGGC GGGGCC GGGCCC GGCC...    29\n",
       "\n",
       "[7500 rows x 2 columns]"
      ]
     },
     "execution_count": 74,
     "metadata": {},
     "output_type": "execute_result"
    }
   ],
   "source": [
    "train_data"
   ]
  },
  {
   "cell_type": "markdown",
   "metadata": {},
   "source": [
    "### Shuffle"
   ]
  },
  {
   "cell_type": "markdown",
   "metadata": {},
   "source": [
    "As it is now, observations are ordered by label. Will shuffle it just in case the model does not shuffle input data to take the 32 batch sizes (I bet it does)"
   ]
  },
  {
   "cell_type": "code",
   "execution_count": 75,
   "metadata": {},
   "outputs": [],
   "source": [
    "train_data = train_data.sample(frac=1, random_state=42)"
   ]
  },
  {
   "cell_type": "code",
   "execution_count": 76,
   "metadata": {},
   "outputs": [
    {
     "data": {
      "text/html": [
       "<div>\n",
       "<style scoped>\n",
       "    .dataframe tbody tr th:only-of-type {\n",
       "        vertical-align: middle;\n",
       "    }\n",
       "\n",
       "    .dataframe tbody tr th {\n",
       "        vertical-align: top;\n",
       "    }\n",
       "\n",
       "    .dataframe thead th {\n",
       "        text-align: right;\n",
       "    }\n",
       "</style>\n",
       "<table border=\"1\" class=\"dataframe\">\n",
       "  <thead>\n",
       "    <tr style=\"text-align: right;\">\n",
       "      <th></th>\n",
       "      <th>sequence</th>\n",
       "      <th>label</th>\n",
       "    </tr>\n",
       "    <tr>\n",
       "      <th>sequence_id</th>\n",
       "      <th></th>\n",
       "      <th></th>\n",
       "    </tr>\n",
       "  </thead>\n",
       "  <tbody>\n",
       "    <tr>\n",
       "      <th>9TBQW</th>\n",
       "      <td>TCTTGT CTTGTA TTGTAC TGTACA GTACAA TACAAA ACAA...</td>\n",
       "      <td>0</td>\n",
       "    </tr>\n",
       "    <tr>\n",
       "      <th>TIL8T</th>\n",
       "      <td>TGCAGT GCAGTG CAGTGC AGTGCT GTGCTT TGCTTC GCTT...</td>\n",
       "      <td>0</td>\n",
       "    </tr>\n",
       "    <tr>\n",
       "      <th>W0G1B</th>\n",
       "      <td>CGTCGA GTCGAC TCGACT CGACTG GACTGC ACTGCA CTGC...</td>\n",
       "      <td>0</td>\n",
       "    </tr>\n",
       "    <tr>\n",
       "      <th>UDFC0</th>\n",
       "      <td>ATCTCA TCTCAA CTCAAT TCAATT CAATTA AATTAG ATTA...</td>\n",
       "      <td>0</td>\n",
       "    </tr>\n",
       "    <tr>\n",
       "      <th>AEVPG</th>\n",
       "      <td>GCCTAA CCTAAT CTAATG TAATGA AATGAG ATGAGT TGAG...</td>\n",
       "      <td>0</td>\n",
       "    </tr>\n",
       "    <tr>\n",
       "      <th>...</th>\n",
       "      <td>...</td>\n",
       "      <td>...</td>\n",
       "    </tr>\n",
       "    <tr>\n",
       "      <th>OBHO6</th>\n",
       "      <td>CATAAT ATAATG TAATGG AATGGT ATGGTG TGGTGC GGTG...</td>\n",
       "      <td>9</td>\n",
       "    </tr>\n",
       "    <tr>\n",
       "      <th>VLUUC</th>\n",
       "      <td>CAAACG AAACGC AACGCT ACGCTA CGCTAA GCTAAT CTAA...</td>\n",
       "      <td>9</td>\n",
       "    </tr>\n",
       "    <tr>\n",
       "      <th>RKL6M</th>\n",
       "      <td>GCTCTA CTCTAA TCTAAA CTAAAT TAAATC AAATCG AATC...</td>\n",
       "      <td>9</td>\n",
       "    </tr>\n",
       "    <tr>\n",
       "      <th>5Z9H8</th>\n",
       "      <td>TTTGTC TTGTCT TGTCTT GTCTTT TCTTTT CTTTTT TTTT...</td>\n",
       "      <td>9</td>\n",
       "    </tr>\n",
       "    <tr>\n",
       "      <th>WPCYB</th>\n",
       "      <td>GTTTCG TTTCGG TTCGGT TCGGTG CGGTGA GGTGAT GTGA...</td>\n",
       "      <td>9</td>\n",
       "    </tr>\n",
       "  </tbody>\n",
       "</table>\n",
       "<p>990 rows × 2 columns</p>\n",
       "</div>"
      ],
      "text/plain": [
       "                                                      sequence label\n",
       "sequence_id                                                         \n",
       "9TBQW        TCTTGT CTTGTA TTGTAC TGTACA GTACAA TACAAA ACAA...     0\n",
       "TIL8T        TGCAGT GCAGTG CAGTGC AGTGCT GTGCTT TGCTTC GCTT...     0\n",
       "W0G1B        CGTCGA GTCGAC TCGACT CGACTG GACTGC ACTGCA CTGC...     0\n",
       "UDFC0        ATCTCA TCTCAA CTCAAT TCAATT CAATTA AATTAG ATTA...     0\n",
       "AEVPG        GCCTAA CCTAAT CTAATG TAATGA AATGAG ATGAGT TGAG...     0\n",
       "...                                                        ...   ...\n",
       "OBHO6        CATAAT ATAATG TAATGG AATGGT ATGGTG TGGTGC GGTG...     9\n",
       "VLUUC        CAAACG AAACGC AACGCT ACGCTA CGCTAA GCTAAT CTAA...     9\n",
       "RKL6M        GCTCTA CTCTAA TCTAAA CTAAAT TAAATC AAATCG AATC...     9\n",
       "5Z9H8        TTTGTC TTGTCT TGTCTT GTCTTT TCTTTT CTTTTT TTTT...     9\n",
       "WPCYB        GTTTCG TTTCGG TTCGGT TCGGTG CGGTGA GGTGAT GTGA...     9\n",
       "\n",
       "[990 rows x 2 columns]"
      ]
     },
     "execution_count": 76,
     "metadata": {},
     "output_type": "execute_result"
    }
   ],
   "source": [
    "dev_data"
   ]
  },
  {
   "cell_type": "code",
   "execution_count": 77,
   "metadata": {},
   "outputs": [],
   "source": [
    "dev_data = dev_data.sample(frac=1, random_state=42)"
   ]
  },
  {
   "cell_type": "code",
   "execution_count": 78,
   "metadata": {},
   "outputs": [
    {
     "data": {
      "text/html": [
       "<div>\n",
       "<style scoped>\n",
       "    .dataframe tbody tr th:only-of-type {\n",
       "        vertical-align: middle;\n",
       "    }\n",
       "\n",
       "    .dataframe tbody tr th {\n",
       "        vertical-align: top;\n",
       "    }\n",
       "\n",
       "    .dataframe thead th {\n",
       "        text-align: right;\n",
       "    }\n",
       "</style>\n",
       "<table border=\"1\" class=\"dataframe\">\n",
       "  <thead>\n",
       "    <tr style=\"text-align: right;\">\n",
       "      <th></th>\n",
       "      <th>sequence</th>\n",
       "      <th>label</th>\n",
       "    </tr>\n",
       "    <tr>\n",
       "      <th>sequence_id</th>\n",
       "      <th></th>\n",
       "      <th></th>\n",
       "    </tr>\n",
       "  </thead>\n",
       "  <tbody>\n",
       "    <tr>\n",
       "      <th>5EPXG</th>\n",
       "      <td>GAGTTA AGTTAC GTTACA TTACAT TACATG ACATGA CATG...</td>\n",
       "      <td>14</td>\n",
       "    </tr>\n",
       "    <tr>\n",
       "      <th>NS84K</th>\n",
       "      <td>GTACCC TACCCA ACCCAA CCCAAA CCAAAG CAAAGC AAAG...</td>\n",
       "      <td>18</td>\n",
       "    </tr>\n",
       "    <tr>\n",
       "      <th>WRD08</th>\n",
       "      <td>ACACAA CACAAC ACAACA CAACAT AACATA ACATAT CATA...</td>\n",
       "      <td>22</td>\n",
       "    </tr>\n",
       "    <tr>\n",
       "      <th>Y3FWP</th>\n",
       "      <td>ATATCT TATCTA ATCTAA TCTAAT CTAATC TAATCT AATC...</td>\n",
       "      <td>17</td>\n",
       "    </tr>\n",
       "    <tr>\n",
       "      <th>C0G1M</th>\n",
       "      <td>TGAATA GAATAT AATATT ATATTT TATTTT ATTTTG TTTT...</td>\n",
       "      <td>10</td>\n",
       "    </tr>\n",
       "    <tr>\n",
       "      <th>...</th>\n",
       "      <td>...</td>\n",
       "      <td>...</td>\n",
       "    </tr>\n",
       "    <tr>\n",
       "      <th>7U5ME</th>\n",
       "      <td>GGCAAG GCAAGC CAAGCA AAGCAA AGCAAG GCAAGC CAAG...</td>\n",
       "      <td>11</td>\n",
       "    </tr>\n",
       "    <tr>\n",
       "      <th>OKUGU</th>\n",
       "      <td>CTCCTC TCCTCC CCTCCC CTCCCT TCCCTG CCCTGA CCTG...</td>\n",
       "      <td>16</td>\n",
       "    </tr>\n",
       "    <tr>\n",
       "      <th>BEISD</th>\n",
       "      <td>CTCCTG TCCTGT CCTGTG CTGTGG TGTGGG GTGGGC TGGG...</td>\n",
       "      <td>6</td>\n",
       "    </tr>\n",
       "    <tr>\n",
       "      <th>3AUPS</th>\n",
       "      <td>CATCAC ATCACT TCACTT CACTTA ACTTAA CTTAAT TTAA...</td>\n",
       "      <td>20</td>\n",
       "    </tr>\n",
       "    <tr>\n",
       "      <th>41E74</th>\n",
       "      <td>CGCGCA GCGCAG CGCAGA GCAGAA CAGAAA AGAAAA GAAA...</td>\n",
       "      <td>11</td>\n",
       "    </tr>\n",
       "  </tbody>\n",
       "</table>\n",
       "<p>990 rows × 2 columns</p>\n",
       "</div>"
      ],
      "text/plain": [
       "                                                      sequence label\n",
       "sequence_id                                                         \n",
       "5EPXG        GAGTTA AGTTAC GTTACA TTACAT TACATG ACATGA CATG...    14\n",
       "NS84K        GTACCC TACCCA ACCCAA CCCAAA CCAAAG CAAAGC AAAG...    18\n",
       "WRD08        ACACAA CACAAC ACAACA CAACAT AACATA ACATAT CATA...    22\n",
       "Y3FWP        ATATCT TATCTA ATCTAA TCTAAT CTAATC TAATCT AATC...    17\n",
       "C0G1M        TGAATA GAATAT AATATT ATATTT TATTTT ATTTTG TTTT...    10\n",
       "...                                                        ...   ...\n",
       "7U5ME        GGCAAG GCAAGC CAAGCA AAGCAA AGCAAG GCAAGC CAAG...    11\n",
       "OKUGU        CTCCTC TCCTCC CCTCCC CTCCCT TCCCTG CCCTGA CCTG...    16\n",
       "BEISD        CTCCTG TCCTGT CCTGTG CTGTGG TGTGGG GTGGGC TGGG...     6\n",
       "3AUPS        CATCAC ATCACT TCACTT CACTTA ACTTAA CTTAAT TTAA...    20\n",
       "41E74        CGCGCA GCGCAG CGCAGA GCAGAA CAGAAA AGAAAA GAAA...    11\n",
       "\n",
       "[990 rows x 2 columns]"
      ]
     },
     "execution_count": 78,
     "metadata": {},
     "output_type": "execute_result"
    }
   ],
   "source": [
    "dev_data"
   ]
  },
  {
   "cell_type": "markdown",
   "metadata": {},
   "source": [
    "### Export"
   ]
  },
  {
   "cell_type": "markdown",
   "metadata": {},
   "source": [
    "Finally, export this dataframes in the appropriate format and in a .csv file that could be read back to pandas (which contains information about the indices!)"
   ]
  },
  {
   "cell_type": "code",
   "execution_count": 79,
   "metadata": {},
   "outputs": [],
   "source": [
    "train_data.to_csv(f'{path_prefix}/transformers/4_geathirty/in_data/train_data.csv')\n",
    "dev_data.to_csv(f'{path_prefix}/transformers/4_geathirty/in_data/dev_data.csv')"
   ]
  },
  {
   "cell_type": "markdown",
   "metadata": {},
   "source": [
    "Model will use these tsv files."
   ]
  },
  {
   "cell_type": "code",
   "execution_count": 80,
   "metadata": {},
   "outputs": [],
   "source": [
    "train_data.to_csv(f'{path_prefix}/transformers/4_geathirty/in_data/train.tsv', sep='\\t', index=False)\n",
    "dev_data.to_csv(f'{path_prefix}/transformers/4_geathirty/in_data/dev.tsv', sep='\\t', index=False)"
   ]
  },
  {
   "cell_type": "code",
   "execution_count": null,
   "metadata": {},
   "outputs": [],
   "source": []
  }
 ],
 "metadata": {
  "kernelspec": {
   "display_name": "comp_genomics",
   "language": "python",
   "name": "comp_genomics"
  },
  "language_info": {
   "codemirror_mode": {
    "name": "ipython",
    "version": 3
   },
   "file_extension": ".py",
   "mimetype": "text/x-python",
   "name": "python",
   "nbconvert_exporter": "python",
   "pygments_lexer": "ipython3",
   "version": "3.9.7"
  }
 },
 "nbformat": 4,
 "nbformat_minor": 4
}
