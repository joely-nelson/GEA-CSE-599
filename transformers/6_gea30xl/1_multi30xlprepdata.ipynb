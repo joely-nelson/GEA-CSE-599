{
 "cells": [
  {
   "cell_type": "markdown",
   "metadata": {},
   "source": [
    "## Process data"
   ]
  },
  {
   "cell_type": "markdown",
   "metadata": {},
   "source": [
    "Load the gea data, taking only the 30 most abundant classes.\n",
    "Here as a new thing I will take 2048 sequence length so it will be split in $4*512$ preds by the model.\n",
    "\n",
    "Here training and test data is completely balanced (283 observations per class)"
   ]
  },
  {
   "cell_type": "markdown",
   "metadata": {},
   "source": [
    "**VERY IMPORTANT:** Here, since I cannot find enough stretches without any \"N\" nucleotide to get this amount of samples for all classes and the model does not support them, I follow this strategy:\n",
    " - Take a random sequence that does not have more than 3 Ns, convert the Ns to A residues.\n",
    " - There are many sequences without any Ns but I am afraid that if I do this I would be "
   ]
  },
  {
   "cell_type": "code",
   "execution_count": 1,
   "metadata": {},
   "outputs": [],
   "source": [
    "# set directory of this repo so that all paths can be absolute/relative (not ended with a '/')\n",
    "path_prefix = '/home/mexposit/cg/gea'"
   ]
  },
  {
   "cell_type": "code",
   "execution_count": 2,
   "metadata": {},
   "outputs": [],
   "source": [
    "import math\n",
    "import numpy as np\n",
    "import pandas as pd\n",
    "import matplotlib.pyplot as plt\n",
    "import seaborn as sns"
   ]
  },
  {
   "cell_type": "code",
   "execution_count": 3,
   "metadata": {},
   "outputs": [],
   "source": [
    "def rev_comp(seq):\n",
    "    revcomp = ''\n",
    "    for nt in seq:\n",
    "        if nt.upper() == 'A':\n",
    "            revcomp = revcomp+'T'\n",
    "        elif nt.upper() == 'G':\n",
    "            revcomp = revcomp+'C'\n",
    "        elif nt.upper() == 'C':\n",
    "            revcomp = revcomp+'G'\n",
    "        elif nt.upper() == 'T':\n",
    "            revcomp = revcomp+'A'\n",
    "        else:\n",
    "            raise ValueError(f'Unrecognized nucleotide {nt}')\n",
    "    return revcomp[::-1]"
   ]
  },
  {
   "cell_type": "code",
   "execution_count": 4,
   "metadata": {},
   "outputs": [
    {
     "data": {
      "text/plain": [
       "'CGAT'"
      ]
     },
     "execution_count": 4,
     "metadata": {},
     "output_type": "execute_result"
    }
   ],
   "source": [
    "rev_comp('ATCG')"
   ]
  },
  {
   "cell_type": "code",
   "execution_count": 5,
   "metadata": {},
   "outputs": [],
   "source": [
    "def min_nonN_seq(seq):\n",
    "    \"\"\"\n",
    "    Gets the number of contiguous nucleotides in a sequence that are not N\n",
    "    \"\"\"\n",
    "    seq = seq.upper()\n",
    "    max_stretch = 0\n",
    "    cont_len = 0\n",
    "    for char in seq:\n",
    "        if char in 'ATCG':\n",
    "            cont_len += 1\n",
    "        elif char == 'N':\n",
    "            # found N, see if contiguous count is larger than previous maximum\n",
    "            if cont_len > max_stretch:\n",
    "                max_stretch = cont_len\n",
    "            # reset to zero\n",
    "            cont_len = 0\n",
    "        else:\n",
    "            raise ValueError(f'Found unrecognized nucleotide {char} in seq {seq}')\n",
    "    # get stretch if no N has been found\n",
    "    if max_stretch == 0:\n",
    "        max_stretch = cont_len\n",
    "    return max_stretch    "
   ]
  },
  {
   "cell_type": "code",
   "execution_count": 6,
   "metadata": {},
   "outputs": [
    {
     "name": "stdout",
     "output_type": "stream",
     "text": [
      "5\n",
      "0\n",
      "7\n"
     ]
    }
   ],
   "source": [
    "print(min_nonN_seq('ATCGTNATNA'))\n",
    "print(min_nonN_seq('NNNN'))\n",
    "print(min_nonN_seq('agtcatc'))"
   ]
  },
  {
   "cell_type": "markdown",
   "metadata": {},
   "source": [
    "### Load data"
   ]
  },
  {
   "cell_type": "code",
   "execution_count": 7,
   "metadata": {},
   "outputs": [],
   "source": [
    "train_vals = pd.read_csv(f'{path_prefix}/data/train_values.csv', index_col=0)\n",
    "train_labl = pd.read_csv(f'{path_prefix}/data/train_labels.csv', index_col=0)"
   ]
  },
  {
   "cell_type": "code",
   "execution_count": 8,
   "metadata": {},
   "outputs": [
    {
     "data": {
      "text/html": [
       "<div>\n",
       "<style scoped>\n",
       "    .dataframe tbody tr th:only-of-type {\n",
       "        vertical-align: middle;\n",
       "    }\n",
       "\n",
       "    .dataframe tbody tr th {\n",
       "        vertical-align: top;\n",
       "    }\n",
       "\n",
       "    .dataframe thead th {\n",
       "        text-align: right;\n",
       "    }\n",
       "</style>\n",
       "<table border=\"1\" class=\"dataframe\">\n",
       "  <thead>\n",
       "    <tr style=\"text-align: right;\">\n",
       "      <th></th>\n",
       "      <th>sequence</th>\n",
       "      <th>bacterial_resistance_ampicillin</th>\n",
       "      <th>bacterial_resistance_chloramphenicol</th>\n",
       "      <th>bacterial_resistance_kanamycin</th>\n",
       "      <th>bacterial_resistance_other</th>\n",
       "      <th>bacterial_resistance_spectinomycin</th>\n",
       "      <th>copy_number_high_copy</th>\n",
       "      <th>copy_number_low_copy</th>\n",
       "      <th>copy_number_unknown</th>\n",
       "      <th>growth_strain_ccdb_survival</th>\n",
       "      <th>...</th>\n",
       "      <th>species_budding_yeast</th>\n",
       "      <th>species_fly</th>\n",
       "      <th>species_human</th>\n",
       "      <th>species_mouse</th>\n",
       "      <th>species_mustard_weed</th>\n",
       "      <th>species_nematode</th>\n",
       "      <th>species_other</th>\n",
       "      <th>species_rat</th>\n",
       "      <th>species_synthetic</th>\n",
       "      <th>species_zebrafish</th>\n",
       "    </tr>\n",
       "    <tr>\n",
       "      <th>sequence_id</th>\n",
       "      <th></th>\n",
       "      <th></th>\n",
       "      <th></th>\n",
       "      <th></th>\n",
       "      <th></th>\n",
       "      <th></th>\n",
       "      <th></th>\n",
       "      <th></th>\n",
       "      <th></th>\n",
       "      <th></th>\n",
       "      <th></th>\n",
       "      <th></th>\n",
       "      <th></th>\n",
       "      <th></th>\n",
       "      <th></th>\n",
       "      <th></th>\n",
       "      <th></th>\n",
       "      <th></th>\n",
       "      <th></th>\n",
       "      <th></th>\n",
       "      <th></th>\n",
       "    </tr>\n",
       "  </thead>\n",
       "  <tbody>\n",
       "    <tr>\n",
       "      <th>9ZIMC</th>\n",
       "      <td>CATGCATTAGTTATTAATAGTAATCAATTACGGGGTCATTAGTTCA...</td>\n",
       "      <td>0.0</td>\n",
       "      <td>0.0</td>\n",
       "      <td>1.0</td>\n",
       "      <td>0.0</td>\n",
       "      <td>0.0</td>\n",
       "      <td>1.0</td>\n",
       "      <td>0.0</td>\n",
       "      <td>0.0</td>\n",
       "      <td>0.0</td>\n",
       "      <td>...</td>\n",
       "      <td>0.0</td>\n",
       "      <td>0.0</td>\n",
       "      <td>0.0</td>\n",
       "      <td>1.0</td>\n",
       "      <td>0.0</td>\n",
       "      <td>0.0</td>\n",
       "      <td>0.0</td>\n",
       "      <td>0.0</td>\n",
       "      <td>0.0</td>\n",
       "      <td>0.0</td>\n",
       "    </tr>\n",
       "    <tr>\n",
       "      <th>5SAQC</th>\n",
       "      <td>GCTGGATGGTTTGGGACATGTGCAGCCCCGTCTCTGTATGGAGTGA...</td>\n",
       "      <td>1.0</td>\n",
       "      <td>0.0</td>\n",
       "      <td>0.0</td>\n",
       "      <td>0.0</td>\n",
       "      <td>0.0</td>\n",
       "      <td>1.0</td>\n",
       "      <td>0.0</td>\n",
       "      <td>0.0</td>\n",
       "      <td>0.0</td>\n",
       "      <td>...</td>\n",
       "      <td>0.0</td>\n",
       "      <td>0.0</td>\n",
       "      <td>0.0</td>\n",
       "      <td>1.0</td>\n",
       "      <td>0.0</td>\n",
       "      <td>0.0</td>\n",
       "      <td>0.0</td>\n",
       "      <td>0.0</td>\n",
       "      <td>0.0</td>\n",
       "      <td>0.0</td>\n",
       "    </tr>\n",
       "    <tr>\n",
       "      <th>E7QRO</th>\n",
       "      <td>NNCCGGGCTGTAGCTACACAGGGCGGAGATGAGAGCCCTACGAAAG...</td>\n",
       "      <td>1.0</td>\n",
       "      <td>0.0</td>\n",
       "      <td>0.0</td>\n",
       "      <td>0.0</td>\n",
       "      <td>0.0</td>\n",
       "      <td>1.0</td>\n",
       "      <td>0.0</td>\n",
       "      <td>0.0</td>\n",
       "      <td>0.0</td>\n",
       "      <td>...</td>\n",
       "      <td>0.0</td>\n",
       "      <td>0.0</td>\n",
       "      <td>0.0</td>\n",
       "      <td>1.0</td>\n",
       "      <td>0.0</td>\n",
       "      <td>0.0</td>\n",
       "      <td>0.0</td>\n",
       "      <td>0.0</td>\n",
       "      <td>0.0</td>\n",
       "      <td>0.0</td>\n",
       "    </tr>\n",
       "    <tr>\n",
       "      <th>CT5FP</th>\n",
       "      <td>GCGGAGATGAAGAGCCCTACGAAAGCTGAGCCTGCGACTCCCGCAG...</td>\n",
       "      <td>1.0</td>\n",
       "      <td>0.0</td>\n",
       "      <td>0.0</td>\n",
       "      <td>0.0</td>\n",
       "      <td>0.0</td>\n",
       "      <td>1.0</td>\n",
       "      <td>0.0</td>\n",
       "      <td>0.0</td>\n",
       "      <td>0.0</td>\n",
       "      <td>...</td>\n",
       "      <td>0.0</td>\n",
       "      <td>0.0</td>\n",
       "      <td>0.0</td>\n",
       "      <td>1.0</td>\n",
       "      <td>0.0</td>\n",
       "      <td>0.0</td>\n",
       "      <td>0.0</td>\n",
       "      <td>0.0</td>\n",
       "      <td>0.0</td>\n",
       "      <td>0.0</td>\n",
       "    </tr>\n",
       "    <tr>\n",
       "      <th>7PTD8</th>\n",
       "      <td>CGCGCATTACTTCACATGGTCCTCAAGGGTAACATGAAAGTGATCC...</td>\n",
       "      <td>1.0</td>\n",
       "      <td>0.0</td>\n",
       "      <td>0.0</td>\n",
       "      <td>0.0</td>\n",
       "      <td>0.0</td>\n",
       "      <td>1.0</td>\n",
       "      <td>0.0</td>\n",
       "      <td>0.0</td>\n",
       "      <td>0.0</td>\n",
       "      <td>...</td>\n",
       "      <td>0.0</td>\n",
       "      <td>0.0</td>\n",
       "      <td>0.0</td>\n",
       "      <td>1.0</td>\n",
       "      <td>0.0</td>\n",
       "      <td>0.0</td>\n",
       "      <td>0.0</td>\n",
       "      <td>0.0</td>\n",
       "      <td>0.0</td>\n",
       "      <td>0.0</td>\n",
       "    </tr>\n",
       "  </tbody>\n",
       "</table>\n",
       "<p>5 rows × 40 columns</p>\n",
       "</div>"
      ],
      "text/plain": [
       "                                                      sequence  \\\n",
       "sequence_id                                                      \n",
       "9ZIMC        CATGCATTAGTTATTAATAGTAATCAATTACGGGGTCATTAGTTCA...   \n",
       "5SAQC        GCTGGATGGTTTGGGACATGTGCAGCCCCGTCTCTGTATGGAGTGA...   \n",
       "E7QRO        NNCCGGGCTGTAGCTACACAGGGCGGAGATGAGAGCCCTACGAAAG...   \n",
       "CT5FP        GCGGAGATGAAGAGCCCTACGAAAGCTGAGCCTGCGACTCCCGCAG...   \n",
       "7PTD8        CGCGCATTACTTCACATGGTCCTCAAGGGTAACATGAAAGTGATCC...   \n",
       "\n",
       "             bacterial_resistance_ampicillin  \\\n",
       "sequence_id                                    \n",
       "9ZIMC                                    0.0   \n",
       "5SAQC                                    1.0   \n",
       "E7QRO                                    1.0   \n",
       "CT5FP                                    1.0   \n",
       "7PTD8                                    1.0   \n",
       "\n",
       "             bacterial_resistance_chloramphenicol  \\\n",
       "sequence_id                                         \n",
       "9ZIMC                                         0.0   \n",
       "5SAQC                                         0.0   \n",
       "E7QRO                                         0.0   \n",
       "CT5FP                                         0.0   \n",
       "7PTD8                                         0.0   \n",
       "\n",
       "             bacterial_resistance_kanamycin  bacterial_resistance_other  \\\n",
       "sequence_id                                                               \n",
       "9ZIMC                                   1.0                         0.0   \n",
       "5SAQC                                   0.0                         0.0   \n",
       "E7QRO                                   0.0                         0.0   \n",
       "CT5FP                                   0.0                         0.0   \n",
       "7PTD8                                   0.0                         0.0   \n",
       "\n",
       "             bacterial_resistance_spectinomycin  copy_number_high_copy  \\\n",
       "sequence_id                                                              \n",
       "9ZIMC                                       0.0                    1.0   \n",
       "5SAQC                                       0.0                    1.0   \n",
       "E7QRO                                       0.0                    1.0   \n",
       "CT5FP                                       0.0                    1.0   \n",
       "7PTD8                                       0.0                    1.0   \n",
       "\n",
       "             copy_number_low_copy  copy_number_unknown  \\\n",
       "sequence_id                                              \n",
       "9ZIMC                         0.0                  0.0   \n",
       "5SAQC                         0.0                  0.0   \n",
       "E7QRO                         0.0                  0.0   \n",
       "CT5FP                         0.0                  0.0   \n",
       "7PTD8                         0.0                  0.0   \n",
       "\n",
       "             growth_strain_ccdb_survival  ...  species_budding_yeast  \\\n",
       "sequence_id                               ...                          \n",
       "9ZIMC                                0.0  ...                    0.0   \n",
       "5SAQC                                0.0  ...                    0.0   \n",
       "E7QRO                                0.0  ...                    0.0   \n",
       "CT5FP                                0.0  ...                    0.0   \n",
       "7PTD8                                0.0  ...                    0.0   \n",
       "\n",
       "             species_fly  species_human  species_mouse  species_mustard_weed  \\\n",
       "sequence_id                                                                    \n",
       "9ZIMC                0.0            0.0            1.0                   0.0   \n",
       "5SAQC                0.0            0.0            1.0                   0.0   \n",
       "E7QRO                0.0            0.0            1.0                   0.0   \n",
       "CT5FP                0.0            0.0            1.0                   0.0   \n",
       "7PTD8                0.0            0.0            1.0                   0.0   \n",
       "\n",
       "             species_nematode  species_other  species_rat  species_synthetic  \\\n",
       "sequence_id                                                                    \n",
       "9ZIMC                     0.0            0.0          0.0                0.0   \n",
       "5SAQC                     0.0            0.0          0.0                0.0   \n",
       "E7QRO                     0.0            0.0          0.0                0.0   \n",
       "CT5FP                     0.0            0.0          0.0                0.0   \n",
       "7PTD8                     0.0            0.0          0.0                0.0   \n",
       "\n",
       "             species_zebrafish  \n",
       "sequence_id                     \n",
       "9ZIMC                      0.0  \n",
       "5SAQC                      0.0  \n",
       "E7QRO                      0.0  \n",
       "CT5FP                      0.0  \n",
       "7PTD8                      0.0  \n",
       "\n",
       "[5 rows x 40 columns]"
      ]
     },
     "execution_count": 8,
     "metadata": {},
     "output_type": "execute_result"
    }
   ],
   "source": [
    "train_vals.head()"
   ]
  },
  {
   "cell_type": "code",
   "execution_count": 9,
   "metadata": {},
   "outputs": [
    {
     "data": {
      "text/html": [
       "<div>\n",
       "<style scoped>\n",
       "    .dataframe tbody tr th:only-of-type {\n",
       "        vertical-align: middle;\n",
       "    }\n",
       "\n",
       "    .dataframe tbody tr th {\n",
       "        vertical-align: top;\n",
       "    }\n",
       "\n",
       "    .dataframe thead th {\n",
       "        text-align: right;\n",
       "    }\n",
       "</style>\n",
       "<table border=\"1\" class=\"dataframe\">\n",
       "  <thead>\n",
       "    <tr style=\"text-align: right;\">\n",
       "      <th></th>\n",
       "      <th>00Q4V31T</th>\n",
       "      <th>012VT4JK</th>\n",
       "      <th>028IO5W2</th>\n",
       "      <th>03GRNN7N</th>\n",
       "      <th>03Y3W51H</th>\n",
       "      <th>09MQV1TY</th>\n",
       "      <th>0A4AHRCT</th>\n",
       "      <th>0A9M05NC</th>\n",
       "      <th>0B9GCUVV</th>\n",
       "      <th>0CL7QVG8</th>\n",
       "      <th>...</th>\n",
       "      <th>ZQNGGY33</th>\n",
       "      <th>ZSHS4VJZ</th>\n",
       "      <th>ZT1IP3T6</th>\n",
       "      <th>ZU6860XU</th>\n",
       "      <th>ZU6TVFFU</th>\n",
       "      <th>ZU75P59K</th>\n",
       "      <th>ZUI6TDWV</th>\n",
       "      <th>ZWFD8OHC</th>\n",
       "      <th>ZX06ZDZN</th>\n",
       "      <th>ZZJVE4HO</th>\n",
       "    </tr>\n",
       "    <tr>\n",
       "      <th>sequence_id</th>\n",
       "      <th></th>\n",
       "      <th></th>\n",
       "      <th></th>\n",
       "      <th></th>\n",
       "      <th></th>\n",
       "      <th></th>\n",
       "      <th></th>\n",
       "      <th></th>\n",
       "      <th></th>\n",
       "      <th></th>\n",
       "      <th></th>\n",
       "      <th></th>\n",
       "      <th></th>\n",
       "      <th></th>\n",
       "      <th></th>\n",
       "      <th></th>\n",
       "      <th></th>\n",
       "      <th></th>\n",
       "      <th></th>\n",
       "      <th></th>\n",
       "      <th></th>\n",
       "    </tr>\n",
       "  </thead>\n",
       "  <tbody>\n",
       "    <tr>\n",
       "      <th>9ZIMC</th>\n",
       "      <td>0.0</td>\n",
       "      <td>0.0</td>\n",
       "      <td>0.0</td>\n",
       "      <td>0.0</td>\n",
       "      <td>0.0</td>\n",
       "      <td>0.0</td>\n",
       "      <td>0.0</td>\n",
       "      <td>0.0</td>\n",
       "      <td>0.0</td>\n",
       "      <td>0.0</td>\n",
       "      <td>...</td>\n",
       "      <td>0.0</td>\n",
       "      <td>0.0</td>\n",
       "      <td>0.0</td>\n",
       "      <td>0.0</td>\n",
       "      <td>0.0</td>\n",
       "      <td>0.0</td>\n",
       "      <td>0.0</td>\n",
       "      <td>0.0</td>\n",
       "      <td>0.0</td>\n",
       "      <td>0.0</td>\n",
       "    </tr>\n",
       "    <tr>\n",
       "      <th>5SAQC</th>\n",
       "      <td>0.0</td>\n",
       "      <td>0.0</td>\n",
       "      <td>0.0</td>\n",
       "      <td>0.0</td>\n",
       "      <td>0.0</td>\n",
       "      <td>0.0</td>\n",
       "      <td>0.0</td>\n",
       "      <td>0.0</td>\n",
       "      <td>0.0</td>\n",
       "      <td>0.0</td>\n",
       "      <td>...</td>\n",
       "      <td>0.0</td>\n",
       "      <td>0.0</td>\n",
       "      <td>0.0</td>\n",
       "      <td>0.0</td>\n",
       "      <td>0.0</td>\n",
       "      <td>0.0</td>\n",
       "      <td>0.0</td>\n",
       "      <td>0.0</td>\n",
       "      <td>0.0</td>\n",
       "      <td>0.0</td>\n",
       "    </tr>\n",
       "    <tr>\n",
       "      <th>E7QRO</th>\n",
       "      <td>0.0</td>\n",
       "      <td>0.0</td>\n",
       "      <td>0.0</td>\n",
       "      <td>0.0</td>\n",
       "      <td>0.0</td>\n",
       "      <td>0.0</td>\n",
       "      <td>0.0</td>\n",
       "      <td>0.0</td>\n",
       "      <td>0.0</td>\n",
       "      <td>0.0</td>\n",
       "      <td>...</td>\n",
       "      <td>0.0</td>\n",
       "      <td>0.0</td>\n",
       "      <td>0.0</td>\n",
       "      <td>0.0</td>\n",
       "      <td>0.0</td>\n",
       "      <td>0.0</td>\n",
       "      <td>0.0</td>\n",
       "      <td>0.0</td>\n",
       "      <td>0.0</td>\n",
       "      <td>0.0</td>\n",
       "    </tr>\n",
       "    <tr>\n",
       "      <th>CT5FP</th>\n",
       "      <td>0.0</td>\n",
       "      <td>0.0</td>\n",
       "      <td>0.0</td>\n",
       "      <td>0.0</td>\n",
       "      <td>0.0</td>\n",
       "      <td>0.0</td>\n",
       "      <td>0.0</td>\n",
       "      <td>0.0</td>\n",
       "      <td>0.0</td>\n",
       "      <td>0.0</td>\n",
       "      <td>...</td>\n",
       "      <td>0.0</td>\n",
       "      <td>0.0</td>\n",
       "      <td>0.0</td>\n",
       "      <td>0.0</td>\n",
       "      <td>0.0</td>\n",
       "      <td>0.0</td>\n",
       "      <td>0.0</td>\n",
       "      <td>0.0</td>\n",
       "      <td>0.0</td>\n",
       "      <td>0.0</td>\n",
       "    </tr>\n",
       "    <tr>\n",
       "      <th>7PTD8</th>\n",
       "      <td>0.0</td>\n",
       "      <td>0.0</td>\n",
       "      <td>0.0</td>\n",
       "      <td>0.0</td>\n",
       "      <td>0.0</td>\n",
       "      <td>0.0</td>\n",
       "      <td>0.0</td>\n",
       "      <td>0.0</td>\n",
       "      <td>0.0</td>\n",
       "      <td>0.0</td>\n",
       "      <td>...</td>\n",
       "      <td>0.0</td>\n",
       "      <td>0.0</td>\n",
       "      <td>0.0</td>\n",
       "      <td>0.0</td>\n",
       "      <td>0.0</td>\n",
       "      <td>0.0</td>\n",
       "      <td>0.0</td>\n",
       "      <td>0.0</td>\n",
       "      <td>0.0</td>\n",
       "      <td>0.0</td>\n",
       "    </tr>\n",
       "  </tbody>\n",
       "</table>\n",
       "<p>5 rows × 1314 columns</p>\n",
       "</div>"
      ],
      "text/plain": [
       "             00Q4V31T  012VT4JK  028IO5W2  03GRNN7N  03Y3W51H  09MQV1TY  \\\n",
       "sequence_id                                                               \n",
       "9ZIMC             0.0       0.0       0.0       0.0       0.0       0.0   \n",
       "5SAQC             0.0       0.0       0.0       0.0       0.0       0.0   \n",
       "E7QRO             0.0       0.0       0.0       0.0       0.0       0.0   \n",
       "CT5FP             0.0       0.0       0.0       0.0       0.0       0.0   \n",
       "7PTD8             0.0       0.0       0.0       0.0       0.0       0.0   \n",
       "\n",
       "             0A4AHRCT  0A9M05NC  0B9GCUVV  0CL7QVG8  ...  ZQNGGY33  ZSHS4VJZ  \\\n",
       "sequence_id                                          ...                       \n",
       "9ZIMC             0.0       0.0       0.0       0.0  ...       0.0       0.0   \n",
       "5SAQC             0.0       0.0       0.0       0.0  ...       0.0       0.0   \n",
       "E7QRO             0.0       0.0       0.0       0.0  ...       0.0       0.0   \n",
       "CT5FP             0.0       0.0       0.0       0.0  ...       0.0       0.0   \n",
       "7PTD8             0.0       0.0       0.0       0.0  ...       0.0       0.0   \n",
       "\n",
       "             ZT1IP3T6  ZU6860XU  ZU6TVFFU  ZU75P59K  ZUI6TDWV  ZWFD8OHC  \\\n",
       "sequence_id                                                               \n",
       "9ZIMC             0.0       0.0       0.0       0.0       0.0       0.0   \n",
       "5SAQC             0.0       0.0       0.0       0.0       0.0       0.0   \n",
       "E7QRO             0.0       0.0       0.0       0.0       0.0       0.0   \n",
       "CT5FP             0.0       0.0       0.0       0.0       0.0       0.0   \n",
       "7PTD8             0.0       0.0       0.0       0.0       0.0       0.0   \n",
       "\n",
       "             ZX06ZDZN  ZZJVE4HO  \n",
       "sequence_id                      \n",
       "9ZIMC             0.0       0.0  \n",
       "5SAQC             0.0       0.0  \n",
       "E7QRO             0.0       0.0  \n",
       "CT5FP             0.0       0.0  \n",
       "7PTD8             0.0       0.0  \n",
       "\n",
       "[5 rows x 1314 columns]"
      ]
     },
     "execution_count": 9,
     "metadata": {},
     "output_type": "execute_result"
    }
   ],
   "source": [
    "train_labl.head()"
   ]
  },
  {
   "cell_type": "markdown",
   "metadata": {},
   "source": [
    "### There are sequence duplicates, remove them"
   ]
  },
  {
   "cell_type": "markdown",
   "metadata": {},
   "source": [
    "Aprox 500 entries"
   ]
  },
  {
   "cell_type": "code",
   "execution_count": 10,
   "metadata": {},
   "outputs": [
    {
     "data": {
      "text/plain": [
       "(63017, 40)"
      ]
     },
     "execution_count": 10,
     "metadata": {},
     "output_type": "execute_result"
    }
   ],
   "source": [
    "train_vals.shape"
   ]
  },
  {
   "cell_type": "code",
   "execution_count": 11,
   "metadata": {},
   "outputs": [],
   "source": [
    "train_vals.drop_duplicates('sequence', inplace=True)"
   ]
  },
  {
   "cell_type": "code",
   "execution_count": 12,
   "metadata": {},
   "outputs": [
    {
     "data": {
      "text/plain": [
       "(62643, 40)"
      ]
     },
     "execution_count": 12,
     "metadata": {},
     "output_type": "execute_result"
    }
   ],
   "source": [
    "train_vals.shape"
   ]
  },
  {
   "cell_type": "markdown",
   "metadata": {},
   "source": [
    "Also make the change in the labels"
   ]
  },
  {
   "cell_type": "code",
   "execution_count": 13,
   "metadata": {},
   "outputs": [],
   "source": [
    "train_labl = train_labl.loc[train_vals.index].copy()"
   ]
  },
  {
   "cell_type": "code",
   "execution_count": 14,
   "metadata": {},
   "outputs": [
    {
     "data": {
      "text/plain": [
       "(62643, 40)"
      ]
     },
     "execution_count": 14,
     "metadata": {},
     "output_type": "execute_result"
    }
   ],
   "source": [
    "train_vals.shape"
   ]
  },
  {
   "cell_type": "markdown",
   "metadata": {},
   "source": [
    "### Count which labs are more abundant"
   ]
  },
  {
   "cell_type": "markdown",
   "metadata": {},
   "source": [
    "Reverse one hot encoding of labels"
   ]
  },
  {
   "cell_type": "code",
   "execution_count": 15,
   "metadata": {},
   "outputs": [],
   "source": [
    "labs = train_labl.columns"
   ]
  },
  {
   "cell_type": "code",
   "execution_count": 16,
   "metadata": {},
   "outputs": [],
   "source": [
    "labels = train_labl.apply(lambda x: labs[np.array(x.values, dtype=bool)][0], axis=1)"
   ]
  },
  {
   "cell_type": "code",
   "execution_count": 17,
   "metadata": {},
   "outputs": [],
   "source": [
    "# here we use top 30 most abundant labs\n",
    "top_n = 30"
   ]
  },
  {
   "cell_type": "code",
   "execution_count": 18,
   "metadata": {},
   "outputs": [],
   "source": [
    "topn_abundant_labs = labels.value_counts()[:top_n]"
   ]
  },
  {
   "cell_type": "code",
   "execution_count": 19,
   "metadata": {},
   "outputs": [
    {
     "data": {
      "image/png": "[encoded data removed]",
      "text/plain": [
       "<Figure size 432x288 with 1 Axes>"
      ]
     },
     "metadata": {
      "needs_background": "light"
     },
     "output_type": "display_data"
    }
   ],
   "source": [
    "plt.bar(x=topn_abundant_labs.index, height=topn_abundant_labs.values)\n",
    "plt.xticks(rotation = 90)\n",
    "plt.show()"
   ]
  },
  {
   "cell_type": "markdown",
   "metadata": {},
   "source": [
    "How large is the imbalance?"
   ]
  },
  {
   "cell_type": "code",
   "execution_count": 20,
   "metadata": {},
   "outputs": [
    {
     "data": {
      "text/plain": [
       "'Ratio most abundant : less abundant = 8226/284 = 28.965'"
      ]
     },
     "execution_count": 20,
     "metadata": {},
     "output_type": "execute_result"
    }
   ],
   "source": [
    "f'Ratio most abundant : less abundant = {topn_abundant_labs[0]}/{topn_abundant_labs[-1]} = {round(topn_abundant_labs[0]/topn_abundant_labs[-1],3)}'"
   ]
  },
  {
   "cell_type": "code",
   "execution_count": 21,
   "metadata": {},
   "outputs": [
    {
     "data": {
      "text/plain": [
       "'Ratio second most abundant : less abundant = 2732/284 = 9.62'"
      ]
     },
     "execution_count": 21,
     "metadata": {},
     "output_type": "execute_result"
    }
   ],
   "source": [
    "f'Ratio second most abundant : less abundant = {topn_abundant_labs[1]}/{topn_abundant_labs[-1]} = {round(topn_abundant_labs[1]/topn_abundant_labs[-1],3)}'"
   ]
  },
  {
   "cell_type": "markdown",
   "metadata": {},
   "source": [
    "It is not terribly imbalanced. However, here I am testing multiclass classification, not the effect of imbalance.\n",
    "\n",
    "**Strategy:** For this test, I will just UNDERSAMPLE the most abundant classes to the number of samples of the least abundant one. I will not sample multiple times from the same plasmid sequence as I have done before, as it was not really necessary at least for binary classification."
   ]
  },
  {
   "cell_type": "markdown",
   "metadata": {},
   "source": [
    "### Reduce data to only selected classes undersampling to have them balanced"
   ]
  },
  {
   "cell_type": "code",
   "execution_count": 22,
   "metadata": {},
   "outputs": [
    {
     "name": "stdout",
     "output_type": "stream",
     "text": [
      "284\n"
     ]
    }
   ],
   "source": [
    "obs_per_label = topn_abundant_labs[-1]\n",
    "print(obs_per_label)"
   ]
  },
  {
   "cell_type": "code",
   "execution_count": 23,
   "metadata": {},
   "outputs": [
    {
     "name": "stdout",
     "output_type": "stream",
     "text": [
      "['I7FXTVDP', 'RKJHZGDQ', 'GTVTUGVY', 'A18S09P2', 'Q2K8NHZY', '131RRHBV', '0FFBBVE1', 'AMV4U0A0', 'THD393NW', 'G8QWQL1C', '0B9GCUVV', 'NT9Y0D19', 'ULOHU3PC', '3TXFYNKG', '1S515B69', 'TNR495LD', 'W1STLS0T', 'YMHGXK99', '3C2VZQ2R', '7GWW4637', 'KDZ388UF', 'QZ8BT14M', '03Y3W51H', 'KSFFKSV7', 'T9LSOTV6', 'A0ADXLZU', 'QVAZPYQ8', 'FHZYKEUV', 'IO2FYB6G', '738FBTIL']\n"
     ]
    }
   ],
   "source": [
    "sele_labs = topn_abundant_labs.index.to_list()\n",
    "print(sele_labs)"
   ]
  },
  {
   "cell_type": "code",
   "execution_count": 24,
   "metadata": {},
   "outputs": [],
   "source": [
    "## this is used to select all observations with the selected labels\n",
    "# sele_index = labels[labels.isin(sele_labs)]\n",
    "# print(sele_index.value_counts()[:10])\n",
    "# print(sele_index)"
   ]
  },
  {
   "cell_type": "code",
   "execution_count": 25,
   "metadata": {},
   "outputs": [],
   "source": [
    "sele_index = pd.Series(dtype=str)\n",
    "for lab in sele_labs:\n",
    "    idx = labels[labels == lab]\n",
    "    sele_index = pd.concat([sele_index, idx.sample(n=obs_per_label, replace=False, random_state=42)])"
   ]
  },
  {
   "cell_type": "code",
   "execution_count": 26,
   "metadata": {},
   "outputs": [
    {
     "data": {
      "text/plain": [
       "I7FXTVDP    284\n",
       "RKJHZGDQ    284\n",
       "IO2FYB6G    284\n",
       "FHZYKEUV    284\n",
       "QVAZPYQ8    284\n",
       "A0ADXLZU    284\n",
       "T9LSOTV6    284\n",
       "KSFFKSV7    284\n",
       "03Y3W51H    284\n",
       "QZ8BT14M    284\n",
       "KDZ388UF    284\n",
       "7GWW4637    284\n",
       "3C2VZQ2R    284\n",
       "YMHGXK99    284\n",
       "W1STLS0T    284\n",
       "TNR495LD    284\n",
       "1S515B69    284\n",
       "3TXFYNKG    284\n",
       "ULOHU3PC    284\n",
       "NT9Y0D19    284\n",
       "0B9GCUVV    284\n",
       "G8QWQL1C    284\n",
       "THD393NW    284\n",
       "AMV4U0A0    284\n",
       "0FFBBVE1    284\n",
       "131RRHBV    284\n",
       "Q2K8NHZY    284\n",
       "A18S09P2    284\n",
       "GTVTUGVY    284\n",
       "738FBTIL    284\n",
       "dtype: int64"
      ]
     },
     "execution_count": 26,
     "metadata": {},
     "output_type": "execute_result"
    }
   ],
   "source": [
    "sele_index.value_counts()"
   ]
  },
  {
   "cell_type": "code",
   "execution_count": 27,
   "metadata": {},
   "outputs": [
    {
     "data": {
      "text/plain": [
       "False"
      ]
     },
     "execution_count": 27,
     "metadata": {},
     "output_type": "execute_result"
    }
   ],
   "source": [
    "# all indices are unique, so we did not include twice the same sequence\n",
    "sele_index.index.has_duplicates"
   ]
  },
  {
   "cell_type": "code",
   "execution_count": 28,
   "metadata": {},
   "outputs": [],
   "source": [
    "sele_train = train_vals.loc[sele_index.index].copy()"
   ]
  },
  {
   "cell_type": "code",
   "execution_count": 29,
   "metadata": {},
   "outputs": [],
   "source": [
    "sele_train = sele_train.join(sele_index.rename('label'))\n",
    "sele_train = sele_train[['sequence','label']]"
   ]
  },
  {
   "cell_type": "code",
   "execution_count": 30,
   "metadata": {},
   "outputs": [
    {
     "data": {
      "text/html": [
       "<div>\n",
       "<style scoped>\n",
       "    .dataframe tbody tr th:only-of-type {\n",
       "        vertical-align: middle;\n",
       "    }\n",
       "\n",
       "    .dataframe tbody tr th {\n",
       "        vertical-align: top;\n",
       "    }\n",
       "\n",
       "    .dataframe thead th {\n",
       "        text-align: right;\n",
       "    }\n",
       "</style>\n",
       "<table border=\"1\" class=\"dataframe\">\n",
       "  <thead>\n",
       "    <tr style=\"text-align: right;\">\n",
       "      <th></th>\n",
       "      <th>sequence</th>\n",
       "      <th>label</th>\n",
       "    </tr>\n",
       "  </thead>\n",
       "  <tbody>\n",
       "    <tr>\n",
       "      <th>6RYTD</th>\n",
       "      <td>CCTGCAGGCAGCTGCGCGCTCGCTCGCTCACTGAGGCCGCCCGGGC...</td>\n",
       "      <td>I7FXTVDP</td>\n",
       "    </tr>\n",
       "    <tr>\n",
       "      <th>QAXF7</th>\n",
       "      <td>AAAACGCCAGCAACGCGGCCTTTTTACGGTTCCTGGCCTTTTGCTG...</td>\n",
       "      <td>I7FXTVDP</td>\n",
       "    </tr>\n",
       "    <tr>\n",
       "      <th>6R9GK</th>\n",
       "      <td>TCGCCCTTGCTTGTGCCGTGGTGATGGTGGTGATGGTGGTGACCAG...</td>\n",
       "      <td>I7FXTVDP</td>\n",
       "    </tr>\n",
       "    <tr>\n",
       "      <th>Z33CT</th>\n",
       "      <td>CTAAATTGTAAGCGTTAATATTTTGTTAAAATTCGCGTTAAATTTT...</td>\n",
       "      <td>I7FXTVDP</td>\n",
       "    </tr>\n",
       "    <tr>\n",
       "      <th>7TLWX</th>\n",
       "      <td>GCAGCCGGATCTCAGTGGTGGTGGTGGTGGTGCTCGAGTGCGGCCG...</td>\n",
       "      <td>I7FXTVDP</td>\n",
       "    </tr>\n",
       "  </tbody>\n",
       "</table>\n",
       "</div>"
      ],
      "text/plain": [
       "                                                sequence     label\n",
       "6RYTD  CCTGCAGGCAGCTGCGCGCTCGCTCGCTCACTGAGGCCGCCCGGGC...  I7FXTVDP\n",
       "QAXF7  AAAACGCCAGCAACGCGGCCTTTTTACGGTTCCTGGCCTTTTGCTG...  I7FXTVDP\n",
       "6R9GK  TCGCCCTTGCTTGTGCCGTGGTGATGGTGGTGATGGTGGTGACCAG...  I7FXTVDP\n",
       "Z33CT  CTAAATTGTAAGCGTTAATATTTTGTTAAAATTCGCGTTAAATTTT...  I7FXTVDP\n",
       "7TLWX  GCAGCCGGATCTCAGTGGTGGTGGTGGTGGTGCTCGAGTGCGGCCG...  I7FXTVDP"
      ]
     },
     "execution_count": 30,
     "metadata": {},
     "output_type": "execute_result"
    }
   ],
   "source": [
    "sele_train.head()"
   ]
  },
  {
   "cell_type": "code",
   "execution_count": 31,
   "metadata": {},
   "outputs": [
    {
     "data": {
      "image/png": "[encoded data removed]",
      "text/plain": [
       "<Figure size 432x288 with 1 Axes>"
      ]
     },
     "metadata": {
      "needs_background": "light"
     },
     "output_type": "display_data"
    }
   ],
   "source": [
    "sns.countplot(x=sele_train.label)\n",
    "plt.xticks(rotation=90)\n",
    "plt.show()"
   ]
  },
  {
   "cell_type": "markdown",
   "metadata": {},
   "source": [
    "### Check plasmid length of the subsampled"
   ]
  },
  {
   "cell_type": "code",
   "execution_count": 32,
   "metadata": {},
   "outputs": [],
   "source": [
    "plasmid_length_sum = []\n",
    "for lab in sele_labs:\n",
    "    plasmid_length_sum.append(np.sum([len(seq) for seq in sele_train[sele_train['label'] == lab]['sequence']]))"
   ]
  },
  {
   "cell_type": "code",
   "execution_count": 33,
   "metadata": {},
   "outputs": [
    {
     "data": {
      "image/png": "[encoded data removed]",
      "text/plain": [
       "<Figure size 432x288 with 1 Axes>"
      ]
     },
     "metadata": {
      "needs_background": "light"
     },
     "output_type": "display_data"
    }
   ],
   "source": [
    "plt.bar(x=sele_labs, height=plasmid_length_sum)\n",
    "plt.xticks(rotation=90)\n",
    "plt.ylabel('Sum of plasmid sequence length by class')\n",
    "plt.show()"
   ]
  },
  {
   "cell_type": "markdown",
   "metadata": {},
   "source": [
    "The median plasmid length is quite different. Some are quite short"
   ]
  },
  {
   "cell_type": "code",
   "execution_count": 34,
   "metadata": {},
   "outputs": [],
   "source": [
    "plasmid_length_median = []\n",
    "for lab in sele_labs:\n",
    "    plasmid_length_median.append(np.median([len(seq) for seq in sele_train[sele_train['label'] == lab]['sequence']]))"
   ]
  },
  {
   "cell_type": "code",
   "execution_count": 35,
   "metadata": {},
   "outputs": [
    {
     "data": {
      "image/png": "[encoded data removed]",
      "text/plain": [
       "<Figure size 432x288 with 1 Axes>"
      ]
     },
     "metadata": {
      "needs_background": "light"
     },
     "output_type": "display_data"
    }
   ],
   "source": [
    "plt.bar(x=sele_labs, height=plasmid_length_median)\n",
    "plt.xticks(rotation=90)\n",
    "plt.ylabel('Median plasmid length by class')\n",
    "plt.show()"
   ]
  },
  {
   "cell_type": "markdown",
   "metadata": {},
   "source": [
    "The minimum is quite low."
   ]
  },
  {
   "cell_type": "code",
   "execution_count": 36,
   "metadata": {},
   "outputs": [],
   "source": [
    "plasmid_length_min = []\n",
    "for lab in sele_labs:\n",
    "    plasmid_length_min.append(np.min([len(seq) for seq in sele_train[sele_train['label'] == lab]['sequence']]))"
   ]
  },
  {
   "cell_type": "code",
   "execution_count": 37,
   "metadata": {},
   "outputs": [
    {
     "data": {
      "image/png": "[encoded data removed]",
      "text/plain": [
       "<Figure size 432x288 with 1 Axes>"
      ]
     },
     "metadata": {
      "needs_background": "light"
     },
     "output_type": "display_data"
    }
   ],
   "source": [
    "plt.bar(x=sele_labs, height=plasmid_length_min)\n",
    "plt.xticks(rotation=90)\n",
    "plt.ylabel('Median plasmid length by class')\n",
    "plt.show()"
   ]
  },
  {
   "cell_type": "markdown",
   "metadata": {},
   "source": [
    "There are sequences that are shorter than 100"
   ]
  },
  {
   "cell_type": "code",
   "execution_count": 38,
   "metadata": {},
   "outputs": [
    {
     "data": {
      "text/plain": [
       "86"
      ]
     },
     "execution_count": 38,
     "metadata": {},
     "output_type": "execute_result"
    }
   ],
   "source": [
    "np.min(plasmid_length_min)"
   ]
  },
  {
   "cell_type": "markdown",
   "metadata": {},
   "source": [
    "### Redo sampling to ensure >100nts length"
   ]
  },
  {
   "cell_type": "markdown",
   "metadata": {},
   "source": [
    "We can randomly sample from the subset of plasmids above 100nts in length for the classes that are more abundant and see if there are enough.\n",
    "\n",
    "Alternatives that could also be tried: Concatenating the end of the plasmid with its beggining to get 100nts (since they are circular this can be done) or append the Rev Complement at the end (a winning solution did this)"
   ]
  },
  {
   "cell_type": "markdown",
   "metadata": {},
   "source": [
    "First, check if all classes have more than `obs_per_label=284` sequences with >100nts and no 'N' (undefined) nucleotides"
   ]
  },
  {
   "cell_type": "code",
   "execution_count": 39,
   "metadata": {},
   "outputs": [
    {
     "name": "stdout",
     "output_type": "stream",
     "text": [
      "284\n"
     ]
    }
   ],
   "source": [
    "obs_per_label = topn_abundant_labs[-1]\n",
    "print(obs_per_label)"
   ]
  },
  {
   "cell_type": "code",
   "execution_count": 40,
   "metadata": {},
   "outputs": [],
   "source": [
    "obs_per_label = 281"
   ]
  },
  {
   "cell_type": "code",
   "execution_count": 41,
   "metadata": {},
   "outputs": [],
   "source": [
    "train_vals['seq_len'] = [len(seq) for seq in train_vals['sequence']]"
   ]
  },
  {
   "cell_type": "code",
   "execution_count": 42,
   "metadata": {},
   "outputs": [],
   "source": [
    "# get the maximum length of contiguous sequence without any undefined nucleotide\n",
    "train_vals['min_nonN_seq'] = [min_nonN_seq(seq) for seq in train_vals['sequence']]"
   ]
  },
  {
   "cell_type": "code",
   "execution_count": 43,
   "metadata": {},
   "outputs": [],
   "source": [
    "# number of N per sequence\n",
    "train_vals['undefval'] = [seq.upper().count('N') for seq in train_vals['sequence']]"
   ]
  },
  {
   "cell_type": "code",
   "execution_count": 44,
   "metadata": {},
   "outputs": [],
   "source": [
    "train_vals['label'] = labels"
   ]
  },
  {
   "cell_type": "code",
   "execution_count": 46,
   "metadata": {},
   "outputs": [
    {
     "name": "stdout",
     "output_type": "stream",
     "text": [
      "label I7FXTVDP is ok\n",
      "label RKJHZGDQ is ok\n",
      "label GTVTUGVY is ok\n",
      "label A18S09P2 is ok\n",
      "label 0FFBBVE1 is ok\n",
      "label G8QWQL1C is ok\n",
      "label ULOHU3PC is ok\n",
      "label 3TXFYNKG is ok\n",
      "label 1S515B69 is ok\n",
      "label YMHGXK99 is ok\n",
      "label 3C2VZQ2R is ok\n",
      "label 7GWW4637 is ok\n",
      "label KSFFKSV7 is ok\n",
      "label T9LSOTV6 is ok\n",
      "label QVAZPYQ8 is ok\n",
      "label FHZYKEUV is ok\n"
     ]
    }
   ],
   "source": [
    "min_len = 2048 # thld to accept sequences\n",
    "\n",
    "labels_more_detail = []\n",
    "for lab in sele_labs:\n",
    "    subset = train_vals[(train_vals['label'] == lab)].copy()\n",
    "    if np.sum(subset['min_nonN_seq'] > min_len) > obs_per_label:\n",
    "        print(f'label {lab} is ok')\n",
    "    else:\n",
    "        labels_more_detail.append(lab)"
   ]
  },
  {
   "cell_type": "code",
   "execution_count": 47,
   "metadata": {},
   "outputs": [
    {
     "data": {
      "image/png": "[encoded data removed]",
      "text/plain": [
       "<Figure size 1008x1008 with 16 Axes>"
      ]
     },
     "metadata": {
      "needs_background": "light"
     },
     "output_type": "display_data"
    }
   ],
   "source": [
    "fig, axs = plt.subplots(4,4, figsize=(14,14))\n",
    "axs = axs.flatten()\n",
    "for i, lab in enumerate(labels_more_detail):\n",
    "    sns.scatterplot(x='undefval', y='seq_len', data=train_vals[(train_vals['label'] == lab)], ax=axs[i])\n",
    "    axs[i].set_title(lab)\n",
    "plt.tight_layout()"
   ]
  },
  {
   "cell_type": "markdown",
   "metadata": {},
   "source": [
    "From what I see above, a good strategy is:\n",
    " - Samples that have enough samples, subsample sequences of 2048 avoiding N.\n",
    " - If they don't have enough samples:\n",
    "     - Discard all the ones that have more than 10 N undefined residues\n",
    "     - Subsample the required number of sequences using weights corresponding to sequence length, so that longer sequences are picked up more often, and they will be padded by the model"
   ]
  },
  {
   "cell_type": "code",
   "execution_count": 48,
   "metadata": {},
   "outputs": [],
   "source": [
    "obs_per_label = 281\n",
    "min_len = 2048"
   ]
  },
  {
   "cell_type": "code",
   "execution_count": 49,
   "metadata": {},
   "outputs": [
    {
     "name": "stdout",
     "output_type": "stream",
     "text": [
      "Label I7FXTVDP processed without having to pad or remove Ns\n",
      "Label RKJHZGDQ processed without having to pad or remove Ns\n",
      "Label GTVTUGVY processed without having to pad or remove Ns\n",
      "Label A18S09P2 processed without having to pad or remove Ns\n",
      "Label Q2K8NHZY replaced Ns and pad if necesary, but no replacements\n",
      "Label 131RRHBV replaced Ns and pad if necesary, but no replacements\n",
      "Label 0FFBBVE1 processed without having to pad or remove Ns\n",
      "Label AMV4U0A0 replaced Ns and pad if necesary, but no replacements\n",
      "Label THD393NW replaced Ns and pad if necesary, but no replacements\n",
      "Label G8QWQL1C processed without having to pad or remove Ns\n",
      "Label 0B9GCUVV replaced Ns and pad if necesary, but no replacements\n",
      "Label NT9Y0D19 replaced Ns and pad if necesary, but no replacements\n",
      "Label ULOHU3PC processed without having to pad or remove Ns\n",
      "Label 3TXFYNKG processed without having to pad or remove Ns\n",
      "Label 1S515B69 processed without having to pad or remove Ns\n",
      "Label TNR495LD replaced Ns and pad if necesary, but no replacements\n",
      "Label W1STLS0T replaced Ns and pad if necesary, but no replacements\n",
      "Label YMHGXK99 processed without having to pad or remove Ns\n",
      "Label 3C2VZQ2R processed without having to pad or remove Ns\n",
      "Label 7GWW4637 processed without having to pad or remove Ns\n",
      "Label KDZ388UF replaced Ns and pad if necesary, and had to include replacements\n",
      "Label QZ8BT14M replaced Ns and pad if necesary, but no replacements\n",
      "Label 03Y3W51H replaced Ns and pad if necesary, but no replacements\n",
      "Label KSFFKSV7 processed without having to pad or remove Ns\n",
      "Label T9LSOTV6 processed without having to pad or remove Ns\n",
      "Label A0ADXLZU replaced Ns and pad if necesary, but no replacements\n",
      "Label QVAZPYQ8 processed without having to pad or remove Ns\n",
      "Label FHZYKEUV processed without having to pad or remove Ns\n",
      "Label IO2FYB6G replaced Ns and pad if necesary, but no replacements\n",
      "Label 738FBTIL replaced Ns and pad if necesary, but no replacements\n"
     ]
    }
   ],
   "source": [
    "sele_train = []\n",
    "for lab in sele_labs:\n",
    "    subset = train_vals[(train_vals['min_nonN_seq'] > min_len) & (train_vals['label'] == lab) ].copy()\n",
    "    if len(subset) >= obs_per_label:\n",
    "        # enough longer sequences without N, just randomly sample\n",
    "        sele_train.append(subset.sample(n=obs_per_label, replace=False, random_state=42))\n",
    "        print(f'Label {lab} processed without having to pad or remove Ns')\n",
    "    else:\n",
    "        # discard all sequences with more than 10 Ns\n",
    "        subset = train_vals[(train_vals['undefval'] <= 10) & (train_vals['label'] == lab) ].copy()\n",
    "        # replace all the N nucleotides in the sequences by As\n",
    "        subset['sequence'] = [seq.upper().replace('N','A') for seq in subset['sequence']]\n",
    "        try:\n",
    "            # avoid replacements if there are enough\n",
    "            sele_subset = subset.sample(n=obs_per_label, replace=False, random_state=42, weights=subset['seq_len'])\n",
    "            print(f'Label {lab} replaced Ns and pad if necesary, but no replacements')\n",
    "        except:\n",
    "            # do replacements if some lack sequences, but avoid repeting as much as possible by not using weights\n",
    "            sele_subset = subset.sample(n=obs_per_label, replace=True, random_state=42)\n",
    "            print(f'Label {lab} replaced Ns and pad if necesary, and had to include replacements')\n",
    "        sele_train.append(sele_subset)"
   ]
  },
  {
   "cell_type": "code",
   "execution_count": 50,
   "metadata": {},
   "outputs": [],
   "source": [
    "sele_train = pd.concat(sele_train)"
   ]
  },
  {
   "cell_type": "code",
   "execution_count": 51,
   "metadata": {},
   "outputs": [
    {
     "data": {
      "text/html": [
       "<div>\n",
       "<style scoped>\n",
       "    .dataframe tbody tr th:only-of-type {\n",
       "        vertical-align: middle;\n",
       "    }\n",
       "\n",
       "    .dataframe tbody tr th {\n",
       "        vertical-align: top;\n",
       "    }\n",
       "\n",
       "    .dataframe thead th {\n",
       "        text-align: right;\n",
       "    }\n",
       "</style>\n",
       "<table border=\"1\" class=\"dataframe\">\n",
       "  <thead>\n",
       "    <tr style=\"text-align: right;\">\n",
       "      <th></th>\n",
       "      <th>sequence</th>\n",
       "      <th>bacterial_resistance_ampicillin</th>\n",
       "      <th>bacterial_resistance_chloramphenicol</th>\n",
       "      <th>bacterial_resistance_kanamycin</th>\n",
       "      <th>bacterial_resistance_other</th>\n",
       "      <th>bacterial_resistance_spectinomycin</th>\n",
       "      <th>copy_number_high_copy</th>\n",
       "      <th>copy_number_low_copy</th>\n",
       "      <th>copy_number_unknown</th>\n",
       "      <th>growth_strain_ccdb_survival</th>\n",
       "      <th>...</th>\n",
       "      <th>species_mustard_weed</th>\n",
       "      <th>species_nematode</th>\n",
       "      <th>species_other</th>\n",
       "      <th>species_rat</th>\n",
       "      <th>species_synthetic</th>\n",
       "      <th>species_zebrafish</th>\n",
       "      <th>seq_len</th>\n",
       "      <th>min_nonN_seq</th>\n",
       "      <th>undefval</th>\n",
       "      <th>label</th>\n",
       "    </tr>\n",
       "    <tr>\n",
       "      <th>sequence_id</th>\n",
       "      <th></th>\n",
       "      <th></th>\n",
       "      <th></th>\n",
       "      <th></th>\n",
       "      <th></th>\n",
       "      <th></th>\n",
       "      <th></th>\n",
       "      <th></th>\n",
       "      <th></th>\n",
       "      <th></th>\n",
       "      <th></th>\n",
       "      <th></th>\n",
       "      <th></th>\n",
       "      <th></th>\n",
       "      <th></th>\n",
       "      <th></th>\n",
       "      <th></th>\n",
       "      <th></th>\n",
       "      <th></th>\n",
       "      <th></th>\n",
       "      <th></th>\n",
       "    </tr>\n",
       "  </thead>\n",
       "  <tbody>\n",
       "    <tr>\n",
       "      <th>XUE90</th>\n",
       "      <td>CCGACACCATCGAATGGTGCAAAACCTTTCGCGGTATGGCATGATA...</td>\n",
       "      <td>1.0</td>\n",
       "      <td>0.0</td>\n",
       "      <td>0.0</td>\n",
       "      <td>0.0</td>\n",
       "      <td>0.0</td>\n",
       "      <td>0.0</td>\n",
       "      <td>0.0</td>\n",
       "      <td>1.0</td>\n",
       "      <td>0.0</td>\n",
       "      <td>...</td>\n",
       "      <td>0.0</td>\n",
       "      <td>0.0</td>\n",
       "      <td>1.0</td>\n",
       "      <td>0.0</td>\n",
       "      <td>0.0</td>\n",
       "      <td>0.0</td>\n",
       "      <td>6645</td>\n",
       "      <td>6645</td>\n",
       "      <td>0</td>\n",
       "      <td>I7FXTVDP</td>\n",
       "    </tr>\n",
       "    <tr>\n",
       "      <th>D2DC4</th>\n",
       "      <td>GATCCTATAAGTTTTAATAAAACTTTAAATAGAAAAAGGCTTCTCT...</td>\n",
       "      <td>0.0</td>\n",
       "      <td>1.0</td>\n",
       "      <td>0.0</td>\n",
       "      <td>0.0</td>\n",
       "      <td>0.0</td>\n",
       "      <td>1.0</td>\n",
       "      <td>0.0</td>\n",
       "      <td>0.0</td>\n",
       "      <td>0.0</td>\n",
       "      <td>...</td>\n",
       "      <td>0.0</td>\n",
       "      <td>0.0</td>\n",
       "      <td>0.0</td>\n",
       "      <td>0.0</td>\n",
       "      <td>1.0</td>\n",
       "      <td>0.0</td>\n",
       "      <td>7109</td>\n",
       "      <td>7109</td>\n",
       "      <td>0</td>\n",
       "      <td>I7FXTVDP</td>\n",
       "    </tr>\n",
       "    <tr>\n",
       "      <th>6LUO6</th>\n",
       "      <td>CAATCAACCTCTGGATTACAAAATTTGTGAAAGATTGACTGGTATT...</td>\n",
       "      <td>1.0</td>\n",
       "      <td>0.0</td>\n",
       "      <td>0.0</td>\n",
       "      <td>0.0</td>\n",
       "      <td>0.0</td>\n",
       "      <td>1.0</td>\n",
       "      <td>0.0</td>\n",
       "      <td>0.0</td>\n",
       "      <td>0.0</td>\n",
       "      <td>...</td>\n",
       "      <td>0.0</td>\n",
       "      <td>0.0</td>\n",
       "      <td>0.0</td>\n",
       "      <td>0.0</td>\n",
       "      <td>1.0</td>\n",
       "      <td>0.0</td>\n",
       "      <td>8398</td>\n",
       "      <td>8398</td>\n",
       "      <td>0</td>\n",
       "      <td>I7FXTVDP</td>\n",
       "    </tr>\n",
       "    <tr>\n",
       "      <th>PPNCE</th>\n",
       "      <td>TTAAGCCAGTATCTGCTCCCTGCTTGTGTGTTGGAGGTCGCTGAGT...</td>\n",
       "      <td>1.0</td>\n",
       "      <td>0.0</td>\n",
       "      <td>0.0</td>\n",
       "      <td>0.0</td>\n",
       "      <td>0.0</td>\n",
       "      <td>1.0</td>\n",
       "      <td>0.0</td>\n",
       "      <td>0.0</td>\n",
       "      <td>0.0</td>\n",
       "      <td>...</td>\n",
       "      <td>0.0</td>\n",
       "      <td>0.0</td>\n",
       "      <td>0.0</td>\n",
       "      <td>0.0</td>\n",
       "      <td>0.0</td>\n",
       "      <td>0.0</td>\n",
       "      <td>5741</td>\n",
       "      <td>5741</td>\n",
       "      <td>0</td>\n",
       "      <td>I7FXTVDP</td>\n",
       "    </tr>\n",
       "    <tr>\n",
       "      <th>R1NJC</th>\n",
       "      <td>ATGCAGATCTTCGTGAAGACCCTGACCGGCAAGACCATCACCCTAG...</td>\n",
       "      <td>0.0</td>\n",
       "      <td>0.0</td>\n",
       "      <td>1.0</td>\n",
       "      <td>0.0</td>\n",
       "      <td>0.0</td>\n",
       "      <td>0.0</td>\n",
       "      <td>0.0</td>\n",
       "      <td>1.0</td>\n",
       "      <td>0.0</td>\n",
       "      <td>...</td>\n",
       "      <td>0.0</td>\n",
       "      <td>0.0</td>\n",
       "      <td>0.0</td>\n",
       "      <td>0.0</td>\n",
       "      <td>1.0</td>\n",
       "      <td>0.0</td>\n",
       "      <td>5874</td>\n",
       "      <td>5874</td>\n",
       "      <td>0</td>\n",
       "      <td>I7FXTVDP</td>\n",
       "    </tr>\n",
       "    <tr>\n",
       "      <th>...</th>\n",
       "      <td>...</td>\n",
       "      <td>...</td>\n",
       "      <td>...</td>\n",
       "      <td>...</td>\n",
       "      <td>...</td>\n",
       "      <td>...</td>\n",
       "      <td>...</td>\n",
       "      <td>...</td>\n",
       "      <td>...</td>\n",
       "      <td>...</td>\n",
       "      <td>...</td>\n",
       "      <td>...</td>\n",
       "      <td>...</td>\n",
       "      <td>...</td>\n",
       "      <td>...</td>\n",
       "      <td>...</td>\n",
       "      <td>...</td>\n",
       "      <td>...</td>\n",
       "      <td>...</td>\n",
       "      <td>...</td>\n",
       "      <td>...</td>\n",
       "    </tr>\n",
       "    <tr>\n",
       "      <th>UNG0B</th>\n",
       "      <td>TCTCTGGCTAACTAGAGAACCCACTGCTTACTGGCTTATCGAAATT...</td>\n",
       "      <td>1.0</td>\n",
       "      <td>0.0</td>\n",
       "      <td>0.0</td>\n",
       "      <td>0.0</td>\n",
       "      <td>0.0</td>\n",
       "      <td>1.0</td>\n",
       "      <td>0.0</td>\n",
       "      <td>0.0</td>\n",
       "      <td>0.0</td>\n",
       "      <td>...</td>\n",
       "      <td>0.0</td>\n",
       "      <td>0.0</td>\n",
       "      <td>0.0</td>\n",
       "      <td>0.0</td>\n",
       "      <td>0.0</td>\n",
       "      <td>0.0</td>\n",
       "      <td>1102</td>\n",
       "      <td>1102</td>\n",
       "      <td>0</td>\n",
       "      <td>738FBTIL</td>\n",
       "    </tr>\n",
       "    <tr>\n",
       "      <th>38POV</th>\n",
       "      <td>GCTCTAATGCGCTGTTAATCACTTTACTTTTATCTAATCTTAGCTG...</td>\n",
       "      <td>1.0</td>\n",
       "      <td>0.0</td>\n",
       "      <td>0.0</td>\n",
       "      <td>0.0</td>\n",
       "      <td>0.0</td>\n",
       "      <td>1.0</td>\n",
       "      <td>0.0</td>\n",
       "      <td>0.0</td>\n",
       "      <td>0.0</td>\n",
       "      <td>...</td>\n",
       "      <td>0.0</td>\n",
       "      <td>0.0</td>\n",
       "      <td>0.0</td>\n",
       "      <td>0.0</td>\n",
       "      <td>0.0</td>\n",
       "      <td>0.0</td>\n",
       "      <td>997</td>\n",
       "      <td>997</td>\n",
       "      <td>0</td>\n",
       "      <td>738FBTIL</td>\n",
       "    </tr>\n",
       "    <tr>\n",
       "      <th>7MDLT</th>\n",
       "      <td>GCTCTAATGCGCTGTTAATCACTTTACTTTTATCTAATCTTAGCTG...</td>\n",
       "      <td>1.0</td>\n",
       "      <td>0.0</td>\n",
       "      <td>0.0</td>\n",
       "      <td>0.0</td>\n",
       "      <td>0.0</td>\n",
       "      <td>1.0</td>\n",
       "      <td>0.0</td>\n",
       "      <td>0.0</td>\n",
       "      <td>0.0</td>\n",
       "      <td>...</td>\n",
       "      <td>0.0</td>\n",
       "      <td>0.0</td>\n",
       "      <td>0.0</td>\n",
       "      <td>0.0</td>\n",
       "      <td>0.0</td>\n",
       "      <td>0.0</td>\n",
       "      <td>1007</td>\n",
       "      <td>1007</td>\n",
       "      <td>0</td>\n",
       "      <td>738FBTIL</td>\n",
       "    </tr>\n",
       "    <tr>\n",
       "      <th>YUPHF</th>\n",
       "      <td>TCTCTGGCTAACTAGAGAACCCACTGCTTACTGGCTTATCGAAATT...</td>\n",
       "      <td>1.0</td>\n",
       "      <td>0.0</td>\n",
       "      <td>0.0</td>\n",
       "      <td>0.0</td>\n",
       "      <td>0.0</td>\n",
       "      <td>1.0</td>\n",
       "      <td>0.0</td>\n",
       "      <td>0.0</td>\n",
       "      <td>0.0</td>\n",
       "      <td>...</td>\n",
       "      <td>0.0</td>\n",
       "      <td>0.0</td>\n",
       "      <td>0.0</td>\n",
       "      <td>0.0</td>\n",
       "      <td>0.0</td>\n",
       "      <td>0.0</td>\n",
       "      <td>1091</td>\n",
       "      <td>1091</td>\n",
       "      <td>0</td>\n",
       "      <td>738FBTIL</td>\n",
       "    </tr>\n",
       "    <tr>\n",
       "      <th>114UP</th>\n",
       "      <td>GCTCTAATGCGCTGTTAATCACTTTACTTTTATCTAATCTTAGCTG...</td>\n",
       "      <td>1.0</td>\n",
       "      <td>0.0</td>\n",
       "      <td>0.0</td>\n",
       "      <td>0.0</td>\n",
       "      <td>0.0</td>\n",
       "      <td>1.0</td>\n",
       "      <td>0.0</td>\n",
       "      <td>0.0</td>\n",
       "      <td>0.0</td>\n",
       "      <td>...</td>\n",
       "      <td>0.0</td>\n",
       "      <td>0.0</td>\n",
       "      <td>0.0</td>\n",
       "      <td>0.0</td>\n",
       "      <td>0.0</td>\n",
       "      <td>0.0</td>\n",
       "      <td>1012</td>\n",
       "      <td>1012</td>\n",
       "      <td>0</td>\n",
       "      <td>738FBTIL</td>\n",
       "    </tr>\n",
       "  </tbody>\n",
       "</table>\n",
       "<p>8430 rows × 44 columns</p>\n",
       "</div>"
      ],
      "text/plain": [
       "                                                      sequence  \\\n",
       "sequence_id                                                      \n",
       "XUE90        CCGACACCATCGAATGGTGCAAAACCTTTCGCGGTATGGCATGATA...   \n",
       "D2DC4        GATCCTATAAGTTTTAATAAAACTTTAAATAGAAAAAGGCTTCTCT...   \n",
       "6LUO6        CAATCAACCTCTGGATTACAAAATTTGTGAAAGATTGACTGGTATT...   \n",
       "PPNCE        TTAAGCCAGTATCTGCTCCCTGCTTGTGTGTTGGAGGTCGCTGAGT...   \n",
       "R1NJC        ATGCAGATCTTCGTGAAGACCCTGACCGGCAAGACCATCACCCTAG...   \n",
       "...                                                        ...   \n",
       "UNG0B        TCTCTGGCTAACTAGAGAACCCACTGCTTACTGGCTTATCGAAATT...   \n",
       "38POV        GCTCTAATGCGCTGTTAATCACTTTACTTTTATCTAATCTTAGCTG...   \n",
       "7MDLT        GCTCTAATGCGCTGTTAATCACTTTACTTTTATCTAATCTTAGCTG...   \n",
       "YUPHF        TCTCTGGCTAACTAGAGAACCCACTGCTTACTGGCTTATCGAAATT...   \n",
       "114UP        GCTCTAATGCGCTGTTAATCACTTTACTTTTATCTAATCTTAGCTG...   \n",
       "\n",
       "             bacterial_resistance_ampicillin  \\\n",
       "sequence_id                                    \n",
       "XUE90                                    1.0   \n",
       "D2DC4                                    0.0   \n",
       "6LUO6                                    1.0   \n",
       "PPNCE                                    1.0   \n",
       "R1NJC                                    0.0   \n",
       "...                                      ...   \n",
       "UNG0B                                    1.0   \n",
       "38POV                                    1.0   \n",
       "7MDLT                                    1.0   \n",
       "YUPHF                                    1.0   \n",
       "114UP                                    1.0   \n",
       "\n",
       "             bacterial_resistance_chloramphenicol  \\\n",
       "sequence_id                                         \n",
       "XUE90                                         0.0   \n",
       "D2DC4                                         1.0   \n",
       "6LUO6                                         0.0   \n",
       "PPNCE                                         0.0   \n",
       "R1NJC                                         0.0   \n",
       "...                                           ...   \n",
       "UNG0B                                         0.0   \n",
       "38POV                                         0.0   \n",
       "7MDLT                                         0.0   \n",
       "YUPHF                                         0.0   \n",
       "114UP                                         0.0   \n",
       "\n",
       "             bacterial_resistance_kanamycin  bacterial_resistance_other  \\\n",
       "sequence_id                                                               \n",
       "XUE90                                   0.0                         0.0   \n",
       "D2DC4                                   0.0                         0.0   \n",
       "6LUO6                                   0.0                         0.0   \n",
       "PPNCE                                   0.0                         0.0   \n",
       "R1NJC                                   1.0                         0.0   \n",
       "...                                     ...                         ...   \n",
       "UNG0B                                   0.0                         0.0   \n",
       "38POV                                   0.0                         0.0   \n",
       "7MDLT                                   0.0                         0.0   \n",
       "YUPHF                                   0.0                         0.0   \n",
       "114UP                                   0.0                         0.0   \n",
       "\n",
       "             bacterial_resistance_spectinomycin  copy_number_high_copy  \\\n",
       "sequence_id                                                              \n",
       "XUE90                                       0.0                    0.0   \n",
       "D2DC4                                       0.0                    1.0   \n",
       "6LUO6                                       0.0                    1.0   \n",
       "PPNCE                                       0.0                    1.0   \n",
       "R1NJC                                       0.0                    0.0   \n",
       "...                                         ...                    ...   \n",
       "UNG0B                                       0.0                    1.0   \n",
       "38POV                                       0.0                    1.0   \n",
       "7MDLT                                       0.0                    1.0   \n",
       "YUPHF                                       0.0                    1.0   \n",
       "114UP                                       0.0                    1.0   \n",
       "\n",
       "             copy_number_low_copy  copy_number_unknown  \\\n",
       "sequence_id                                              \n",
       "XUE90                         0.0                  1.0   \n",
       "D2DC4                         0.0                  0.0   \n",
       "6LUO6                         0.0                  0.0   \n",
       "PPNCE                         0.0                  0.0   \n",
       "R1NJC                         0.0                  1.0   \n",
       "...                           ...                  ...   \n",
       "UNG0B                         0.0                  0.0   \n",
       "38POV                         0.0                  0.0   \n",
       "7MDLT                         0.0                  0.0   \n",
       "YUPHF                         0.0                  0.0   \n",
       "114UP                         0.0                  0.0   \n",
       "\n",
       "             growth_strain_ccdb_survival  ...  species_mustard_weed  \\\n",
       "sequence_id                               ...                         \n",
       "XUE90                                0.0  ...                   0.0   \n",
       "D2DC4                                0.0  ...                   0.0   \n",
       "6LUO6                                0.0  ...                   0.0   \n",
       "PPNCE                                0.0  ...                   0.0   \n",
       "R1NJC                                0.0  ...                   0.0   \n",
       "...                                  ...  ...                   ...   \n",
       "UNG0B                                0.0  ...                   0.0   \n",
       "38POV                                0.0  ...                   0.0   \n",
       "7MDLT                                0.0  ...                   0.0   \n",
       "YUPHF                                0.0  ...                   0.0   \n",
       "114UP                                0.0  ...                   0.0   \n",
       "\n",
       "             species_nematode  species_other  species_rat  species_synthetic  \\\n",
       "sequence_id                                                                    \n",
       "XUE90                     0.0            1.0          0.0                0.0   \n",
       "D2DC4                     0.0            0.0          0.0                1.0   \n",
       "6LUO6                     0.0            0.0          0.0                1.0   \n",
       "PPNCE                     0.0            0.0          0.0                0.0   \n",
       "R1NJC                     0.0            0.0          0.0                1.0   \n",
       "...                       ...            ...          ...                ...   \n",
       "UNG0B                     0.0            0.0          0.0                0.0   \n",
       "38POV                     0.0            0.0          0.0                0.0   \n",
       "7MDLT                     0.0            0.0          0.0                0.0   \n",
       "YUPHF                     0.0            0.0          0.0                0.0   \n",
       "114UP                     0.0            0.0          0.0                0.0   \n",
       "\n",
       "             species_zebrafish  seq_len  min_nonN_seq  undefval     label  \n",
       "sequence_id                                                                \n",
       "XUE90                      0.0     6645          6645         0  I7FXTVDP  \n",
       "D2DC4                      0.0     7109          7109         0  I7FXTVDP  \n",
       "6LUO6                      0.0     8398          8398         0  I7FXTVDP  \n",
       "PPNCE                      0.0     5741          5741         0  I7FXTVDP  \n",
       "R1NJC                      0.0     5874          5874         0  I7FXTVDP  \n",
       "...                        ...      ...           ...       ...       ...  \n",
       "UNG0B                      0.0     1102          1102         0  738FBTIL  \n",
       "38POV                      0.0      997           997         0  738FBTIL  \n",
       "7MDLT                      0.0     1007          1007         0  738FBTIL  \n",
       "YUPHF                      0.0     1091          1091         0  738FBTIL  \n",
       "114UP                      0.0     1012          1012         0  738FBTIL  \n",
       "\n",
       "[8430 rows x 44 columns]"
      ]
     },
     "execution_count": 51,
     "metadata": {},
     "output_type": "execute_result"
    }
   ],
   "source": [
    "sele_train"
   ]
  },
  {
   "cell_type": "code",
   "execution_count": 52,
   "metadata": {},
   "outputs": [
    {
     "data": {
      "image/png": "[encoded data removed]",
      "text/plain": [
       "<Figure size 432x288 with 1 Axes>"
      ]
     },
     "metadata": {
      "needs_background": "light"
     },
     "output_type": "display_data"
    }
   ],
   "source": [
    "sns.countplot(x='label', data=sele_train)\n",
    "plt.xticks(rotation=90)\n",
    "plt.show()"
   ]
  },
  {
   "cell_type": "markdown",
   "metadata": {},
   "source": [
    "### Get subsequences"
   ]
  },
  {
   "cell_type": "markdown",
   "metadata": {},
   "source": [
    "For each sequence, take 1 subsequence randomly with random Reverse Translatation"
   ]
  },
  {
   "cell_type": "code",
   "execution_count": 53,
   "metadata": {},
   "outputs": [],
   "source": [
    "num_subseq_per_seq = 1\n",
    "seq_len = 2048\n",
    "\n",
    "\n",
    "random_seq_sele = []\n",
    "\n",
    "np.random.seed(42)\n",
    "\n",
    "for seq in sele_train['sequence']:\n",
    "    sub_list = []\n",
    "    for _ in range(num_subseq_per_seq):\n",
    "        # if sequence is shorter, take entire sequence and it will be padded\n",
    "        # if it has a N on it, this is a problem and would be better to manually analyze and discard this observation before running cell\n",
    "        if len(seq) <= seq_len:\n",
    "            if 'N' in seq.upper(): \n",
    "                raise ValueError(\"Can't process sequences, found a sequence shorter than seq_len and with a N character...discard this sequence\")\n",
    "            # with probability 0.5 make the Reverse Complement of that sequence\n",
    "            if np.random.rand() > .5:\n",
    "                sub_list.append(seq)\n",
    "            else:\n",
    "                sub_list.append(rev_comp(seq))\n",
    "        else:\n",
    "            # if sequence is longer, need to randomly select a subsequence\n",
    "            subseq ='' # initialize to enter while\n",
    "            # keep looking for subsequences until they do not have any N (this might bias a bit the initial positions)\n",
    "            while ('N' in subseq.upper()) or (len(subseq) != seq_len):\n",
    "                start_pos = np.random.randint(len(seq) - seq_len + 1)\n",
    "                subseq = seq[start_pos:start_pos+seq_len]\n",
    "            # with probability 0.5 make the Reverse Complement of that sequence\n",
    "            if np.random.rand() > .5:\n",
    "                sub_list.append(subseq)\n",
    "            else:\n",
    "                sub_list.append(rev_comp(subseq))\n",
    "    random_seq_sele.append(sub_list)"
   ]
  },
  {
   "cell_type": "code",
   "execution_count": 54,
   "metadata": {},
   "outputs": [
    {
     "name": "stdout",
     "output_type": "stream",
     "text": [
      "Expected 8430 sequences\n",
      "Got: (8430, 1)\n"
     ]
    }
   ],
   "source": [
    "# 8 subsequences per each sequence\n",
    "print(f'Expected {len(sele_labs) * obs_per_label * num_subseq_per_seq} sequences')\n",
    "print('Got:', np.array(random_seq_sele).shape)"
   ]
  },
  {
   "cell_type": "code",
   "execution_count": 55,
   "metadata": {},
   "outputs": [],
   "source": [
    "sele_train['random_seq_sele'] = random_seq_sele"
   ]
  },
  {
   "cell_type": "markdown",
   "metadata": {},
   "source": [
    "there are 88 repeats in this subset, not a problem, it can just happen by random selection and it is not much compared to 8000 total examples\n"
   ]
  },
  {
   "cell_type": "code",
   "execution_count": 56,
   "metadata": {},
   "outputs": [
    {
     "name": "stdout",
     "output_type": "stream",
     "text": [
      "(8430,)\n",
      "88\n"
     ]
    }
   ],
   "source": [
    "print(sele_train['random_seq_sele'].shape)\n",
    "print(np.sum(sele_train['random_seq_sele'].value_counts() > 1))"
   ]
  },
  {
   "cell_type": "markdown",
   "metadata": {},
   "source": [
    "Number of repeated sequences divided by class. Not many compared to 283 seqs we have per class"
   ]
  },
  {
   "cell_type": "code",
   "execution_count": 57,
   "metadata": {},
   "outputs": [],
   "source": [
    "rep_seqs = []\n",
    "for lab in sele_labs:\n",
    "    rep_seqs.append(np.sum(sele_train[sele_train['label'] == lab]['random_seq_sele'].value_counts() > 1))"
   ]
  },
  {
   "cell_type": "markdown",
   "metadata": {},
   "source": [
    "They are repeated in the sample that was short on sequences"
   ]
  },
  {
   "cell_type": "code",
   "execution_count": 58,
   "metadata": {
    "scrolled": true
   },
   "outputs": [
    {
     "data": {
      "image/png": "[encoded data removed]",
      "text/plain": [
       "<Figure size 432x288 with 1 Axes>"
      ]
     },
     "metadata": {
      "needs_background": "light"
     },
     "output_type": "display_data"
    }
   ],
   "source": [
    "plt.bar(x=sele_labs, height=rep_seqs)\n",
    "plt.xticks(rotation=90)\n",
    "plt.xlabel('Number of repeated sequences')\n",
    "plt.show()"
   ]
  },
  {
   "cell_type": "markdown",
   "metadata": {},
   "source": [
    "Number of sequences that will require padding"
   ]
  },
  {
   "cell_type": "code",
   "execution_count": 59,
   "metadata": {},
   "outputs": [],
   "source": [
    "sele_train['sele_seq_len'] = sele_train['random_seq_sele'].apply(lambda x: len(x[0]))"
   ]
  },
  {
   "cell_type": "code",
   "execution_count": 60,
   "metadata": {},
   "outputs": [
    {
     "data": {
      "image/png": "[encoded data removed]",
      "text/plain": [
       "<Figure size 432x288 with 1 Axes>"
      ]
     },
     "metadata": {
      "needs_background": "light"
     },
     "output_type": "display_data"
    }
   ],
   "source": [
    "pad_seqs = []\n",
    "for lab in sele_labs:\n",
    "    pad_seqs.append(np.sum(sele_train[sele_train['label'] == lab]['sele_seq_len'] < min_len))\n",
    "plt.bar(x=sele_labs, height=pad_seqs)\n",
    "plt.xticks(rotation=90)\n",
    "plt.xlabel('Number of sequences below specified length')\n",
    "plt.show()"
   ]
  },
  {
   "cell_type": "markdown",
   "metadata": {},
   "source": [
    "In the labels where sequences need to be padded the mean length (visually) is about 1000, so I guess it is totally fine."
   ]
  },
  {
   "cell_type": "code",
   "execution_count": 61,
   "metadata": {},
   "outputs": [
    {
     "data": {
      "image/png": "[encoded data removed]",
      "text/plain": [
       "<Figure size 1008x576 with 30 Axes>"
      ]
     },
     "metadata": {
      "needs_background": "light"
     },
     "output_type": "display_data"
    }
   ],
   "source": [
    "fig, axs = plt.subplots(6,5, figsize=(14,8), sharex=True)\n",
    "axs = axs.flatten()\n",
    "for i, lab in enumerate(sele_labs):\n",
    "    sns.histplot(sele_train[sele_train['label'] == lab]['sele_seq_len'], ax=axs[i])\n",
    "    axs[i].set_title(lab)\n",
    "plt.tight_layout()\n",
    "plt.show()"
   ]
  },
  {
   "cell_type": "markdown",
   "metadata": {},
   "source": [
    "### Convert labels to integer values"
   ]
  },
  {
   "cell_type": "code",
   "execution_count": 62,
   "metadata": {},
   "outputs": [],
   "source": [
    "label_key = {}\n",
    "for i, lab in enumerate(sele_labs):\n",
    "    label_key[lab] = str(i)"
   ]
  },
  {
   "cell_type": "code",
   "execution_count": 63,
   "metadata": {},
   "outputs": [
    {
     "data": {
      "text/plain": [
       "{'I7FXTVDP': '0',\n",
       " 'RKJHZGDQ': '1',\n",
       " 'GTVTUGVY': '2',\n",
       " 'A18S09P2': '3',\n",
       " 'Q2K8NHZY': '4',\n",
       " '131RRHBV': '5',\n",
       " '0FFBBVE1': '6',\n",
       " 'AMV4U0A0': '7',\n",
       " 'THD393NW': '8',\n",
       " 'G8QWQL1C': '9',\n",
       " '0B9GCUVV': '10',\n",
       " 'NT9Y0D19': '11',\n",
       " 'ULOHU3PC': '12',\n",
       " '3TXFYNKG': '13',\n",
       " '1S515B69': '14',\n",
       " 'TNR495LD': '15',\n",
       " 'W1STLS0T': '16',\n",
       " 'YMHGXK99': '17',\n",
       " '3C2VZQ2R': '18',\n",
       " '7GWW4637': '19',\n",
       " 'KDZ388UF': '20',\n",
       " 'QZ8BT14M': '21',\n",
       " '03Y3W51H': '22',\n",
       " 'KSFFKSV7': '23',\n",
       " 'T9LSOTV6': '24',\n",
       " 'A0ADXLZU': '25',\n",
       " 'QVAZPYQ8': '26',\n",
       " 'FHZYKEUV': '27',\n",
       " 'IO2FYB6G': '28',\n",
       " '738FBTIL': '29'}"
      ]
     },
     "execution_count": 63,
     "metadata": {},
     "output_type": "execute_result"
    }
   ],
   "source": [
    "label_key"
   ]
  },
  {
   "cell_type": "code",
   "execution_count": 64,
   "metadata": {},
   "outputs": [],
   "source": [
    "sele_train['bin_label'] = [label_key[lab] for lab in sele_train['label']]"
   ]
  },
  {
   "cell_type": "code",
   "execution_count": 65,
   "metadata": {},
   "outputs": [
    {
     "data": {
      "image/png": "[encoded data removed]",
      "text/plain": [
       "<Figure size 432x288 with 1 Axes>"
      ]
     },
     "metadata": {
      "needs_background": "light"
     },
     "output_type": "display_data"
    }
   ],
   "source": [
    "sns.countplot(x='bin_label', data=sele_train)\n",
    "plt.show()"
   ]
  },
  {
   "cell_type": "markdown",
   "metadata": {},
   "source": [
    "## Conver to kmers"
   ]
  },
  {
   "cell_type": "code",
   "execution_count": 66,
   "metadata": {},
   "outputs": [],
   "source": [
    "kmer_size = 6"
   ]
  },
  {
   "cell_type": "markdown",
   "metadata": {},
   "source": [
    "Use their function seq2kmer from `motif/motif_utils.py`"
   ]
  },
  {
   "cell_type": "code",
   "execution_count": 67,
   "metadata": {},
   "outputs": [],
   "source": [
    "def seq2kmer(seq, k):\n",
    "    \"\"\"\n",
    "    Convert original sequence to kmers\n",
    "    \n",
    "    Arguments:\n",
    "    seq -- str, original sequence.\n",
    "    k -- int, kmer of length k specified.\n",
    "    \n",
    "    Returns:\n",
    "    kmers -- str, kmers separated by space\n",
    "\n",
    "    \"\"\"\n",
    "    kmer = [seq[x:x+k] for x in range(len(seq)+1-k)]\n",
    "    kmers = \" \".join(kmer)\n",
    "    return kmers"
   ]
  },
  {
   "cell_type": "markdown",
   "metadata": {},
   "source": [
    "Example"
   ]
  },
  {
   "cell_type": "code",
   "execution_count": 68,
   "metadata": {},
   "outputs": [],
   "source": [
    "sele_train['kmer_rand'] = [[seq2kmer(seq, kmer_size) for seq in subseq] for subseq in sele_train['random_seq_sele']]"
   ]
  },
  {
   "cell_type": "code",
   "execution_count": 69,
   "metadata": {},
   "outputs": [
    {
     "data": {
      "text/plain": [
       "sequence_id\n",
       "XUE90    [CAAAAC AAAACA AAACAG AACAGC ACAGCC CAGCCA AGC...\n",
       "D2DC4    [AATTCC ATTCCT TTCCTC TCCTCT CCTCTT CTCTTG TCT...\n",
       "6LUO6    [GTCTGC TCTGCT CTGCTG TGCTGG GCTGGG CTGGGG TGG...\n",
       "PPNCE    [TGCGAA GCGAAA CGAAAC GAAACG AAACGA AACGAT ACG...\n",
       "R1NJC    [CGGTCG GGTCGA GTCGAG TCGAGT CGAGTT GAGTTC AGT...\n",
       "                               ...                        \n",
       "UNG0B    [CGGCAA GGCAAT GCAATG CAATGC AATGCC ATGCCG TGC...\n",
       "38POV    [GCTCTA CTCTAA TCTAAT CTAATG TAATGC AATGCG ATG...\n",
       "7MDLT    [GCTCTA CTCTAA TCTAAT CTAATG TAATGC AATGCG ATG...\n",
       "YUPHF    [ATGTAG TGTAGT GTAGTC TAGTCG AGTCGC GTCGCC TCG...\n",
       "114UP    [TTTTTC TTTTCG TTTCGG TTCGGT TCGGTC CGGTCT GGT...\n",
       "Name: kmer_rand, Length: 8430, dtype: object"
      ]
     },
     "execution_count": 69,
     "metadata": {},
     "output_type": "execute_result"
    }
   ],
   "source": [
    "sele_train['kmer_rand']"
   ]
  },
  {
   "cell_type": "code",
   "execution_count": 70,
   "metadata": {},
   "outputs": [
    {
     "data": {
      "text/plain": [
       "['CAAAAC AAAACA AAACAG AACAGC ACAGCC CAGCCA AGCCAA GCCAAG CCAAGC CAAGCT AAGCTG AGCTGC GCTGCC CTGCCA TGCCAT GCCATT CCATTC CATTCG ATTCGC TTCGCC TCGCCA CGCCAT GCCATT CCATTC CATTCA ATTCAG TTCAGG TCAGGC CAGGCT AGGCTG GGCTGC GCTGCG CTGCGC TGCGCA GCGCAA CGCAAC GCAACT CAACTG AACTGT ACTGTT CTGTTG TGTTGG GTTGGG TTGGGA TGGGAA GGGAAG GGAAGG GAAGGG AAGGGC AGGGCG GGGCGA GGCGAT GCGATC CGATCG GATCGG ATCGGT TCGGTG CGGTGC GGTGCG GTGCGG TGCGGG GCGGGC CGGGCC GGGCCT GGCCTC GCCTCT CCTCTT CTCTTC TCTTCG CTTCGC TTCGCT TCGCTA CGCTAT GCTATT CTATTA TATTAC ATTACG TTACGC TACGCC ACGCCA CGCCAG GCCAGC CCAGCT CAGCTG AGCTGG GCTGGC CTGGCG TGGCGA GGCGAA GCGAAA CGAAAG GAAAGG AAAGGG AAGGGG AGGGGG GGGGGA GGGGAT GGGATG GGATGT GATGTG ATGTGC TGTGCT GTGCTG TGCTGC GCTGCA CTGCAA TGCAAG GCAAGG CAAGGC AAGGCG AGGCGA GGCGAT GCGATT CGATTA GATTAA ATTAAG TTAAGT TAAGTT AAGTTG AGTTGG GTTGGG TTGGGT TGGGTA GGGTAA GGTAAC GTAACG TAACGC AACGCC ACGCCA CGCCAG GCCAGG CCAGGG CAGGGT AGGGTT GGGTTT GGTTTT GTTTTC TTTTCC TTTCCC TTCCCA TCCCAG CCCAGT CCAGTC CAGTCA AGTCAC GTCACG TCACGA CACGAC ACGACG CGACGT GACGTT ACGTTG CGTTGT GTTGTA TTGTAA TGTAAA GTAAAA TAAAAC AAAACG AAACGA AACGAC ACGACG CGACGG GACGGC ACGGCC CGGCCA GGCCAG GCCAGT CCAGTG CAGTGC AGTGCC GTGCCA TGCCAA GCCAAG CCAAGC CAAGCT AAGCTT AGCTTG GCTTGC CTTGCC TTGCCT TGCCTG GCCTGC CCTGCA CTGCAG TGCAGG GCAGGT CAGGTC AGGTCG GGTCGA GTCGAC TCGACT CGACTC GACTCT ACTCTA CTCTAG TCTAGA CTAGAG TAGAGG AGAGGA GAGGAT AGGATC GGATCC GATCCG ATCCGA TCCGAA CCGAAT CGAATT GAATTC AATTCT ATTCTG TTCTGA TCTGAA CTGAAA TGAAAT GAAATC AAATCC AATCCT ATCCTT TCCTTC CCTTCC CTTCCC TTCCCT TCCCTC CCCTCG CCTCGA CTCGAT TCGATC CGATCC GATCCC ATCCCG TCCCGA CCCGAG CCGAGG CGAGGT GAGGTT AGGTTG GGTTGT GTTGTT TTGTTG TGTTGT GTTGTT TTGTTA TGTTAT GTTATT TTATTG TATTGT ATTGTT TTGTTA TGTTAT GTTATT TTATTG TATTGT ATTGTT TTGTTG TGTTGT GTTGTT TTGTTG TGTTGT GTTGTT TTGTTG TGTTGT GTTGTT TTGTTC TGTTCG GTTCGA TTCGAG TCGAGC CGAGCT GAGCTC AGCTCG GCTCGA CTCGAA TCGAAT CGAATT GAATTA AATTAG ATTAGT TTAGTC TAGTCT AGTCTG GTCTGC TCTGCG CTGCGC TGCGCG GCGCGT CGCGTC GCGTCT CGTCTT GTCTTT TCTTTC CTTTCA TTTCAG TTCAGG TCAGGG CAGGGC AGGGCT GGGCTT GGCTTC GCTTCA CTTCAT TTCATC TCATCG CATCGA ATCGAC TCGACA CGACAG GACAGT ACAGTC CAGTCT AGTCTG GTCTGA TCTGAC CTGACG TGACGA GACGAC ACGACC CGACCG GACCGC ACCGCT CCGCTG CGCTGG GCTGGC CTGGCG TGGCGG GGCGGC GCGGCG CGGCGT GGCGTT GCGTTG CGTTGA GTTGAT TTGATC TGATCA GATCAC ATCACC TCACCG CACCGC ACCGCA CCGCAG CGCAGT GCAGTA CAGTAC AGTACG GTACGC TACGCA ACGCAC CGCACG GCACGG CACGGC ACGGCA CGGCAT GGCATA GCATAC CATACC ATACCA TACCAG ACCAGA CCAGAA CAGAAA AGAAAG GAAAGC AAAGCG AAGCGG AGCGGA GCGGAC CGGACA GGACAT GACATC ACATCT CATCTG ATCTGC TCTGCG CTGCGG TGCGGG GCGGGA CGGGAT GGGATG GGATGT GATGTT ATGTTC TGTTCG GTTCGG TTCGGC TCGGCA CGGCAT GGCATG GCATGA CATGAT ATGATT TGATTT GATTTC ATTTCA TTTCAC TTCACC TCACCT CACCTT ACCTTT CCTTTC CTTTCT TTTCTG TTCTGG TCTGGG CTGGGC TGGGCG GGGCGT GGCGTT GCGTTT CGTTTT GTTTTC TTTTCC TTTCCA TTCCAT TCCATA CCATAG CATAGT ATAGTG TAGTGG AGTGGC GTGGCG TGGCGG GGCGGC GCGGCA CGGCAA GGCAAT GCAATA CAATAC AATACG ATACGT TACGTG ACGTGG CGTGGA GTGGAT TGGATC GGATCT GATCTT ATCTTT TCTTTC CTTTCG TTTCGC TTCGCC TCGCCA CGCCAA GCCAAC CCAACT CAACTC AACTCT ACTCTT CTCTTC TCTTCC CTTCCT TTCCTC TCCTCG CCTCGT CTCGTA TCGTAA CGTAAG GTAAGA TAAGAC AAGACT AGACTT GACTTC ACTTCA CTTCAG TTCAGC TCAGCG CAGCGC AGCGCT GCGCTA CGCTAC GCTACG CTACGG TACGGC ACGGCA CGGCAC GGCACC GCACCC CACCCA ACCCAG CCCAGC CCAGCG CAGCGG AGCGGT GCGGTT CGGTTT GGTTTG GTTTGT TTTGTC TTGTCT TGTCTT GTCTTT TCTTTA CTTTAT TTTATT TTATTA TATTAA ATTAAC TTAACC TAACCG AACCGC ACCGCT CCGCTT CGCTTC GCTTCC CTTCCA TTCCAG TCCAGA CCAGAC CAGACC AGACCT GACCTT ACCTTC CCTTCA CTTCAT TTCATC TCATCA CATCAG ATCAGT TCAGTC CAGTCA AGTCAG GTCAGC TCAGCA CAGCAG AGCAGA GCAGAT CAGATA AGATAG GATAGT ATAGTT TAGTTT AGTTTT GTTTTC TTTTCG TTTCGA TTCGAG TCGAGG CGAGGA GAGGAA AGGAAC GGAACT GAACTC AACTCT ACTCTT CTCTTT TCTTTT CTTTTG TTTTGC TTTGCC TTGCCA TGCCAG GCCAGC CCAGCT CAGCTC AGCTCT GCTCTT CTCTTT TCTTTG CTTTGT TTTGTT TTGTTC TGTTCG GTTCGG TTCGGA TCGGAC CGGACT GGACTG GACTGG ACTGGC CTGGCG TGGCGG GGCGGC GCGGCG CGGCGT GGCGTT GCGTTA CGTTAA GTTAAT TTAATA TAATAC AATACC ATACCT TACCTG ACCTGC CCTGCG CTGCGC TGCGCT GCGCTC CGCTCA GCTCAG CTCAGC TCAGCA CAGCAC AGCACG GCACGC CACGCC ACGCCA CGCCAA GCCAAC CCAACG CAACGA AACGAA ACGAAC CGAACG GAACGG AACGGT ACGGTT CGGTTT GGTTTG GTTTGG TTTGGA TTGGAT TGGATG GGATGG GATGGT ATGGTT TGGTTG GGTTGA GTTGAC TTGACC TGACCC GACCCT ACCCTT CCCTTG CCTTGA CTTGAA TTGAAG TGAAGG GAAGGT AAGGTC AGGTCG GGTCGG GTCGGC TCGGCA CGGCAG GGCAGT GCAGTA CAGTAC AGTACC GTACCG TACCGT ACCGTT CCGTTA CGTTAC GTTACA TTACAC TACACC ACACCA CACCAT ACCATA CCATAA CATAAT ATAATT TAATTC AATTCA ATTCAC TTCACT TCACTT CACTTT ACTTTG CTTTGC TTTGCT TTGCTG TGCTGG GCTGGT CTGGTG TGGTGT GGTGTC GTGTCG TGTCGA GTCGAT TCGATG CGATGT GATGTT ATGTTG TGTTGG GTTGGA TTGGAC TGGACC GGACCA GACCAT ACCATG CCATGC CATGCC ATGCCC TGCCCA GCCCAC CCCACG CCACGG CACGGG ACGGGC CGGGCC GGGCCG GGCCGT GCCGTT CCGTTG CGTTGA GTTGAT TTGATG TGATGG GATGGT ATGGTC TGGTCA GGTCAT GTCATC TCATCG CATCGC ATCGCT TCGCTG CGCTGT GCTGTT CTGTTT TGTTTC GTTTCG TTTCGC TTCGCC TCGCCT CGCCTT GCCTTT CCTTTA CTTTAT TTTATT TTATTA TATTAA ATTAAA TTAAAG TAAAGG AAAGGC AAGGCA AGGCAG GGCAGC GCAGCT CAGCTT AGCTTC GCTTCT CTTCTG TTCTGC TCTGCG CTGCGA TGCGAT GCGATG CGATGG GATGGA ATGGAG TGGAGT GGAGTA GAGTAA AGTAAT GTAATC TAATCG AATCGG ATCGGT TCGGTG CGGTGT GGTGTC GTGTCT TGTCTG GTCTGC TCTGCA CTGCAT TGCATT GCATTC CATTCA ATTCAT TTCATG TCATGT CATGTG ATGTGT TGTGTT GTGTTT TGTTTG GTTTGT TTTGTT TTGTTT TGTTTT GTTTTT TTTTTA TTTTAA TTTAAT TTAATC TAATCA AATCAG ATCAGG TCAGGT CAGGTC AGGTCA GGTCAA GTCAAC TCAACC CAACCA AACCAG ACCAGG CCAGGA CAGGAA AGGAAG GGAAGG GAAGGT AAGGTC AGGTCA GGTCAG GTCAGA TCAGAC CAGACC AGACCC GACCCG ACCCGC CCCGCT CCGCTT CGCTTT GCTTTC CTTTCG TTTCGC TTCGCG TCGCGC CGCGCC GCGCCA CGCCAG GCCAGC CCAGCG CAGCGT AGCGTT GCGTTA CGTTAT GTTATC TTATCC TATCCA ATCCAC TCCACG CCACGC CACGCC ACGCCC CGCCCA GCCCAC CCCACG CCACGT CACGTC ACGTCT CGTCTT GTCTTT TCTTTA CTTTAA TTTAAT TTAATG TAATGT AATGTC ATGTCG TGTCGT GTCGTA TCGTAC CGTACT GTACTT TACTTG ACTTGC CTTGCC TTGCCG TGCCGT GCCGTT CCGTTT CGTTTT GTTTTC TTTTCA TTTCAT TTCATA TCATAC CATACT ATACTT TACTTG ACTTGA CTTGAA TTGAAC TGAACG GAACGC AACGCA ACGCAT CGCATA GCATAA CATAAC ATAACC TAACCC AACCCC ACCCCC CCCCCG CCCCGT CCCGTC CCGTCA CGTCAG GTCAGC TCAGCA CAGCAG AGCAGC GCAGCA CAGCAA AGCAAT GCAATC CAATCA AATCAG ATCAGC TCAGCG CAGCGG AGCGGC GCGGCC CGGCCA GGCCAG GCCAGG CCAGGT CAGGTG AGGTGA GGTGAA GTGAAG TGAAGT GAAGTA AAGTAC AGTACG GTACGG TACGGT ACGGTT CGGTTC GGTTCT GTTCTT TTCTTG TCTTGC CTTGCA TTGCAG TGCAGG GCAGGT CAGGTT AGGTTG GGTTGA GTTGAA TTGAAC TGAACA GAACAT AACATC ACATCA CATCAG ATCAGC TCAGCG CAGCGC AGCGCG GCGCGC CGCGCT GCGCTC CGCTCT GCTCTT CTCTTA TCTTAC CTTACC TTACCT TACCTT ACCTTT CCTTTC CTTTCG TTTCGC TTCGCT TCGCTT CGCTTT GCTTTC CTTTCA TTTCAG TTCAGT TCAGTT CAGTTC AGTTCT GTTCTT TTCTTT TCTTTA CTTTAT TTTATC TTATCC TATCCA ATCCAG TCCAGC CCAGCG CAGCGC AGCGCC GCGCCG CGCCGG GCCGGG CCGGGA CGGGAT GGGATC GGATCT GATCTC ATCTCT TCTCTT CTCTTC TCTTCC CTTCCC TTCCCA TCCCAG CCCAGG CCAGGT CAGGTT AGGTTT GGTTTT GTTTTT TTTTTG TTTTGG TTTGGC TTGGCG TGGCGG GGCGGG GCGGGT CGGGTT GGGTTC GGTTCG GTTCGG TTCGGC TCGGCA CGGCAG GGCAGC GCAGCA CAGCAG AGCAGA GCAGAT CAGATC AGATCT GATCTT ATCTTT TCTTTG CTTTGT TTTGTT TTGTTA TGTTAT GTTATA TTATAA TATAAA ATAAAT TAAATC AAATCA AATCAG ATCAGC TCAGCG CAGCGA AGCGAT GCGATA CGATAA GATAAC ATAACG TAACGC AACGCT ACGCTT CGCTTC GCTTCA CTTCAA TTCAAC TCAACA CAACAG AACAGC ACAGCG CAGCGA AGCGAT GCGATC CGATCG GATCGG ATCGGG TCGGGT CGGGTA GGGTAA GGTAAG GTAAGC TAAGCA AAGCAA AGCAAT GCAATC CAATCA AATCAG ATCAGC TCAGCT CAGCTT AGCTTG GCTTGC CTTGCC TTGCCG TGCCGT GCCGTT CCGTTG CGTTGT GTTGTA TTGTAA TGTAAC GTAACG TAACGT AACGTA ACGTAC CGTACG GTACGG TACGGC ACGGCA CGGCAT GGCATC GCATCC CATCCC ATCCCA TCCCAG CCCAGG CCAGGT CAGGTA AGGTAA GGTAAA GTAAAC TAAACG AAACGG AACGGA ACGGAT CGGATA GGATAC GATACA ATACAG TACAGC ACAGCT CAGCTT AGCTTG GCTTGT CTTGTC TTGTCC TGTCCT GTCCTG TCCTGG CCTGGA CTGGAA TGGAAC GGAACG GAACGC AACGCT ACGCTT CGCTTT GCTTTG CTTTGT TTTGTC TTGTCC TGTCCG GTCCGG TCCGGG CCGGGG CGGGGT GGGGTG GGGTGA GGTGAT GTGATT TGATTT GATTTC ATTTCA TTTCAG TTCAGC TCAGCC CAGCCA AGCCAA GCCAAC CCAACA CAACAG AACAGG ACAGGC CAGGCC AGGCCA GGCCAG GCCAGA CCAGAT CAGATT AGATTG GATTGA ATTGAG TTGAGC TGAGCG GAGCGT AGCGTA GCGTAG CGTAGC GTAGCC TAGCCA AGCCAC GCCACC CCACCA CACCAA ACCAAA CCAAAG CAAAGC AAAGCG AAGCGG AGCGGT GCGGTC CGGTCG GGTCGT GTCGTG TCGTGT CGTGTG GTGTGC TGTGCC GTGCCC TGCCCA GCCCAG CCCAGA CCAGAA CAGAAG AGAAGA GAAGAT AAGATA AGATAA GATAAT ATAATG TAATGT AATGTC ATGTCA TGTCAG GTCAGG TCAGGG CAGGGC AGGGCC GGGCCA GGCCAT GCCATC CCATCG CATCGC ATCGCC TCGCCA CGCCAG GCCAGT CCAGTT CAGTTG AGTTGC GTTGCC TTGCCG TGCCGC GCCGCA CCGCAA CGCAAC GCAACC CAACCT AACCTG ACCTGT CCTGTG CTGTGG TGTGGG GTGGGA TGGGAA GGGAAT GGAATT GAATTT AATTTC ATTTCT TTTCTC TTCTCT TCTCTT CTCTTC TCTTCC CTTCCA TTCCAG TCCAGT CCAGTT CAGTTT AGTTTA GTTTAT TTTATC TTATCC TATCCG ATCCGG TCCGGA CCGGAT CGGATG GGATGC GATGCT ATGCTC TGCTCA GCTCAA CTCAAC TCAACG CAACGG AACGGT ACGGTG CGGTGA GGTGAC GTGACT TGACTT GACTTT ACTTTA CTTTAA TTTAAT TTAATT TAATTC AATTCC ATTCCG TTCCGG TCCGGT CCGGTA CGGTAT GGTATC GTATCA TATCAT ATCATG TCATGC CATGCT ATGCTC TGCTCG GCTCGA CTCGAA TCGAAT CGAATT GAATTT AATTTA ATTTAT TTTATG TTATGA TATGAC ATGACC TGACCG GACCGA ACCGAC CCGACT CGACTT GACTTC ACTTCA CTTCAG TTCAGC TCAGCG CAGCGA AGCGAG GCGAGA CGAGAC GAGACC AGACCG GACCGT ACCGTT CCGTTA CGTTAT GTTATA TTATAG TATAGC ATAGCC TAGCCT AGCCTT GCCTTT CCTTTA CTTTAT TTTATC TTATCG TATCGC ATCGCC TCGCCG CGCCGT GCCGTT CCGTTA CGTTAA GTTAAT TTAATC TAATCC AATCCA ATCCAG TCCAGA CCAGAT CAGATT AGATTA GATTAC ATTACC TTACCA TACCAG ACCAGT CCAGTT CAGTTT AGTTTA GTTTAC TTTACC TTACCT TACCTT ACCTTC CCTTCT CTTCTT TTCTTC TCTTCG CTTCGA TTCGAT TCGATT CGATTT GATTTT ATTTTC TTTTCA TTTCAT TTCATA TCATAT CATATG ATATGC TATGCT ATGCTA TGCTAT GCTATG CTATGG TATGGT ATGGTC TGGTCC GGTCCT GTCCTT TCCTTG CCTTGT CTTGTT TTGTTG TGTTGG GTTGGT TTGGTG TGGTGA GGTGAA GTGAAG TGAAGT GAAGTG AAGTGC AGTGCT GTGCTC TGCTCG GCTCGT CTCGTG TCGTGA CGTGAA GTGAAA TGAAAA GAAAAC AAAACA AAACAC AACACC ACACCT CACCTA ACCTAA CCTAAA CTAAAC TAAACG AAACGG AACGGA ACGGAC CGGACT GGACTG GACTGG ACTGGC CTGGCT TGGCTG GGCTGT GCTGTT CTGTTT TGTTTC GTTTCC TTTCCT TTCCTG TCCTGT CCTGTG CTGTGT TGTGTG GTGTGA TGTGAA GTGAAA TGAAAT GAAATT AAATTG AATTGT ATTGTT TTGTTA TGTTAT GTTATC TTATCC TATCCG ATCCGC TCCGCT CCGCTC CGCTCA GCTCAC CTCACA TCACAA CACAAT ACAATT CAATTC AATTCC ATTCCA TTCCAC TCCACA CCACAC CACACA ACACAT CACATT ACATTA CATTAT ATTATA TTATAC TATACG ATACGA TACGAG ACGAGC CGAGCC GAGCCG AGCCGA GCCGAT CCGATG CGATGA GATGAT ATGATT TGATTA GATTAA ATTAAT TTAATT TAATTG AATTGT ATTGTC TTGTCA TGTCAA GTCAAC TCAACA CAACAG AACAGC ACAGCT CAGCTC AGCTCA GCTCAT CTCATT TCATTT CATTTC ATTTCA TTTCAG TTCAGA TCAGAA CAGAAT AGAATA GAATAT AATATT ATATTT TATTTG ATTTGC TTTGCC TTGCCA TGCCAG GCCAGA CCAGAA CAGAAC AGAACC GAACCG AACCGT ACCGTT CCGTTA CGTTAT GTTATG TTATGA TATGAT ATGATG TGATGT GATGTC ATGTCG TGTCGG GTCGGC TCGGCG CGGCGC GGCGCA GCGCAA CGCAAA GCAAAA CAAAAA AAAAAA AAAAAC AAAACA AAACAT AACATT ACATTA CATTAT ATTATC TTATCC TATCCA ATCCAG TCCAGA CCAGAA CAGAAC AGAACG GAACGG AACGGG ACGGGA CGGGAG GGGAGT GGAGTG GAGTGC AGTGCG GTGCGC TGCGCC GCGCCT CGCCTT GCCTTG CCTTGA CTTGAG TTGAGC TGAGCG GAGCGA AGCGAC GCGACA CGACAC GACACG ACACGA CACGAA ACGAAT CGAATT GAATTA AATTAT ATTATG TTATGC TATGCA ATGCAG TGCAGT GCAGTG CAGTGA AGTGAT GTGATT TGATTT GATTTA ATTTAC TTTACG TTACGA TACGAC ACGACC CGACCT GACCTG ACCTGC CCTGCA CTGCAC TGCACA GCACAG CACAGC ACAGCC CAGCCA AGCCAT GCCATA CCATAC CATACC ATACCA TACCAC ACCACA CCACAG CACAGC ACAGCT CAGCTT AGCTTC GCTTCC CTTCCG TTCCGA TCCGAT CCGATG CGATGG GATGGC ATGGCT TGGCTG GGCTGC GCTGCC CTGCCT TGCCTG GCCTGA CCTGAC CTGACG TGACGC GACGCC ACGCCA CGCCAG GCCAGA CCAGAA CAGAAG AGAAGC GAAGCA AAGCAT AGCATT GCATTG CATTGG ATTGGT TTGGTG TGGTGC GGTGCA GTGCAC TGCACC GCACCG CACCGT ACCGTG CCGTGC CGTGCA GTGCAG TGCAGT GCAGTC CAGTCG AGTCGA GTCGAT TCGATG CGATGA GATGAT ATGATA TGATAA GATAAG ATAAGC TAAGCT AAGCTG AGCTGT GCTGTC CTGTCA TGTCAA GTCAAA TCAAAC CAAACA AAACAT AACATG ACATGA CATGAG ATGAGA TGAGAA GAGAAT AGAATT GAATTG AATTGT ATTGTG TTGTGC TGTGCC GTGCCT TGCCTA GCCTAA CCTAAT CTAATG TAATGA AATGAG ATGAGT TGAGTG GAGTGA AGTGAG GTGAGC TGAGCT GAGCTA AGCTAA GCTAAC CTAACT TAACTT AACTTA ACTTAC CTTACA TTACAT TACATT ACATTA CATTAA ATTAAT TTAATT TAATTG AATTGC ATTGCG TTGCGT TGCGTT GCGTTG CGTTGC GTTGCG TTGCGC TGCGCT GCGCTC CGCTCA GCTCAC CTCACT TCACTG CACTGC ACTGCC CTGCCC TGCCCG GCCCGC CCCGCT CCGCTT CGCTTT GCTTTC CTTTCC TTTCCA TTCCAG TCCAGT CCAGTC CAGTCG AGTCGG GTCGGG TCGGGA CGGGAA GGGAAA GGAAAC GAAACC AAACCT AACCTG ACCTGT CCTGTC CTGTCG TGTCGT GTCGTG TCGTGC CGTGCC GTGCCA TGCCAG GCCAGC CCAGCT CAGCTG AGCTGC GCTGCA CTGCAT TGCATT GCATTA CATTAA ATTAAT TTAATG TAATGA AATGAA ATGAAT TGAATC GAATCG AATCGG ATCGGC TCGGCC CGGCCA GGCCAA GCCAAC CCAACG CAACGC AACGCG ACGCGC CGCGCG GCGCGG CGCGGG GCGGGG CGGGGA GGGGAG GGGAGA GGAGAG GAGAGG AGAGGC GAGGCG AGGCGG GGCGGT GCGGTT CGGTTT GGTTTG GTTTGC TTTGCG TTGCGT TGCGTA GCGTAT CGTATT GTATTG TATTGG ATTGGG TTGGGC TGGGCG GGGCGC GGCGCC GCGCCA CGCCAG GCCAGG CCAGGG CAGGGT AGGGTG GGGTGG GGTGGT GTGGTT TGGTTT GGTTTT GTTTTT TTTTTC TTTTCT TTTCTT TTCTTT TCTTTT CTTTTC TTTTCA TTTCAC TTCACC TCACCA CACCAG ACCAGT CCAGTG CAGTGA AGTGAG GTGAGA TGAGAC GAGACG AGACGG GACGGG ACGGGC CGGGCA GGGCAA GGCAAC GCAACA CAACAG AACAGC ACAGCT CAGCTG AGCTGA GCTGAT CTGATT TGATTG GATTGC ATTGCC TTGCCC TGCCCT GCCCTT CCCTTC CCTTCA CTTCAC TTCACC TCACCG CACCGC ACCGCC CCGCCT CGCCTG GCCTGG CCTGGC CTGGCC TGGCCC GGCCCT GCCCTG CCCTGA CCTGAG CTGAGA TGAGAG GAGAGA AGAGAG GAGAGT AGAGTT GAGTTG AGTTGC GTTGCA TTGCAG TGCAGC GCAGCA CAGCAA AGCAAG GCAAGC CAAGCG AAGCGG AGCGGT GCGGTC CGGTCC GGTCCA GTCCAC TCCACG CCACGC CACGCT ACGCTG CGCTGG GCTGGT CTGGTT TGGTTT GGTTTG GTTTGC TTTGCC TTGCCC TGCCCC GCCCCA CCCCAG CCCAGC CCAGCA CAGCAG AGCAGG GCAGGC CAGGCG AGGCGA GGCGAA GCGAAA CGAAAA GAAAAT AAAATC AAATCC AATCCT ATCCTG TCCTGT CCTGTT CTGTTT TGTTTG GTTTGA TTTGAT TTGATG TGATGG GATGGT ATGGTG TGGTGG GGTGGT GTGGTT TGGTTA GGTTAA GTTAAC TTAACG TAACGG AACGGC ACGGCG CGGCGG GGCGGG GCGGGA CGGGAT GGGATA GGATAT GATATA ATATAA TATAAC ATAACA TAACAT AACATG ACATGA CATGAG ATGAGC TGAGCT GAGCTG AGCTGT GCTGTC CTGTCT TGTCTT GTCTTC TCTTCG CTTCGG TTCGGT TCGGTA CGGTAT GGTATC GTATCG TATCGT ATCGTC TCGTCG CGTCGT GTCGTA TCGTAT CGTATC GTATCC TATCCC ATCCCA TCCCAC CCCACT CCACTA CACTAC ACTACC CTACCG TACCGA ACCGAG CCGAGA CGAGAT GAGATA AGATAT GATATC ATATCC TATCCG ATCCGC TCCGCA CCGCAC CGCACC GCACCA CACCAA ACCAAC CCAACG CAACGC AACGCG ACGCGC CGCGCA GCGCAG CGCAGC GCAGCC CAGCCC']"
      ]
     },
     "execution_count": 70,
     "metadata": {},
     "output_type": "execute_result"
    }
   ],
   "source": [
    "sele_train['kmer_rand'].values[0]"
   ]
  },
  {
   "cell_type": "code",
   "execution_count": 71,
   "metadata": {},
   "outputs": [
    {
     "data": {
      "text/plain": [
       "14300"
      ]
     },
     "execution_count": 71,
     "metadata": {},
     "output_type": "execute_result"
    }
   ],
   "source": [
    "6*(2048-5)+(2048-5)-1 # last kmer does not have end space"
   ]
  },
  {
   "cell_type": "code",
   "execution_count": 72,
   "metadata": {},
   "outputs": [
    {
     "data": {
      "text/plain": [
       "14300"
      ]
     },
     "execution_count": 72,
     "metadata": {},
     "output_type": "execute_result"
    }
   ],
   "source": [
    "len(sele_train['kmer_rand'].values[0][0])"
   ]
  },
  {
   "cell_type": "markdown",
   "metadata": {},
   "source": [
    "Now, I need to get individual subsequence kmer represnetations as each row, so numbers of rows will grow 8 times more..."
   ]
  },
  {
   "cell_type": "code",
   "execution_count": 73,
   "metadata": {},
   "outputs": [],
   "source": [
    "final_data = []\n",
    "\n",
    "for seq_idx, row in sele_train.iterrows():\n",
    "    bin_label = row['bin_label']\n",
    "    for seq in row['kmer_rand']:\n",
    "        final_data.append({\n",
    "            'sequence_id': seq_idx,\n",
    "            'sequence': seq,\n",
    "            'label': bin_label\n",
    "        })\n",
    "\n",
    "final_data = pd.DataFrame.from_records(final_data)"
   ]
  },
  {
   "cell_type": "code",
   "execution_count": 74,
   "metadata": {},
   "outputs": [
    {
     "data": {
      "text/plain": [
       "(8430, 3)"
      ]
     },
     "execution_count": 74,
     "metadata": {},
     "output_type": "execute_result"
    }
   ],
   "source": [
    "final_data.shape"
   ]
  },
  {
   "cell_type": "code",
   "execution_count": 75,
   "metadata": {},
   "outputs": [],
   "source": [
    "final_data.set_index('sequence_id', inplace=True)"
   ]
  },
  {
   "cell_type": "code",
   "execution_count": 76,
   "metadata": {},
   "outputs": [
    {
     "data": {
      "text/html": [
       "<div>\n",
       "<style scoped>\n",
       "    .dataframe tbody tr th:only-of-type {\n",
       "        vertical-align: middle;\n",
       "    }\n",
       "\n",
       "    .dataframe tbody tr th {\n",
       "        vertical-align: top;\n",
       "    }\n",
       "\n",
       "    .dataframe thead th {\n",
       "        text-align: right;\n",
       "    }\n",
       "</style>\n",
       "<table border=\"1\" class=\"dataframe\">\n",
       "  <thead>\n",
       "    <tr style=\"text-align: right;\">\n",
       "      <th></th>\n",
       "      <th>sequence</th>\n",
       "      <th>label</th>\n",
       "    </tr>\n",
       "    <tr>\n",
       "      <th>sequence_id</th>\n",
       "      <th></th>\n",
       "      <th></th>\n",
       "    </tr>\n",
       "  </thead>\n",
       "  <tbody>\n",
       "    <tr>\n",
       "      <th>XUE90</th>\n",
       "      <td>CAAAAC AAAACA AAACAG AACAGC ACAGCC CAGCCA AGCC...</td>\n",
       "      <td>0</td>\n",
       "    </tr>\n",
       "    <tr>\n",
       "      <th>D2DC4</th>\n",
       "      <td>AATTCC ATTCCT TTCCTC TCCTCT CCTCTT CTCTTG TCTT...</td>\n",
       "      <td>0</td>\n",
       "    </tr>\n",
       "    <tr>\n",
       "      <th>6LUO6</th>\n",
       "      <td>GTCTGC TCTGCT CTGCTG TGCTGG GCTGGG CTGGGG TGGG...</td>\n",
       "      <td>0</td>\n",
       "    </tr>\n",
       "    <tr>\n",
       "      <th>PPNCE</th>\n",
       "      <td>TGCGAA GCGAAA CGAAAC GAAACG AAACGA AACGAT ACGA...</td>\n",
       "      <td>0</td>\n",
       "    </tr>\n",
       "    <tr>\n",
       "      <th>R1NJC</th>\n",
       "      <td>CGGTCG GGTCGA GTCGAG TCGAGT CGAGTT GAGTTC AGTT...</td>\n",
       "      <td>0</td>\n",
       "    </tr>\n",
       "    <tr>\n",
       "      <th>...</th>\n",
       "      <td>...</td>\n",
       "      <td>...</td>\n",
       "    </tr>\n",
       "    <tr>\n",
       "      <th>UNG0B</th>\n",
       "      <td>CGGCAA GGCAAT GCAATG CAATGC AATGCC ATGCCG TGCC...</td>\n",
       "      <td>29</td>\n",
       "    </tr>\n",
       "    <tr>\n",
       "      <th>38POV</th>\n",
       "      <td>GCTCTA CTCTAA TCTAAT CTAATG TAATGC AATGCG ATGC...</td>\n",
       "      <td>29</td>\n",
       "    </tr>\n",
       "    <tr>\n",
       "      <th>7MDLT</th>\n",
       "      <td>GCTCTA CTCTAA TCTAAT CTAATG TAATGC AATGCG ATGC...</td>\n",
       "      <td>29</td>\n",
       "    </tr>\n",
       "    <tr>\n",
       "      <th>YUPHF</th>\n",
       "      <td>ATGTAG TGTAGT GTAGTC TAGTCG AGTCGC GTCGCC TCGC...</td>\n",
       "      <td>29</td>\n",
       "    </tr>\n",
       "    <tr>\n",
       "      <th>114UP</th>\n",
       "      <td>TTTTTC TTTTCG TTTCGG TTCGGT TCGGTC CGGTCT GGTC...</td>\n",
       "      <td>29</td>\n",
       "    </tr>\n",
       "  </tbody>\n",
       "</table>\n",
       "<p>8430 rows × 2 columns</p>\n",
       "</div>"
      ],
      "text/plain": [
       "                                                      sequence label\n",
       "sequence_id                                                         \n",
       "XUE90        CAAAAC AAAACA AAACAG AACAGC ACAGCC CAGCCA AGCC...     0\n",
       "D2DC4        AATTCC ATTCCT TTCCTC TCCTCT CCTCTT CTCTTG TCTT...     0\n",
       "6LUO6        GTCTGC TCTGCT CTGCTG TGCTGG GCTGGG CTGGGG TGGG...     0\n",
       "PPNCE        TGCGAA GCGAAA CGAAAC GAAACG AAACGA AACGAT ACGA...     0\n",
       "R1NJC        CGGTCG GGTCGA GTCGAG TCGAGT CGAGTT GAGTTC AGTT...     0\n",
       "...                                                        ...   ...\n",
       "UNG0B        CGGCAA GGCAAT GCAATG CAATGC AATGCC ATGCCG TGCC...    29\n",
       "38POV        GCTCTA CTCTAA TCTAAT CTAATG TAATGC AATGCG ATGC...    29\n",
       "7MDLT        GCTCTA CTCTAA TCTAAT CTAATG TAATGC AATGCG ATGC...    29\n",
       "YUPHF        ATGTAG TGTAGT GTAGTC TAGTCG AGTCGC GTCGCC TCGC...    29\n",
       "114UP        TTTTTC TTTTCG TTTCGG TTCGGT TCGGTC CGGTCT GGTC...    29\n",
       "\n",
       "[8430 rows x 2 columns]"
      ]
     },
     "execution_count": 76,
     "metadata": {},
     "output_type": "execute_result"
    }
   ],
   "source": [
    "final_data"
   ]
  },
  {
   "cell_type": "markdown",
   "metadata": {},
   "source": [
    "## Split data"
   ]
  },
  {
   "cell_type": "markdown",
   "metadata": {},
   "source": [
    "Original finetuning data is split between a dev.tsv file with 1000 observations and a train.tsv file with 32367 observations. I think the dev set is used during training to evaluate the accuracy on a held-out dataset (test accuracy). \n",
    "\n",
    "**SINCE I AM NOT COMPARING MODELS BETWEEN THEM, BECAUSE THE DATA I USE IN EVERYONE IS DIFFEERENT, THERE IS NO USE FOR A TRAIN DATASET THAT IS NOT USED TO EVALUATE OR CHOOSE HYPERPARAMETERS OF THE MODEL AND IS ONLY USED TO COMPARE ACROSS MODELS, HENCE IT IS FINE TO JUST USE THE DEV SET, WHICH IS NOT USED DURING FINETUNING TO SET ANY KIND OF PARAMETER**"
   ]
  },
  {
   "cell_type": "markdown",
   "metadata": {},
   "source": [
    "I want a perfectly balanced test set. So I manually subsample each class to about 1000 total sequences (closest multiple to number of classes)"
   ]
  },
  {
   "cell_type": "code",
   "execution_count": 77,
   "metadata": {},
   "outputs": [],
   "source": [
    "num_dev_class = math.floor(1000/len(sele_labs))"
   ]
  },
  {
   "cell_type": "code",
   "execution_count": 78,
   "metadata": {},
   "outputs": [
    {
     "data": {
      "text/plain": [
       "33"
      ]
     },
     "execution_count": 78,
     "metadata": {},
     "output_type": "execute_result"
    }
   ],
   "source": [
    "num_dev_class"
   ]
  },
  {
   "cell_type": "code",
   "execution_count": 79,
   "metadata": {},
   "outputs": [],
   "source": [
    "dev_data = final_data.groupby('label').sample(num_dev_class, replace=False, random_state=42).copy()"
   ]
  },
  {
   "cell_type": "markdown",
   "metadata": {},
   "source": [
    "to get the train_data I need to make a list from 0 to len(train_data) excluding those indices in dev_data"
   ]
  },
  {
   "cell_type": "code",
   "execution_count": 80,
   "metadata": {},
   "outputs": [],
   "source": [
    "train_data = final_data[~(final_data.index.isin(dev_data.index))].copy()"
   ]
  },
  {
   "cell_type": "markdown",
   "metadata": {},
   "source": [
    "They are balanced"
   ]
  },
  {
   "cell_type": "code",
   "execution_count": 81,
   "metadata": {},
   "outputs": [
    {
     "data": {
      "image/png": "[encoded data removed]",
      "text/plain": [
       "<Figure size 432x288 with 1 Axes>"
      ]
     },
     "metadata": {
      "needs_background": "light"
     },
     "output_type": "display_data"
    }
   ],
   "source": [
    "sns.countplot(x='label', data=dev_data)\n",
    "plt.show()"
   ]
  },
  {
   "cell_type": "code",
   "execution_count": 82,
   "metadata": {},
   "outputs": [
    {
     "data": {
      "image/png": "[encoded data removed]",
      "text/plain": [
       "<Figure size 432x288 with 1 Axes>"
      ]
     },
     "metadata": {
      "needs_background": "light"
     },
     "output_type": "display_data"
    }
   ],
   "source": [
    "sns.countplot(x='label', data=train_data)\n",
    "plt.show()"
   ]
  },
  {
   "cell_type": "code",
   "execution_count": 83,
   "metadata": {},
   "outputs": [
    {
     "data": {
      "text/html": [
       "<div>\n",
       "<style scoped>\n",
       "    .dataframe tbody tr th:only-of-type {\n",
       "        vertical-align: middle;\n",
       "    }\n",
       "\n",
       "    .dataframe tbody tr th {\n",
       "        vertical-align: top;\n",
       "    }\n",
       "\n",
       "    .dataframe thead th {\n",
       "        text-align: right;\n",
       "    }\n",
       "</style>\n",
       "<table border=\"1\" class=\"dataframe\">\n",
       "  <thead>\n",
       "    <tr style=\"text-align: right;\">\n",
       "      <th></th>\n",
       "      <th>sequence</th>\n",
       "      <th>label</th>\n",
       "    </tr>\n",
       "    <tr>\n",
       "      <th>sequence_id</th>\n",
       "      <th></th>\n",
       "      <th></th>\n",
       "    </tr>\n",
       "  </thead>\n",
       "  <tbody>\n",
       "    <tr>\n",
       "      <th>G1YXQ</th>\n",
       "      <td>CTCCTC TCCTCT CCTCTG CTCTGA TCTGAG CTGAGT TGAG...</td>\n",
       "      <td>0</td>\n",
       "    </tr>\n",
       "    <tr>\n",
       "      <th>4FO8R</th>\n",
       "      <td>TATTGT ATTGTT TTGTTG TGTTGA GTTGAT TTGATG TGAT...</td>\n",
       "      <td>0</td>\n",
       "    </tr>\n",
       "    <tr>\n",
       "      <th>VZEJO</th>\n",
       "      <td>ATTTGG TTTGGT TTGGTA TGGTAT GGTATC GTATCT TATC...</td>\n",
       "      <td>0</td>\n",
       "    </tr>\n",
       "    <tr>\n",
       "      <th>LQIRL</th>\n",
       "      <td>TGAATG GAATGA AATGAG ATGAGG TGAGGG GAGGGC AGGG...</td>\n",
       "      <td>0</td>\n",
       "    </tr>\n",
       "    <tr>\n",
       "      <th>L60FM</th>\n",
       "      <td>AAGAAC AGAACG GAACGG AACGGC ACGGCA CGGCAT GGCA...</td>\n",
       "      <td>0</td>\n",
       "    </tr>\n",
       "    <tr>\n",
       "      <th>...</th>\n",
       "      <td>...</td>\n",
       "      <td>...</td>\n",
       "    </tr>\n",
       "    <tr>\n",
       "      <th>9QEBJ</th>\n",
       "      <td>AATGAG ATGAGG TGAGGG GAGGGC AGGGCA GGGCAT GGCA...</td>\n",
       "      <td>9</td>\n",
       "    </tr>\n",
       "    <tr>\n",
       "      <th>MQXOQ</th>\n",
       "      <td>CTTTTC TTTTCA TTTCAT TTCATA TCATAA CATAAT ATAA...</td>\n",
       "      <td>9</td>\n",
       "    </tr>\n",
       "    <tr>\n",
       "      <th>YASRI</th>\n",
       "      <td>AGTTGA GTTGAT TTGATT TGATTT GATTTT ATTTTC TTTT...</td>\n",
       "      <td>9</td>\n",
       "    </tr>\n",
       "    <tr>\n",
       "      <th>GQN8N</th>\n",
       "      <td>TTTATC TTATCA TATCAG ATCAGA TCAGAA CAGAAG AGAA...</td>\n",
       "      <td>9</td>\n",
       "    </tr>\n",
       "    <tr>\n",
       "      <th>MY7G4</th>\n",
       "      <td>GTGACC TGACCA GACCAA ACCAAA CCAAAC CAAACA AAAC...</td>\n",
       "      <td>9</td>\n",
       "    </tr>\n",
       "  </tbody>\n",
       "</table>\n",
       "<p>990 rows × 2 columns</p>\n",
       "</div>"
      ],
      "text/plain": [
       "                                                      sequence label\n",
       "sequence_id                                                         \n",
       "G1YXQ        CTCCTC TCCTCT CCTCTG CTCTGA TCTGAG CTGAGT TGAG...     0\n",
       "4FO8R        TATTGT ATTGTT TTGTTG TGTTGA GTTGAT TTGATG TGAT...     0\n",
       "VZEJO        ATTTGG TTTGGT TTGGTA TGGTAT GGTATC GTATCT TATC...     0\n",
       "LQIRL        TGAATG GAATGA AATGAG ATGAGG TGAGGG GAGGGC AGGG...     0\n",
       "L60FM        AAGAAC AGAACG GAACGG AACGGC ACGGCA CGGCAT GGCA...     0\n",
       "...                                                        ...   ...\n",
       "9QEBJ        AATGAG ATGAGG TGAGGG GAGGGC AGGGCA GGGCAT GGCA...     9\n",
       "MQXOQ        CTTTTC TTTTCA TTTCAT TTCATA TCATAA CATAAT ATAA...     9\n",
       "YASRI        AGTTGA GTTGAT TTGATT TGATTT GATTTT ATTTTC TTTT...     9\n",
       "GQN8N        TTTATC TTATCA TATCAG ATCAGA TCAGAA CAGAAG AGAA...     9\n",
       "MY7G4        GTGACC TGACCA GACCAA ACCAAA CCAAAC CAAACA AAAC...     9\n",
       "\n",
       "[990 rows x 2 columns]"
      ]
     },
     "execution_count": 83,
     "metadata": {},
     "output_type": "execute_result"
    }
   ],
   "source": [
    "dev_data"
   ]
  },
  {
   "cell_type": "code",
   "execution_count": 84,
   "metadata": {},
   "outputs": [
    {
     "data": {
      "text/html": [
       "<div>\n",
       "<style scoped>\n",
       "    .dataframe tbody tr th:only-of-type {\n",
       "        vertical-align: middle;\n",
       "    }\n",
       "\n",
       "    .dataframe tbody tr th {\n",
       "        vertical-align: top;\n",
       "    }\n",
       "\n",
       "    .dataframe thead th {\n",
       "        text-align: right;\n",
       "    }\n",
       "</style>\n",
       "<table border=\"1\" class=\"dataframe\">\n",
       "  <thead>\n",
       "    <tr style=\"text-align: right;\">\n",
       "      <th></th>\n",
       "      <th>sequence</th>\n",
       "      <th>label</th>\n",
       "    </tr>\n",
       "    <tr>\n",
       "      <th>sequence_id</th>\n",
       "      <th></th>\n",
       "      <th></th>\n",
       "    </tr>\n",
       "  </thead>\n",
       "  <tbody>\n",
       "    <tr>\n",
       "      <th>XUE90</th>\n",
       "      <td>CAAAAC AAAACA AAACAG AACAGC ACAGCC CAGCCA AGCC...</td>\n",
       "      <td>0</td>\n",
       "    </tr>\n",
       "    <tr>\n",
       "      <th>D2DC4</th>\n",
       "      <td>AATTCC ATTCCT TTCCTC TCCTCT CCTCTT CTCTTG TCTT...</td>\n",
       "      <td>0</td>\n",
       "    </tr>\n",
       "    <tr>\n",
       "      <th>6LUO6</th>\n",
       "      <td>GTCTGC TCTGCT CTGCTG TGCTGG GCTGGG CTGGGG TGGG...</td>\n",
       "      <td>0</td>\n",
       "    </tr>\n",
       "    <tr>\n",
       "      <th>PPNCE</th>\n",
       "      <td>TGCGAA GCGAAA CGAAAC GAAACG AAACGA AACGAT ACGA...</td>\n",
       "      <td>0</td>\n",
       "    </tr>\n",
       "    <tr>\n",
       "      <th>R1NJC</th>\n",
       "      <td>CGGTCG GGTCGA GTCGAG TCGAGT CGAGTT GAGTTC AGTT...</td>\n",
       "      <td>0</td>\n",
       "    </tr>\n",
       "    <tr>\n",
       "      <th>...</th>\n",
       "      <td>...</td>\n",
       "      <td>...</td>\n",
       "    </tr>\n",
       "    <tr>\n",
       "      <th>83HW4</th>\n",
       "      <td>GTAGTG TAGTGG AGTGGC GTGGCC TGGCCG GGCCGC GCCG...</td>\n",
       "      <td>29</td>\n",
       "    </tr>\n",
       "    <tr>\n",
       "      <th>UNG0B</th>\n",
       "      <td>CGGCAA GGCAAT GCAATG CAATGC AATGCC ATGCCG TGCC...</td>\n",
       "      <td>29</td>\n",
       "    </tr>\n",
       "    <tr>\n",
       "      <th>38POV</th>\n",
       "      <td>GCTCTA CTCTAA TCTAAT CTAATG TAATGC AATGCG ATGC...</td>\n",
       "      <td>29</td>\n",
       "    </tr>\n",
       "    <tr>\n",
       "      <th>YUPHF</th>\n",
       "      <td>ATGTAG TGTAGT GTAGTC TAGTCG AGTCGC GTCGCC TCGC...</td>\n",
       "      <td>29</td>\n",
       "    </tr>\n",
       "    <tr>\n",
       "      <th>114UP</th>\n",
       "      <td>TTTTTC TTTTCG TTTCGG TTCGGT TCGGTC CGGTCT GGTC...</td>\n",
       "      <td>29</td>\n",
       "    </tr>\n",
       "  </tbody>\n",
       "</table>\n",
       "<p>7407 rows × 2 columns</p>\n",
       "</div>"
      ],
      "text/plain": [
       "                                                      sequence label\n",
       "sequence_id                                                         \n",
       "XUE90        CAAAAC AAAACA AAACAG AACAGC ACAGCC CAGCCA AGCC...     0\n",
       "D2DC4        AATTCC ATTCCT TTCCTC TCCTCT CCTCTT CTCTTG TCTT...     0\n",
       "6LUO6        GTCTGC TCTGCT CTGCTG TGCTGG GCTGGG CTGGGG TGGG...     0\n",
       "PPNCE        TGCGAA GCGAAA CGAAAC GAAACG AAACGA AACGAT ACGA...     0\n",
       "R1NJC        CGGTCG GGTCGA GTCGAG TCGAGT CGAGTT GAGTTC AGTT...     0\n",
       "...                                                        ...   ...\n",
       "83HW4        GTAGTG TAGTGG AGTGGC GTGGCC TGGCCG GGCCGC GCCG...    29\n",
       "UNG0B        CGGCAA GGCAAT GCAATG CAATGC AATGCC ATGCCG TGCC...    29\n",
       "38POV        GCTCTA CTCTAA TCTAAT CTAATG TAATGC AATGCG ATGC...    29\n",
       "YUPHF        ATGTAG TGTAGT GTAGTC TAGTCG AGTCGC GTCGCC TCGC...    29\n",
       "114UP        TTTTTC TTTTCG TTTCGG TTCGGT TCGGTC CGGTCT GGTC...    29\n",
       "\n",
       "[7407 rows x 2 columns]"
      ]
     },
     "execution_count": 84,
     "metadata": {},
     "output_type": "execute_result"
    }
   ],
   "source": [
    "train_data"
   ]
  },
  {
   "cell_type": "markdown",
   "metadata": {},
   "source": [
    "### Shuffle"
   ]
  },
  {
   "cell_type": "markdown",
   "metadata": {},
   "source": [
    "As it is now, observations are ordered by label. Will shuffle it just in case the model does not shuffle input data to take the 32 batch sizes (I bet it does)"
   ]
  },
  {
   "cell_type": "code",
   "execution_count": 85,
   "metadata": {},
   "outputs": [],
   "source": [
    "train_data = train_data.sample(frac=1, random_state=42)"
   ]
  },
  {
   "cell_type": "code",
   "execution_count": 86,
   "metadata": {},
   "outputs": [
    {
     "data": {
      "text/html": [
       "<div>\n",
       "<style scoped>\n",
       "    .dataframe tbody tr th:only-of-type {\n",
       "        vertical-align: middle;\n",
       "    }\n",
       "\n",
       "    .dataframe tbody tr th {\n",
       "        vertical-align: top;\n",
       "    }\n",
       "\n",
       "    .dataframe thead th {\n",
       "        text-align: right;\n",
       "    }\n",
       "</style>\n",
       "<table border=\"1\" class=\"dataframe\">\n",
       "  <thead>\n",
       "    <tr style=\"text-align: right;\">\n",
       "      <th></th>\n",
       "      <th>sequence</th>\n",
       "      <th>label</th>\n",
       "    </tr>\n",
       "    <tr>\n",
       "      <th>sequence_id</th>\n",
       "      <th></th>\n",
       "      <th></th>\n",
       "    </tr>\n",
       "  </thead>\n",
       "  <tbody>\n",
       "    <tr>\n",
       "      <th>G1YXQ</th>\n",
       "      <td>CTCCTC TCCTCT CCTCTG CTCTGA TCTGAG CTGAGT TGAG...</td>\n",
       "      <td>0</td>\n",
       "    </tr>\n",
       "    <tr>\n",
       "      <th>4FO8R</th>\n",
       "      <td>TATTGT ATTGTT TTGTTG TGTTGA GTTGAT TTGATG TGAT...</td>\n",
       "      <td>0</td>\n",
       "    </tr>\n",
       "    <tr>\n",
       "      <th>VZEJO</th>\n",
       "      <td>ATTTGG TTTGGT TTGGTA TGGTAT GGTATC GTATCT TATC...</td>\n",
       "      <td>0</td>\n",
       "    </tr>\n",
       "    <tr>\n",
       "      <th>LQIRL</th>\n",
       "      <td>TGAATG GAATGA AATGAG ATGAGG TGAGGG GAGGGC AGGG...</td>\n",
       "      <td>0</td>\n",
       "    </tr>\n",
       "    <tr>\n",
       "      <th>L60FM</th>\n",
       "      <td>AAGAAC AGAACG GAACGG AACGGC ACGGCA CGGCAT GGCA...</td>\n",
       "      <td>0</td>\n",
       "    </tr>\n",
       "    <tr>\n",
       "      <th>...</th>\n",
       "      <td>...</td>\n",
       "      <td>...</td>\n",
       "    </tr>\n",
       "    <tr>\n",
       "      <th>9QEBJ</th>\n",
       "      <td>AATGAG ATGAGG TGAGGG GAGGGC AGGGCA GGGCAT GGCA...</td>\n",
       "      <td>9</td>\n",
       "    </tr>\n",
       "    <tr>\n",
       "      <th>MQXOQ</th>\n",
       "      <td>CTTTTC TTTTCA TTTCAT TTCATA TCATAA CATAAT ATAA...</td>\n",
       "      <td>9</td>\n",
       "    </tr>\n",
       "    <tr>\n",
       "      <th>YASRI</th>\n",
       "      <td>AGTTGA GTTGAT TTGATT TGATTT GATTTT ATTTTC TTTT...</td>\n",
       "      <td>9</td>\n",
       "    </tr>\n",
       "    <tr>\n",
       "      <th>GQN8N</th>\n",
       "      <td>TTTATC TTATCA TATCAG ATCAGA TCAGAA CAGAAG AGAA...</td>\n",
       "      <td>9</td>\n",
       "    </tr>\n",
       "    <tr>\n",
       "      <th>MY7G4</th>\n",
       "      <td>GTGACC TGACCA GACCAA ACCAAA CCAAAC CAAACA AAAC...</td>\n",
       "      <td>9</td>\n",
       "    </tr>\n",
       "  </tbody>\n",
       "</table>\n",
       "<p>990 rows × 2 columns</p>\n",
       "</div>"
      ],
      "text/plain": [
       "                                                      sequence label\n",
       "sequence_id                                                         \n",
       "G1YXQ        CTCCTC TCCTCT CCTCTG CTCTGA TCTGAG CTGAGT TGAG...     0\n",
       "4FO8R        TATTGT ATTGTT TTGTTG TGTTGA GTTGAT TTGATG TGAT...     0\n",
       "VZEJO        ATTTGG TTTGGT TTGGTA TGGTAT GGTATC GTATCT TATC...     0\n",
       "LQIRL        TGAATG GAATGA AATGAG ATGAGG TGAGGG GAGGGC AGGG...     0\n",
       "L60FM        AAGAAC AGAACG GAACGG AACGGC ACGGCA CGGCAT GGCA...     0\n",
       "...                                                        ...   ...\n",
       "9QEBJ        AATGAG ATGAGG TGAGGG GAGGGC AGGGCA GGGCAT GGCA...     9\n",
       "MQXOQ        CTTTTC TTTTCA TTTCAT TTCATA TCATAA CATAAT ATAA...     9\n",
       "YASRI        AGTTGA GTTGAT TTGATT TGATTT GATTTT ATTTTC TTTT...     9\n",
       "GQN8N        TTTATC TTATCA TATCAG ATCAGA TCAGAA CAGAAG AGAA...     9\n",
       "MY7G4        GTGACC TGACCA GACCAA ACCAAA CCAAAC CAAACA AAAC...     9\n",
       "\n",
       "[990 rows x 2 columns]"
      ]
     },
     "execution_count": 86,
     "metadata": {},
     "output_type": "execute_result"
    }
   ],
   "source": [
    "dev_data"
   ]
  },
  {
   "cell_type": "code",
   "execution_count": 87,
   "metadata": {},
   "outputs": [],
   "source": [
    "dev_data = dev_data.sample(frac=1, random_state=42)"
   ]
  },
  {
   "cell_type": "code",
   "execution_count": 88,
   "metadata": {},
   "outputs": [
    {
     "data": {
      "text/html": [
       "<div>\n",
       "<style scoped>\n",
       "    .dataframe tbody tr th:only-of-type {\n",
       "        vertical-align: middle;\n",
       "    }\n",
       "\n",
       "    .dataframe tbody tr th {\n",
       "        vertical-align: top;\n",
       "    }\n",
       "\n",
       "    .dataframe thead th {\n",
       "        text-align: right;\n",
       "    }\n",
       "</style>\n",
       "<table border=\"1\" class=\"dataframe\">\n",
       "  <thead>\n",
       "    <tr style=\"text-align: right;\">\n",
       "      <th></th>\n",
       "      <th>sequence</th>\n",
       "      <th>label</th>\n",
       "    </tr>\n",
       "    <tr>\n",
       "      <th>sequence_id</th>\n",
       "      <th></th>\n",
       "      <th></th>\n",
       "    </tr>\n",
       "  </thead>\n",
       "  <tbody>\n",
       "    <tr>\n",
       "      <th>WYPTY</th>\n",
       "      <td>TTGTAA TGTAAT GTAATA TAATAC AATACT ATACTG TACT...</td>\n",
       "      <td>14</td>\n",
       "    </tr>\n",
       "    <tr>\n",
       "      <th>ITHK9</th>\n",
       "      <td>CGGTGC GGTGCG GTGCGG TGCGGG GCGGGC CGGGCC GGGC...</td>\n",
       "      <td>18</td>\n",
       "    </tr>\n",
       "    <tr>\n",
       "      <th>AFL9H</th>\n",
       "      <td>ATCAAT TCAATA CAATAA AATAAG ATAAGT TAAGTC AAGT...</td>\n",
       "      <td>22</td>\n",
       "    </tr>\n",
       "    <tr>\n",
       "      <th>D3NZ7</th>\n",
       "      <td>GTCTTT TCTTTT CTTTTA TTTTAC TTTACA TTACAT TACA...</td>\n",
       "      <td>17</td>\n",
       "    </tr>\n",
       "    <tr>\n",
       "      <th>7EFF3</th>\n",
       "      <td>TTACAA TACAAC ACAACA CAACAA AACAAC ACAACA CAAC...</td>\n",
       "      <td>10</td>\n",
       "    </tr>\n",
       "    <tr>\n",
       "      <th>...</th>\n",
       "      <td>...</td>\n",
       "      <td>...</td>\n",
       "    </tr>\n",
       "    <tr>\n",
       "      <th>N7YD7</th>\n",
       "      <td>TGCTCA GCTCAC CTCACG TCACGC CACGCT ACGCTG CGCT...</td>\n",
       "      <td>11</td>\n",
       "    </tr>\n",
       "    <tr>\n",
       "      <th>C7ERM</th>\n",
       "      <td>AGAGAG GAGAGA AGAGAT GAGATA AGATAA GATAAT ATAA...</td>\n",
       "      <td>16</td>\n",
       "    </tr>\n",
       "    <tr>\n",
       "      <th>OE107</th>\n",
       "      <td>AGACTC GACTCC ACTCCC CTCCCT TCCCTG CCCTGT CCTG...</td>\n",
       "      <td>6</td>\n",
       "    </tr>\n",
       "    <tr>\n",
       "      <th>K1PNK</th>\n",
       "      <td>CTACTC TACTCC ACTCCC CTCCCC TCCCCA CCCCAT CCCA...</td>\n",
       "      <td>20</td>\n",
       "    </tr>\n",
       "    <tr>\n",
       "      <th>GWYP2</th>\n",
       "      <td>GCGGTT CGGTTT GGTTTT GTTTTC TTTTCA TTTCAT TTCA...</td>\n",
       "      <td>11</td>\n",
       "    </tr>\n",
       "  </tbody>\n",
       "</table>\n",
       "<p>990 rows × 2 columns</p>\n",
       "</div>"
      ],
      "text/plain": [
       "                                                      sequence label\n",
       "sequence_id                                                         \n",
       "WYPTY        TTGTAA TGTAAT GTAATA TAATAC AATACT ATACTG TACT...    14\n",
       "ITHK9        CGGTGC GGTGCG GTGCGG TGCGGG GCGGGC CGGGCC GGGC...    18\n",
       "AFL9H        ATCAAT TCAATA CAATAA AATAAG ATAAGT TAAGTC AAGT...    22\n",
       "D3NZ7        GTCTTT TCTTTT CTTTTA TTTTAC TTTACA TTACAT TACA...    17\n",
       "7EFF3        TTACAA TACAAC ACAACA CAACAA AACAAC ACAACA CAAC...    10\n",
       "...                                                        ...   ...\n",
       "N7YD7        TGCTCA GCTCAC CTCACG TCACGC CACGCT ACGCTG CGCT...    11\n",
       "C7ERM        AGAGAG GAGAGA AGAGAT GAGATA AGATAA GATAAT ATAA...    16\n",
       "OE107        AGACTC GACTCC ACTCCC CTCCCT TCCCTG CCCTGT CCTG...     6\n",
       "K1PNK        CTACTC TACTCC ACTCCC CTCCCC TCCCCA CCCCAT CCCA...    20\n",
       "GWYP2        GCGGTT CGGTTT GGTTTT GTTTTC TTTTCA TTTCAT TTCA...    11\n",
       "\n",
       "[990 rows x 2 columns]"
      ]
     },
     "execution_count": 88,
     "metadata": {},
     "output_type": "execute_result"
    }
   ],
   "source": [
    "dev_data"
   ]
  },
  {
   "cell_type": "markdown",
   "metadata": {},
   "source": [
    "### Export"
   ]
  },
  {
   "cell_type": "markdown",
   "metadata": {},
   "source": [
    "Finally, export this dataframes in the appropriate format and in a .csv file that could be read back to pandas (which contains information about the indices!)"
   ]
  },
  {
   "cell_type": "code",
   "execution_count": 89,
   "metadata": {},
   "outputs": [],
   "source": [
    "train_data.to_csv(f'{path_prefix}/transformers/6_gea30xl/in_data/train_data.csv')\n",
    "dev_data.to_csv(f'{path_prefix}/transformers/6_gea30xl/in_data/dev_data.csv')"
   ]
  },
  {
   "cell_type": "markdown",
   "metadata": {},
   "source": [
    "Model will use these tsv files."
   ]
  },
  {
   "cell_type": "code",
   "execution_count": 90,
   "metadata": {},
   "outputs": [],
   "source": [
    "train_data.to_csv(f'{path_prefix}/transformers/6_gea30xl/in_data/train.tsv', sep='\\t', index=False)\n",
    "dev_data.to_csv(f'{path_prefix}/transformers/6_gea30xl/in_data/dev.tsv', sep='\\t', index=False)"
   ]
  },
  {
   "cell_type": "code",
   "execution_count": null,
   "metadata": {},
   "outputs": [],
   "source": []
  }
 ],
 "metadata": {
  "kernelspec": {
   "display_name": "comp_genomics",
   "language": "python",
   "name": "comp_genomics"
  },
  "language_info": {
   "codemirror_mode": {
    "name": "ipython",
    "version": 3
   },
   "file_extension": ".py",
   "mimetype": "text/x-python",
   "name": "python",
   "nbconvert_exporter": "python",
   "pygments_lexer": "ipython3",
   "version": "3.9.7"
  }
 },
 "nbformat": 4,
 "nbformat_minor": 4
}
