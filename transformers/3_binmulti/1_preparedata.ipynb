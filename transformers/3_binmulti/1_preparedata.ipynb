{
 "cells": [
  {
   "cell_type": "markdown",
   "metadata": {},
   "source": [
    "## Process data"
   ]
  },
  {
   "cell_type": "markdown",
   "metadata": {},
   "source": [
    "Load the gea data, take only the two most abundant classes (bc their example is binary classification).\n",
    "\n",
    "Here I select a random region and I include 8 subregions for each sequence in the training data, not only one."
   ]
  },
  {
   "cell_type": "code",
   "execution_count": 1,
   "metadata": {},
   "outputs": [],
   "source": [
    "# set directory of this repo so that all paths can be absolute/relative (not ended with a '/')\n",
    "path_prefix = '/home/mexposit/cg/gea'"
   ]
  },
  {
   "cell_type": "code",
   "execution_count": 3,
   "metadata": {},
   "outputs": [],
   "source": [
    "import sys\n",
    "import numpy as np\n",
    "import pandas as pd\n",
    "import matplotlib.pyplot as plt\n",
    "import seaborn as sns\n",
    "\n",
    "sys.path.append('/home/mexposit/cg/gea/transformers/trans_utils')\n",
    "from analysis_utils import rev_comp"
   ]
  },
  {
   "cell_type": "code",
   "execution_count": 4,
   "metadata": {},
   "outputs": [
    {
     "data": {
      "text/plain": [
       "'CGAT'"
      ]
     },
     "execution_count": 4,
     "metadata": {},
     "output_type": "execute_result"
    }
   ],
   "source": [
    "rev_comp('ATCG')"
   ]
  },
  {
   "cell_type": "markdown",
   "metadata": {},
   "source": [
    "### Load data"
   ]
  },
  {
   "cell_type": "code",
   "execution_count": 5,
   "metadata": {},
   "outputs": [],
   "source": [
    "train_vals = pd.read_csv(f'{path_prefix}/data/train_values.csv', index_col=0)\n",
    "train_labl = pd.read_csv(f'{path_prefix}/data/train_labels.csv', index_col=0)"
   ]
  },
  {
   "cell_type": "code",
   "execution_count": 6,
   "metadata": {},
   "outputs": [
    {
     "data": {
      "text/html": [
       "<div>\n",
       "<style scoped>\n",
       "    .dataframe tbody tr th:only-of-type {\n",
       "        vertical-align: middle;\n",
       "    }\n",
       "\n",
       "    .dataframe tbody tr th {\n",
       "        vertical-align: top;\n",
       "    }\n",
       "\n",
       "    .dataframe thead th {\n",
       "        text-align: right;\n",
       "    }\n",
       "</style>\n",
       "<table border=\"1\" class=\"dataframe\">\n",
       "  <thead>\n",
       "    <tr style=\"text-align: right;\">\n",
       "      <th></th>\n",
       "      <th>sequence</th>\n",
       "      <th>bacterial_resistance_ampicillin</th>\n",
       "      <th>bacterial_resistance_chloramphenicol</th>\n",
       "      <th>bacterial_resistance_kanamycin</th>\n",
       "      <th>bacterial_resistance_other</th>\n",
       "      <th>bacterial_resistance_spectinomycin</th>\n",
       "      <th>copy_number_high_copy</th>\n",
       "      <th>copy_number_low_copy</th>\n",
       "      <th>copy_number_unknown</th>\n",
       "      <th>growth_strain_ccdb_survival</th>\n",
       "      <th>...</th>\n",
       "      <th>species_budding_yeast</th>\n",
       "      <th>species_fly</th>\n",
       "      <th>species_human</th>\n",
       "      <th>species_mouse</th>\n",
       "      <th>species_mustard_weed</th>\n",
       "      <th>species_nematode</th>\n",
       "      <th>species_other</th>\n",
       "      <th>species_rat</th>\n",
       "      <th>species_synthetic</th>\n",
       "      <th>species_zebrafish</th>\n",
       "    </tr>\n",
       "    <tr>\n",
       "      <th>sequence_id</th>\n",
       "      <th></th>\n",
       "      <th></th>\n",
       "      <th></th>\n",
       "      <th></th>\n",
       "      <th></th>\n",
       "      <th></th>\n",
       "      <th></th>\n",
       "      <th></th>\n",
       "      <th></th>\n",
       "      <th></th>\n",
       "      <th></th>\n",
       "      <th></th>\n",
       "      <th></th>\n",
       "      <th></th>\n",
       "      <th></th>\n",
       "      <th></th>\n",
       "      <th></th>\n",
       "      <th></th>\n",
       "      <th></th>\n",
       "      <th></th>\n",
       "      <th></th>\n",
       "    </tr>\n",
       "  </thead>\n",
       "  <tbody>\n",
       "    <tr>\n",
       "      <th>9ZIMC</th>\n",
       "      <td>CATGCATTAGTTATTAATAGTAATCAATTACGGGGTCATTAGTTCA...</td>\n",
       "      <td>0.0</td>\n",
       "      <td>0.0</td>\n",
       "      <td>1.0</td>\n",
       "      <td>0.0</td>\n",
       "      <td>0.0</td>\n",
       "      <td>1.0</td>\n",
       "      <td>0.0</td>\n",
       "      <td>0.0</td>\n",
       "      <td>0.0</td>\n",
       "      <td>...</td>\n",
       "      <td>0.0</td>\n",
       "      <td>0.0</td>\n",
       "      <td>0.0</td>\n",
       "      <td>1.0</td>\n",
       "      <td>0.0</td>\n",
       "      <td>0.0</td>\n",
       "      <td>0.0</td>\n",
       "      <td>0.0</td>\n",
       "      <td>0.0</td>\n",
       "      <td>0.0</td>\n",
       "    </tr>\n",
       "    <tr>\n",
       "      <th>5SAQC</th>\n",
       "      <td>GCTGGATGGTTTGGGACATGTGCAGCCCCGTCTCTGTATGGAGTGA...</td>\n",
       "      <td>1.0</td>\n",
       "      <td>0.0</td>\n",
       "      <td>0.0</td>\n",
       "      <td>0.0</td>\n",
       "      <td>0.0</td>\n",
       "      <td>1.0</td>\n",
       "      <td>0.0</td>\n",
       "      <td>0.0</td>\n",
       "      <td>0.0</td>\n",
       "      <td>...</td>\n",
       "      <td>0.0</td>\n",
       "      <td>0.0</td>\n",
       "      <td>0.0</td>\n",
       "      <td>1.0</td>\n",
       "      <td>0.0</td>\n",
       "      <td>0.0</td>\n",
       "      <td>0.0</td>\n",
       "      <td>0.0</td>\n",
       "      <td>0.0</td>\n",
       "      <td>0.0</td>\n",
       "    </tr>\n",
       "    <tr>\n",
       "      <th>E7QRO</th>\n",
       "      <td>NNCCGGGCTGTAGCTACACAGGGCGGAGATGAGAGCCCTACGAAAG...</td>\n",
       "      <td>1.0</td>\n",
       "      <td>0.0</td>\n",
       "      <td>0.0</td>\n",
       "      <td>0.0</td>\n",
       "      <td>0.0</td>\n",
       "      <td>1.0</td>\n",
       "      <td>0.0</td>\n",
       "      <td>0.0</td>\n",
       "      <td>0.0</td>\n",
       "      <td>...</td>\n",
       "      <td>0.0</td>\n",
       "      <td>0.0</td>\n",
       "      <td>0.0</td>\n",
       "      <td>1.0</td>\n",
       "      <td>0.0</td>\n",
       "      <td>0.0</td>\n",
       "      <td>0.0</td>\n",
       "      <td>0.0</td>\n",
       "      <td>0.0</td>\n",
       "      <td>0.0</td>\n",
       "    </tr>\n",
       "    <tr>\n",
       "      <th>CT5FP</th>\n",
       "      <td>GCGGAGATGAAGAGCCCTACGAAAGCTGAGCCTGCGACTCCCGCAG...</td>\n",
       "      <td>1.0</td>\n",
       "      <td>0.0</td>\n",
       "      <td>0.0</td>\n",
       "      <td>0.0</td>\n",
       "      <td>0.0</td>\n",
       "      <td>1.0</td>\n",
       "      <td>0.0</td>\n",
       "      <td>0.0</td>\n",
       "      <td>0.0</td>\n",
       "      <td>...</td>\n",
       "      <td>0.0</td>\n",
       "      <td>0.0</td>\n",
       "      <td>0.0</td>\n",
       "      <td>1.0</td>\n",
       "      <td>0.0</td>\n",
       "      <td>0.0</td>\n",
       "      <td>0.0</td>\n",
       "      <td>0.0</td>\n",
       "      <td>0.0</td>\n",
       "      <td>0.0</td>\n",
       "    </tr>\n",
       "    <tr>\n",
       "      <th>7PTD8</th>\n",
       "      <td>CGCGCATTACTTCACATGGTCCTCAAGGGTAACATGAAAGTGATCC...</td>\n",
       "      <td>1.0</td>\n",
       "      <td>0.0</td>\n",
       "      <td>0.0</td>\n",
       "      <td>0.0</td>\n",
       "      <td>0.0</td>\n",
       "      <td>1.0</td>\n",
       "      <td>0.0</td>\n",
       "      <td>0.0</td>\n",
       "      <td>0.0</td>\n",
       "      <td>...</td>\n",
       "      <td>0.0</td>\n",
       "      <td>0.0</td>\n",
       "      <td>0.0</td>\n",
       "      <td>1.0</td>\n",
       "      <td>0.0</td>\n",
       "      <td>0.0</td>\n",
       "      <td>0.0</td>\n",
       "      <td>0.0</td>\n",
       "      <td>0.0</td>\n",
       "      <td>0.0</td>\n",
       "    </tr>\n",
       "  </tbody>\n",
       "</table>\n",
       "<p>5 rows × 40 columns</p>\n",
       "</div>"
      ],
      "text/plain": [
       "                                                      sequence  \\\n",
       "sequence_id                                                      \n",
       "9ZIMC        CATGCATTAGTTATTAATAGTAATCAATTACGGGGTCATTAGTTCA...   \n",
       "5SAQC        GCTGGATGGTTTGGGACATGTGCAGCCCCGTCTCTGTATGGAGTGA...   \n",
       "E7QRO        NNCCGGGCTGTAGCTACACAGGGCGGAGATGAGAGCCCTACGAAAG...   \n",
       "CT5FP        GCGGAGATGAAGAGCCCTACGAAAGCTGAGCCTGCGACTCCCGCAG...   \n",
       "7PTD8        CGCGCATTACTTCACATGGTCCTCAAGGGTAACATGAAAGTGATCC...   \n",
       "\n",
       "             bacterial_resistance_ampicillin  \\\n",
       "sequence_id                                    \n",
       "9ZIMC                                    0.0   \n",
       "5SAQC                                    1.0   \n",
       "E7QRO                                    1.0   \n",
       "CT5FP                                    1.0   \n",
       "7PTD8                                    1.0   \n",
       "\n",
       "             bacterial_resistance_chloramphenicol  \\\n",
       "sequence_id                                         \n",
       "9ZIMC                                         0.0   \n",
       "5SAQC                                         0.0   \n",
       "E7QRO                                         0.0   \n",
       "CT5FP                                         0.0   \n",
       "7PTD8                                         0.0   \n",
       "\n",
       "             bacterial_resistance_kanamycin  bacterial_resistance_other  \\\n",
       "sequence_id                                                               \n",
       "9ZIMC                                   1.0                         0.0   \n",
       "5SAQC                                   0.0                         0.0   \n",
       "E7QRO                                   0.0                         0.0   \n",
       "CT5FP                                   0.0                         0.0   \n",
       "7PTD8                                   0.0                         0.0   \n",
       "\n",
       "             bacterial_resistance_spectinomycin  copy_number_high_copy  \\\n",
       "sequence_id                                                              \n",
       "9ZIMC                                       0.0                    1.0   \n",
       "5SAQC                                       0.0                    1.0   \n",
       "E7QRO                                       0.0                    1.0   \n",
       "CT5FP                                       0.0                    1.0   \n",
       "7PTD8                                       0.0                    1.0   \n",
       "\n",
       "             copy_number_low_copy  copy_number_unknown  \\\n",
       "sequence_id                                              \n",
       "9ZIMC                         0.0                  0.0   \n",
       "5SAQC                         0.0                  0.0   \n",
       "E7QRO                         0.0                  0.0   \n",
       "CT5FP                         0.0                  0.0   \n",
       "7PTD8                         0.0                  0.0   \n",
       "\n",
       "             growth_strain_ccdb_survival  ...  species_budding_yeast  \\\n",
       "sequence_id                               ...                          \n",
       "9ZIMC                                0.0  ...                    0.0   \n",
       "5SAQC                                0.0  ...                    0.0   \n",
       "E7QRO                                0.0  ...                    0.0   \n",
       "CT5FP                                0.0  ...                    0.0   \n",
       "7PTD8                                0.0  ...                    0.0   \n",
       "\n",
       "             species_fly  species_human  species_mouse  species_mustard_weed  \\\n",
       "sequence_id                                                                    \n",
       "9ZIMC                0.0            0.0            1.0                   0.0   \n",
       "5SAQC                0.0            0.0            1.0                   0.0   \n",
       "E7QRO                0.0            0.0            1.0                   0.0   \n",
       "CT5FP                0.0            0.0            1.0                   0.0   \n",
       "7PTD8                0.0            0.0            1.0                   0.0   \n",
       "\n",
       "             species_nematode  species_other  species_rat  species_synthetic  \\\n",
       "sequence_id                                                                    \n",
       "9ZIMC                     0.0            0.0          0.0                0.0   \n",
       "5SAQC                     0.0            0.0          0.0                0.0   \n",
       "E7QRO                     0.0            0.0          0.0                0.0   \n",
       "CT5FP                     0.0            0.0          0.0                0.0   \n",
       "7PTD8                     0.0            0.0          0.0                0.0   \n",
       "\n",
       "             species_zebrafish  \n",
       "sequence_id                     \n",
       "9ZIMC                      0.0  \n",
       "5SAQC                      0.0  \n",
       "E7QRO                      0.0  \n",
       "CT5FP                      0.0  \n",
       "7PTD8                      0.0  \n",
       "\n",
       "[5 rows x 40 columns]"
      ]
     },
     "execution_count": 6,
     "metadata": {},
     "output_type": "execute_result"
    }
   ],
   "source": [
    "train_vals.head()"
   ]
  },
  {
   "cell_type": "code",
   "execution_count": 7,
   "metadata": {},
   "outputs": [
    {
     "data": {
      "text/html": [
       "<div>\n",
       "<style scoped>\n",
       "    .dataframe tbody tr th:only-of-type {\n",
       "        vertical-align: middle;\n",
       "    }\n",
       "\n",
       "    .dataframe tbody tr th {\n",
       "        vertical-align: top;\n",
       "    }\n",
       "\n",
       "    .dataframe thead th {\n",
       "        text-align: right;\n",
       "    }\n",
       "</style>\n",
       "<table border=\"1\" class=\"dataframe\">\n",
       "  <thead>\n",
       "    <tr style=\"text-align: right;\">\n",
       "      <th></th>\n",
       "      <th>00Q4V31T</th>\n",
       "      <th>012VT4JK</th>\n",
       "      <th>028IO5W2</th>\n",
       "      <th>03GRNN7N</th>\n",
       "      <th>03Y3W51H</th>\n",
       "      <th>09MQV1TY</th>\n",
       "      <th>0A4AHRCT</th>\n",
       "      <th>0A9M05NC</th>\n",
       "      <th>0B9GCUVV</th>\n",
       "      <th>0CL7QVG8</th>\n",
       "      <th>...</th>\n",
       "      <th>ZQNGGY33</th>\n",
       "      <th>ZSHS4VJZ</th>\n",
       "      <th>ZT1IP3T6</th>\n",
       "      <th>ZU6860XU</th>\n",
       "      <th>ZU6TVFFU</th>\n",
       "      <th>ZU75P59K</th>\n",
       "      <th>ZUI6TDWV</th>\n",
       "      <th>ZWFD8OHC</th>\n",
       "      <th>ZX06ZDZN</th>\n",
       "      <th>ZZJVE4HO</th>\n",
       "    </tr>\n",
       "    <tr>\n",
       "      <th>sequence_id</th>\n",
       "      <th></th>\n",
       "      <th></th>\n",
       "      <th></th>\n",
       "      <th></th>\n",
       "      <th></th>\n",
       "      <th></th>\n",
       "      <th></th>\n",
       "      <th></th>\n",
       "      <th></th>\n",
       "      <th></th>\n",
       "      <th></th>\n",
       "      <th></th>\n",
       "      <th></th>\n",
       "      <th></th>\n",
       "      <th></th>\n",
       "      <th></th>\n",
       "      <th></th>\n",
       "      <th></th>\n",
       "      <th></th>\n",
       "      <th></th>\n",
       "      <th></th>\n",
       "    </tr>\n",
       "  </thead>\n",
       "  <tbody>\n",
       "    <tr>\n",
       "      <th>9ZIMC</th>\n",
       "      <td>0.0</td>\n",
       "      <td>0.0</td>\n",
       "      <td>0.0</td>\n",
       "      <td>0.0</td>\n",
       "      <td>0.0</td>\n",
       "      <td>0.0</td>\n",
       "      <td>0.0</td>\n",
       "      <td>0.0</td>\n",
       "      <td>0.0</td>\n",
       "      <td>0.0</td>\n",
       "      <td>...</td>\n",
       "      <td>0.0</td>\n",
       "      <td>0.0</td>\n",
       "      <td>0.0</td>\n",
       "      <td>0.0</td>\n",
       "      <td>0.0</td>\n",
       "      <td>0.0</td>\n",
       "      <td>0.0</td>\n",
       "      <td>0.0</td>\n",
       "      <td>0.0</td>\n",
       "      <td>0.0</td>\n",
       "    </tr>\n",
       "    <tr>\n",
       "      <th>5SAQC</th>\n",
       "      <td>0.0</td>\n",
       "      <td>0.0</td>\n",
       "      <td>0.0</td>\n",
       "      <td>0.0</td>\n",
       "      <td>0.0</td>\n",
       "      <td>0.0</td>\n",
       "      <td>0.0</td>\n",
       "      <td>0.0</td>\n",
       "      <td>0.0</td>\n",
       "      <td>0.0</td>\n",
       "      <td>...</td>\n",
       "      <td>0.0</td>\n",
       "      <td>0.0</td>\n",
       "      <td>0.0</td>\n",
       "      <td>0.0</td>\n",
       "      <td>0.0</td>\n",
       "      <td>0.0</td>\n",
       "      <td>0.0</td>\n",
       "      <td>0.0</td>\n",
       "      <td>0.0</td>\n",
       "      <td>0.0</td>\n",
       "    </tr>\n",
       "    <tr>\n",
       "      <th>E7QRO</th>\n",
       "      <td>0.0</td>\n",
       "      <td>0.0</td>\n",
       "      <td>0.0</td>\n",
       "      <td>0.0</td>\n",
       "      <td>0.0</td>\n",
       "      <td>0.0</td>\n",
       "      <td>0.0</td>\n",
       "      <td>0.0</td>\n",
       "      <td>0.0</td>\n",
       "      <td>0.0</td>\n",
       "      <td>...</td>\n",
       "      <td>0.0</td>\n",
       "      <td>0.0</td>\n",
       "      <td>0.0</td>\n",
       "      <td>0.0</td>\n",
       "      <td>0.0</td>\n",
       "      <td>0.0</td>\n",
       "      <td>0.0</td>\n",
       "      <td>0.0</td>\n",
       "      <td>0.0</td>\n",
       "      <td>0.0</td>\n",
       "    </tr>\n",
       "    <tr>\n",
       "      <th>CT5FP</th>\n",
       "      <td>0.0</td>\n",
       "      <td>0.0</td>\n",
       "      <td>0.0</td>\n",
       "      <td>0.0</td>\n",
       "      <td>0.0</td>\n",
       "      <td>0.0</td>\n",
       "      <td>0.0</td>\n",
       "      <td>0.0</td>\n",
       "      <td>0.0</td>\n",
       "      <td>0.0</td>\n",
       "      <td>...</td>\n",
       "      <td>0.0</td>\n",
       "      <td>0.0</td>\n",
       "      <td>0.0</td>\n",
       "      <td>0.0</td>\n",
       "      <td>0.0</td>\n",
       "      <td>0.0</td>\n",
       "      <td>0.0</td>\n",
       "      <td>0.0</td>\n",
       "      <td>0.0</td>\n",
       "      <td>0.0</td>\n",
       "    </tr>\n",
       "    <tr>\n",
       "      <th>7PTD8</th>\n",
       "      <td>0.0</td>\n",
       "      <td>0.0</td>\n",
       "      <td>0.0</td>\n",
       "      <td>0.0</td>\n",
       "      <td>0.0</td>\n",
       "      <td>0.0</td>\n",
       "      <td>0.0</td>\n",
       "      <td>0.0</td>\n",
       "      <td>0.0</td>\n",
       "      <td>0.0</td>\n",
       "      <td>...</td>\n",
       "      <td>0.0</td>\n",
       "      <td>0.0</td>\n",
       "      <td>0.0</td>\n",
       "      <td>0.0</td>\n",
       "      <td>0.0</td>\n",
       "      <td>0.0</td>\n",
       "      <td>0.0</td>\n",
       "      <td>0.0</td>\n",
       "      <td>0.0</td>\n",
       "      <td>0.0</td>\n",
       "    </tr>\n",
       "  </tbody>\n",
       "</table>\n",
       "<p>5 rows × 1314 columns</p>\n",
       "</div>"
      ],
      "text/plain": [
       "             00Q4V31T  012VT4JK  028IO5W2  03GRNN7N  03Y3W51H  09MQV1TY  \\\n",
       "sequence_id                                                               \n",
       "9ZIMC             0.0       0.0       0.0       0.0       0.0       0.0   \n",
       "5SAQC             0.0       0.0       0.0       0.0       0.0       0.0   \n",
       "E7QRO             0.0       0.0       0.0       0.0       0.0       0.0   \n",
       "CT5FP             0.0       0.0       0.0       0.0       0.0       0.0   \n",
       "7PTD8             0.0       0.0       0.0       0.0       0.0       0.0   \n",
       "\n",
       "             0A4AHRCT  0A9M05NC  0B9GCUVV  0CL7QVG8  ...  ZQNGGY33  ZSHS4VJZ  \\\n",
       "sequence_id                                          ...                       \n",
       "9ZIMC             0.0       0.0       0.0       0.0  ...       0.0       0.0   \n",
       "5SAQC             0.0       0.0       0.0       0.0  ...       0.0       0.0   \n",
       "E7QRO             0.0       0.0       0.0       0.0  ...       0.0       0.0   \n",
       "CT5FP             0.0       0.0       0.0       0.0  ...       0.0       0.0   \n",
       "7PTD8             0.0       0.0       0.0       0.0  ...       0.0       0.0   \n",
       "\n",
       "             ZT1IP3T6  ZU6860XU  ZU6TVFFU  ZU75P59K  ZUI6TDWV  ZWFD8OHC  \\\n",
       "sequence_id                                                               \n",
       "9ZIMC             0.0       0.0       0.0       0.0       0.0       0.0   \n",
       "5SAQC             0.0       0.0       0.0       0.0       0.0       0.0   \n",
       "E7QRO             0.0       0.0       0.0       0.0       0.0       0.0   \n",
       "CT5FP             0.0       0.0       0.0       0.0       0.0       0.0   \n",
       "7PTD8             0.0       0.0       0.0       0.0       0.0       0.0   \n",
       "\n",
       "             ZX06ZDZN  ZZJVE4HO  \n",
       "sequence_id                      \n",
       "9ZIMC             0.0       0.0  \n",
       "5SAQC             0.0       0.0  \n",
       "E7QRO             0.0       0.0  \n",
       "CT5FP             0.0       0.0  \n",
       "7PTD8             0.0       0.0  \n",
       "\n",
       "[5 rows x 1314 columns]"
      ]
     },
     "execution_count": 7,
     "metadata": {},
     "output_type": "execute_result"
    }
   ],
   "source": [
    "train_labl.head()"
   ]
  },
  {
   "cell_type": "markdown",
   "metadata": {},
   "source": [
    "### There are sequence duplicates, remove them"
   ]
  },
  {
   "cell_type": "markdown",
   "metadata": {},
   "source": [
    "Aprox 500 entries"
   ]
  },
  {
   "cell_type": "code",
   "execution_count": 8,
   "metadata": {},
   "outputs": [
    {
     "data": {
      "text/plain": [
       "(63017, 40)"
      ]
     },
     "execution_count": 8,
     "metadata": {},
     "output_type": "execute_result"
    }
   ],
   "source": [
    "train_vals.shape"
   ]
  },
  {
   "cell_type": "code",
   "execution_count": 9,
   "metadata": {},
   "outputs": [],
   "source": [
    "train_vals.drop_duplicates('sequence', inplace=True)"
   ]
  },
  {
   "cell_type": "code",
   "execution_count": 10,
   "metadata": {},
   "outputs": [
    {
     "data": {
      "text/plain": [
       "(62643, 40)"
      ]
     },
     "execution_count": 10,
     "metadata": {},
     "output_type": "execute_result"
    }
   ],
   "source": [
    "train_vals.shape"
   ]
  },
  {
   "cell_type": "markdown",
   "metadata": {},
   "source": [
    "Also make the change in the labels"
   ]
  },
  {
   "cell_type": "code",
   "execution_count": 11,
   "metadata": {},
   "outputs": [],
   "source": [
    "train_labl = train_labl.loc[train_vals.index].copy()"
   ]
  },
  {
   "cell_type": "code",
   "execution_count": 12,
   "metadata": {},
   "outputs": [
    {
     "data": {
      "text/plain": [
       "(62643, 40)"
      ]
     },
     "execution_count": 12,
     "metadata": {},
     "output_type": "execute_result"
    }
   ],
   "source": [
    "train_vals.shape"
   ]
  },
  {
   "cell_type": "markdown",
   "metadata": {},
   "source": [
    "### Count which labs are more abundant"
   ]
  },
  {
   "cell_type": "markdown",
   "metadata": {},
   "source": [
    "Reverse one hot encoding of labels"
   ]
  },
  {
   "cell_type": "code",
   "execution_count": 13,
   "metadata": {},
   "outputs": [],
   "source": [
    "labs = train_labl.columns"
   ]
  },
  {
   "cell_type": "code",
   "execution_count": 14,
   "metadata": {},
   "outputs": [],
   "source": [
    "labels = train_labl.apply(lambda x: labs[np.array(x.values, dtype=bool)][0], axis=1)"
   ]
  },
  {
   "cell_type": "code",
   "execution_count": 15,
   "metadata": {},
   "outputs": [],
   "source": [
    "top10_abundant_labs = labels.value_counts()[:10]"
   ]
  },
  {
   "cell_type": "code",
   "execution_count": 19,
   "metadata": {},
   "outputs": [
    {
     "data": {
      "image/png": "[encoded data removed]",
      "text/plain": [
       "<Figure size 1000x800 with 1 Axes>"
      ]
     },
     "metadata": {
      "needs_background": "light"
     },
     "output_type": "display_data"
    }
   ],
   "source": [
    "plt.figure(figsize=(5,4), dpi=200)\n",
    "plt.bar(x=top10_abundant_labs.index, height=top10_abundant_labs.values)\n",
    "plt.xticks(rotation = 90)\n",
    "plt.xlabel('Lab of origin')\n",
    "plt.ylabel('Num samples')\n",
    "plt.show()"
   ]
  },
  {
   "cell_type": "markdown",
   "metadata": {},
   "source": [
    "Since the first class is very very abundant, and the 2nd and 3rd are mostly equal, I will go for the 2nd and 3rd ones."
   ]
  },
  {
   "cell_type": "markdown",
   "metadata": {},
   "source": [
    "### Get seqs of 2nd and 3rd most abundant labs"
   ]
  },
  {
   "cell_type": "code",
   "execution_count": 17,
   "metadata": {},
   "outputs": [
    {
     "name": "stdout",
     "output_type": "stream",
     "text": [
      "RKJHZGDQ    2732\n",
      "GTVTUGVY    2660\n",
      "dtype: int64\n"
     ]
    }
   ],
   "source": [
    "print(top10_abundant_labs[1:3])"
   ]
  },
  {
   "cell_type": "code",
   "execution_count": 18,
   "metadata": {},
   "outputs": [
    {
     "name": "stdout",
     "output_type": "stream",
     "text": [
      "['RKJHZGDQ', 'GTVTUGVY']\n"
     ]
    }
   ],
   "source": [
    "sele_labs = top10_abundant_labs[1:3].index.to_list()\n",
    "print(sele_labs)"
   ]
  },
  {
   "cell_type": "code",
   "execution_count": 19,
   "metadata": {},
   "outputs": [
    {
     "name": "stdout",
     "output_type": "stream",
     "text": [
      "RKJHZGDQ    2732\n",
      "GTVTUGVY    2660\n",
      "dtype: int64\n",
      "sequence_id\n",
      "L49BX    RKJHZGDQ\n",
      "6VLZP    RKJHZGDQ\n",
      "J54VR    RKJHZGDQ\n",
      "Q3PS9    RKJHZGDQ\n",
      "CIPPO    RKJHZGDQ\n",
      "           ...   \n",
      "O1SJN    RKJHZGDQ\n",
      "8MMHC    RKJHZGDQ\n",
      "U15WY    RKJHZGDQ\n",
      "506VJ    RKJHZGDQ\n",
      "4DMNR    RKJHZGDQ\n",
      "Length: 5392, dtype: object\n"
     ]
    }
   ],
   "source": [
    "sele_index = labels[(labels == sele_labs[0]) | (labels == sele_labs[1])]\n",
    "print(sele_index.value_counts())\n",
    "print(sele_index)"
   ]
  },
  {
   "cell_type": "code",
   "execution_count": 20,
   "metadata": {},
   "outputs": [],
   "source": [
    "sele_train = train_vals.loc[sele_index.index].copy()"
   ]
  },
  {
   "cell_type": "code",
   "execution_count": 21,
   "metadata": {},
   "outputs": [],
   "source": [
    "sele_train = sele_train.join(sele_index.rename('label'))\n",
    "sele_train = sele_train[['sequence','label']]"
   ]
  },
  {
   "cell_type": "code",
   "execution_count": 22,
   "metadata": {},
   "outputs": [
    {
     "data": {
      "text/html": [
       "<div>\n",
       "<style scoped>\n",
       "    .dataframe tbody tr th:only-of-type {\n",
       "        vertical-align: middle;\n",
       "    }\n",
       "\n",
       "    .dataframe tbody tr th {\n",
       "        vertical-align: top;\n",
       "    }\n",
       "\n",
       "    .dataframe thead th {\n",
       "        text-align: right;\n",
       "    }\n",
       "</style>\n",
       "<table border=\"1\" class=\"dataframe\">\n",
       "  <thead>\n",
       "    <tr style=\"text-align: right;\">\n",
       "      <th></th>\n",
       "      <th>sequence</th>\n",
       "      <th>label</th>\n",
       "    </tr>\n",
       "    <tr>\n",
       "      <th>sequence_id</th>\n",
       "      <th></th>\n",
       "      <th></th>\n",
       "    </tr>\n",
       "  </thead>\n",
       "  <tbody>\n",
       "    <tr>\n",
       "      <th>L49BX</th>\n",
       "      <td>CACCGTCGATCCGGACCGCCACATCGAGCGGGTCACCGAGCTGCAA...</td>\n",
       "      <td>RKJHZGDQ</td>\n",
       "    </tr>\n",
       "    <tr>\n",
       "      <th>6VLZP</th>\n",
       "      <td>TTCGGCCTATTGGTTAAAAAATGAGCTGATTTAACAAAAATTTAAC...</td>\n",
       "      <td>RKJHZGDQ</td>\n",
       "    </tr>\n",
       "    <tr>\n",
       "      <th>J54VR</th>\n",
       "      <td>CTTTCCTGCGTTATCCCCTGATTCTGTGGATAACCGTATTACCGCC...</td>\n",
       "      <td>RKJHZGDQ</td>\n",
       "    </tr>\n",
       "    <tr>\n",
       "      <th>Q3PS9</th>\n",
       "      <td>CTTTCCTGCGTTATCCCCTGATTCTGTGGATAACCGTATTACCGCC...</td>\n",
       "      <td>RKJHZGDQ</td>\n",
       "    </tr>\n",
       "    <tr>\n",
       "      <th>CIPPO</th>\n",
       "      <td>CCCGGGGTTATTAATAGTAATCAATTACGGGGTCATTAGTTCATAG...</td>\n",
       "      <td>RKJHZGDQ</td>\n",
       "    </tr>\n",
       "  </tbody>\n",
       "</table>\n",
       "</div>"
      ],
      "text/plain": [
       "                                                      sequence     label\n",
       "sequence_id                                                             \n",
       "L49BX        CACCGTCGATCCGGACCGCCACATCGAGCGGGTCACCGAGCTGCAA...  RKJHZGDQ\n",
       "6VLZP        TTCGGCCTATTGGTTAAAAAATGAGCTGATTTAACAAAAATTTAAC...  RKJHZGDQ\n",
       "J54VR        CTTTCCTGCGTTATCCCCTGATTCTGTGGATAACCGTATTACCGCC...  RKJHZGDQ\n",
       "Q3PS9        CTTTCCTGCGTTATCCCCTGATTCTGTGGATAACCGTATTACCGCC...  RKJHZGDQ\n",
       "CIPPO        CCCGGGGTTATTAATAGTAATCAATTACGGGGTCATTAGTTCATAG...  RKJHZGDQ"
      ]
     },
     "execution_count": 22,
     "metadata": {},
     "output_type": "execute_result"
    }
   ],
   "source": [
    "sele_train.head()"
   ]
  },
  {
   "cell_type": "code",
   "execution_count": 23,
   "metadata": {},
   "outputs": [
    {
     "name": "stderr",
     "output_type": "stream",
     "text": [
      "/home/mexposit/miniconda3/envs/comp_genomics/lib/python3.9/site-packages/seaborn/_decorators.py:36: FutureWarning: Pass the following variable as a keyword arg: x. From version 0.12, the only valid positional argument will be `data`, and passing other arguments without an explicit keyword will result in an error or misinterpretation.\n",
      "  warnings.warn(\n"
     ]
    },
    {
     "data": {
      "image/png": "[encoded data removed]",
      "text/plain": [
       "<Figure size 432x288 with 1 Axes>"
      ]
     },
     "metadata": {
      "needs_background": "light"
     },
     "output_type": "display_data"
    }
   ],
   "source": [
    "sns.countplot(sele_train.label)\n",
    "plt.show()"
   ]
  },
  {
   "cell_type": "markdown",
   "metadata": {},
   "source": [
    "### Get only the first 100 residues of the sequences"
   ]
  },
  {
   "cell_type": "code",
   "execution_count": 24,
   "metadata": {},
   "outputs": [],
   "source": [
    "sele_train['sequence_100'] = [seq[:100] for seq in sele_train['sequence']]"
   ]
  },
  {
   "cell_type": "code",
   "execution_count": 25,
   "metadata": {},
   "outputs": [
    {
     "data": {
      "text/plain": [
       "CCCGGGTGCAAAGATGGATAAAGTTTTAAACAGAGAGGAATCTTTGCAGCTAATGGACCTTCTAGGTCTTGAAAGGAGTGGGAATTGGCTCCGGTGCCCG    2705\n",
       "CGTTACATAACTTACGGTAAATGGCCCGCCTGGCTGACCGCCCAACGACCCCCGCCCATTGACGTCAATAATGACGTATGTTCCCATAGTAACGCCAATA     108\n",
       "GTGAACCGTCAGATCCGCTAGCGCTACCGGACTCAGATCTCGAGCTCAAGCTTCGAATTCTGCAGTCGACGGTACCGCGGGCCCGGGATCCACCGGTCGC      58\n",
       "CATGCATTAGTTATTAATAGTAATCAATTACGGGGTCATTAGTTCATAGCCCATATATGGAGTTCCGCGTTACATAACTTACGGTAAATGGCCCGCCTGG      37\n",
       "CATGTTCTTTCCTGCGTTATCCCCTGATTCTGTGGATAACCGTATTACCGCCATGCATTAGTTATTAATAGTAATCAATTACGGGGTCATTAGTTCATAG      29\n",
       "                                                                                                        ... \n",
       "TGGACGAGCTGTACAAGTCCGGAGAAGGGCAAGGGCAAGGGCAAGGGCCGGGCCGCGGCTACGCGTATCGATCCATGTTCGAGGCGCGCCTGGTCCAGGG       1\n",
       "CCTTGCTCACCATGGTGGCGACCGGTGGATCCCGGGCCCGCGGTACCGTCGACTGCAGAATTCGAAGCTTGAGCTCGAGACAGAAGAGTTTGAGAAAGCA       1\n",
       "GACGAGCTGTACAAGTCCGGACTCAGATCTGGTGGCTCCGCAGGATCCCGGCAAGAAGAAGCAAAGGCTGCTGTAGGTGTGACTGGAAATGACATCACTA       1\n",
       "ACGTCAGATCCGCTAGCCGCCACCATGTCTGGCCGCGGCAAAGGCGGGAAGGGTCTTGGCAAAGGCGGCGCTAAGCGCCACCGTAAAGTACTGCGCGACA       1\n",
       "CCGATTCATTAATGCAGCTGGCACGACAGGTTTCCCGACTGGAAAGCGGGCAGTGAGCGCAACGCAATTAATGTGAGTTAGCTCACTCATTAGGCACCCC       1\n",
       "Name: sequence_100, Length: 1780, dtype: int64"
      ]
     },
     "execution_count": 25,
     "metadata": {},
     "output_type": "execute_result"
    }
   ],
   "source": [
    "sele_train['sequence_100'].value_counts()"
   ]
  },
  {
   "cell_type": "markdown",
   "metadata": {},
   "source": [
    "Taking the first 100nts of the sequence is not useful, as the ones of one class always start with the same sequence"
   ]
  },
  {
   "cell_type": "code",
   "execution_count": 26,
   "metadata": {},
   "outputs": [
    {
     "data": {
      "text/plain": [
       "RKJHZGDQ    2705\n",
       "Name: label, dtype: int64"
      ]
     },
     "execution_count": 26,
     "metadata": {},
     "output_type": "execute_result"
    }
   ],
   "source": [
    "sele_train[sele_train['sequence_100'] == 'CCCGGGTGCAAAGATGGATAAAGTTTTAAACAGAGAGGAATCTTTGCAGCTAATGGACCTTCTAGGTCTTGAAAGGAGTGGGAATTGGCTCCGGTGCCCG'].label.value_counts()"
   ]
  },
  {
   "cell_type": "markdown",
   "metadata": {},
   "source": [
    "### Take multiple subsequences of each sequence"
   ]
  },
  {
   "cell_type": "markdown",
   "metadata": {},
   "source": [
    "Are the lengths balanced overall between classes? If they aren't I could be compromising the balances"
   ]
  },
  {
   "cell_type": "markdown",
   "metadata": {},
   "source": [
    "The plasmids of the class RKJHZGDQ are much larger than those of GTVTUGVY"
   ]
  },
  {
   "cell_type": "code",
   "execution_count": 27,
   "metadata": {},
   "outputs": [
    {
     "data": {
      "image/png": "[encoded data removed]",
      "text/plain": [
       "<Figure size 432x288 with 1 Axes>"
      ]
     },
     "metadata": {
      "needs_background": "light"
     },
     "output_type": "display_data"
    }
   ],
   "source": [
    "plt.bar(x=sele_labs, height=[\n",
    "    np.sum([len(seq) for seq in sele_train[sele_train['label'] == sele_labs[0]]['sequence']]),\n",
    "    np.sum([len(seq) for seq in sele_train[sele_train['label'] == sele_labs[1]]['sequence']])    \n",
    "])\n",
    "plt.show()"
   ]
  },
  {
   "cell_type": "markdown",
   "metadata": {},
   "source": [
    "The mean plasmid length is very very different"
   ]
  },
  {
   "cell_type": "code",
   "execution_count": 28,
   "metadata": {},
   "outputs": [
    {
     "name": "stderr",
     "output_type": "stream",
     "text": [
      "/home/mexposit/miniconda3/envs/comp_genomics/lib/python3.9/site-packages/seaborn/distributions.py:2619: FutureWarning: `distplot` is a deprecated function and will be removed in a future version. Please adapt your code to use either `displot` (a figure-level function with similar flexibility) or `histplot` (an axes-level function for histograms).\n",
      "  warnings.warn(msg, FutureWarning)\n",
      "/home/mexposit/miniconda3/envs/comp_genomics/lib/python3.9/site-packages/seaborn/distributions.py:2619: FutureWarning: `distplot` is a deprecated function and will be removed in a future version. Please adapt your code to use either `displot` (a figure-level function with similar flexibility) or `histplot` (an axes-level function for histograms).\n",
      "  warnings.warn(msg, FutureWarning)\n"
     ]
    },
    {
     "data": {
      "image/png": "[encoded data removed]",
      "text/plain": [
       "<Figure size 720x432 with 2 Axes>"
      ]
     },
     "metadata": {
      "needs_background": "light"
     },
     "output_type": "display_data"
    }
   ],
   "source": [
    "fig, axs = plt.subplots(2,1, figsize=(10,6))\n",
    "sns.distplot([len(seq) for seq in sele_train[sele_train['label'] == sele_labs[0]]['sequence']], ax=axs[0])\n",
    "sns.distplot([len(seq) for seq in sele_train[sele_train['label'] == sele_labs[1]]['sequence']], ax=axs[1])\n",
    "plt.show()"
   ]
  },
  {
   "cell_type": "markdown",
   "metadata": {},
   "source": [
    "But still, the median is much larger than 100 so easily I can get different sequences for this class"
   ]
  },
  {
   "cell_type": "code",
   "execution_count": 29,
   "metadata": {},
   "outputs": [
    {
     "data": {
      "text/plain": [
       "880.0"
      ]
     },
     "execution_count": 29,
     "metadata": {},
     "output_type": "execute_result"
    }
   ],
   "source": [
    "np.median([len(seq) for seq in sele_train[sele_train['label'] == sele_labs[1]]['sequence']])"
   ]
  },
  {
   "cell_type": "markdown",
   "metadata": {},
   "source": [
    "Note: I am creating some unbalances!! THe class with shorter plasmid will get more repeated sequences likely than the one that is larger when sampling randomly... so likely I am helping the model..."
   ]
  },
  {
   "cell_type": "markdown",
   "metadata": {},
   "source": [
    "For each sequence, take 8 subsequences randomly and also Reverse Translate them randomly"
   ]
  },
  {
   "cell_type": "code",
   "execution_count": 30,
   "metadata": {},
   "outputs": [],
   "source": [
    "num_subseq_per_seq = 8\n",
    "seq_len = 101\n",
    "\n",
    "\n",
    "random_seq_sele = []\n",
    "\n",
    "np.random.seed(42)\n",
    "\n",
    "for seq in sele_train['sequence']:\n",
    "    sub_list = []\n",
    "    for _ in range(num_subseq_per_seq):\n",
    "        # if sequence is shorter, take entire sequence and it will be padded\n",
    "        # if it has a N on it, this is a problem and would be better to manually analyze and discard this observation before running cell\n",
    "        if len(seq) <= seq_len:\n",
    "            if 'N' in seq.upper(): \n",
    "                raise ValueError(\"Can't process sequences, found a sequence shorter than seq_len and with a N character...discard this sequence\")\n",
    "            # with probability 0.5 make the Reverse Complement of that sequence\n",
    "            if np.random.rand() > .5:\n",
    "                sub_list.append(seq)\n",
    "            else:\n",
    "                sub_list.append(rev_comp(seq))\n",
    "        else:\n",
    "            # if sequence is longer, need to randomly select a subsequence\n",
    "            subseq ='' # initialize to enter while\n",
    "            # keep looking for subsequences until they do not have any N (this might bias a bit the initial positions)\n",
    "            while ('N' in subseq.upper()) or (len(subseq) != seq_len):\n",
    "                start_pos = np.random.randint(len(seq) - seq_len + 1)\n",
    "                subseq = seq[start_pos:start_pos+seq_len]\n",
    "            # with probability 0.5 make the Reverse Complement of that sequence\n",
    "            if np.random.rand() > .5:\n",
    "                sub_list.append(subseq)\n",
    "            else:\n",
    "                sub_list.append(rev_comp(subseq))\n",
    "    random_seq_sele.append(sub_list)"
   ]
  },
  {
   "cell_type": "code",
   "execution_count": 31,
   "metadata": {},
   "outputs": [
    {
     "data": {
      "text/plain": [
       "(5392, 8)"
      ]
     },
     "execution_count": 31,
     "metadata": {},
     "output_type": "execute_result"
    }
   ],
   "source": [
    "# 8 subsequences per each sequence\n",
    "np.array(random_seq_sele).shape"
   ]
  },
  {
   "cell_type": "code",
   "execution_count": 32,
   "metadata": {},
   "outputs": [],
   "source": [
    "sele_train['random_seq_sele'] = random_seq_sele"
   ]
  },
  {
   "cell_type": "markdown",
   "metadata": {},
   "source": [
    "I don't look at repeats here bc there are probably some as I take randomly"
   ]
  },
  {
   "cell_type": "code",
   "execution_count": 33,
   "metadata": {},
   "outputs": [],
   "source": [
    "# there are 225 repeats in this subset, not a problem, it can just happen by random selection and it is not much compared to 5000 total examples\n",
    "# print(sele_train['random_seq_sele'].shape)\n",
    "# print(np.sum(sele_train['random_seq_sele'].value_counts() > 1))"
   ]
  },
  {
   "cell_type": "markdown",
   "metadata": {},
   "source": [
    "## Conver to kmers"
   ]
  },
  {
   "cell_type": "code",
   "execution_count": 34,
   "metadata": {},
   "outputs": [],
   "source": [
    "kmer_size = 6"
   ]
  },
  {
   "cell_type": "markdown",
   "metadata": {},
   "source": [
    "Use their function seq2kmer from `motif/motif_utils.py`"
   ]
  },
  {
   "cell_type": "code",
   "execution_count": 35,
   "metadata": {},
   "outputs": [],
   "source": [
    "def seq2kmer(seq, k):\n",
    "    \"\"\"\n",
    "    Convert original sequence to kmers\n",
    "    \n",
    "    Arguments:\n",
    "    seq -- str, original sequence.\n",
    "    k -- int, kmer of length k specified.\n",
    "    \n",
    "    Returns:\n",
    "    kmers -- str, kmers separated by space\n",
    "\n",
    "    \"\"\"\n",
    "    kmer = [seq[x:x+k] for x in range(len(seq)+1-k)]\n",
    "    kmers = \" \".join(kmer)\n",
    "    return kmers"
   ]
  },
  {
   "cell_type": "markdown",
   "metadata": {},
   "source": [
    "Example"
   ]
  },
  {
   "cell_type": "code",
   "execution_count": 36,
   "metadata": {},
   "outputs": [],
   "source": [
    "sele_train['kmer_rand'] = [[seq2kmer(seq, kmer_size) for seq in subseq] for subseq in sele_train['random_seq_sele']]"
   ]
  },
  {
   "cell_type": "code",
   "execution_count": 37,
   "metadata": {},
   "outputs": [
    {
     "name": "stdout",
     "output_type": "stream",
     "text": [
      "Note that in this case each sequence has 8 different kmer representations coming from the random 8 subsequences\n"
     ]
    },
    {
     "data": {
      "text/plain": [
       "8"
      ]
     },
     "execution_count": 37,
     "metadata": {},
     "output_type": "execute_result"
    }
   ],
   "source": [
    "print(\"Note that in this case each sequence has 8 different kmer representations coming from the random 8 subsequences\")\n",
    "len(sele_train['kmer_rand'][0])"
   ]
  },
  {
   "cell_type": "code",
   "execution_count": 38,
   "metadata": {},
   "outputs": [],
   "source": [
    "sele_train['bin_label'] = [1 if lab == sele_labs[0] else 0 for lab in sele_train['label']]"
   ]
  },
  {
   "cell_type": "code",
   "execution_count": 39,
   "metadata": {},
   "outputs": [
    {
     "name": "stdout",
     "output_type": "stream",
     "text": [
      "Lab 1 is: RKJHZGDQ\n",
      "Lab 0 is: GTVTUGVY\n"
     ]
    }
   ],
   "source": [
    "print(f'Lab 1 is: {sele_labs[0]}')\n",
    "print(f'Lab 0 is: {sele_labs[1]}')"
   ]
  },
  {
   "cell_type": "code",
   "execution_count": 40,
   "metadata": {},
   "outputs": [
    {
     "data": {
      "text/plain": [
       "(5392, 6)"
      ]
     },
     "execution_count": 40,
     "metadata": {},
     "output_type": "execute_result"
    }
   ],
   "source": [
    "sele_train.shape"
   ]
  },
  {
   "cell_type": "markdown",
   "metadata": {},
   "source": [
    "Now, I need to get individual subsequence kmer represnetations as each row, so numbers of rows will grow 8 times more..."
   ]
  },
  {
   "cell_type": "code",
   "execution_count": 41,
   "metadata": {},
   "outputs": [],
   "source": [
    "final_data = []\n",
    "\n",
    "for seq_idx, row in sele_train.iterrows():\n",
    "    bin_label = row['bin_label']\n",
    "    for seq in row['kmer_rand']:\n",
    "        final_data.append({\n",
    "            'sequence_id': seq_idx,\n",
    "            'sequence': seq,\n",
    "            'label': bin_label\n",
    "        })\n",
    "\n",
    "final_data = pd.DataFrame.from_records(final_data)"
   ]
  },
  {
   "cell_type": "code",
   "execution_count": 42,
   "metadata": {},
   "outputs": [
    {
     "data": {
      "text/plain": [
       "(43136, 3)"
      ]
     },
     "execution_count": 42,
     "metadata": {},
     "output_type": "execute_result"
    }
   ],
   "source": [
    "final_data.shape"
   ]
  },
  {
   "cell_type": "code",
   "execution_count": 43,
   "metadata": {},
   "outputs": [
    {
     "data": {
      "text/plain": [
       "43136"
      ]
     },
     "execution_count": 43,
     "metadata": {},
     "output_type": "execute_result"
    }
   ],
   "source": [
    "5392*8"
   ]
  },
  {
   "cell_type": "markdown",
   "metadata": {},
   "source": [
    "#### Important\n",
    "\n",
    "Since original were already balanced here I get balanced classes too. \n",
    "\n",
    "**However, since the sequences are much shorter for one class than for the other one, the \"coverage\" or likelihood of one nucleotide to be included in more than one sequence (even if it is reverse complement) for the sample is much higher in one of the classes than in the other one (like 10x times higher as the median length of plasmid is 10x times smaller).**"
   ]
  },
  {
   "cell_type": "code",
   "execution_count": 44,
   "metadata": {},
   "outputs": [
    {
     "data": {
      "text/plain": [
       "1    21856\n",
       "0    21280\n",
       "Name: label, dtype: int64"
      ]
     },
     "execution_count": 44,
     "metadata": {},
     "output_type": "execute_result"
    }
   ],
   "source": [
    "final_data.label.value_counts()"
   ]
  },
  {
   "cell_type": "code",
   "execution_count": 45,
   "metadata": {},
   "outputs": [],
   "source": [
    "final_data.set_index('sequence_id', inplace=True)"
   ]
  },
  {
   "cell_type": "markdown",
   "metadata": {},
   "source": [
    "## Split data"
   ]
  },
  {
   "cell_type": "markdown",
   "metadata": {},
   "source": [
    "Original finetuning data is split between a dev.tsv file with 1000 observations and a train.tsv file with 32367 observations. I think the dev set is used during training to evaluate the accuracy on a held-out dataset (test accuracy). So I will do the same here."
   ]
  },
  {
   "cell_type": "markdown",
   "metadata": {},
   "source": [
    "Here I need to do it based on positions, as multiple entries have repeated index"
   ]
  },
  {
   "cell_type": "code",
   "execution_count": 46,
   "metadata": {},
   "outputs": [],
   "source": [
    "dev_set = np.random.choice(len(final_data), 1000, replace=False)"
   ]
  },
  {
   "cell_type": "code",
   "execution_count": 47,
   "metadata": {},
   "outputs": [
    {
     "name": "stderr",
     "output_type": "stream",
     "text": [
      "/home/mexposit/miniconda3/envs/comp_genomics/lib/python3.9/site-packages/seaborn/distributions.py:2619: FutureWarning: `distplot` is a deprecated function and will be removed in a future version. Please adapt your code to use either `displot` (a figure-level function with similar flexibility) or `histplot` (an axes-level function for histograms).\n",
      "  warnings.warn(msg, FutureWarning)\n"
     ]
    },
    {
     "data": {
      "text/plain": [
       "<AxesSubplot:ylabel='Density'>"
      ]
     },
     "execution_count": 47,
     "metadata": {},
     "output_type": "execute_result"
    },
    {
     "data": {
      "image/png": "[encoded data removed]",
      "text/plain": [
       "<Figure size 432x288 with 1 Axes>"
      ]
     },
     "metadata": {
      "needs_background": "light"
     },
     "output_type": "display_data"
    }
   ],
   "source": [
    "sns.distplot(dev_set)"
   ]
  },
  {
   "cell_type": "code",
   "execution_count": 48,
   "metadata": {},
   "outputs": [],
   "source": [
    "dev_data = final_data.iloc[dev_set].copy()"
   ]
  },
  {
   "cell_type": "markdown",
   "metadata": {},
   "source": [
    "to get the train_data I need to make a list from 0 to len(train_data) excluding those indices in dev_data"
   ]
  },
  {
   "cell_type": "code",
   "execution_count": 49,
   "metadata": {},
   "outputs": [],
   "source": [
    "train_data = final_data.iloc[[i for i in range(0, len(final_data)) if i not in dev_set]].copy()"
   ]
  },
  {
   "cell_type": "markdown",
   "metadata": {},
   "source": [
    "They are balanced"
   ]
  },
  {
   "cell_type": "code",
   "execution_count": 50,
   "metadata": {},
   "outputs": [
    {
     "name": "stderr",
     "output_type": "stream",
     "text": [
      "/home/mexposit/miniconda3/envs/comp_genomics/lib/python3.9/site-packages/seaborn/_decorators.py:36: FutureWarning: Pass the following variable as a keyword arg: x. From version 0.12, the only valid positional argument will be `data`, and passing other arguments without an explicit keyword will result in an error or misinterpretation.\n",
      "  warnings.warn(\n"
     ]
    },
    {
     "data": {
      "image/png": "[encoded data removed]",
      "text/plain": [
       "<Figure size 432x288 with 1 Axes>"
      ]
     },
     "metadata": {
      "needs_background": "light"
     },
     "output_type": "display_data"
    }
   ],
   "source": [
    "sns.countplot(dev_data.label)\n",
    "plt.show()"
   ]
  },
  {
   "cell_type": "code",
   "execution_count": 51,
   "metadata": {},
   "outputs": [
    {
     "name": "stderr",
     "output_type": "stream",
     "text": [
      "/home/mexposit/miniconda3/envs/comp_genomics/lib/python3.9/site-packages/seaborn/_decorators.py:36: FutureWarning: Pass the following variable as a keyword arg: x. From version 0.12, the only valid positional argument will be `data`, and passing other arguments without an explicit keyword will result in an error or misinterpretation.\n",
      "  warnings.warn(\n"
     ]
    },
    {
     "data": {
      "image/png": "[encoded data removed]",
      "text/plain": [
       "<Figure size 432x288 with 1 Axes>"
      ]
     },
     "metadata": {
      "needs_background": "light"
     },
     "output_type": "display_data"
    }
   ],
   "source": [
    "sns.countplot(train_data.label)\n",
    "plt.show()"
   ]
  },
  {
   "cell_type": "markdown",
   "metadata": {},
   "source": [
    "### Export"
   ]
  },
  {
   "cell_type": "markdown",
   "metadata": {},
   "source": [
    "Finally, export this dataframes in the appropriate format and in a .csv file that could be read back to pandas (which contains information about the indices!)"
   ]
  },
  {
   "cell_type": "code",
   "execution_count": 52,
   "metadata": {},
   "outputs": [],
   "source": [
    "train_data.to_csv(f'{path_prefix}/transformers/3_binmulti/in_data/train_data.csv')\n",
    "dev_data.to_csv(f'{path_prefix}/transformers/3_binmulti/in_data/dev_data.csv')"
   ]
  },
  {
   "cell_type": "markdown",
   "metadata": {},
   "source": [
    "Model will use these tsv files."
   ]
  },
  {
   "cell_type": "code",
   "execution_count": 53,
   "metadata": {},
   "outputs": [],
   "source": [
    "train_data.to_csv(f'{path_prefix}/transformers/3_binmulti/in_data/train.tsv', sep='\\t', index=False)\n",
    "dev_data.to_csv(f'{path_prefix}/transformers/3_binmulti/in_data/dev.tsv', sep='\\t', index=False)"
   ]
  },
  {
   "cell_type": "code",
   "execution_count": null,
   "metadata": {},
   "outputs": [],
   "source": []
  }
 ],
 "metadata": {
  "kernelspec": {
   "display_name": "comp_genomics",
   "language": "python",
   "name": "comp_genomics"
  },
  "language_info": {
   "codemirror_mode": {
    "name": "ipython",
    "version": 3
   },
   "file_extension": ".py",
   "mimetype": "text/x-python",
   "name": "python",
   "nbconvert_exporter": "python",
   "pygments_lexer": "ipython3",
   "version": "3.9.7"
  }
 },
 "nbformat": 4,
 "nbformat_minor": 4
}
